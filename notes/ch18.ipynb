{
 "cells": [
  {
   "cell_type": "markdown",
   "id": "a8352cae",
   "metadata": {},
   "source": [
    "# 第18章 with、match和else块"
   ]
  },
  {
   "cell_type": "markdown",
   "id": "94289f27",
   "metadata": {},
   "source": [
    "## 18.1 上下文管理器和with块"
   ]
  },
  {
   "cell_type": "markdown",
   "id": "fd21185e",
   "metadata": {},
   "source": [
    "### 18.1.1 with语句"
   ]
  },
  {
   "cell_type": "markdown",
   "id": "375bc609",
   "metadata": {},
   "source": [
    "- with语句作用：简化一些常用的try/finally结构，这种结构保证一段代码运行完毕后执行某些操作，finally子句中的代码通常用于释放重要的资源，或者还原临时改变的状态。"
   ]
  },
  {
   "cell_type": "code",
   "execution_count": 7,
   "id": "58b8d6ee",
   "metadata": {},
   "outputs": [],
   "source": [
    "import sys\n",
    "\n",
    "class LookingGlass:\n",
    "\n",
    "    def __enter__(self):\n",
    "        self.original_write = sys.stdout.write\n",
    "        # 打上猴子补丁\n",
    "        sys.stdout.write = self.reverse_write\n",
    "        return 'JABBERWOCKY'\n",
    "\n",
    "    def reverse_write(self, text):\n",
    "        # 反转参数的内容\n",
    "        self.original_write(text[::-1])\n",
    "\n",
    "    def __exit__(self, exc_type, exc_value, traceback):\n",
    "        # 将原来的方法还原\n",
    "        sys.stdout.write = self.original_write\n",
    "        if exc_type is ZeroDivisionError:\n",
    "            print('Please DO NOT divide by zero!')\n",
    "            return True"
   ]
  },
  {
   "cell_type": "code",
   "execution_count": 8,
   "id": "157e79a4",
   "metadata": {},
   "outputs": [
    {
     "name": "stdout",
     "output_type": "stream",
     "text": [
      "pordwonS dna yttiK ,ecilA\n",
      "YKCOWREBBAJ\n"
     ]
    }
   ],
   "source": [
    "with LookingGlass() as what:\n",
    "    print('Alice, Kitty and Snowdrop')\n",
    "    print(what)"
   ]
  },
  {
   "cell_type": "markdown",
   "id": "89a01313",
   "metadata": {},
   "source": [
    "上述打印的结果是反向的。"
   ]
  },
  {
   "cell_type": "code",
   "execution_count": 9,
   "id": "ca96b7e8",
   "metadata": {},
   "outputs": [
    {
     "data": {
      "text/plain": [
       "'JABBERWOCKY'"
      ]
     },
     "execution_count": 9,
     "metadata": {},
     "output_type": "execute_result"
    }
   ],
   "source": [
    "what"
   ]
  },
  {
   "cell_type": "code",
   "execution_count": 10,
   "id": "0a30f6e8",
   "metadata": {},
   "outputs": [
    {
     "name": "stdout",
     "output_type": "stream",
     "text": [
      "Back to normal.\n"
     ]
    }
   ],
   "source": [
    "print('Back to normal.')"
   ]
  },
  {
   "cell_type": "markdown",
   "id": "cedcc549",
   "metadata": {},
   "source": [
    "### 18.1.2 @contextmanager装饰器"
   ]
  },
  {
   "cell_type": "markdown",
   "id": "3799dd6f",
   "metadata": {},
   "source": [
    "@contextmanager装饰器把简单的生成器函数变成上下文管理器，避免创建类去实现上下文管理器协议。"
   ]
  },
  {
   "cell_type": "code",
   "execution_count": 11,
   "id": "0aa63161",
   "metadata": {},
   "outputs": [],
   "source": [
    "import contextlib\n",
    "import sys\n",
    "\n",
    "@contextlib.contextmanager\n",
    "def looking_glass():\n",
    "    # 保留原来的方法\n",
    "    original_write = sys.stdout.write  \n",
    "\n",
    "    def reverse_write(text):\n",
    "        # 反转参数\n",
    "        original_write(text[::-1])\n",
    "    \n",
    "    # 打上猴子补丁\n",
    "    sys.stdout.write = reverse_write  \n",
    "    yield 'JABBERWOCKY'\n",
    "    # 还原方法\n",
    "    sys.stdout.write = original_write"
   ]
  },
  {
   "cell_type": "markdown",
   "id": "a6075139",
   "metadata": {},
   "source": [
    "with块终止时，`__exit__`方法执行了：\n",
    "1. 检查有没有把异常传给`exc_type`，如果有，则调用`gen.throw(exception)`，再生成器函数主体中yield关键字所在的行抛出异常。\n",
    "2. 否则，调用`next(gen)`，恢复执行生成器函数主体中yield后面的代码。"
   ]
  },
  {
   "cell_type": "markdown",
   "id": "e0aef721",
   "metadata": {},
   "source": [
    "@contextmanager装饰的生成器也可以做装饰器。"
   ]
  },
  {
   "cell_type": "code",
   "execution_count": 13,
   "id": "516bd1d3",
   "metadata": {},
   "outputs": [],
   "source": [
    "@looking_glass()\n",
    "def verse():\n",
    "    print('The time has come')"
   ]
  },
  {
   "cell_type": "code",
   "execution_count": 14,
   "id": "a850b619",
   "metadata": {},
   "outputs": [
    {
     "name": "stdout",
     "output_type": "stream",
     "text": [
      "emoc sah emit ehT\n"
     ]
    }
   ],
   "source": [
    "verse()"
   ]
  },
  {
   "cell_type": "markdown",
   "id": "af9c7053",
   "metadata": {},
   "source": [
    "## 18.2 案例分析：lis.py中的模式匹配"
   ]
  },
  {
   "cell_type": "markdown",
   "id": "9ebabd27",
   "metadata": {},
   "source": [
    "需求：完成Scheme的解释器"
   ]
  },
  {
   "cell_type": "markdown",
   "id": "681021a8",
   "metadata": {},
   "source": [
    "### 18.2.1 类型定义"
   ]
  },
  {
   "cell_type": "code",
   "execution_count": 15,
   "id": "54f41964",
   "metadata": {},
   "outputs": [],
   "source": [
    "import math\n",
    "import operator as op\n",
    "from collections import ChainMap\n",
    "from itertools import chain\n",
    "from typing import Any, TypeAlias, NoReturn\n",
    "\n",
    "# str的别名，表示标识符\n",
    "Symbol: TypeAlias = str\n",
    "# 一种简单的句法元素，表示一个数值或一个Symbol\n",
    "Atom: TypeAlias = float | int | Symbol\n",
    "# Scheme程序的基本单元，由原子结构和列表（可以嵌套）构成的表达式    \n",
    "Expression: TypeAlias = Atom | list"
   ]
  },
  {
   "cell_type": "markdown",
   "id": "9750bb66",
   "metadata": {},
   "source": [
    "### 18.2.2 解释器"
   ]
  },
  {
   "cell_type": "code",
   "execution_count": 16,
   "id": "7285b27c",
   "metadata": {},
   "outputs": [],
   "source": [
    "def parse(program: str) -> Expression:\n",
    "    \"从字符串中读取Scheme表达式\"\n",
    "    return read_from_tokens(tokenize(program))\n",
    "\n",
    "def tokenize(s: str) -> list[str]:\n",
    "    \"把字符串转换成词法单元列表\"\n",
    "    return s.replace('(', ' ( ').replace(')', ' ) ').split()\n",
    "\n",
    "def read_from_tokens(tokens: list[str]) -> Expression:\n",
    "    \"从一系列词法单元中读取表达式\"\n",
    "    if len(tokens) == 0:\n",
    "        raise SyntaxError('unexpected EOF while reading')\n",
    "    token = tokens.pop(0)\n",
    "    if '(' == token:\n",
    "        exp = []\n",
    "        while tokens[0] != ')':\n",
    "            exp.append(read_from_tokens(tokens))\n",
    "        tokens.pop(0)  # discard ')'\n",
    "        return exp\n",
    "    elif ')' == token:\n",
    "        raise SyntaxError('unexpected )')\n",
    "    else:\n",
    "        return parse_atom(token)\n",
    "\n",
    "def parse_atom(token: str) -> Atom:\n",
    "    \"将数值转成数值类型，将其他符号转成Symbol类型\"\n",
    "    try:\n",
    "        return int(token)\n",
    "    except ValueError:\n",
    "        try:\n",
    "            return float(token)\n",
    "        except ValueError:\n",
    "            return Symbol(token)"
   ]
  },
  {
   "cell_type": "code",
   "execution_count": 17,
   "id": "0875addc",
   "metadata": {},
   "outputs": [
    {
     "data": {
      "text/plain": [
       "['gcd', 18, 45]"
      ]
     },
     "execution_count": 17,
     "metadata": {},
     "output_type": "execute_result"
    }
   ],
   "source": [
    "parse('(gcd 18 45)')"
   ]
  },
  {
   "cell_type": "code",
   "execution_count": 18,
   "id": "036e0662",
   "metadata": {},
   "outputs": [
    {
     "data": {
      "text/plain": [
       "['define', 'double', ['lambda', ['n'], ['*', 'n', 2]]]"
      ]
     },
     "execution_count": 18,
     "metadata": {},
     "output_type": "execute_result"
    }
   ],
   "source": [
    "parse('''\n",
    "(define double\n",
    "    (lambda (n)\n",
    "        (* n 2)))\n",
    "''')"
   ]
  },
  {
   "cell_type": "markdown",
   "id": "2879a6ed",
   "metadata": {},
   "source": [
    "### 18.2.3 环境"
   ]
  },
  {
   "cell_type": "markdown",
   "id": "99083606",
   "metadata": {},
   "source": [
    "1. Environment类，可以把多个字典和其他映射结合起来，使它们在逻辑上显示并表现为一个整体，并支持就地更改项。"
   ]
  },
  {
   "cell_type": "code",
   "execution_count": 19,
   "id": "c5ac563f",
   "metadata": {},
   "outputs": [],
   "source": [
    "class Environment(ChainMap[Symbol, Any]):\n",
    "    \"ChainMap的子类，允许就地更改项\"\n",
    "\n",
    "    def change(self, key: Symbol, value: Any) -> None:\n",
    "        \"找到key在何处定义，更新对应的值\"\n",
    "        for map in self.maps:\n",
    "            if key in map:\n",
    "                map[key] = value  # type: ignore[index]\n",
    "                return\n",
    "        raise KeyError(key)"
   ]
  },
  {
   "cell_type": "code",
   "execution_count": 20,
   "id": "4067d980",
   "metadata": {},
   "outputs": [],
   "source": [
    "inner_env = {'a': 2}\n",
    "outer_env = {'a': 0, 'b': 1}\n",
    "env = Environment(inner_env, outer_env)"
   ]
  },
  {
   "cell_type": "code",
   "execution_count": 21,
   "id": "8072a435",
   "metadata": {},
   "outputs": [
    {
     "data": {
      "text/plain": [
       "2"
      ]
     },
     "execution_count": 21,
     "metadata": {},
     "output_type": "execute_result"
    }
   ],
   "source": [
    "env['a']"
   ]
  },
  {
   "cell_type": "code",
   "execution_count": 22,
   "id": "2eb05ee8",
   "metadata": {},
   "outputs": [],
   "source": [
    "env.change('b', 333)"
   ]
  },
  {
   "cell_type": "code",
   "execution_count": 23,
   "id": "1e8cedf5",
   "metadata": {
    "scrolled": true
   },
   "outputs": [
    {
     "data": {
      "text/plain": [
       "Environment({'a': 2}, {'a': 0, 'b': 333})"
      ]
     },
     "execution_count": 23,
     "metadata": {},
     "output_type": "execute_result"
    }
   ],
   "source": [
    "env"
   ]
  },
  {
   "cell_type": "markdown",
   "id": "08826367",
   "metadata": {},
   "source": [
    "2. standard_env函数，构建Environment，并设置Scheme运算逻辑。"
   ]
  },
  {
   "cell_type": "code",
   "execution_count": 24,
   "id": "970c0dc9",
   "metadata": {},
   "outputs": [],
   "source": [
    "def standard_env() -> Environment:\n",
    "    \"An environment with some Scheme standard procedures.\"\n",
    "    env = Environment()\n",
    "    env.update(vars(math))   # sin, cos, sqrt, pi, ...\n",
    "    env.update({\n",
    "            '+': op.add,\n",
    "            '-': op.sub,\n",
    "            '*': op.mul,\n",
    "            '/': op.truediv,\n",
    "            'quotient': op.floordiv,\n",
    "            '>': op.gt,\n",
    "            '<': op.lt,\n",
    "            '>=': op.ge,\n",
    "            '<=': op.le,\n",
    "            '=': op.eq,\n",
    "            'abs': abs,\n",
    "            'append': lambda *args: list(chain(*args)),\n",
    "            'apply': lambda proc, args: proc(*args),\n",
    "            'begin': lambda *x: x[-1],\n",
    "            'car': lambda x: x[0],\n",
    "            'cdr': lambda x: x[1:],\n",
    "            'cons': lambda x, y: [x] + y,\n",
    "            'display': lambda x: print(lispstr(x)),\n",
    "            'eq?': op.is_,\n",
    "            'equal?': op.eq,\n",
    "            'filter': lambda *args: list(filter(*args)),\n",
    "            'length': len,\n",
    "            'list': lambda *x: list(x),\n",
    "            'list?': lambda x: isinstance(x, list),\n",
    "            'map': lambda *args: list(map(*args)),\n",
    "            'max': max,\n",
    "            'min': min,\n",
    "            'not': op.not_,\n",
    "            'null?': lambda x: x == [],\n",
    "            'number?': lambda x: isinstance(x, (int, float)),\n",
    "            'procedure?': callable,\n",
    "            'round': round,\n",
    "            'symbol?': lambda x: isinstance(x, Symbol),\n",
    "    })\n",
    "    return env"
   ]
  },
  {
   "cell_type": "markdown",
   "id": "1300c8cf",
   "metadata": {},
   "source": [
    "### 18.2.4 REPL"
   ]
  },
  {
   "cell_type": "code",
   "execution_count": 26,
   "id": "5fba432d",
   "metadata": {},
   "outputs": [],
   "source": [
    "def repl(prompt: str = 'lis.py> ') -> NoReturn:\n",
    "    \"一个提示-读取-求值-输出的循环\"\n",
    "    global_env = Environment({}, standard_env())\n",
    "    while True:\n",
    "        # 解析语法树\n",
    "        ast = parse(input(prompt))\n",
    "        # 计算结果\n",
    "        val = evaluate(ast, global_env)\n",
    "        if val is not None:\n",
    "            # 展示结果\n",
    "            print(lispstr(val))\n",
    "\n",
    "def lispstr(exp: object) -> str:\n",
    "    \"将Python对象转换成Lisp理解的字符串\"\n",
    "    if isinstance(exp, list):\n",
    "        return '(' + ' '.join(map(lispstr, exp)) + ')'\n",
    "    else:\n",
    "        return str(exp)"
   ]
  },
  {
   "cell_type": "markdown",
   "id": "dc94aac1",
   "metadata": {},
   "source": [
    "### 18.2.5 求值函数"
   ]
  },
  {
   "cell_type": "code",
   "execution_count": 28,
   "id": "f661df98",
   "metadata": {},
   "outputs": [],
   "source": [
    "KEYWORDS = ['quote', 'if', 'lambda', 'define', 'set!']\n",
    "\n",
    "def evaluate(exp: Expression, env: Environment) -> Any:\n",
    "    \"在环境中求解表达式\"\n",
    "    match exp:\n",
    "        case int(x) | float(x):\n",
    "            # 求解数值\n",
    "            return x\n",
    "        case Symbol(var):\n",
    "            # 求解符号\n",
    "            return env[var]\n",
    "        case ['quote', x]:\n",
    "            # (quoto ...)表达式\n",
    "            return x\n",
    "        case ['if', test, consequence, alternative]:\n",
    "            # if表达式\n",
    "            if evaluate(test, env):\n",
    "                return evaluate(consequence, env)\n",
    "            else:\n",
    "                return evaluate(alternative, env)\n",
    "        case ['lambda', [*parms], *body] if body:\n",
    "            # lambda表达式\n",
    "            return Procedure(parms, body, env)\n",
    "        case ['define', Symbol(name), value_exp]:\n",
    "            # 将value_exp表达式的计算结果定义为name\n",
    "            env[name] = evaluate(value_exp, env)\n",
    "        case ['define', [Symbol(name), *parms], *body] if body:\n",
    "            # 自定义运算表达式\n",
    "            env[name] = Procedure(parms, body, env)\n",
    "        case ['set!', Symbol(name), value_exp]:\n",
    "            # 更改已定义变量的值\n",
    "            env.change(name, evaluate(value_exp, env))\n",
    "        case [func_exp, *args] if func_exp not in KEYWORDS:\n",
    "            # 函数调用\n",
    "            proc = evaluate(func_exp, env)\n",
    "            values = [evaluate(arg, env) for arg in args]\n",
    "            return proc(*values)\n",
    "        case _:\n",
    "            raise SyntaxError(lispstr(exp))"
   ]
  },
  {
   "cell_type": "code",
   "execution_count": 29,
   "id": "b42518bc",
   "metadata": {},
   "outputs": [
    {
     "data": {
      "text/plain": [
       "1.5"
      ]
     },
     "execution_count": 29,
     "metadata": {},
     "output_type": "execute_result"
    }
   ],
   "source": [
    "evaluate(parse('1.5'), {})"
   ]
  },
  {
   "cell_type": "code",
   "execution_count": 30,
   "id": "87c8ae36",
   "metadata": {},
   "outputs": [
    {
     "data": {
      "text/plain": [
       "<function _operator.add(a, b, /)>"
      ]
     },
     "execution_count": 30,
     "metadata": {},
     "output_type": "execute_result"
    }
   ],
   "source": [
    "evaluate(parse('+'), standard_env())"
   ]
  },
  {
   "cell_type": "code",
   "execution_count": 31,
   "id": "2b8b83de",
   "metadata": {},
   "outputs": [
    {
     "data": {
      "text/plain": [
       "'no-such-name'"
      ]
     },
     "execution_count": 31,
     "metadata": {},
     "output_type": "execute_result"
    }
   ],
   "source": [
    "evaluate(parse('(quote no-such-name)'), standard_env())"
   ]
  },
  {
   "cell_type": "code",
   "execution_count": 32,
   "id": "751113ce",
   "metadata": {},
   "outputs": [
    {
     "data": {
      "text/plain": [
       "1"
      ]
     },
     "execution_count": 32,
     "metadata": {},
     "output_type": "execute_result"
    }
   ],
   "source": [
    "evaluate(parse('(if (= 3 3) 1 0)'), standard_env())"
   ]
  },
  {
   "cell_type": "markdown",
   "id": "53074d75",
   "metadata": {},
   "source": [
    "### 18.2.6 实现闭包的Procedure类"
   ]
  },
  {
   "cell_type": "code",
   "execution_count": 34,
   "id": "62ecf1cf",
   "metadata": {},
   "outputs": [],
   "source": [
    "class Procedure:\n",
    "    \"用户定义的Scheme过程\"\n",
    "\n",
    "    def __init__(self, parms: list[Symbol], body: list[Expression], env: Environment):\n",
    "        # 函数名称\n",
    "        self.parms = parms\n",
    "        # 主体表达式\n",
    "        self.body = body\n",
    "        # 环境\n",
    "        self.env = env\n",
    "\n",
    "    def __call__(self, *args: Expression) -> Any:\n",
    "        # 构建函数名称与参数的映射\n",
    "        local_env = dict(zip(self.parms, args))\n",
    "        # 构建新的环境\n",
    "        env = Environment(local_env, self.env)\n",
    "        # 迭代表达式，在新环境中求解\n",
    "        for exp in self.body:\n",
    "            result = evaluate(exp, env)\n",
    "        return result"
   ]
  },
  {
   "cell_type": "code",
   "execution_count": 35,
   "id": "c3319d20",
   "metadata": {},
   "outputs": [
    {
     "data": {
      "text/plain": [
       "75.0"
      ]
     },
     "execution_count": 35,
     "metadata": {},
     "output_type": "execute_result"
    }
   ],
   "source": [
    "expr = '(lambda (a b) (* (/ a b) 100))'\n",
    "f = evaluate(parse(expr), standard_env())\n",
    "f(15, 20)"
   ]
  },
  {
   "cell_type": "markdown",
   "id": "c3262e84",
   "metadata": {},
   "source": [
    "## 18.3 else语句"
   ]
  },
  {
   "cell_type": "markdown",
   "id": "4873e096",
   "metadata": {},
   "source": [
    "- for-else：仅当for循环运行完毕时，才运行else块。\n",
    "- while-else：仅当while循环因条件为假值而退出时，才运行else块。\n",
    "- try-else：仅当try块没有抛出异常时，才运行else块。"
   ]
  },
  {
   "cell_type": "markdown",
   "id": "c6a01196",
   "metadata": {},
   "source": [
    "- EAFP：取得原谅比获得许可容易（Easier to ask for forgiveness than permission）。先假定存在有效的键或属性，如果假设不成立，那么捕获异常。\n",
    "- LBYL：三思而后行（Look before you leap）。在调用函数或查找属性或键之前，显式测试前提条件。"
   ]
  },
  {
   "cell_type": "markdown",
   "id": "a8853769",
   "metadata": {},
   "source": [
    "## 18.4 杂谈"
   ]
  },
  {
   "cell_type": "markdown",
   "id": "4bc2635b",
   "metadata": {},
   "source": [
    "- 真尾调用：通过递归迭代替代命令式语言中的while循环。\n",
    "- 尾调用：一个函数返回一个函数（可以是同一个函数，也可以不是）调用的结果。\n",
    "- 对于支持真尾调用的语言，解释器遇到尾调用时，会跳入被调用函数的主体，不创建新的栈帧，可以节省内存。\n",
    "- Guido van Rossum和其他人的评论：真尾调用提高了所有人的调试难度，只有少数坚持使用递归进行迭代的人能从中受益。"
   ]
  }
 ],
 "metadata": {
  "kernelspec": {
   "display_name": "Python 3 (ipykernel)",
   "language": "python",
   "name": "python3"
  },
  "language_info": {
   "codemirror_mode": {
    "name": "ipython",
    "version": 3
   },
   "file_extension": ".py",
   "mimetype": "text/x-python",
   "name": "python",
   "nbconvert_exporter": "python",
   "pygments_lexer": "ipython3",
   "version": "3.10.5"
  }
 },
 "nbformat": 4,
 "nbformat_minor": 5
}
