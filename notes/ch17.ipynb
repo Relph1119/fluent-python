{
 "cells": [
  {
   "cell_type": "markdown",
   "id": "11098ba3",
   "metadata": {},
   "source": [
    "# 第17章 迭代器、生成器和经典协程"
   ]
  },
  {
   "cell_type": "markdown",
   "id": "132f69be",
   "metadata": {},
   "source": [
    "## 17.1 序列可迭代的原因：iter函数"
   ]
  },
  {
   "cell_type": "markdown",
   "id": "b8381447",
   "metadata": {},
   "source": [
    "### 17.1.1 Sentence类第1版：单词序列"
   ]
  },
  {
   "cell_type": "code",
   "execution_count": 1,
   "id": "e6e686bf",
   "metadata": {},
   "outputs": [],
   "source": [
    "import re\n",
    "import reprlib\n",
    "\n",
    "RE_WORD = re.compile(r'\\w+')\n",
    "\n",
    "\n",
    "class SentenceV1:\n",
    "\n",
    "    def __init__(self, text):\n",
    "        self.text = text\n",
    "        # 使用正则表达式分割单词\n",
    "        self.words = RE_WORD.findall(text)\n",
    "\n",
    "    def __getitem__(self, index):\n",
    "        return self.words[index]  \n",
    "\n",
    "    def __len__(self):  \n",
    "        return len(self.words)\n",
    "\n",
    "    def __repr__(self):\n",
    "        return 'Sentence(%s)' % reprlib.repr(self.text) "
   ]
  },
  {
   "cell_type": "code",
   "execution_count": 2,
   "id": "2127e64b",
   "metadata": {},
   "outputs": [
    {
     "data": {
      "text/plain": [
       "Sentence('\"The time ha... Walrus said,')"
      ]
     },
     "execution_count": 2,
     "metadata": {},
     "output_type": "execute_result"
    }
   ],
   "source": [
    "s = SentenceV1('\"The time has com,\" the Walrus said,')\n",
    "s"
   ]
  },
  {
   "cell_type": "code",
   "execution_count": 3,
   "id": "519f944f",
   "metadata": {},
   "outputs": [
    {
     "name": "stdout",
     "output_type": "stream",
     "text": [
      "The time has com the Walrus said "
     ]
    }
   ],
   "source": [
    "for word in s:\n",
    "    print(word, end=\" \")"
   ]
  },
  {
   "cell_type": "code",
   "execution_count": 4,
   "id": "eaeb1a51",
   "metadata": {},
   "outputs": [
    {
     "data": {
      "text/plain": [
       "['The', 'time', 'has', 'com', 'the', 'Walrus', 'said']"
      ]
     },
     "execution_count": 4,
     "metadata": {},
     "output_type": "execute_result"
    }
   ],
   "source": [
    "list(s)"
   ]
  },
  {
   "cell_type": "markdown",
   "id": "c6969204",
   "metadata": {},
   "source": [
    "### 17.1.2 内置函数iter"
   ]
  },
  {
   "cell_type": "markdown",
   "id": "44f7ba82",
   "metadata": {},
   "source": [
    "内置函数`iter`的操作步骤：\n",
    "1. 检查对象是否实现了`__iter__`方法，如果实现了就调用它，获取一个迭代器。\n",
    "2. 如果没有实现，但是实现了`__getitem__`方法，那么`iter()`创建一个迭代器，尝试按索引（从0开始）获取项。\n",
    "3. 如果尝试失败，则Python抛出`TypeError`异常，通常会提示`'C' object is not iterable`（C对象不可迭代），其中C是目标对象所属的类。"
   ]
  },
  {
   "cell_type": "markdown",
   "id": "9940867c",
   "metadata": {},
   "source": [
    "`iter()`两种形式：\n",
    "1. 迭代器：传入两个参数为函数或任何可迭代对象创建迭代器，第一个参数必须是一个可迭代对象，重复调用产生值；第二个参数是哨符（标记值），如果可调用对象返回哨符，则抛出StopIteration，而不产生哨符。\n",
    "2. 用于构建按块读取工具。"
   ]
  },
  {
   "cell_type": "markdown",
   "id": "7a2f029d",
   "metadata": {},
   "source": [
    "### 17.1.3 可迭代对象与迭代器"
   ]
  },
  {
   "cell_type": "markdown",
   "id": "d59c617f",
   "metadata": {},
   "source": [
    "- 可迭代对象的定义： 使用内置的iter可以获取迭代器的对象。如果对象实现了能返回迭代器的`__iter__`方法，那么对象就是可迭代的。序列都可以迭代。实现了`__getitem__`方法，而且接受从0开始的索引，这种对象也是可以迭代的。"
   ]
  },
  {
   "cell_type": "markdown",
   "id": "eda35cb7",
   "metadata": {},
   "source": [
    "- 可迭代对象与迭代器之间的关系：Python从可迭代对象中获取迭代器。"
   ]
  },
  {
   "cell_type": "markdown",
   "id": "f71a6c77",
   "metadata": {},
   "source": [
    "## 17.2 为Sentence类实现`__iter__`方法"
   ]
  },
  {
   "cell_type": "markdown",
   "id": "31dd6b86",
   "metadata": {},
   "source": [
    "### 17.2.1 Sentence类第2版：经典迭代器"
   ]
  },
  {
   "cell_type": "markdown",
   "id": "dc2dbaa4",
   "metadata": {},
   "source": [
    "**改进方案：**\n",
    "1. 删除`__getitem__`方法。\n",
    "2. 添加`__iter__`方法，初始化`SentenceIterator`类，返回一个迭代器。\n",
    "3. 添加`SentenceIterator`类，实现`__next__`和`__iter__`方法。"
   ]
  },
  {
   "cell_type": "code",
   "execution_count": 5,
   "id": "7fe4bb92",
   "metadata": {},
   "outputs": [],
   "source": [
    "import re\n",
    "import reprlib\n",
    "\n",
    "RE_WORD = re.compile(r'\\w+')\n",
    "\n",
    "\n",
    "class SentenceV2:\n",
    "\n",
    "    def __init__(self, text):\n",
    "        self.text = text\n",
    "        self.words = RE_WORD.findall(text)\n",
    "\n",
    "    def __repr__(self):\n",
    "        return f'Sentence({reprlib.repr(self.text)})'\n",
    "\n",
    "    def __iter__(self):\n",
    "        # 返回一个迭代器\n",
    "        return SentenceIterator(self.words)\n",
    "\n",
    "\n",
    "class SentenceIterator:\n",
    "\n",
    "    def __init__(self, words):\n",
    "        self.words = words  \n",
    "        # 初始化索引\n",
    "        self.index = 0\n",
    "\n",
    "    def __next__(self):\n",
    "        try:\n",
    "            word = self.words[self.index]\n",
    "        except IndexError:\n",
    "            raise StopIteration()\n",
    "        self.index += 1\n",
    "        return word\n",
    "\n",
    "    def __iter__(self):  \n",
    "        return self"
   ]
  },
  {
   "cell_type": "markdown",
   "id": "677ab43e",
   "metadata": {},
   "source": [
    "### 17.2.2 可迭代对象和迭代器的区别"
   ]
  },
  {
   "cell_type": "markdown",
   "id": "843ac542",
   "metadata": {},
   "source": [
    "- 可迭代对象有一个`__iter__`方法，每次都实例化一个新迭代器。\n",
    "- 迭代器要实现`__next__`方法，返回单个元素，此外还要实现`__iter__`方法，返回迭代器本身。\n",
    "- 迭代器也是可迭代对象，但是可迭代对象不是迭代器。"
   ]
  },
  {
   "cell_type": "markdown",
   "id": "f67a9e63",
   "metadata": {},
   "source": [
    "### 17.2.3 Sentence类第3版：生成器函数"
   ]
  },
  {
   "cell_type": "markdown",
   "id": "4e83025a",
   "metadata": {},
   "source": [
    "**改进方案：**\n",
    "1. 添加`__iter__`方法：遍历单词数组，使用yield创建生成器。"
   ]
  },
  {
   "cell_type": "code",
   "execution_count": 7,
   "id": "ba59873b",
   "metadata": {},
   "outputs": [],
   "source": [
    "import re\n",
    "import reprlib\n",
    "\n",
    "RE_WORD = re.compile(r'\\w+')\n",
    "\n",
    "\n",
    "class SentenceV3:\n",
    "\n",
    "    def __init__(self, text):\n",
    "        self.text = text\n",
    "        self.words = RE_WORD.findall(text)\n",
    "\n",
    "    def __repr__(self):\n",
    "        return 'Sentence(%s)' % reprlib.repr(self.text)\n",
    "\n",
    "    def __iter__(self):\n",
    "        for word in self.words:\n",
    "            # 产生当前的word\n",
    "            yield word"
   ]
  },
  {
   "cell_type": "markdown",
   "id": "cbb8daa4",
   "metadata": {},
   "source": [
    "### 17.2.4 生成器的工作原理\n",
    "\n",
    "只要Python函数的主体中有`yield`关键字，该函数就是生成器函数。调用生成器函数，返回一个生成器对象。\n",
    "\n",
    "生成器工作原理：\n",
    "1. 生成器函数创建一个生成器对象，包装生成器函数的主体。\n",
    "2. 把生成器对象传给`next()`函数时，生成器函数提前执行函数主体中的下一个`yield`语句，返回产出的值，并在函数主体的当前位置暂停。\n",
    "3. 函数的主体返回时，Python创建的外层生成器对象抛出`StopIteration`异常。"
   ]
  },
  {
   "cell_type": "markdown",
   "id": "84d5466f",
   "metadata": {},
   "source": [
    "## 17.3 惰性实现版本"
   ]
  },
  {
   "cell_type": "markdown",
   "id": "150af8e9",
   "metadata": {},
   "source": [
    "### 17.3.1 Sentence类第4版：惰性生成器"
   ]
  },
  {
   "cell_type": "markdown",
   "id": "bd82ec66",
   "metadata": {},
   "source": [
    "**改进方案：**\n",
    "1. 修改`__init__`方法，删除`words`的初始化。\n",
    "2. 修改`__iter__`方法，用正则表达式分割句子，并用`yield`返回迭代对象。"
   ]
  },
  {
   "cell_type": "code",
   "execution_count": 9,
   "id": "cc475299",
   "metadata": {},
   "outputs": [],
   "source": [
    "import re\n",
    "import reprlib\n",
    "\n",
    "RE_WORD = re.compile(r'\\w+')\n",
    "\n",
    "\n",
    "class SentenceV4:\n",
    "\n",
    "    def __init__(self, text):\n",
    "        self.text = text \n",
    "\n",
    "    def __repr__(self):\n",
    "        return f'Sentence({reprlib.repr(self.text)})'\n",
    "\n",
    "    def __iter__(self):\n",
    "        # 产出MatchObject实例\n",
    "        for match in RE_WORD.finditer(self.text):  \n",
    "            yield match.group()"
   ]
  },
  {
   "cell_type": "markdown",
   "id": "0664255f",
   "metadata": {},
   "source": [
    "### 17.3.2 Sentence类第5版：惰性生成器表达式"
   ]
  },
  {
   "cell_type": "markdown",
   "id": "4b80c554",
   "metadata": {},
   "source": [
    "**改进方案：**\n",
    "1. 修改`__iter__`方法：使用生成器表达式构建生成器对象。"
   ]
  },
  {
   "cell_type": "code",
   "execution_count": 10,
   "id": "584410a9",
   "metadata": {},
   "outputs": [],
   "source": [
    "import re\n",
    "import reprlib\n",
    "\n",
    "RE_WORD = re.compile(r'\\w+')\n",
    "\n",
    "\n",
    "class SentenceV5:\n",
    "\n",
    "    def __init__(self, text):\n",
    "        self.text = text\n",
    "\n",
    "    def __repr__(self):\n",
    "        return f'Sentence({reprlib.repr(self.text)})'\n",
    "\n",
    "    def __iter__(self):\n",
    "        return (match.group() for match in RE_WORD.finditer(self.text))"
   ]
  },
  {
   "cell_type": "markdown",
   "id": "31ccbe8c",
   "metadata": {},
   "source": [
    "## 17.4 迭代器和生成器"
   ]
  },
  {
   "cell_type": "markdown",
   "id": "87213b09",
   "metadata": {},
   "source": [
    "- 迭代器：泛指实现了__next__方法的对象。迭代器用于生成供客户代码使用的数据，即客户代码通过`for`循环或其他迭代方式，或者直接在迭代器上调用``next(it)`驱动迭代器。\n",
    "- 生成器：由Python编译器构建的迭代器。为了创建生成器，使用`yield`关键字得到生成器函数。生成器表达式是构建生成器对象的另一种方式。"
   ]
  },
  {
   "cell_type": "markdown",
   "id": "2776dcdb",
   "metadata": {},
   "source": [
    "## 17.5 等差数列生成器"
   ]
  },
  {
   "cell_type": "markdown",
   "id": "67ee4051",
   "metadata": {},
   "source": [
    "### 17.5.1 自定义的等差数列类`ArithmeticProgression`"
   ]
  },
  {
   "cell_type": "code",
   "execution_count": 11,
   "id": "5e8790d6",
   "metadata": {},
   "outputs": [],
   "source": [
    "class ArithmeticProgression:\n",
    "\n",
    "    def __init__(self, begin, step, end=None):\n",
    "        self.begin = begin\n",
    "        self.step = step\n",
    "        self.end = end  # None -> \"infinite\" series\n",
    "\n",
    "    def __iter__(self):\n",
    "        result_type = type(self.begin + self.step)\n",
    "        result = result_type(self.begin)\n",
    "        forever = self.end is None\n",
    "        while forever or result < self.end:\n",
    "            yield result\n",
    "            result += self.step"
   ]
  },
  {
   "cell_type": "code",
   "execution_count": 12,
   "id": "9fd3651e",
   "metadata": {},
   "outputs": [
    {
     "data": {
      "text/plain": [
       "[0, 1, 2]"
      ]
     },
     "execution_count": 12,
     "metadata": {},
     "output_type": "execute_result"
    }
   ],
   "source": [
    "ap = ArithmeticProgression(0, 1, 3)\n",
    "list(ap)"
   ]
  },
  {
   "cell_type": "code",
   "execution_count": 13,
   "id": "c209bd10",
   "metadata": {},
   "outputs": [
    {
     "data": {
      "text/plain": [
       "[1.0, 1.5, 2.0, 2.5]"
      ]
     },
     "execution_count": 13,
     "metadata": {},
     "output_type": "execute_result"
    }
   ],
   "source": [
    "ap = ArithmeticProgression(1, .5, 3)\n",
    "list(ap)"
   ]
  },
  {
   "cell_type": "markdown",
   "id": "1ace5a2f",
   "metadata": {},
   "source": [
    "### 17.5.2 使用`itertools`模块生成等差数列"
   ]
  },
  {
   "cell_type": "code",
   "execution_count": 14,
   "id": "d9e60ec2",
   "metadata": {},
   "outputs": [
    {
     "data": {
      "text/plain": [
       "[1, 1.5, 2.0, 2.5]"
      ]
     },
     "execution_count": 14,
     "metadata": {},
     "output_type": "execute_result"
    }
   ],
   "source": [
    "import itertools\n",
    "\n",
    "gen = itertools.takewhile(lambda n: n < 3, itertools.count(1, .5))\n",
    "list(gen)"
   ]
  },
  {
   "cell_type": "code",
   "execution_count": 15,
   "id": "ba2bd760",
   "metadata": {},
   "outputs": [],
   "source": [
    "def aritprog_gen(begin, step, end=None):\n",
    "    first = type(begin + step)(begin)\n",
    "    ap_gen = itertools.count(first, step)\n",
    "    if end is None:\n",
    "        return ap_gen\n",
    "    return itertools.takewhile(lambda n: n < end, ap_gen)"
   ]
  },
  {
   "cell_type": "markdown",
   "id": "75155c77",
   "metadata": {},
   "source": [
    "### 17.5.3 标准库中的生成器函数"
   ]
  },
  {
   "cell_type": "code",
   "execution_count": 17,
   "id": "e87cae14",
   "metadata": {},
   "outputs": [
    {
     "data": {
      "text/plain": [
       "[(0, 1), (1, 2), (2, 3), (3, 4), (4, 5), (5, 6)]"
      ]
     },
     "execution_count": 17,
     "metadata": {},
     "output_type": "execute_result"
    }
   ],
   "source": [
    "# 返回输入的可迭代对象中连续的重叠对\n",
    "list(itertools.pairwise(range(7)))"
   ]
  },
  {
   "cell_type": "code",
   "execution_count": 18,
   "id": "be4db97f",
   "metadata": {},
   "outputs": [
    {
     "name": "stdout",
     "output_type": "stream",
     "text": [
      "L --> ['L', 'L', 'L']\n",
      "A --> ['A', 'A', 'A']\n",
      "G --> ['G', 'G']\n"
     ]
    }
   ],
   "source": [
    "# 分组函数\n",
    "for char, group in itertools.groupby('LLLAAAGG'):\n",
    "    print(char , '-->', list(group))"
   ]
  },
  {
   "cell_type": "markdown",
   "id": "2d9bda18",
   "metadata": {},
   "source": [
    "## 17.6 yield from：从子生成器中产出"
   ]
  },
  {
   "cell_type": "markdown",
   "id": "399a3826",
   "metadata": {},
   "source": [
    "yield from表达式是把一个生成器的工作委托给一个子生成器。"
   ]
  },
  {
   "cell_type": "markdown",
   "id": "d5da778d",
   "metadata": {},
   "source": [
    "### 17.6.1 重新实现chain"
   ]
  },
  {
   "cell_type": "code",
   "execution_count": 19,
   "id": "211943b1",
   "metadata": {},
   "outputs": [],
   "source": [
    "def chain(*iterables):\n",
    "    for it in iterables:\n",
    "        for i in it:\n",
    "            yield i"
   ]
  },
  {
   "cell_type": "code",
   "execution_count": 20,
   "id": "05c88449",
   "metadata": {},
   "outputs": [
    {
     "data": {
      "text/plain": [
       "['A', 'B', 'C', 0, 1, 2]"
      ]
     },
     "execution_count": 20,
     "metadata": {},
     "output_type": "execute_result"
    }
   ],
   "source": [
    "s = 'ABC'\n",
    "r = range(3)\n",
    "list(chain(s, r))"
   ]
  },
  {
   "cell_type": "code",
   "execution_count": 21,
   "id": "6148fb65",
   "metadata": {},
   "outputs": [],
   "source": [
    "# 用yield from重新实现chain\n",
    "def chain(*iterables):\n",
    "    for i in iterables:\n",
    "        yield from i"
   ]
  },
  {
   "cell_type": "code",
   "execution_count": 22,
   "id": "dd4a468f",
   "metadata": {},
   "outputs": [
    {
     "data": {
      "text/plain": [
       "['A', 'B', 'C', 0, 1, 2]"
      ]
     },
     "execution_count": 22,
     "metadata": {},
     "output_type": "execute_result"
    }
   ],
   "source": [
    "list(chain(s, r))"
   ]
  },
  {
   "cell_type": "markdown",
   "id": "f32c22a9",
   "metadata": {},
   "source": [
    "### 17.6.2 遍历树状结构"
   ]
  },
  {
   "cell_type": "code",
   "execution_count": 28,
   "id": "e4501aea",
   "metadata": {},
   "outputs": [],
   "source": [
    "def tree(cls, dis_level, level=0):\n",
    "    if level <= dis_level:\n",
    "        yield cls.__name__, level\n",
    "        for sub_cls in cls.__subclasses__():\n",
    "            yield from tree(sub_cls, dis_level, level=level+1)\n",
    "\n",
    "\n",
    "def display(cls, display_level=5):\n",
    "    for cls_name, level in tree(cls, display_level - 1):\n",
    "        indent = ' ' * 4 * level\n",
    "        print(f'{indent}{cls_name}')    "
   ]
  },
  {
   "cell_type": "code",
   "execution_count": 29,
   "id": "7b553941",
   "metadata": {},
   "outputs": [
    {
     "name": "stdout",
     "output_type": "stream",
     "text": [
      "BaseException\n",
      "    Exception\n",
      "    GeneratorExit\n",
      "    SystemExit\n",
      "    KeyboardInterrupt\n",
      "    CancelledError\n",
      "    BaseExceptionGroup\n"
     ]
    }
   ],
   "source": [
    "# 显示2层异常层次结构\n",
    "display(BaseException, 2)"
   ]
  },
  {
   "cell_type": "markdown",
   "id": "1e7aba79",
   "metadata": {},
   "source": [
    "## 17.7 经典协程"
   ]
  },
  {
   "cell_type": "markdown",
   "id": "0876e173",
   "metadata": {},
   "source": [
    "经典协程的类型提示：`Generator[YieldType, SendType, ReturnType]`"
   ]
  },
  {
   "cell_type": "markdown",
   "id": "37b2cce0",
   "metadata": {},
   "source": [
    "### 17.7.1 示例：使用协程计算累计平均值"
   ]
  },
  {
   "cell_type": "code",
   "execution_count": 31,
   "id": "2cdb94da",
   "metadata": {},
   "outputs": [],
   "source": [
    "from collections.abc import Generator\n",
    "\n",
    "def averager() -> Generator[float, float, None]:\n",
    "    total = 0.0\n",
    "    count = 0\n",
    "    average = 0.0\n",
    "    while True:\n",
    "        # 暂停执行协程，返回结果\n",
    "        term = yield average\n",
    "        total += term\n",
    "        count += 1\n",
    "        average = total/count"
   ]
  },
  {
   "cell_type": "code",
   "execution_count": 32,
   "id": "2311b067",
   "metadata": {},
   "outputs": [
    {
     "data": {
      "text/plain": [
       "0.0"
      ]
     },
     "execution_count": 32,
     "metadata": {},
     "output_type": "execute_result"
    }
   ],
   "source": [
    "coro_avg = averager()\n",
    "next(coro_avg)"
   ]
  },
  {
   "cell_type": "code",
   "execution_count": 33,
   "id": "3cf55625",
   "metadata": {},
   "outputs": [
    {
     "data": {
      "text/plain": [
       "10.0"
      ]
     },
     "execution_count": 33,
     "metadata": {},
     "output_type": "execute_result"
    }
   ],
   "source": [
    "coro_avg.send(10)"
   ]
  },
  {
   "cell_type": "code",
   "execution_count": 34,
   "id": "27d4ad3c",
   "metadata": {},
   "outputs": [
    {
     "data": {
      "text/plain": [
       "20.0"
      ]
     },
     "execution_count": 34,
     "metadata": {},
     "output_type": "execute_result"
    }
   ],
   "source": [
    "coro_avg.send(30)"
   ]
  },
  {
   "cell_type": "code",
   "execution_count": 35,
   "id": "950a6edb",
   "metadata": {},
   "outputs": [
    {
     "data": {
      "text/plain": [
       "15.0"
      ]
     },
     "execution_count": 35,
     "metadata": {},
     "output_type": "execute_result"
    }
   ],
   "source": [
    "coro_avg.send(5)"
   ]
  },
  {
   "cell_type": "markdown",
   "id": "57f257d9",
   "metadata": {},
   "source": [
    "### 17.7.2 返回项数和平均值"
   ]
  },
  {
   "cell_type": "code",
   "execution_count": 36,
   "id": "ec38209e",
   "metadata": {},
   "outputs": [],
   "source": [
    "from collections.abc import Generator\n",
    "from typing import Union, NamedTuple\n",
    "\n",
    "class Result(NamedTuple):\n",
    "    count: int  # type: ignore  \n",
    "    average: float\n",
    "\n",
    "class Sentinel: \n",
    "    def __repr__(self):\n",
    "        return f'<Sentinel>'\n",
    "\n",
    "STOP = Sentinel()  \n",
    "\n",
    "SendType = Union[float, Sentinel] \n",
    "\n",
    "def averager2(verbose: bool = False) -> Generator[None, SendType, Result]:  \n",
    "    total = 0.0\n",
    "    count = 0\n",
    "    average = 0.0\n",
    "    while True:\n",
    "        term = yield\n",
    "        if verbose:\n",
    "            print('received:', term)\n",
    "        # 如果term为哨符，则跳出循环    \n",
    "        if isinstance(term, Sentinel):\n",
    "            break\n",
    "        total += term  # <4>\n",
    "        count += 1\n",
    "        average = total / count\n",
    "    # 返回结果    \n",
    "    return Result(count, average)"
   ]
  },
  {
   "cell_type": "code",
   "execution_count": 37,
   "id": "1a0fd030",
   "metadata": {},
   "outputs": [],
   "source": [
    "def compute():\n",
    "    # 协程终止的StopIteration异常时获取返回值\n",
    "    res = yield from averager2(True)\n",
    "    print('computed:', res)\n",
    "    return res "
   ]
  },
  {
   "cell_type": "code",
   "execution_count": 40,
   "id": "e4cc1174",
   "metadata": {},
   "outputs": [],
   "source": [
    "# 创建委托协程的对象\n",
    "comp = compute()"
   ]
  },
  {
   "cell_type": "code",
   "execution_count": 41,
   "id": "00349408",
   "metadata": {},
   "outputs": [
    {
     "name": "stdout",
     "output_type": "stream",
     "text": [
      "received: 10\n",
      "received: 20\n",
      "received: 30\n",
      "received: <Sentinel>\n",
      "computed: Result(count=3, average=20.0)\n"
     ]
    }
   ],
   "source": [
    "for v in [None, 10, 20, 30, STOP]: \n",
    "    try:\n",
    "        comp.send(v)  \n",
    "    except StopIteration as exc:  \n",
    "        result = exc.value"
   ]
  },
  {
   "cell_type": "markdown",
   "id": "e6f1066d",
   "metadata": {},
   "source": [
    "## 17.8 杂谈"
   ]
  },
  {
   "cell_type": "markdown",
   "id": "3093c634",
   "metadata": {},
   "source": [
    "Python中极简的迭代器接口：使用`__next__`方法完成迭代器的组合。"
   ]
  },
  {
   "cell_type": "markdown",
   "id": "2759604f",
   "metadata": {},
   "source": [
    "可插拔的生成器：\n",
    "- 需求：把CDS/ISIS文件转换成适合导入CouchDB或MongoDB的JSON文件。\n",
    "- 演变：\n",
    "    1. 第1版：使用CDS/ISIS导出的ISO-2709格式读取文件，采用渐进方式。\n",
    "    2. 第1版问题：需要让脚本支持另一种数据格式（.mst文件），脚本需要接受多个命令行选项，用于调整输出的记录结构。\n",
    "    3. 第2版：隔离读取逻辑，将其写进一对生成器函数中，一个函数支持一种输入格式。\n",
    "- 总结：用生成器函数解耦了读逻辑和写逻辑，使用生成器，可以交叉读写，处理任意大小的文件。\n",
    "- 扩展：如果需要再支持一种输入格式，只需要再添加一个生成器函数来实现读逻辑即可。"
   ]
  }
 ],
 "metadata": {
  "kernelspec": {
   "display_name": "Python 3 (ipykernel)",
   "language": "python",
   "name": "python3"
  },
  "language_info": {
   "codemirror_mode": {
    "name": "ipython",
    "version": 3
   },
   "file_extension": ".py",
   "mimetype": "text/x-python",
   "name": "python",
   "nbconvert_exporter": "python",
   "pygments_lexer": "ipython3",
   "version": "3.10.5"
  }
 },
 "nbformat": 4,
 "nbformat_minor": 5
}
