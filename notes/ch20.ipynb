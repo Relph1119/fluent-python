{
 "cells": [
  {
   "cell_type": "markdown",
   "id": "0dcf640e",
   "metadata": {},
   "source": [
    "# 第20章 并发执行器"
   ]
  },
  {
   "cell_type": "markdown",
   "id": "a7140d61",
   "metadata": {},
   "source": [
    "## 20.1 并发网络下载"
   ]
  },
  {
   "cell_type": "markdown",
   "id": "9c578619",
   "metadata": {},
   "source": [
    "### 20.1.1 依序下载版本"
   ]
  },
  {
   "cell_type": "code",
   "execution_count": 2,
   "id": "958f9547",
   "metadata": {},
   "outputs": [],
   "source": [
    "import time\n",
    "from pathlib import Path\n",
    "from typing import Callable\n",
    "\n",
    "import httpx\n",
    "\n",
    "POP20_CC = ('CN IN US ID BR PK NG BD RU JP '\n",
    "            'MX PH VN ET EG DE IR TR CD FR').split()\n",
    "\n",
    "# 存放国旗图像的网络资源\n",
    "BASE_URL = 'https://www.fluentpython.com/data/flags'\n",
    "# 保存图像的本地目录\n",
    "DEST_DIR = Path('downloaded')                         \n",
    "\n",
    "def save_flag(img: bytes, filename: str) -> None: \n",
    "    (DEST_DIR / filename).write_bytes(img)\n",
    "\n",
    "def get_flag(cc: str) -> bytes:  # <6>\n",
    "    url = f'{BASE_URL}/{cc}/{cc}.gif'.lower()\n",
    "    # 建立网络响应\n",
    "    resp = httpx.get(url, timeout=6.1, follow_redirects=True)  \n",
    "    resp.raise_for_status()\n",
    "    return resp.content\n",
    "\n",
    "def download_many(cc_list: list[str]) -> int:\n",
    "    # 依序下载\n",
    "    for cc in sorted(cc_list):                 \n",
    "        image = get_flag(cc)\n",
    "        save_flag(image, f'{cc}.gif')\n",
    "        print(cc, end=' ', flush=True)         \n",
    "    return len(cc_list)\n",
    "\n",
    "def main(downloader: Callable[[list[str]], int]) -> None:\n",
    "    # 创建目录\n",
    "    DEST_DIR.mkdir(exist_ok=True)                          \n",
    "    # 记录并报告downloader运行时间\n",
    "    t0 = time.perf_counter()                               \n",
    "    count = downloader(POP20_CC)\n",
    "    elapsed = time.perf_counter() - t0\n",
    "    print(f'\\n{count} downloads in {elapsed:.2f}s')"
   ]
  },
  {
   "cell_type": "code",
   "execution_count": 3,
   "id": "307b2799",
   "metadata": {},
   "outputs": [
    {
     "name": "stdout",
     "output_type": "stream",
     "text": [
      "BD BR CD CN DE EG ET FR ID IN IR JP MX NG PH PK RU TR US VN \n",
      "20 downloads in 14.90s\n"
     ]
    }
   ],
   "source": [
    "main(download_many)"
   ]
  },
  {
   "cell_type": "markdown",
   "id": "e444a9a1",
   "metadata": {},
   "source": [
    "### 20.1.2 使用concurrent.futures模块下载"
   ]
  },
  {
   "cell_type": "code",
   "execution_count": 4,
   "id": "acd44edd",
   "metadata": {},
   "outputs": [],
   "source": [
    "from concurrent import futures\n",
    "\n",
    "def download_one(cc: str):\n",
    "    # 下载单个图像\n",
    "    image = get_flag(cc)\n",
    "    save_flag(image, f'{cc}.gif')\n",
    "    print(cc, end=' ', flush=True)\n",
    "    return cc\n",
    "\n",
    "\n",
    "def download_many(cc_list: list[str]) -> int:\n",
    "    # 使用ThreadPoolExcutor作为上下文管理器\n",
    "    with futures.ThreadPoolExecutor() as executor:  \n",
    "        # 在多个线程中并发调用\n",
    "        res = executor.map(download_one, sorted(cc_list))  \n",
    "\n",
    "    return len(list(res))"
   ]
  },
  {
   "cell_type": "code",
   "execution_count": 5,
   "id": "a2b2864a",
   "metadata": {
    "scrolled": true
   },
   "outputs": [
    {
     "name": "stdout",
     "output_type": "stream",
     "text": [
      "ID ET MX BD DE PH US IN JP NG TR VN RU FR PKBR  CN CD IR EG \n",
      "20 downloads in 0.99s\n"
     ]
    }
   ],
   "source": [
    "main(download_many)"
   ]
  },
  {
   "cell_type": "markdown",
   "id": "076a2c49",
   "metadata": {},
   "source": [
    "### 20.1.3 future对象"
   ]
  },
  {
   "cell_type": "markdown",
   "id": "8554dd96",
   "metadata": {},
   "source": [
    "- future对象不应自己动手创建，只能由并发框架实例化。future对象表示终将运行的操作，必须排期运行。\n",
    "- `.done()`方法：该方法不阻塞，返回一个布尔值，指明future对象包装的可调用对象是否已经执行。\n",
    "- `.result()`方法：当future对象运行结束后，返回可调用对象的结果，或者重新抛出执行可调用对象时抛出的异常。\n",
    "- `Executor.map`方法：返回一个迭代器，迭代器的`__next__`方法调用各个future对象的`result`方法。"
   ]
  },
  {
   "cell_type": "markdown",
   "id": "80e2d370",
   "metadata": {},
   "source": [
    "## 20.2 使用concurrent.futures启动进程"
   ]
  },
  {
   "cell_type": "code",
   "execution_count": 13,
   "id": "188c13d1",
   "metadata": {},
   "outputs": [],
   "source": [
    "from time import sleep, strftime\n",
    "from concurrent import futures\n",
    "\n",
    "def display(*args):\n",
    "    # 打印时间戳\n",
    "    print(strftime('[%H:%M:%S]'), end=' ')\n",
    "    print(*args)\n",
    "\n",
    "def loiter(n):  \n",
    "    # 在开始时显示一个消息，休眠n秒，在结束时再显示一个消息\n",
    "    msg = '{}loiter({}): doing nothing for {}s...'\n",
    "    display(msg.format('\\t'*n, n, n))\n",
    "    sleep(n)\n",
    "    msg = '{}loiter({}): done.'\n",
    "    display(msg.format('\\t'*n, n))\n",
    "    return n * 10\n",
    "\n",
    "def main():\n",
    "    display('Script starting.')\n",
    "    # 创建进程池，3个worker\n",
    "    executor = futures.ThreadPoolExecutor(max_workers=3)  \n",
    "    # 把5个任务提交给executor\n",
    "    results = executor.map(loiter, range(5))  \n",
    "    display('results:', results) \n",
    "    display('Waiting for individual results:')\n",
    "    for i, result in enumerate(results):  \n",
    "        display(f'result {i}: {result}')"
   ]
  },
  {
   "cell_type": "code",
   "execution_count": 14,
   "id": "2c401ec8",
   "metadata": {
    "scrolled": true
   },
   "outputs": [
    {
     "name": "stdout",
     "output_type": "stream",
     "text": [
      "[14:58:48] Script starting.\n",
      "[14:58:48] loiter(0): doing nothing for 0s...\n",
      "[14:58:48] loiter(0): done.\n",
      "[14:58:48] \tloiter(1): doing nothing for 1s...\n",
      "[14:58:48] \t\tloiter(2): doing nothing for 2s...\n",
      "[14:58:48] \t\t\tloiter(3): doing nothing for 3s...\n",
      "[14:58:48] results: <generator object Executor.map.<locals>.result_iterator at 0x000001EC5608ED50>\n",
      "[14:58:48] Waiting for individual results:\n",
      "[14:58:48] result 0: 0\n",
      "[14:58:49] \tloiter(1): done.\n",
      "[14:58:49] \t\t\t\tloiter(4): doing nothing for 4s...\n",
      "[14:58:49] result 1: 10\n",
      "[14:58:50] \t\tloiter(2): done.\n",
      "[14:58:50] result 2: 20\n",
      "[14:58:51] \t\t\tloiter(3): done.\n",
      "[14:58:51] result 3: 30\n",
      "[14:58:53] \t\t\t\tloiter(4): done.\n",
      "[14:58:53] result 4: 40\n"
     ]
    }
   ],
   "source": [
    "main()"
   ]
  },
  {
   "cell_type": "markdown",
   "id": "8419932d",
   "metadata": {},
   "source": [
    "## 20.3 杂谈"
   ]
  },
  {
   "cell_type": "markdown",
   "id": "931f36e7",
   "metadata": {},
   "source": [
    "- 并发是计算机科学中最难的概念之一（通常最好别去招惹它）。\n",
    "- 千万不要自己管理线程和锁。\n",
    "- `concurrent.future`包，把线程、进程和队列视作服务的基础设施，不用自己动手直接处理。"
   ]
  }
 ],
 "metadata": {
  "kernelspec": {
   "display_name": "Python 3 (ipykernel)",
   "language": "python",
   "name": "python3"
  },
  "language_info": {
   "codemirror_mode": {
    "name": "ipython",
    "version": 3
   },
   "file_extension": ".py",
   "mimetype": "text/x-python",
   "name": "python",
   "nbconvert_exporter": "python",
   "pygments_lexer": "ipython3",
   "version": "3.10.5"
  }
 },
 "nbformat": 4,
 "nbformat_minor": 5
}
