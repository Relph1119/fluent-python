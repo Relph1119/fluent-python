{
 "cells": [
  {
   "cell_type": "markdown",
   "id": "e82eaef1",
   "metadata": {},
   "source": [
    "# 第25章 杂谈汇总"
   ]
  },
  {
   "cell_type": "markdown",
   "id": "a7decbe3",
   "metadata": {},
   "source": [
    "## 第1章 杂谈"
   ]
  },
  {
   "cell_type": "markdown",
   "id": "5bf52821",
   "metadata": {},
   "source": [
    "- 数据模式还是对象模式：\n",
    "    - 对象模式（维基百科）：一门计算机编程语言中对象的一般特性。\n",
    "    - 本书采用数据模型，因为Python文档始终使用这个词指代Python对象模型。"
   ]
  },
  {
   "cell_type": "markdown",
   "id": "6dbd0846",
   "metadata": {},
   "source": [
    "- 麻瓜方法：Python和Ruby都利用了魔法方法这个概念丰富元对象协议。"
   ]
  },
  {
   "cell_type": "markdown",
   "id": "f8f3fe17",
   "metadata": {},
   "source": [
    "- 元对象：《The Art of the Metaobject Protocol》这本书的元对象协议对理解Python数据模型有帮助，一套丰富的元对象协议能够让我们扩展语言，支持新的编程范式。"
   ]
  },
  {
   "cell_type": "markdown",
   "id": "6db75454",
   "metadata": {},
   "source": [
    "## 第2章 杂谈"
   ]
  },
  {
   "cell_type": "markdown",
   "id": "01276980",
   "metadata": {},
   "source": [
    "- 元组的本质：ABC语言的compound类型是Python元组的前身。该类型还支持并行复制，也可用作字典的组合键。但是不是序列，不可迭代，不饿能通过索引获取字段，不能使用切片。"
   ]
  },
  {
   "cell_type": "markdown",
   "id": "7a330206",
   "metadata": {},
   "source": [
    "- 扁平序列与容器序列：\n",
    "    - 扁平序列：是不可嵌套的序列类型，只能包含简单的原子类型，例如整数、浮点数或字符。\n",
    "    - 容器序列：可以嵌套，包含任何类型的对象，甚至是容器类型自身。"
   ]
  },
  {
   "cell_type": "markdown",
   "id": "4ccd074a",
   "metadata": {},
   "source": [
    "- 大杂烩列表：\n",
    "    - 如果列表中的项不可比较，就不能排序。\n",
    "    - 如果元组中的每一项都是一个字段，那么每个字段就可以具有不同的类型。"
   ]
  },
  {
   "cell_type": "markdown",
   "id": "1a3909ef",
   "metadata": {},
   "source": [
    "- 聪明的`key`：\n",
    "    - 只需要定义一个单参数函数，通过它获取或计算用于排序对象的标准即可。\n",
    "    - 高效：key指定的函数只在处理各项时调用一次，而双参数比较函数在每次需要通过排序算法比较两项时，都需要调用一次。"
   ]
  },
  {
   "cell_type": "markdown",
   "id": "b1757759",
   "metadata": {},
   "source": [
    "- 甲骨文、谷歌和Timbot阴谋论：\n",
    "    - `Oracle`和`list.sort`使用的排序算法是`Timsort`，一种自适应算法，可根据数据的排序方法在插入排序法和归并排序法之间切换。\n",
    "    - `Timsort`于2002年首次在CPython使用。\n",
    "    - `Timsort`由Tim Peters发明，称为`Timbot`。"
   ]
  },
  {
   "cell_type": "markdown",
   "id": "7edce045",
   "metadata": {},
   "source": [
    "## 第3章 杂谈"
   ]
  },
  {
   "cell_type": "markdown",
   "id": "1bea6368",
   "metadata": {},
   "source": [
    "- 语法糖：\n",
    "    - Alan Perlis（首届图灵奖的获得者）：语法糖诱发分号癌。\n",
    "    - Python简单又正确，JSON与Python几乎完全兼容。"
   ]
  },
  {
   "cell_type": "markdown",
   "id": "4d11a041",
   "metadata": {},
   "source": [
    "## 第4章 杂谈"
   ]
  },
  {
   "cell_type": "markdown",
   "id": "4ea1ee83",
   "metadata": {},
   "source": [
    "在源码中应该使用非ASCII名称吗？\n",
    "    \n",
    "- Python3允许在源码中使用非ASCII标识符。\n",
    "- 让每个人都能轻松地阅读和编辑代码，需要分情况：\n",
    "    - 如果在一家跨国企业，或者一个开源项目中，标识符推荐使用英语，也要使用ASCII字符。\n",
    "    - 如果是一名教师，可以使用本地化语言进行变量和函数命名。\n",
    "- 任何人都应该选择让团队成员更容易理解代码的语言，并使用正确的字符拼写。  "
   ]
  },
  {
   "cell_type": "markdown",
   "id": "6a7cd233",
   "metadata": {},
   "source": [
    "## 第5章 杂谈"
   ]
  },
  {
   "cell_type": "markdown",
   "id": "e7bd1394",
   "metadata": {},
   "source": [
    "- Python一直都有声明类属性的简便方式，实例属性更常用，直接在`__init__`方法中创建实例属性。\n",
    "- @dataclass解决了上述问题，类型提示始终是可选的。"
   ]
  },
  {
   "cell_type": "markdown",
   "id": "1ed4b163",
   "metadata": {},
   "source": [
    "## 第6章 杂谈"
   ]
  },
  {
   "cell_type": "markdown",
   "id": "8b35a2df",
   "metadata": {},
   "source": [
    "- 平等对待所有对象：Python采用的方式是`==`运算符比较对象的值，而`is`比较引用。\n",
    "- 可变性：在Python中，用户定义的类，实例默认可变。\n",
    "- 对象析构和垃圾回收：CPython的垃圾回收主要依靠引用计数，在CPython2.0实现了分代垃圾回收机制，把引用循环中不可达的对象销毁。\n",
    "- 参数传递（共享传参）：\n",
    "    - 在早期的语言中，参数传递模式有按值传递（函数得到实参的副本）和按引用传递（函数得到实参的指针）。\n",
    "    - 在Python中，函数得到实参的副本，但是实参始终是引用的。"
   ]
  },
  {
   "cell_type": "markdown",
   "id": "167d043f",
   "metadata": {},
   "source": [
    "## 第7章 杂谈"
   ]
  },
  {
   "cell_type": "markdown",
   "id": "6ed9faab",
   "metadata": {},
   "source": [
    "- Python是一门函数式语言吗？\n",
    "    - Guido var Rossum（Python之父）：Python中一切好的功能都是从其他语言中借鉴来的。\n",
    "    - Python提供一等函数，打开了函数式编程的大门。\n",
    "    - `map`、`filter`和`reduce`最初目的是为Python增加lambda表达式。\n",
    "    - 影响Python函数式编程惯用法的原因是缺少尾调用消除（通过末尾递归调用，提高计算函数的内存使用效率）。\n",
    "    - 从设计上，不管函数式语言的定义如何，Python都不是一门函数式语言，只是从函数式语言中借鉴了一些好的想法。"
   ]
  },
  {
   "cell_type": "markdown",
   "id": "9ee945af",
   "metadata": {},
   "source": [
    "- 匿名函数的问题：匿名函数嵌套的层级太深，不利于调试和处理错误。"
   ]
  },
  {
   "cell_type": "markdown",
   "id": "8f92dbca",
   "metadata": {},
   "source": [
    "## 第8章 杂谈"
   ]
  },
  {
   "cell_type": "markdown",
   "id": "737dcdfb",
   "metadata": {},
   "source": [
    "类型的认知效应：\n",
    "- 强版本认为，语言决定思维，语系限制并决定认知范畴。\n",
    "- 弱版本认为，语系和用法只影响思维和决策。\n",
    "- 语言相对论可以解释，学习不同的编程语言，尤其是支持不同编程范式的语言，能让你成为更好的程序员。"
   ]
  },
  {
   "cell_type": "markdown",
   "id": "e32b30f1",
   "metadata": {},
   "source": [
    "## 第9章 杂谈"
   ]
  },
  {
   "cell_type": "markdown",
   "id": "e40cc291",
   "metadata": {},
   "source": [
    "- 动态作用域与词法作用域：\n",
    "    - 动态作用域：根据调用函数的环境求解自由变量。\n",
    "    - 如果函数使用自由变量，程序员必须知道函数的内部细节，才能建立正确运行所需的环境。\n",
    "    - 词法作用域：根据定义函数的环境求解自由变量。\n",
    "    - 在JavaScript中，特殊变量this既可以使用词法作用域，也可以使用动态作用域。"
   ]
  },
  {
   "cell_type": "markdown",
   "id": "8ae5dcb5",
   "metadata": {},
   "source": [
    "- Python装饰器和装饰器设计模式：\n",
    "    - Python函数装饰器符合对装饰器模式的一般描述：动态地给一个对象添加一些额外的职责，就扩展功能而言，装饰器模式比子类化更灵活。\n",
    "    - 在实现层面，Python装饰器与装饰器设计模式不同，装饰器函数相当于Decorator的具体子类，而装饰器返回的内部函数相当于装饰器实例。"
   ]
  },
  {
   "cell_type": "markdown",
   "id": "44a65e10",
   "metadata": {},
   "source": [
    "## 第10章 杂谈"
   ]
  },
  {
   "cell_type": "markdown",
   "id": "7fd06941",
   "metadata": {},
   "source": [
    "- Python拥有一等函数和一等类型。\n",
    "- 设计模式与语言功能无法精确对应。\n",
    "- 并不意味着所有模式都能一成不变地在任何语言中使用，一些特殊的面向对象语言可以直接支持我们的某些模式。"
   ]
  },
  {
   "cell_type": "markdown",
   "id": "0470da3c",
   "metadata": {},
   "source": [
    "## 第11章 杂谈"
   ]
  },
  {
   "cell_type": "markdown",
   "id": "274da67f",
   "metadata": {},
   "source": [
    "特性有助于减少前期投入：\n",
    "\n",
    "- 先用公开属性的方式定义类，如果以后需要对读值方法和设值方法增加控制，可以通过特性实现，对一开始通过公开属性的名称与对象交互的代码没有影响。\n",
    "- Java语言不能这样做，需要前期就编写读值方法和设值方法。"
   ]
  },
  {
   "cell_type": "markdown",
   "id": "d41e7dab",
   "metadata": {},
   "source": [
    "## 第12章 杂谈"
   ]
  },
  {
   "cell_type": "markdown",
   "id": "ae518b25",
   "metadata": {},
   "source": [
    "- 把协议当作非正式接口：\n",
    "    - 模仿内置类型实现类时，记住一点：模仿的程度对建模的对象来说合理即可。\n",
    "    - 不要为了满足过度设计的接口契约以及让编译器开心而去实现不需要的方法，要遵守KISS原则。"
   ]
  },
  {
   "cell_type": "markdown",
   "id": "df78fc46",
   "metadata": {},
   "source": [
    "> KISS 原则是 \"Keep It Simple, Stupid\" 的缩写，翻译为 \"保持简单，傻瓜\"。它是一种设计和开发原则，强调在解决问题或开发产品时保持简单性和直观性的重要性。  \n",
    "> KISS 原则的核心思想是，简单的解决方案通常比复杂的解决方案更可靠、更易于理解和维护。它鼓励避免不必要的复杂性、冗余和过度设计，以减少错误和问题的潜在来源。  \n",
    "> 以下是 KISS 原则的一些关键要点：\n",
    "> 1. 简洁性：尽量使用简单明了的方法来解决问题，避免过度复杂化。\n",
    "> 2. 直观性：使设计和实现易于理解和使用，避免引入混乱和困惑的元素。\n",
    "> 3. 避免冗余：消除不必要的重复和冗余代码、功能或设计。\n",
    "> 4. 最小化依赖：减少依赖关系和复杂的依赖链，以降低系统的脆弱性。\n",
    "> 5. 高效性：追求高效的解决方案，避免不必要的计算或资源浪费。"
   ]
  },
  {
   "cell_type": "markdown",
   "id": "20867569",
   "metadata": {},
   "source": [
    "- 鸭子类型的起源：在面向对象编程中较早使用鸭子做比喻的人是Alex Martelli，出现在他于2000年7月26日发到Oython-list中一条消息，即“polymorphism (was Re: Type checking in python?)”。"
   ]
  },
  {
   "cell_type": "markdown",
   "id": "0641019d",
   "metadata": {},
   "source": [
    "- 安全的`__format__`方法，增强可用性：该方法用于向终端用户显示输出，使用`reprlib`截断超出的部分，使用`...`表示。"
   ]
  },
  {
   "cell_type": "markdown",
   "id": "ecbf3e63",
   "metadata": {},
   "source": [
    "寻找符合Python风格的求和方式：\n",
    "- 起因：由于一篇2003年4月的文章，Guy Middletion不喜欢用lambda表达式处理求和方式。\n",
    "- 讨论：用operator.add方式代替lambda表达式。\n",
    "- 建议：Alex Martelli给出建议并实现了`sum()`函数，Python2.3内置了这个函数，Python2.4引入了生成器表达式。\n",
    "- 进一步讨论：Alex Martelli指出，Python2内置的`reduce`函数“成事不足败事有余”，它推荐的地道编程方式难以理解。\n",
    "- 结论：Python3把`reduce`函数移到了`functools`模块中。"
   ]
  },
  {
   "cell_type": "markdown",
   "id": "148a8ea3",
   "metadata": {},
   "source": [
    "## 第13章 杂谈"
   ]
  },
  {
   "cell_type": "markdown",
   "id": "fba4de0f",
   "metadata": {},
   "source": [
    "Python静态类型的MVP之旅\n",
    "\n",
    "- MVP（Minimal Viable Product）：最简可用产品。\n",
    "- Python3.0针对静态类型提供了非常有限的语义，只有为函数的参数和返回值附加注解的语法。\n",
    "- Python3.5中增加了标准库中其他部分未依赖的`typing`模块。\n",
    "- PEP484-Type Hints提出并获得批准，支持具有泛型的名义类型，把具体的静态检查工作交给外部工具。这个工具吸引了专业的IDE提供支持。"
   ]
  },
  {
   "cell_type": "markdown",
   "id": "08c7fac2",
   "metadata": {},
   "source": [
    "流行语言实现类型的方式：\n",
    "- 鸭子类型：Python、TypeScript、JavaScript、Smalltalk。\n",
    "- 大鹅类型：Python>=2.6、TypeScript、Go。\n",
    "- 静态鸭子类型：Python>=3.8、TypeScript、Go。\n",
    "- 静态类型：Python>=3.5、TypeScript、Go、Java。"
   ]
  },
  {
   "cell_type": "markdown",
   "id": "57b2387a",
   "metadata": {},
   "source": [
    "猴子补丁：如果滥用，则会导致系统难以理解和维护。补丁通常于目标紧密耦合，很脆弱。"
   ]
  },
  {
   "cell_type": "markdown",
   "id": "f664bf52",
   "metadata": {},
   "source": [
    "## 第14章 杂谈"
   ]
  },
  {
   "cell_type": "markdown",
   "id": "17d89429",
   "metadata": {},
   "source": [
    "- 如果发现自己在构建多层类的层次结构，可能发生了以下事件：\n",
    "    - 在重新发明轮子。去寻找框架或库，看看它们提供的组件是否可以在应用程序中复用。\n",
    "    - 使用的框架设计不良，去寻找替代品。\n",
    "    - 过度设计，需要遵守KISS原则。\n",
    "    - 创造一个新框架。"
   ]
  },
  {
   "cell_type": "markdown",
   "id": "36047a05",
   "metadata": {},
   "source": [
    "- 内置类型dict、list和str是Python的底层基础，Cpython为了执行速度，不调用被子类覆盖的方法。"
   ]
  },
  {
   "cell_type": "markdown",
   "id": "c0a5eec0",
   "metadata": {},
   "source": [
    "- 通过UserDict、UserList和UserString，可以加强扩展。"
   ]
  },
  {
   "cell_type": "markdown",
   "id": "9e41b937",
   "metadata": {},
   "source": [
    "- 术语“面向对象”是Alan Kay发明的，而Smalltalk只支持单一继承。"
   ]
  },
  {
   "cell_type": "markdown",
   "id": "d491fc92",
   "metadata": {},
   "source": [
    "- C++是第一门实现多重继承的流行语言。"
   ]
  },
  {
   "cell_type": "markdown",
   "id": "20538ef4",
   "metadata": {},
   "source": [
    "## 第15章 杂谈"
   ]
  },
  {
   "cell_type": "markdown",
   "id": "f9a22e3f",
   "metadata": {},
   "source": [
    "- 类型无底洞：使用类型检查工具，有时迫不得已要导入不需要知道的类，除了编写类型提示外，这些类在代码中根本用不到，也没有文档记录。\n",
    "- 其他语言的型变表示法：\n",
    "    - 协变或逆变不是类型变量的性质，而是使用类型变量定义的泛化类的性质。\n",
    "    - 在Python中的类型变量应该仿照Kotlin和C#，使用out修饰符表示T是一种输出类型，使用in修饰符表示T是一种输入类型。"
   ]
  },
  {
   "cell_type": "markdown",
   "id": "d5420893",
   "metadata": {},
   "source": [
    "## 第16章 杂谈"
   ]
  },
  {
   "cell_type": "markdown",
   "id": "4f8a29d7",
   "metadata": {},
   "source": [
    "运算符重载的优缺点讨论：\n",
    "- James Gosling（Java之父）：世界上有成千上万个运算符，只有少数几个适合重载。决定不让Java支持运算符重载。\n",
    "- Guido van Rossum（Python之父）：不放任用户随意创建像`<=>`或`:)`这样新的运算符，这样禁止了用户对运算符的异想天开，而且能让Python解析器保持简单。社区中约有10%的人能正确地使用和真正关心运算符重载。\n",
    "- 作者：重载的运算符，如果使用得当，的确能让代码更易于阅读和编写。"
   ]
  },
  {
   "cell_type": "markdown",
   "id": "c9b14ce9",
   "metadata": {},
   "source": [
    "## 第17章 杂谈"
   ]
  },
  {
   "cell_type": "markdown",
   "id": "cad0afd5",
   "metadata": {},
   "source": [
    "Python中极简的迭代器接口：使用`__next__`方法完成迭代器的组合。"
   ]
  },
  {
   "cell_type": "markdown",
   "id": "3c1325ba",
   "metadata": {},
   "source": [
    "可插拔的生成器：\n",
    "- 需求：把CDS/ISIS文件转换成适合导入CouchDB或MongoDB的JSON文件。\n",
    "- 演变：\n",
    "    1. 第1版：使用CDS/ISIS导出的ISO-2709格式读取文件，采用渐进方式。\n",
    "    2. 第1版问题：需要让脚本支持另一种数据格式（.mst文件），脚本需要接受多个命令行选项，用于调整输出的记录结构。\n",
    "    3. 第2版：隔离读取逻辑，将其写进一对生成器函数中，一个函数支持一种输入格式。\n",
    "- 总结：用生成器函数解耦了读逻辑和写逻辑，使用生成器，可以交叉读写，处理任意大小的文件。\n",
    "- 扩展：如果需要再支持一种输入格式，只需要再添加一个生成器函数来实现读逻辑即可。"
   ]
  },
  {
   "cell_type": "markdown",
   "id": "5d52c9cf",
   "metadata": {},
   "source": [
    "## 第18章 杂谈"
   ]
  },
  {
   "cell_type": "markdown",
   "id": "751c85ff",
   "metadata": {},
   "source": [
    "- 真尾调用：通过递归迭代替代命令式语言中的while循环。\n",
    "- 尾调用：一个函数返回一个函数（可以是同一个函数，也可以不是）调用的结果。\n",
    "- 对于支持真尾调用的语言，解释器遇到尾调用时，会跳入被调用函数的主体，不创建新的栈帧，可以节省内存。\n",
    "- Guido van Rossum和其他人的评论：真尾调用提高了所有人的调试难度，只有少数坚持使用递归进行迭代的人能从中受益。"
   ]
  },
  {
   "cell_type": "markdown",
   "id": "f80578e5",
   "metadata": {},
   "source": [
    "## 第19章 杂谈"
   ]
  },
  {
   "cell_type": "markdown",
   "id": "380fbdf1",
   "metadata": {},
   "source": [
    "线程和锁模式的不受约束性：\n",
    "- 线程可以共享访问任意可变的数据结构。\n",
    "- 调度程序几乎可以在任何时刻中断线程。\n",
    "- 锁往往是建议性的，在更新共享的数据结构之前，必须显式持有锁。"
   ]
  },
  {
   "cell_type": "markdown",
   "id": "4433c419",
   "metadata": {},
   "source": [
    "参与者模式的约束性：\n",
    "- 参与者可以有内部状态，但是不能与其它参与者分享状态。\n",
    "- 参与者之间通过收发消息进行通信。\n",
    "- 消息中只能存有数据的副本，不能引用可变的数据。\n",
    "- 一个参与者一次只处理一个消息。对于单个参与者，没有并发执行的概念。"
   ]
  },
  {
   "cell_type": "markdown",
   "id": "e241cdab",
   "metadata": {},
   "source": [
    "## 第20章 杂谈"
   ]
  },
  {
   "cell_type": "markdown",
   "id": "2e79bf49",
   "metadata": {},
   "source": [
    "- 并发是计算机科学中最难的概念之一（通常最好别去招惹它）。\n",
    "- 千万不要自己管理线程和锁。\n",
    "- `concurrent.future`包，把线程、进程和队列视作服务的基础设施，不用自己动手直接处理。"
   ]
  },
  {
   "cell_type": "markdown",
   "id": "f0e670da",
   "metadata": {},
   "source": [
    "## 第21章 杂谈"
   ]
  },
  {
   "cell_type": "markdown",
   "id": "24b1a696",
   "metadata": {},
   "source": [
    "uvloop的基准测试：\n",
    "- 2016年，Yury Selivanov发布了uvloop，需要配置Go语言使用单个线程，使用httptools。\n",
    "- 使用aiohttp对uvloop进行了基准测试之后，编写httptools。理由是HTTP解析器的速度太慢了。\n",
    "- HTTP性能测试用到了一个简单的回显服务器，HTTP首部解析是CPU密集型操作，使用Python编写的函数解析首部，导致事件循环受到阻塞。因此优化httptools库。"
   ]
  },
  {
   "cell_type": "markdown",
   "id": "1430e2ba",
   "metadata": {},
   "source": [
    "系统性能诊断：\n",
    "- 背景：系统使用Python2.7编写，使用Twisted框架，属于asyncio的前身。\n",
    "- 问题：每增加一个功能，有更多CPU密集型代码拖慢Twisted的事件循环。\n",
    "- 解决思路：重新思考系统架构，重写大量代码，也行需要任务队列，可能还要使用微服务，或者以更适合并发处理CPU密集型操作的语言编写库。\n",
    "- 结论：项目方不准备继续投资了，项目被取消了。"
   ]
  },
  {
   "cell_type": "markdown",
   "id": "fd2aca7d",
   "metadata": {},
   "source": [
    "## 第22章 杂谈"
   ]
  },
  {
   "cell_type": "markdown",
   "id": "97e8bc69",
   "metadata": {},
   "source": [
    "讨论统一访问原则：\n",
    "- 在面向对象编程语言中，是否遵守统一访问原则通常体现在句法上：究竟时读取公开的数据属性，还是调用读值和设值方法。\n",
    "- Smalltalk和Ruby语言，根本不支持公开的数据属性。所有实例属性都是私有的，必须通过方法来存取。\n",
    "- Java让程序员在4种访问级别修饰符中选择。"
   ]
  },
  {
   "cell_type": "markdown",
   "id": "740ebca8",
   "metadata": {},
   "source": [
    "类与函数：\n",
    "- Python还有一处体现了统一访问原则，函数调用和对象实例化使用相同的句法。\n",
    "- 构造方法替换成工厂函数的理由：\n",
    "    1. 通过返回之前构建的实例，限制实例的数量。\n",
    "    2. 缓存构建过程开销大的对象。\n",
    "- 构造工厂方法，API的设计者必须提前决定。"
   ]
  },
  {
   "cell_type": "markdown",
   "id": "b88fa7b4",
   "metadata": {},
   "source": [
    "## 第23章 杂谈"
   ]
  },
  {
   "cell_type": "markdown",
   "id": "db1bb784",
   "metadata": {},
   "source": [
    "`self`的设计：\n",
    "- 设计方法必须简单，对实现和接口来说都是如此。简单的实现比简单的接口更重要。简单是设计过程中最重要的考虑因素。\n",
    "- 这种做法最初是由Modula-3语言提供。\n",
    "- 除了要明确把self作为参数，限制必须通过self方法实例属性也备受批评。\n",
    "- 如果讨厌Python要求显式使用self，想想JavaScript中隐式this那变幻莫测的语义，这样就感觉好多了。"
   ]
  },
  {
   "cell_type": "markdown",
   "id": "e0fd4cd0",
   "metadata": {},
   "source": [
    "## 第24章 杂谈"
   ]
  },
  {
   "cell_type": "markdown",
   "id": "2da0f3cf",
   "metadata": {},
   "source": [
    "计算机科学的教学方法分为两个流派：\n",
    "1. 保守派：计算机程序已经变得极其大而复杂，超过了人类思维所能承载的限度。因此，计算机科学教育的任务是**训练平庸的程序员**，这样500个人合作便能开发出恰好满足需求的程序。\n",
    "2. 激进派：计算机程序已经变得极其大而复杂，超过了人类思维所能承载的限度。因此，计算机科学教育的任务是**教人如何拓展思维，打破常规，学习以更广博、更强大和更灵活的方式思考，让思维超越程序**。编程思想的各个方面在程序中必会得到充分体现。"
   ]
  },
  {
   "cell_type": "markdown",
   "id": "7751c45b",
   "metadata": {},
   "source": [
    "编程语言的激进：\n",
    "- Java一开始使用的就是存取方法，编写程序时，可以先把属性设为公开的（遵循KISS原则），公开的属性无需大幅改动，随时都能变成特性。\n",
    "- 把函数当作一等对象，描述符和高阶函数合在一起思想，使得函数和方法的统一成为可能。\n",
    "- Python中的类也是一等对象，提供类构建器、类装饰器、以及允许用户定义功能完整的元类。"
   ]
  }
 ],
 "metadata": {
  "kernelspec": {
   "display_name": "Python 3 (ipykernel)",
   "language": "python",
   "name": "python3"
  },
  "language_info": {
   "codemirror_mode": {
    "name": "ipython",
    "version": 3
   },
   "file_extension": ".py",
   "mimetype": "text/x-python",
   "name": "python",
   "nbconvert_exporter": "python",
   "pygments_lexer": "ipython3",
   "version": "3.10.5"
  }
 },
 "nbformat": 4,
 "nbformat_minor": 5
}
