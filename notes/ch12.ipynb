{
 "cells": [
  {
   "cell_type": "markdown",
   "id": "d7371a57",
   "metadata": {},
   "source": [
    "# 第12章 序列的特殊方法"
   ]
  },
  {
   "cell_type": "markdown",
   "id": "578b5af3",
   "metadata": {},
   "source": [
    "## 12.1 Vector类第1版：与Vector2d类兼容"
   ]
  },
  {
   "cell_type": "code",
   "execution_count": 3,
   "id": "340409ff",
   "metadata": {},
   "outputs": [],
   "source": [
    "from array import array\n",
    "import reprlib\n",
    "import math\n",
    "\n",
    "\n",
    "class VectorV1:\n",
    "    typecode = 'd'\n",
    "\n",
    "    def __init__(self, components):\n",
    "        # 将Vector的分量保存在一个数组中\n",
    "        self._components = array(self.typecode, components)\n",
    "\n",
    "    def __iter__(self):\n",
    "        return iter(self._components)\n",
    "\n",
    "    def __repr__(self):\n",
    "        # 生成有限长度表示形式\n",
    "        components = reprlib.repr(self._components) \n",
    "        components = components[components.find('['):-1]\n",
    "        return f'Vector({components})'\n",
    "\n",
    "    def __str__(self):\n",
    "        return str(tuple(self))\n",
    "\n",
    "    def __bytes__(self):\n",
    "        return (bytes([ord(self.typecode)]) +\n",
    "                bytes(self._components))\n",
    "\n",
    "    def __eq__(self, other):\n",
    "        return tuple(self) == tuple(other)\n",
    "\n",
    "    def __abs__(self):\n",
    "        return math.hypot(*self)\n",
    "\n",
    "    def __bool__(self):\n",
    "        return bool(abs(self))\n",
    "\n",
    "    @classmethod\n",
    "    def frombytes(cls, octets):\n",
    "        typecode = chr(octets[0])\n",
    "        memv = memoryview(octets[1:]).cast(typecode)\n",
    "        return cls(memv)"
   ]
  },
  {
   "cell_type": "code",
   "execution_count": 4,
   "id": "883b744e",
   "metadata": {},
   "outputs": [
    {
     "data": {
      "text/plain": [
       "Vector([3.1, 4.2])"
      ]
     },
     "execution_count": 4,
     "metadata": {},
     "output_type": "execute_result"
    }
   ],
   "source": [
    "VectorV1([3.1, 4.2])"
   ]
  },
  {
   "cell_type": "code",
   "execution_count": 5,
   "id": "cb030254",
   "metadata": {},
   "outputs": [
    {
     "data": {
      "text/plain": [
       "Vector([3.0, 4.0, 5.0])"
      ]
     },
     "execution_count": 5,
     "metadata": {},
     "output_type": "execute_result"
    }
   ],
   "source": [
    "VectorV1((3, 4, 5))"
   ]
  },
  {
   "cell_type": "code",
   "execution_count": 6,
   "id": "9a3fcda6",
   "metadata": {},
   "outputs": [
    {
     "data": {
      "text/plain": [
       "Vector([0.0, 1.0, 2.0, 3.0, 4.0, ...])"
      ]
     },
     "execution_count": 6,
     "metadata": {},
     "output_type": "execute_result"
    }
   ],
   "source": [
    "VectorV1(range(10))"
   ]
  },
  {
   "cell_type": "markdown",
   "id": "a85acc6e",
   "metadata": {},
   "source": [
    "## 12.2 Vector类第2版：可切片的序列"
   ]
  },
  {
   "cell_type": "markdown",
   "id": "6162282c",
   "metadata": {},
   "source": [
    "- 序列协议：任何类，只要使用标准的签名和语义实现了`__len__`和`__getitem__`方法，就能用在任何预期序列的地方。\n",
    "- 协议是非正式的，没有强制力的，因此如果知道类的具体使用场景，通常只需要实现协议的一部分。"
   ]
  },
  {
   "cell_type": "markdown",
   "id": "09d54be3",
   "metadata": {},
   "source": [
    "**改进方案：**\n",
    "1. 新增`__len__`方法，计算Vector分量的个数。\n",
    "2. 新增`__getitem__`方法，如果传入的参数是一个区间，则按照区间使用切片生成新的Vector，如果是单个索引，则返回相应的元素。"
   ]
  },
  {
   "cell_type": "code",
   "execution_count": 10,
   "id": "5cf57fb3",
   "metadata": {},
   "outputs": [],
   "source": [
    "import operator\n",
    "\n",
    "class VectorV2:\n",
    "    typecode = 'd'\n",
    "\n",
    "    def __init__(self, components):\n",
    "        # 将Vector的分量保存在一个数组中\n",
    "        self._components = array(self.typecode, components)\n",
    "\n",
    "    def __iter__(self):\n",
    "        return iter(self._components)\n",
    "\n",
    "    def __repr__(self):\n",
    "        # 生成有限长度表示形式\n",
    "        components = reprlib.repr(self._components) \n",
    "        components = components[components.find('['):-1]\n",
    "        return f'Vector({components})'\n",
    "\n",
    "    def __str__(self):\n",
    "        return str(tuple(self))\n",
    "\n",
    "    def __bytes__(self):\n",
    "        return (bytes([ord(self.typecode)]) +\n",
    "                bytes(self._components))\n",
    "\n",
    "    def __eq__(self, other):\n",
    "        return tuple(self) == tuple(other)\n",
    "\n",
    "    def __abs__(self):\n",
    "        return math.hypot(*self)\n",
    "\n",
    "    def __bool__(self):\n",
    "        return bool(abs(self))\n",
    "    \n",
    "    def __len__(self):\n",
    "        return len(self._components)\n",
    "\n",
    "    def __getitem__(self, key):\n",
    "        if isinstance(key, slice):\n",
    "            # 如果是一个区间，获取实例的类\n",
    "            cls = type(self)  \n",
    "            # 调用类的构造函数，使用切片构建一个新的Vector实例\n",
    "            return cls(self._components[key])\n",
    "        # 单个索引\n",
    "        index = operator.index(key)\n",
    "        # 返回相应的元素\n",
    "        return self._components[index]  \n",
    "    \n",
    "    @classmethod\n",
    "    def frombytes(cls, octets):\n",
    "        typecode = chr(octets[0])\n",
    "        memv = memoryview(octets[1:]).cast(typecode)\n",
    "        return cls(memv)"
   ]
  },
  {
   "cell_type": "code",
   "execution_count": 11,
   "id": "e536e0df",
   "metadata": {},
   "outputs": [
    {
     "data": {
      "text/plain": [
       "6.0"
      ]
     },
     "execution_count": 11,
     "metadata": {},
     "output_type": "execute_result"
    }
   ],
   "source": [
    "v7 = VectorV2(range(7))\n",
    "v7[-1]"
   ]
  },
  {
   "cell_type": "code",
   "execution_count": 12,
   "id": "91624af8",
   "metadata": {},
   "outputs": [
    {
     "data": {
      "text/plain": [
       "Vector([1.0, 2.0, 3.0])"
      ]
     },
     "execution_count": 12,
     "metadata": {},
     "output_type": "execute_result"
    }
   ],
   "source": [
    "v7[1:4]"
   ]
  },
  {
   "cell_type": "code",
   "execution_count": 13,
   "id": "7c7f741c",
   "metadata": {},
   "outputs": [
    {
     "data": {
      "text/plain": [
       "Vector([6.0])"
      ]
     },
     "execution_count": 13,
     "metadata": {},
     "output_type": "execute_result"
    }
   ],
   "source": [
    "v7[-1:]"
   ]
  },
  {
   "cell_type": "markdown",
   "id": "7130b999",
   "metadata": {},
   "source": [
    "## 12.3 Vector类第3版：动态存取属性"
   ]
  },
  {
   "cell_type": "markdown",
   "id": "d9012a3d",
   "metadata": {},
   "source": [
    "**改进方案：**\n",
    "1. 新增支持位置模式匹配`__match_args__`。\n",
    "2. 新增`__getattr__`方法：得到元素的相应位置，如果在范围内，则返回相应的元素。\n",
    "3. 新增`__setattr__`方法：如果参数是受特性保护的只读属性，则抛出异常，如果是小写字母，则抛出错误警告。"
   ]
  },
  {
   "cell_type": "code",
   "execution_count": 17,
   "id": "c7a33e44",
   "metadata": {},
   "outputs": [],
   "source": [
    "class VectorV3:\n",
    "    typecode = 'd'\n",
    "\n",
    "    def __init__(self, components):\n",
    "        self._components = array(self.typecode, components)\n",
    "\n",
    "    def __iter__(self):\n",
    "        return iter(self._components)\n",
    "\n",
    "    def __repr__(self):\n",
    "        components = reprlib.repr(self._components)\n",
    "        components = components[components.find('['):-1]\n",
    "        return f'Vector({components})'\n",
    "\n",
    "    def __str__(self):\n",
    "        return str(tuple(self))\n",
    "\n",
    "    def __bytes__(self):\n",
    "        return (bytes([ord(self.typecode)]) +\n",
    "                bytes(self._components))\n",
    "\n",
    "    def __eq__(self, other):\n",
    "        return tuple(self) == tuple(other)\n",
    "\n",
    "    def __abs__(self):\n",
    "        return math.hypot(*self)\n",
    "\n",
    "    def __bool__(self):\n",
    "        return bool(abs(self))\n",
    "\n",
    "    def __len__(self):\n",
    "        return len(self._components)\n",
    "\n",
    "    def __getitem__(self, key):\n",
    "        if isinstance(key, slice):\n",
    "            cls = type(self)\n",
    "            return cls(self._components[key])\n",
    "        index = operator.index(key)\n",
    "        return self._components[index]\n",
    "    \n",
    "    # 支持位置模式匹配\n",
    "    __match_args__ = ('x', 'y', 'z', 't')  \n",
    "\n",
    "    def __getattr__(self, name):\n",
    "        # 获取Vector类型\n",
    "        cls = type(self)  \n",
    "        try:\n",
    "            # 得到位置\n",
    "            pos = cls.__match_args__.index(name)  \n",
    "        except ValueError: \n",
    "            pos = -1\n",
    "        if 0 <= pos < len(self._components):\n",
    "            # 如果位置处于范围类，则返回对应的分量\n",
    "            return self._components[pos]\n",
    "        msg = f'{cls.__name__!r} object has no attribute {name!r}'\n",
    "        raise AttributeError(msg)\n",
    "        \n",
    "    def __setattr__(self, name, value):\n",
    "        cls = type(self)\n",
    "        if len(name) == 1:\n",
    "            # 处理名称是单个字符的属性\n",
    "            if name in cls.__match_args__:\n",
    "                # 受特性保护的只读属性\n",
    "                error = 'readonly attribute {attr_name!r}'\n",
    "            elif name.islower():\n",
    "                error = \"can't set attributes 'a' to 'z' in {cls_name!r}\"\n",
    "            else:\n",
    "                error = ''\n",
    "            if error:\n",
    "                msg = error.format(cls_name=cls.__name__, attr_name=name)\n",
    "                raise AttributeError(msg)\n",
    "        # 调用超类的setattr方法        \n",
    "        super().__setattr__(name, value)     "
   ]
  },
  {
   "cell_type": "code",
   "execution_count": 18,
   "id": "d2351ca0",
   "metadata": {},
   "outputs": [
    {
     "data": {
      "text/plain": [
       "0.0"
      ]
     },
     "execution_count": 18,
     "metadata": {},
     "output_type": "execute_result"
    }
   ],
   "source": [
    "v = VectorV3(range(10))\n",
    "v.x"
   ]
  },
  {
   "cell_type": "code",
   "execution_count": 19,
   "id": "bd4a80c2",
   "metadata": {},
   "outputs": [
    {
     "data": {
      "text/plain": [
       "(1.0, 2.0, 3.0)"
      ]
     },
     "execution_count": 19,
     "metadata": {},
     "output_type": "execute_result"
    }
   ],
   "source": [
    "v.y, v.z, v.t"
   ]
  },
  {
   "cell_type": "markdown",
   "id": "84b7a1cb",
   "metadata": {},
   "source": [
    "## 12.4 Vector类第4版：哈希和快速等值测试"
   ]
  },
  {
   "cell_type": "markdown",
   "id": "6522aceb",
   "metadata": {},
   "source": [
    "**改进方案：**\n",
    "1. 新增`__eq__`方法：先判断两个对象的长度是否相等，再比较其中各个元素是否相等。\n",
    "2. 新增`__hash__`方法：计算各个分量的哈希值，并使用`xor`运算符聚合所有的哈希值。"
   ]
  },
  {
   "cell_type": "code",
   "execution_count": 20,
   "id": "8f8ba032",
   "metadata": {},
   "outputs": [],
   "source": [
    "class VectorV4:\n",
    "    typecode = 'd'\n",
    "\n",
    "    def __init__(self, components):\n",
    "        self._components = array(self.typecode, components)\n",
    "\n",
    "    def __iter__(self):\n",
    "        return iter(self._components)\n",
    "\n",
    "    def __repr__(self):\n",
    "        components = reprlib.repr(self._components)\n",
    "        components = components[components.find('['):-1]\n",
    "        return f'Vector({components})'\n",
    "\n",
    "    def __str__(self):\n",
    "        return str(tuple(self))\n",
    "\n",
    "    def __bytes__(self):\n",
    "        return (bytes([ord(self.typecode)]) +\n",
    "                bytes(self._components))\n",
    "\n",
    "    def __eq__(self, other):\n",
    "        # 先判断两个对象的长度是否相等\n",
    "        # 再比较其中各个元素是否相等\n",
    "        return (len(self) == len(other) and\n",
    "                all(a == b for a, b in zip(self, other)))\n",
    "\n",
    "    def __hash__(self):\n",
    "        # 计算多个分量的哈希值\n",
    "        hashes = (hash(x) for x in self)\n",
    "        # v[0]^v[1]^v[2]^...\n",
    "        # 使用xor运算符聚合所有的哈希值\n",
    "        return functools.reduce(operator.xor, hashes, 0)\n",
    "\n",
    "    def __abs__(self):\n",
    "        return math.hypot(*self)\n",
    "\n",
    "    def __bool__(self):\n",
    "        return bool(abs(self))\n",
    "\n",
    "    def __len__(self):\n",
    "        return len(self._components)\n",
    "\n",
    "    def __getitem__(self, key):\n",
    "        if isinstance(key, slice):\n",
    "            cls = type(self)\n",
    "            return cls(self._components[key])\n",
    "        index = operator.index(key)\n",
    "        return self._components[index]\n",
    "\n",
    "    __match_args__ = ('x', 'y', 'z', 't')\n",
    "\n",
    "    def __getattr__(self, name):\n",
    "        cls = type(self)\n",
    "        try:\n",
    "            pos = cls.__match_args__.index(name)\n",
    "        except ValueError:\n",
    "            pos = -1\n",
    "        if 0 <= pos < len(self._components):\n",
    "            return self._components[pos]\n",
    "        msg = f'{cls.__name__!r} object has no attribute {name!r}'\n",
    "        raise AttributeError(msg)\n",
    "\n",
    "    @classmethod\n",
    "    def frombytes(cls, octets):\n",
    "        typecode = chr(octets[0])\n",
    "        memv = memoryview(octets[1:]).cast(typecode)\n",
    "        return cls(memv)"
   ]
  },
  {
   "cell_type": "markdown",
   "id": "b8872eb6",
   "metadata": {},
   "source": [
    "## 12.5 Vector第5版：格式化"
   ]
  },
  {
   "cell_type": "markdown",
   "id": "680836f9",
   "metadata": {},
   "source": [
    "**改进方案：**\n",
    "1. 新增`angle(self, n)`函数：使用n维球体的公式计算角坐标。\n",
    "2. 新增`angles`函数：创建生成器表达式，按需计算所有角坐标。\n",
    "3. 新增`__format__`函数：根据球坐标标识符`h`，显示球面坐标。"
   ]
  },
  {
   "cell_type": "code",
   "execution_count": 21,
   "id": "5b1933ca",
   "metadata": {},
   "outputs": [],
   "source": [
    "import itertools\n",
    "\n",
    "class VectorV5:\n",
    "    typecode = 'd'\n",
    "\n",
    "    def __init__(self, components):\n",
    "        self._components = array(self.typecode, components)\n",
    "\n",
    "    def __iter__(self):\n",
    "        return iter(self._components)\n",
    "\n",
    "    def __repr__(self):\n",
    "        components = reprlib.repr(self._components)\n",
    "        components = components[components.find('['):-1]\n",
    "        return f'Vector({components})'\n",
    "\n",
    "    def __str__(self):\n",
    "        return str(tuple(self))\n",
    "\n",
    "    def __bytes__(self):\n",
    "        return (bytes([ord(self.typecode)]) +\n",
    "                bytes(self._components))\n",
    "\n",
    "    def __eq__(self, other):\n",
    "        return (len(self) == len(other) and\n",
    "                all(a == b for a, b in zip(self, other)))\n",
    "\n",
    "    def __hash__(self):\n",
    "        hashes = (hash(x) for x in self)\n",
    "        return functools.reduce(operator.xor, hashes, 0)\n",
    "\n",
    "    def __abs__(self):\n",
    "        return math.hypot(*self)\n",
    "\n",
    "    def __bool__(self):\n",
    "        return bool(abs(self))\n",
    "\n",
    "    def __len__(self):\n",
    "        return len(self._components)\n",
    "\n",
    "    def __getitem__(self, key):\n",
    "        if isinstance(key, slice):\n",
    "            cls = type(self)\n",
    "            return cls(self._components[key])\n",
    "        index = operator.index(key)\n",
    "        return self._components[index]\n",
    "\n",
    "    __match_args__ = ('x', 'y', 'z', 't')\n",
    "\n",
    "    def __getattr__(self, name):\n",
    "        cls = type(self)\n",
    "        try:\n",
    "            pos = cls.__match_args__.index(name)\n",
    "        except ValueError:\n",
    "            pos = -1\n",
    "        if 0 <= pos < len(self._components):\n",
    "            return self._components[pos]\n",
    "        msg = f'{cls.__name__!r} object has no attribute {name!r}'\n",
    "        raise AttributeError(msg)\n",
    "\n",
    "    def angle(self, n):\n",
    "        # 使用n维球体的公式计算角坐标\n",
    "        r = math.hypot(*self[n:])\n",
    "        a = math.atan2(r, self[n-1])\n",
    "        if (n == len(self) - 1) and (self[-1] < 0):\n",
    "            return math.pi * 2 - a\n",
    "        else:\n",
    "            return a\n",
    "\n",
    "    def angles(self):\n",
    "        return (self.angle(n) for n in range(1, len(self)))\n",
    "\n",
    "    def __format__(self, fmt_spec=''):\n",
    "        if fmt_spec.endswith('h'):\n",
    "            # 球坐标标识符h\n",
    "            fmt_spec = fmt_spec[:-1]\n",
    "            # 生成器表达式，迭代向量的模和各个角坐标\n",
    "            coords = itertools.chain([abs(self)], self.angles())  \n",
    "            # 显示球面坐标\n",
    "            outer_fmt = '<{}>'  \n",
    "        else:\n",
    "            coords = self\n",
    "            # 显示笛卡尔坐标\n",
    "            outer_fmt = '({})' \n",
    "        components = (format(c, fmt_spec) for c in coords)  \n",
    "        return outer_fmt.format(', '.join(components))  \n",
    "\n",
    "    @classmethod\n",
    "    def frombytes(cls, octets):\n",
    "        typecode = chr(octets[0])\n",
    "        memv = memoryview(octets[1:]).cast(typecode)\n",
    "        return cls(memv)"
   ]
  },
  {
   "cell_type": "markdown",
   "id": "b3814a5b",
   "metadata": {},
   "source": [
    "## 12.6 杂谈"
   ]
  },
  {
   "cell_type": "markdown",
   "id": "d49f4369",
   "metadata": {},
   "source": [
    "- 把协议当作非正式接口：\n",
    "    - 模仿内置类型实现类时，记住一点：模仿的程度对建模的对象来说合理即可。\n",
    "    - 不要为了满足过度设计的接口契约以及让编译器开心而去实现不需要的方法，要遵守KISS原则。"
   ]
  },
  {
   "cell_type": "markdown",
   "id": "d86d0470",
   "metadata": {},
   "source": [
    "> KISS 原则是 \"Keep It Simple, Stupid\" 的缩写，翻译为 \"保持简单，傻瓜\"。它是一种设计和开发原则，强调在解决问题或开发产品时保持简单性和直观性的重要性。  \n",
    "> KISS 原则的核心思想是，简单的解决方案通常比复杂的解决方案更可靠、更易于理解和维护。它鼓励避免不必要的复杂性、冗余和过度设计，以减少错误和问题的潜在来源。  \n",
    "> 以下是 KISS 原则的一些关键要点：\n",
    "> 1. 简洁性：尽量使用简单明了的方法来解决问题，避免过度复杂化。\n",
    "> 2. 直观性：使设计和实现易于理解和使用，避免引入混乱和困惑的元素。\n",
    "> 3. 避免冗余：消除不必要的重复和冗余代码、功能或设计。\n",
    "> 4. 最小化依赖：减少依赖关系和复杂的依赖链，以降低系统的脆弱性。\n",
    "> 5. 高效性：追求高效的解决方案，避免不必要的计算或资源浪费。"
   ]
  },
  {
   "cell_type": "markdown",
   "id": "4d931230",
   "metadata": {},
   "source": [
    "- 鸭子类型的起源：在面向对象编程中较早使用鸭子做比喻的人是Alex Martelli，出现在他于2000年7月26日发到Oython-list中一条消息，即“polymorphism (was Re: Type checking in python?)”。"
   ]
  },
  {
   "cell_type": "markdown",
   "id": "8a2f69ed",
   "metadata": {},
   "source": [
    "- 安全的`__format__`方法，增强可用性：该方法用于向终端用户显示输出，使用`reprlib`截断超出的部分，使用`...`表示。"
   ]
  },
  {
   "cell_type": "markdown",
   "id": "e6baec38",
   "metadata": {},
   "source": [
    "寻找符合Python风格的求和方式：\n",
    "- 起因：由于一篇2003年4月的文章，Guy Middletion不喜欢用lambda表达式处理求和方式。\n",
    "- 讨论：用operator.add方式代替lambda表达式。\n",
    "- 建议：Alex Martelli给出建议并实现了`sum()`函数，Python2.3内置了这个函数，Python2.4引入了生成器表达式。\n",
    "- 进一步讨论：Alex Martelli指出，Python2内置的`reduce`函数“成事不足败事有余”，它推荐的地道编程方式难以理解。\n",
    "- 结论：Python3把`reduce`函数移到了`functools`模块中。"
   ]
  }
 ],
 "metadata": {
  "kernelspec": {
   "display_name": "Python 3 (ipykernel)",
   "language": "python",
   "name": "python3"
  },
  "language_info": {
   "codemirror_mode": {
    "name": "ipython",
    "version": 3
   },
   "file_extension": ".py",
   "mimetype": "text/x-python",
   "name": "python",
   "nbconvert_exporter": "python",
   "pygments_lexer": "ipython3",
   "version": "3.10.5"
  }
 },
 "nbformat": 4,
 "nbformat_minor": 5
}
