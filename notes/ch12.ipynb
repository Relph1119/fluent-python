{
 "cells": [
  {
   "cell_type": "markdown",
   "id": "b1278bbd",
   "metadata": {},
   "source": [
    "# 第12章 序列的特殊方法"
   ]
  },
  {
   "cell_type": "markdown",
   "id": "f24a155d",
   "metadata": {},
   "source": [
    "## 12.1 Vector类第1版：与Vector2d类兼容"
   ]
  },
  {
   "cell_type": "code",
   "execution_count": 3,
   "id": "43b95bf0",
   "metadata": {},
   "outputs": [],
   "source": [
    "from array import array\n",
    "import reprlib\n",
    "import math\n",
    "\n",
    "\n",
    "class VectorV1:\n",
    "    typecode = 'd'\n",
    "\n",
    "    def __init__(self, components):\n",
    "        # 将Vector的分量保存在一个数组中\n",
    "        self._components = array(self.typecode, components)\n",
    "\n",
    "    def __iter__(self):\n",
    "        return iter(self._components)\n",
    "\n",
    "    def __repr__(self):\n",
    "        # 生成有限长度表示形式\n",
    "        components = reprlib.repr(self._components) \n",
    "        components = components[components.find('['):-1]\n",
    "        return f'Vector({components})'\n",
    "\n",
    "    def __str__(self):\n",
    "        return str(tuple(self))\n",
    "\n",
    "    def __bytes__(self):\n",
    "        return (bytes([ord(self.typecode)]) +\n",
    "                bytes(self._components))\n",
    "\n",
    "    def __eq__(self, other):\n",
    "        return tuple(self) == tuple(other)\n",
    "\n",
    "    def __abs__(self):\n",
    "        return math.hypot(*self)\n",
    "\n",
    "    def __bool__(self):\n",
    "        return bool(abs(self))\n",
    "\n",
    "    @classmethod\n",
    "    def frombytes(cls, octets):\n",
    "        typecode = chr(octets[0])\n",
    "        memv = memoryview(octets[1:]).cast(typecode)\n",
    "        return cls(memv)"
   ]
  },
  {
   "cell_type": "code",
   "execution_count": 4,
   "id": "67e3c13b",
   "metadata": {},
   "outputs": [
    {
     "data": {
      "text/plain": [
       "Vector([3.1, 4.2])"
      ]
     },
     "execution_count": 4,
     "metadata": {},
     "output_type": "execute_result"
    }
   ],
   "source": [
    "VectorV1([3.1, 4.2])"
   ]
  },
  {
   "cell_type": "code",
   "execution_count": 5,
   "id": "c554dad5",
   "metadata": {},
   "outputs": [
    {
     "data": {
      "text/plain": [
       "Vector([3.0, 4.0, 5.0])"
      ]
     },
     "execution_count": 5,
     "metadata": {},
     "output_type": "execute_result"
    }
   ],
   "source": [
    "VectorV1((3, 4, 5))"
   ]
  },
  {
   "cell_type": "code",
   "execution_count": 6,
   "id": "a09b5c40",
   "metadata": {},
   "outputs": [
    {
     "data": {
      "text/plain": [
       "Vector([0.0, 1.0, 2.0, 3.0, 4.0, ...])"
      ]
     },
     "execution_count": 6,
     "metadata": {},
     "output_type": "execute_result"
    }
   ],
   "source": [
    "VectorV1(range(10))"
   ]
  },
  {
   "cell_type": "markdown",
   "id": "89321963",
   "metadata": {},
   "source": [
    "## 12.2 Vector类第2版：可切片的序列"
   ]
  },
  {
   "cell_type": "markdown",
   "id": "ed11b3ed",
   "metadata": {},
   "source": [
    "- 序列协议：任何类，只要使用标准的签名和语义实现了`__len__`和`__getitem__`方法，就能用在任何预期序列的地方。\n",
    "- 协议是非正式的，没有强制力的，因此如果知道类的具体使用场景，通常只需要实现协议的一部分。"
   ]
  },
  {
   "cell_type": "markdown",
   "id": "3624a5e2",
   "metadata": {},
   "source": [
    "**改进方案：**\n",
    "1. 新增`__len__`方法，计算Vector分量的个数。\n",
    "2. 新增`__getitem__`方法，如果传入的参数是一个区间，则按照区间使用切片生成新的Vector，如果是单个索引，则返回相应的元素。"
   ]
  },
  {
   "cell_type": "code",
   "execution_count": 10,
   "id": "0bb44538",
   "metadata": {},
   "outputs": [],
   "source": [
    "import operator\n",
    "\n",
    "class VectorV2:\n",
    "    typecode = 'd'\n",
    "\n",
    "    def __init__(self, components):\n",
    "        # 将Vector的分量保存在一个数组中\n",
    "        self._components = array(self.typecode, components)\n",
    "\n",
    "    def __iter__(self):\n",
    "        return iter(self._components)\n",
    "\n",
    "    def __repr__(self):\n",
    "        # 生成有限长度表示形式\n",
    "        components = reprlib.repr(self._components) \n",
    "        components = components[components.find('['):-1]\n",
    "        return f'Vector({components})'\n",
    "\n",
    "    def __str__(self):\n",
    "        return str(tuple(self))\n",
    "\n",
    "    def __bytes__(self):\n",
    "        return (bytes([ord(self.typecode)]) +\n",
    "                bytes(self._components))\n",
    "\n",
    "    def __eq__(self, other):\n",
    "        return tuple(self) == tuple(other)\n",
    "\n",
    "    def __abs__(self):\n",
    "        return math.hypot(*self)\n",
    "\n",
    "    def __bool__(self):\n",
    "        return bool(abs(self))\n",
    "    \n",
    "    def __len__(self):\n",
    "        return len(self._components)\n",
    "\n",
    "    def __getitem__(self, key):\n",
    "        if isinstance(key, slice):\n",
    "            # 如果是一个区间，获取实例的类\n",
    "            cls = type(self)  \n",
    "            # 调用类的构造函数，使用切片构建一个新的Vector实例\n",
    "            return cls(self._components[key])\n",
    "        # 单个索引\n",
    "        index = operator.index(key)\n",
    "        # 返回相应的元素\n",
    "        return self._components[index]  \n",
    "    \n",
    "    @classmethod\n",
    "    def frombytes(cls, octets):\n",
    "        typecode = chr(octets[0])\n",
    "        memv = memoryview(octets[1:]).cast(typecode)\n",
    "        return cls(memv)"
   ]
  },
  {
   "cell_type": "code",
   "execution_count": 11,
   "id": "60fa2fe5",
   "metadata": {},
   "outputs": [
    {
     "data": {
      "text/plain": [
       "6.0"
      ]
     },
     "execution_count": 11,
     "metadata": {},
     "output_type": "execute_result"
    }
   ],
   "source": [
    "v7 = VectorV2(range(7))\n",
    "v7[-1]"
   ]
  },
  {
   "cell_type": "code",
   "execution_count": 12,
   "id": "c8286be7",
   "metadata": {},
   "outputs": [
    {
     "data": {
      "text/plain": [
       "Vector([1.0, 2.0, 3.0])"
      ]
     },
     "execution_count": 12,
     "metadata": {},
     "output_type": "execute_result"
    }
   ],
   "source": [
    "v7[1:4]"
   ]
  },
  {
   "cell_type": "code",
   "execution_count": 13,
   "id": "05562d84",
   "metadata": {},
   "outputs": [
    {
     "data": {
      "text/plain": [
       "Vector([6.0])"
      ]
     },
     "execution_count": 13,
     "metadata": {},
     "output_type": "execute_result"
    }
   ],
   "source": [
    "v7[-1:]"
   ]
  },
  {
   "cell_type": "markdown",
   "id": "29feb201",
   "metadata": {},
   "source": [
    "## 12.4 Vector类第3版：动态存取属性"
   ]
  },
  {
   "cell_type": "markdown",
   "id": "cee287e6",
   "metadata": {},
   "source": [
    "**改进方案：**\n",
    "1. 新增支持位置模式匹配`__match_args__`。\n",
    "2. 新增`__getattr__`方法：得到元素的相应位置，如果在范围内，则返回相应的元素。\n",
    "3. 新增`__setattr__`方法：如果参数是受特性保护的只读属性，则抛出异常，如果是小写字母，则抛出错误警告。"
   ]
  },
  {
   "cell_type": "code",
   "execution_count": 17,
   "id": "38eae0a1",
   "metadata": {},
   "outputs": [],
   "source": [
    "class VectorV3:\n",
    "    typecode = 'd'\n",
    "\n",
    "    def __init__(self, components):\n",
    "        self._components = array(self.typecode, components)\n",
    "\n",
    "    def __iter__(self):\n",
    "        return iter(self._components)\n",
    "\n",
    "    def __repr__(self):\n",
    "        components = reprlib.repr(self._components)\n",
    "        components = components[components.find('['):-1]\n",
    "        return f'Vector({components})'\n",
    "\n",
    "    def __str__(self):\n",
    "        return str(tuple(self))\n",
    "\n",
    "    def __bytes__(self):\n",
    "        return (bytes([ord(self.typecode)]) +\n",
    "                bytes(self._components))\n",
    "\n",
    "    def __eq__(self, other):\n",
    "        return tuple(self) == tuple(other)\n",
    "\n",
    "    def __abs__(self):\n",
    "        return math.hypot(*self)\n",
    "\n",
    "    def __bool__(self):\n",
    "        return bool(abs(self))\n",
    "\n",
    "    def __len__(self):\n",
    "        return len(self._components)\n",
    "\n",
    "    def __getitem__(self, key):\n",
    "        if isinstance(key, slice):\n",
    "            cls = type(self)\n",
    "            return cls(self._components[key])\n",
    "        index = operator.index(key)\n",
    "        return self._components[index]\n",
    "    \n",
    "    # 支持位置模式匹配\n",
    "    __match_args__ = ('x', 'y', 'z', 't')  \n",
    "\n",
    "    def __getattr__(self, name):\n",
    "        # 获取Vector类型\n",
    "        cls = type(self)  \n",
    "        try:\n",
    "            # 得到位置\n",
    "            pos = cls.__match_args__.index(name)  \n",
    "        except ValueError: \n",
    "            pos = -1\n",
    "        if 0 <= pos < len(self._components):\n",
    "            # 如果位置处于范围类，则返回对应的分量\n",
    "            return self._components[pos]\n",
    "        msg = f'{cls.__name__!r} object has no attribute {name!r}'\n",
    "        raise AttributeError(msg)\n",
    "        \n",
    "    def __setattr__(self, name, value):\n",
    "        cls = type(self)\n",
    "        if len(name) == 1:\n",
    "            # 处理名称是单个字符的属性\n",
    "            if name in cls.__match_args__:\n",
    "                # 受特性保护的只读属性\n",
    "                error = 'readonly attribute {attr_name!r}'\n",
    "            elif name.islower():\n",
    "                error = \"can't set attributes 'a' to 'z' in {cls_name!r}\"\n",
    "            else:\n",
    "                error = ''\n",
    "            if error:\n",
    "                msg = error.format(cls_name=cls.__name__, attr_name=name)\n",
    "                raise AttributeError(msg)\n",
    "        # 调用超类的setattr方法        \n",
    "        super().__setattr__(name, value)     "
   ]
  },
  {
   "cell_type": "code",
   "execution_count": 18,
   "id": "ad412c80",
   "metadata": {},
   "outputs": [
    {
     "data": {
      "text/plain": [
       "0.0"
      ]
     },
     "execution_count": 18,
     "metadata": {},
     "output_type": "execute_result"
    }
   ],
   "source": [
    "v = VectorV3(range(10))\n",
    "v.x"
   ]
  },
  {
   "cell_type": "code",
   "execution_count": 19,
   "id": "574386ac",
   "metadata": {},
   "outputs": [
    {
     "data": {
      "text/plain": [
       "(1.0, 2.0, 3.0)"
      ]
     },
     "execution_count": 19,
     "metadata": {},
     "output_type": "execute_result"
    }
   ],
   "source": [
    "v.y, v.z, v.t"
   ]
  },
  {
   "cell_type": "markdown",
   "id": "abaf5d9c",
   "metadata": {},
   "source": [
    "## 12.5 Vector类第4版：哈希和快速等值测试"
   ]
  },
  {
   "cell_type": "markdown",
   "id": "bccfe166",
   "metadata": {},
   "source": [
    "**改进方案：**\n",
    "1. 新增`__eq__`方法：先判断两个对象的长度是否相等，再比较其中各个元素是否相等。\n",
    "2. 新增`__hash__`方法：计算各个分量的哈希值，并使用`xor`运算符聚合所有的哈希值。"
   ]
  },
  {
   "cell_type": "code",
   "execution_count": 20,
   "id": "719daee1",
   "metadata": {},
   "outputs": [],
   "source": [
    "class VectorV4:\n",
    "    typecode = 'd'\n",
    "\n",
    "    def __init__(self, components):\n",
    "        self._components = array(self.typecode, components)\n",
    "\n",
    "    def __iter__(self):\n",
    "        return iter(self._components)\n",
    "\n",
    "    def __repr__(self):\n",
    "        components = reprlib.repr(self._components)\n",
    "        components = components[components.find('['):-1]\n",
    "        return f'Vector({components})'\n",
    "\n",
    "    def __str__(self):\n",
    "        return str(tuple(self))\n",
    "\n",
    "    def __bytes__(self):\n",
    "        return (bytes([ord(self.typecode)]) +\n",
    "                bytes(self._components))\n",
    "\n",
    "    def __eq__(self, other):\n",
    "        # 先判断两个对象的长度是否相等\n",
    "        # 再比较其中各个元素是否相等\n",
    "        return (len(self) == len(other) and\n",
    "                all(a == b for a, b in zip(self, other)))\n",
    "\n",
    "    def __hash__(self):\n",
    "        # 计算多个分量的哈希值\n",
    "        hashes = (hash(x) for x in self)\n",
    "        # v[0]^v[1]^v[2]^...\n",
    "        # 使用xor运算符聚合所有的哈希值\n",
    "        return functools.reduce(operator.xor, hashes, 0)\n",
    "\n",
    "    def __abs__(self):\n",
    "        return math.hypot(*self)\n",
    "\n",
    "    def __bool__(self):\n",
    "        return bool(abs(self))\n",
    "\n",
    "    def __len__(self):\n",
    "        return len(self._components)\n",
    "\n",
    "    def __getitem__(self, key):\n",
    "        if isinstance(key, slice):\n",
    "            cls = type(self)\n",
    "            return cls(self._components[key])\n",
    "        index = operator.index(key)\n",
    "        return self._components[index]\n",
    "\n",
    "    __match_args__ = ('x', 'y', 'z', 't')\n",
    "\n",
    "    def __getattr__(self, name):\n",
    "        cls = type(self)\n",
    "        try:\n",
    "            pos = cls.__match_args__.index(name)\n",
    "        except ValueError:\n",
    "            pos = -1\n",
    "        if 0 <= pos < len(self._components):\n",
    "            return self._components[pos]\n",
    "        msg = f'{cls.__name__!r} object has no attribute {name!r}'\n",
    "        raise AttributeError(msg)\n",
    "\n",
    "    @classmethod\n",
    "    def frombytes(cls, octets):\n",
    "        typecode = chr(octets[0])\n",
    "        memv = memoryview(octets[1:]).cast(typecode)\n",
    "        return cls(memv)"
   ]
  },
  {
   "cell_type": "markdown",
   "id": "2516de08",
   "metadata": {},
   "source": [
    "## 12.6 Vector第5版：格式化"
   ]
  },
  {
   "cell_type": "markdown",
   "id": "dcf4a210",
   "metadata": {},
   "source": [
    "**改进方案：**\n",
    "1. 新增`angle(self, n)`函数：使用n维球体的公式计算角坐标。\n",
    "2. 新增`angles`函数：创建生成器表达式，按需计算所有角坐标。\n",
    "3. 新增`__format__`函数：根据球坐标标识符`h`，显示球面坐标。"
   ]
  },
  {
   "cell_type": "code",
   "execution_count": 21,
   "id": "622f6ad5",
   "metadata": {},
   "outputs": [],
   "source": [
    "import itertools\n",
    "\n",
    "class VectorV5:\n",
    "    typecode = 'd'\n",
    "\n",
    "    def __init__(self, components):\n",
    "        self._components = array(self.typecode, components)\n",
    "\n",
    "    def __iter__(self):\n",
    "        return iter(self._components)\n",
    "\n",
    "    def __repr__(self):\n",
    "        components = reprlib.repr(self._components)\n",
    "        components = components[components.find('['):-1]\n",
    "        return f'Vector({components})'\n",
    "\n",
    "    def __str__(self):\n",
    "        return str(tuple(self))\n",
    "\n",
    "    def __bytes__(self):\n",
    "        return (bytes([ord(self.typecode)]) +\n",
    "                bytes(self._components))\n",
    "\n",
    "    def __eq__(self, other):\n",
    "        return (len(self) == len(other) and\n",
    "                all(a == b for a, b in zip(self, other)))\n",
    "\n",
    "    def __hash__(self):\n",
    "        hashes = (hash(x) for x in self)\n",
    "        return functools.reduce(operator.xor, hashes, 0)\n",
    "\n",
    "    def __abs__(self):\n",
    "        return math.hypot(*self)\n",
    "\n",
    "    def __bool__(self):\n",
    "        return bool(abs(self))\n",
    "\n",
    "    def __len__(self):\n",
    "        return len(self._components)\n",
    "\n",
    "    def __getitem__(self, key):\n",
    "        if isinstance(key, slice):\n",
    "            cls = type(self)\n",
    "            return cls(self._components[key])\n",
    "        index = operator.index(key)\n",
    "        return self._components[index]\n",
    "\n",
    "    __match_args__ = ('x', 'y', 'z', 't')\n",
    "\n",
    "    def __getattr__(self, name):\n",
    "        cls = type(self)\n",
    "        try:\n",
    "            pos = cls.__match_args__.index(name)\n",
    "        except ValueError:\n",
    "            pos = -1\n",
    "        if 0 <= pos < len(self._components):\n",
    "            return self._components[pos]\n",
    "        msg = f'{cls.__name__!r} object has no attribute {name!r}'\n",
    "        raise AttributeError(msg)\n",
    "\n",
    "    def angle(self, n):\n",
    "        # 使用n维球体的公式计算角坐标\n",
    "        r = math.hypot(*self[n:])\n",
    "        a = math.atan2(r, self[n-1])\n",
    "        if (n == len(self) - 1) and (self[-1] < 0):\n",
    "            return math.pi * 2 - a\n",
    "        else:\n",
    "            return a\n",
    "\n",
    "    def angles(self):\n",
    "        return (self.angle(n) for n in range(1, len(self)))\n",
    "\n",
    "    def __format__(self, fmt_spec=''):\n",
    "        if fmt_spec.endswith('h'):\n",
    "            # 球坐标标识符h\n",
    "            fmt_spec = fmt_spec[:-1]\n",
    "            # 生成器表达式，迭代向量的模和各个角坐标\n",
    "            coords = itertools.chain([abs(self)], self.angles())  \n",
    "            # 显示球面坐标\n",
    "            outer_fmt = '<{}>'  \n",
    "        else:\n",
    "            coords = self\n",
    "            # 显示笛卡尔坐标\n",
    "            outer_fmt = '({})' \n",
    "        components = (format(c, fmt_spec) for c in coords)  \n",
    "        return outer_fmt.format(', '.join(components))  \n",
    "\n",
    "    @classmethod\n",
    "    def frombytes(cls, octets):\n",
    "        typecode = chr(octets[0])\n",
    "        memv = memoryview(octets[1:]).cast(typecode)\n",
    "        return cls(memv)"
   ]
  }
 ],
 "metadata": {
  "kernelspec": {
   "display_name": "Python 3 (ipykernel)",
   "language": "python",
   "name": "python3"
  },
  "language_info": {
   "codemirror_mode": {
    "name": "ipython",
    "version": 3
   },
   "file_extension": ".py",
   "mimetype": "text/x-python",
   "name": "python",
   "nbconvert_exporter": "python",
   "pygments_lexer": "ipython3",
   "version": "3.10.5"
  }
 },
 "nbformat": 4,
 "nbformat_minor": 5
}
