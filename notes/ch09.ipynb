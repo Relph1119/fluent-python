{
 "cells": [
  {
   "cell_type": "markdown",
   "id": "4e9f79ac",
   "metadata": {},
   "source": [
    "# 第9章 装饰器和闭包"
   ]
  },
  {
   "cell_type": "markdown",
   "id": "9f31dbcc",
   "metadata": {},
   "source": [
    "## 9.1 装饰器基础知识"
   ]
  },
  {
   "cell_type": "markdown",
   "id": "77f9b252",
   "metadata": {},
   "source": [
    "装饰器的基本性质：\n",
    "- 装饰器是一个函数或其他可调用对象。\n",
    "- 装饰器可以把被装饰的函数替换成别的函数。\n",
    "- 装饰器在加载（导入）模块时立即执行。"
   ]
  },
  {
   "cell_type": "code",
   "execution_count": 1,
   "id": "d60f17f5",
   "metadata": {},
   "outputs": [],
   "source": [
    "def deco(func):\n",
    "    def inner():\n",
    "        print('running inner')\n",
    "    return inner\n",
    "\n",
    "@deco\n",
    "def target():\n",
    "    print('running target()')"
   ]
  },
  {
   "cell_type": "code",
   "execution_count": 2,
   "id": "53cce311",
   "metadata": {},
   "outputs": [
    {
     "name": "stdout",
     "output_type": "stream",
     "text": [
      "running inner\n"
     ]
    }
   ],
   "source": [
    "target()"
   ]
  },
  {
   "cell_type": "code",
   "execution_count": 3,
   "id": "67c89b1d",
   "metadata": {},
   "outputs": [
    {
     "data": {
      "text/plain": [
       "<function __main__.deco.<locals>.inner()>"
      ]
     },
     "execution_count": 3,
     "metadata": {},
     "output_type": "execute_result"
    }
   ],
   "source": [
    "target"
   ]
  },
  {
   "cell_type": "markdown",
   "id": "cab090dc",
   "metadata": {},
   "source": [
    "## 9.2 闭包"
   ]
  },
  {
   "cell_type": "markdown",
   "id": "14c7f762",
   "metadata": {},
   "source": [
    "闭包：延伸了作用域的函数，包括函数（f）主体中引用的非全局变量和局部变量。这些变量必须来自包含f的外部函数的局部作用域。"
   ]
  },
  {
   "cell_type": "code",
   "execution_count": 4,
   "id": "7642d6f8",
   "metadata": {},
   "outputs": [],
   "source": [
    "# 一个计算累计平均值的高阶函数，所有值存储在历史数列series中\n",
    "def make_averager():\n",
    "    series = []\n",
    "    \n",
    "    def averager(new_value):\n",
    "        series.append(new_value)\n",
    "        total = sum(series)\n",
    "        return total / len(series)\n",
    "    \n",
    "    return averager"
   ]
  },
  {
   "cell_type": "code",
   "execution_count": 5,
   "id": "7da8dcd7",
   "metadata": {},
   "outputs": [
    {
     "data": {
      "text/plain": [
       "10.0"
      ]
     },
     "execution_count": 5,
     "metadata": {},
     "output_type": "execute_result"
    }
   ],
   "source": [
    "avg = make_averager()\n",
    "avg(10)"
   ]
  },
  {
   "cell_type": "code",
   "execution_count": 6,
   "id": "51c4f803",
   "metadata": {},
   "outputs": [
    {
     "data": {
      "text/plain": [
       "10.5"
      ]
     },
     "execution_count": 6,
     "metadata": {},
     "output_type": "execute_result"
    }
   ],
   "source": [
    "avg(11)"
   ]
  },
  {
   "cell_type": "code",
   "execution_count": 7,
   "id": "d02b243d",
   "metadata": {},
   "outputs": [
    {
     "data": {
      "text/plain": [
       "12.0"
      ]
     },
     "execution_count": 7,
     "metadata": {},
     "output_type": "execute_result"
    }
   ],
   "source": [
    "avg(15)"
   ]
  },
  {
   "cell_type": "code",
   "execution_count": 8,
   "id": "165fc5da",
   "metadata": {},
   "outputs": [
    {
     "data": {
      "text/plain": [
       "('new_value', 'total')"
      ]
     },
     "execution_count": 8,
     "metadata": {},
     "output_type": "execute_result"
    }
   ],
   "source": [
    "# avg的局部变量\n",
    "avg.__code__.co_varnames"
   ]
  },
  {
   "cell_type": "code",
   "execution_count": 10,
   "id": "f5731715",
   "metadata": {},
   "outputs": [
    {
     "data": {
      "text/plain": [
       "('series',)"
      ]
     },
     "execution_count": 10,
     "metadata": {},
     "output_type": "execute_result"
    }
   ],
   "source": [
    "# avg的自由变量\n",
    "avg.__code__.co_freevars"
   ]
  },
  {
   "cell_type": "markdown",
   "id": "3fa2b0b3",
   "metadata": {},
   "source": [
    "## 9.3 nonlocal声明"
   ]
  },
  {
   "cell_type": "markdown",
   "id": "2d97ab66",
   "metadata": {},
   "source": [
    "nonlocal：把变量标记为自由变量，便于在函数中为变量赋予新值。"
   ]
  },
  {
   "cell_type": "code",
   "execution_count": 11,
   "id": "a55dba09",
   "metadata": {},
   "outputs": [],
   "source": [
    "# 计算累计平均值，不保存所有历史\n",
    "def make_averager():\n",
    "    count = 0\n",
    "    total = 0\n",
    "    \n",
    "    def averager(new_value):\n",
    "        nonlocal count, total\n",
    "        count += 1\n",
    "        total += new_value\n",
    "        return total / count\n",
    "    \n",
    "    return averager"
   ]
  },
  {
   "cell_type": "markdown",
   "id": "cf3fc6ec",
   "metadata": {},
   "source": [
    "## 9.4 变量查找逻辑"
   ]
  },
  {
   "cell_type": "markdown",
   "id": "1482f44d",
   "metadata": {},
   "source": [
    "- 如果是`global x`声明，则`x`来自模块全局作用域，并赋予那个作用域中`x`的值。\n",
    "- 如果是`nonlocal x`声明，则`x`来自最近一个定义它的外层函数，并赋予那个函数中局部变量`x`的值。\n",
    "- 如果`x`是参数，或者在函数主体中赋了值，那么`x`就是局部变量。\n",
    "- 如果引用了`x`，但是没有赋值也不是参数，则需要遵循以下规则：\n",
    "    - 在外层函数主体的局部作用域（非局部作用域）内查找`x`。\n",
    "    - 如果在外层作用域类没有找到，则从模块全局作用域内读取。\n",
    "    - 如果在模块全局作用域内没有找到，则从`__builtins__.__dict__`中读取。"
   ]
  },
  {
   "cell_type": "markdown",
   "id": "5d0a7174",
   "metadata": {},
   "source": [
    "## 9.5 实现一个简单的装饰器"
   ]
  },
  {
   "cell_type": "markdown",
   "id": "3c3e1399",
   "metadata": {},
   "source": [
    "装饰器的主要作用是在每次调用被装饰的函数时计时，把运行时间、传入的参数和调用的结果打印出来。"
   ]
  },
  {
   "cell_type": "code",
   "execution_count": 15,
   "id": "77809ecf",
   "metadata": {},
   "outputs": [],
   "source": [
    "import time\n",
    "import functools\n",
    "\n",
    "\n",
    "def clock(func):\n",
    "    @functools.wraps(func)\n",
    "    def clocked(*args, **kwargs):\n",
    "        t0 = time.perf_counter()\n",
    "        # 调用被装饰的函数\n",
    "        result = func(*args, **kwargs)\n",
    "        \n",
    "        elapsed = time.perf_counter() - t0\n",
    "        name = func.__name__\n",
    "        arg_lst = [repr(arg) for arg in args]\n",
    "        arg_lst.extend(f'{k}={v!r}' for k, v in kwargs.items())\n",
    "        arg_str = ', '.join(arg_lst)\n",
    "        print(f'[{elapsed:0.8f}s] {name}({arg_str}) -> {result!r}')\n",
    "        \n",
    "        return result\n",
    "    return clocked"
   ]
  },
  {
   "cell_type": "code",
   "execution_count": 16,
   "id": "7256b38f",
   "metadata": {},
   "outputs": [],
   "source": [
    "@clock\n",
    "def snooze(seconds):\n",
    "    time.sleep(seconds)\n",
    "\n",
    "@clock\n",
    "def factorial(n):\n",
    "    return 1 if n < 2 else n*factorial(n-1)"
   ]
  },
  {
   "cell_type": "code",
   "execution_count": 17,
   "id": "faa2fea9",
   "metadata": {},
   "outputs": [
    {
     "name": "stdout",
     "output_type": "stream",
     "text": [
      "**************************************** Calling snooze(.123)\n",
      "[0.13659960s] snooze(0.123) -> None\n",
      "**************************************** Calling factorial(6)\n",
      "[0.00000060s] factorial(1) -> 1\n",
      "[0.00001260s] factorial(2) -> 2\n",
      "[0.00001960s] factorial(3) -> 6\n",
      "[0.00002570s] factorial(4) -> 24\n",
      "[0.00003420s] factorial(5) -> 120\n",
      "[0.00004170s] factorial(6) -> 720\n",
      "6! = 720\n"
     ]
    }
   ],
   "source": [
    "print('*' * 40, 'Calling snooze(.123)')\n",
    "snooze(.123)\n",
    "print('*' * 40, 'Calling factorial(6)')\n",
    "print('6! =', factorial(6))"
   ]
  },
  {
   "cell_type": "markdown",
   "id": "8b063b92",
   "metadata": {},
   "source": [
    "## 9.6 标准库中的装饰器"
   ]
  },
  {
   "cell_type": "markdown",
   "id": "5190e8a5",
   "metadata": {},
   "source": [
    "### 9.6.1 使用`functools.cache`做备忘"
   ]
  },
  {
   "cell_type": "markdown",
   "id": "b8ebaae3",
   "metadata": {},
   "source": [
    "`functools.cache`装饰器实现了备忘，能把耗时的函数得到的结果保存起来，避免传入相同的参数时重复计算。"
   ]
  },
  {
   "cell_type": "code",
   "execution_count": 21,
   "id": "95cdcc82",
   "metadata": {},
   "outputs": [],
   "source": [
    "import functools\n",
    "\n",
    "\n",
    "@functools.cache\n",
    "@clock\n",
    "def fibonacci(n):\n",
    "    if n < 2:\n",
    "        return n\n",
    "    return fibonacci(n - 2) + fibonacci(n - 1)"
   ]
  },
  {
   "cell_type": "code",
   "execution_count": 22,
   "id": "2bb57032",
   "metadata": {},
   "outputs": [
    {
     "name": "stdout",
     "output_type": "stream",
     "text": [
      "[0.00000070s] fibonacci(0) -> 0\n",
      "[0.00000040s] fibonacci(1) -> 1\n",
      "[0.00019480s] fibonacci(2) -> 1\n",
      "[0.00000050s] fibonacci(3) -> 2\n",
      "[0.00020520s] fibonacci(4) -> 3\n",
      "[0.00000040s] fibonacci(5) -> 5\n",
      "[0.00021450s] fibonacci(6) -> 8\n"
     ]
    },
    {
     "data": {
      "text/plain": [
       "8"
      ]
     },
     "execution_count": 22,
     "metadata": {},
     "output_type": "execute_result"
    }
   ],
   "source": [
    "fibonacci(6)"
   ]
  },
  {
   "cell_type": "markdown",
   "id": "fc87bae1",
   "metadata": {},
   "source": [
    "上述的叠放装饰器相当于`fibonacci = functools.cache(clock(fibonacci)`"
   ]
  },
  {
   "cell_type": "markdown",
   "id": "8b7e6afb",
   "metadata": {},
   "source": [
    "### 9.6.2 单分派泛化函数"
   ]
  },
  {
   "cell_type": "markdown",
   "id": "90b76e3d",
   "metadata": {},
   "source": [
    "`functools.singledispatch`装饰器可以把整体方案拆分成多个模块，甚至可以为第三方包中无法编辑的类型提供专门的函数，将普通函数变成了泛化函数的入口，即为单分派。如果根据多个参数选择专门的函数，则是多分派。"
   ]
  },
  {
   "cell_type": "markdown",
   "id": "fa8a6bee",
   "metadata": {},
   "source": [
    "**需求：**\n",
    "\n",
    "开发一个调试Web应用程序的工具，生成HTML，以显示不同类型的Python对象。需要满足如下功能：\n",
    "1. 当参数为`str`时，内部的换行符替换为`<br/>\\n`，不使用`<pre>`标签，使用`<p>`。\n",
    "2. 当参数为`int`时，以十进制和十六进制显示数（bool除外）。\n",
    "3. 当参数为`list`时，输出一个HTML列表，根据各项的类型进行格式化。\n",
    "4. 当参数为`float`和`Decimal`时，正常输出值，外加分数形式。"
   ]
  },
  {
   "cell_type": "code",
   "execution_count": 23,
   "id": "df3463bc",
   "metadata": {},
   "outputs": [],
   "source": [
    "from functools import singledispatch\n",
    "from collections import abc\n",
    "import fractions\n",
    "import decimal\n",
    "import html\n",
    "import numbers\n",
    "\n",
    "@singledispatch\n",
    "def htmlize(obj: object) -> str:\n",
    "    content = html.escape(repr(obj))\n",
    "    return f'<pre>{content}</pre>'\n",
    "\n",
    "@htmlize.register\n",
    "def _(text: str) -> str: \n",
    "    content = html.escape(text).replace('\\n', '<br/>\\n')\n",
    "    return f'<p>{content}</p>'\n",
    "\n",
    "@htmlize.register\n",
    "def _(seq: abc.Sequence) -> str:\n",
    "    inner = '</li>\\n<li>'.join(htmlize(item) for item in seq)\n",
    "    return '<ul>\\n<li>' + inner + '</li>\\n</ul>'\n",
    "\n",
    "@htmlize.register\n",
    "def _(n: numbers.Integral) -> str:\n",
    "    return f'<pre>{n} (0x{n:x})</pre>'\n",
    "\n",
    "@htmlize.register\n",
    "def _(n: bool) -> str:\n",
    "    return f'<pre>{n}</pre>'\n",
    "\n",
    "@htmlize.register(fractions.Fraction)\n",
    "def _(x) -> str:\n",
    "    frac = fractions.Fraction(x)\n",
    "    return f'<pre>{frac.numerator}/{frac.denominator}</pre>'\n",
    "\n",
    "@htmlize.register(decimal.Decimal)\n",
    "@htmlize.register(float)\n",
    "def _(x) -> str:\n",
    "    frac = fractions.Fraction(x).limit_denominator()\n",
    "    return f'<pre>{x} ({frac.numerator}/{frac.denominator})</pre>'"
   ]
  },
  {
   "cell_type": "code",
   "execution_count": 24,
   "id": "571c6d48",
   "metadata": {},
   "outputs": [
    {
     "data": {
      "text/plain": [
       "'<pre>{1, 2, 3}</pre>'"
      ]
     },
     "execution_count": 24,
     "metadata": {},
     "output_type": "execute_result"
    }
   ],
   "source": [
    "htmlize({1, 2, 3})"
   ]
  },
  {
   "cell_type": "code",
   "execution_count": 25,
   "id": "7ebad5e0",
   "metadata": {},
   "outputs": [
    {
     "data": {
      "text/plain": [
       "'<pre>&lt;built-in function abs&gt;</pre>'"
      ]
     },
     "execution_count": 25,
     "metadata": {},
     "output_type": "execute_result"
    }
   ],
   "source": [
    "htmlize(abs)"
   ]
  },
  {
   "cell_type": "code",
   "execution_count": 33,
   "id": "8cb632f4",
   "metadata": {},
   "outputs": [
    {
     "data": {
      "text/plain": [
       "'<p>Heimlich &amp; Co.<br/>\\n- a game</p>'"
      ]
     },
     "execution_count": 33,
     "metadata": {},
     "output_type": "execute_result"
    }
   ],
   "source": [
    "htmlize('Heimlich & Co.\\n- a game')"
   ]
  },
  {
   "cell_type": "code",
   "execution_count": 27,
   "id": "01e3ee59",
   "metadata": {},
   "outputs": [
    {
     "data": {
      "text/plain": [
       "'<pre>42 (0x2a)</pre>'"
      ]
     },
     "execution_count": 27,
     "metadata": {},
     "output_type": "execute_result"
    }
   ],
   "source": [
    "htmlize(42)"
   ]
  },
  {
   "cell_type": "code",
   "execution_count": 28,
   "id": "d72e89f8",
   "metadata": {},
   "outputs": [
    {
     "name": "stdout",
     "output_type": "stream",
     "text": [
      "<ul>\n",
      "<li><p>alpha</p></li>\n",
      "<li><pre>66 (0x42)</pre></li>\n",
      "<li><pre>{1, 2, 3}</pre></li>\n",
      "</ul>\n"
     ]
    }
   ],
   "source": [
    "print(htmlize(['alpha', 66, {3, 2, 1}]))"
   ]
  },
  {
   "cell_type": "code",
   "execution_count": 29,
   "id": "4aad00f9",
   "metadata": {},
   "outputs": [
    {
     "data": {
      "text/plain": [
       "'<pre>True</pre>'"
      ]
     },
     "execution_count": 29,
     "metadata": {},
     "output_type": "execute_result"
    }
   ],
   "source": [
    "htmlize(True)"
   ]
  },
  {
   "cell_type": "code",
   "execution_count": 30,
   "id": "0c7db9c5",
   "metadata": {},
   "outputs": [
    {
     "data": {
      "text/plain": [
       "'<pre>2/3</pre>'"
      ]
     },
     "execution_count": 30,
     "metadata": {},
     "output_type": "execute_result"
    }
   ],
   "source": [
    "htmlize(fractions.Fraction(2, 3))"
   ]
  },
  {
   "cell_type": "code",
   "execution_count": 31,
   "id": "8ac38e64",
   "metadata": {},
   "outputs": [
    {
     "data": {
      "text/plain": [
       "'<pre>0.6666666666666666 (2/3)</pre>'"
      ]
     },
     "execution_count": 31,
     "metadata": {},
     "output_type": "execute_result"
    }
   ],
   "source": [
    "htmlize(2/3)"
   ]
  },
  {
   "cell_type": "code",
   "execution_count": 32,
   "id": "1d387422",
   "metadata": {},
   "outputs": [
    {
     "data": {
      "text/plain": [
       "'<pre>0.02380952 (1/42)</pre>'"
      ]
     },
     "execution_count": 32,
     "metadata": {},
     "output_type": "execute_result"
    }
   ],
   "source": [
    "htmlize(decimal.Decimal('0.02380952'))"
   ]
  },
  {
   "cell_type": "markdown",
   "id": "88e1fc24",
   "metadata": {},
   "source": [
    "## 9.7 参数化装饰器"
   ]
  },
  {
   "cell_type": "markdown",
   "id": "ce26462f",
   "metadata": {},
   "source": [
    "接收其他参数的装饰器：创建一个装饰器工厂函数来接收那些参数，然后再返回一个装饰器，应用到被装饰的函数上。"
   ]
  },
  {
   "cell_type": "markdown",
   "id": "68d01e7e",
   "metadata": {},
   "source": [
    "### 9.7.1 参数化clock装饰器"
   ]
  },
  {
   "cell_type": "code",
   "execution_count": 34,
   "id": "186119f3",
   "metadata": {},
   "outputs": [],
   "source": [
    "import time\n",
    "\n",
    "DEFAULT_FMT = '[{elapsed:0.8f}s] {name}({args}) -> {result}'\n",
    "\n",
    "\n",
    "def clock(fmt=DEFAULT_FMT): # clock是参数化装饰器的工厂函数\n",
    "    def decorate(func):     # 真正的装饰器 \n",
    "        def clocked(*_args):  # 包装被装饰的函数 \n",
    "            t0 = time.perf_counter()\n",
    "            _result = func(*_args)  # 调用被装饰的函数\n",
    "            elapsed = time.perf_counter() - t0\n",
    "            name = func.__name__\n",
    "            args = ', '.join(repr(arg) for arg in _args) \n",
    "            result = repr(_result)  \n",
    "            print(fmt.format(**locals()))\n",
    "            return _result\n",
    "\n",
    "        return clocked \n",
    "\n",
    "    return decorate"
   ]
  },
  {
   "cell_type": "code",
   "execution_count": 35,
   "id": "f750ac4c",
   "metadata": {},
   "outputs": [
    {
     "name": "stdout",
     "output_type": "stream",
     "text": [
      "[0.13203000s] snooze(0.123) -> None\n",
      "[0.12454020s] snooze(0.123) -> None\n",
      "[0.12390610s] snooze(0.123) -> None\n"
     ]
    }
   ],
   "source": [
    "@clock()\n",
    "def snooze(seconds):\n",
    "    time.sleep(seconds)\n",
    "\n",
    "\n",
    "for i in range(3):\n",
    "    snooze(.123)"
   ]
  },
  {
   "cell_type": "code",
   "execution_count": 36,
   "id": "6f797db2",
   "metadata": {},
   "outputs": [
    {
     "name": "stdout",
     "output_type": "stream",
     "text": [
      "snooze: 0.12821319999784464s\n",
      "snooze: 0.12511039999662898s\n",
      "snooze: 0.1259561000042595s\n"
     ]
    }
   ],
   "source": [
    "@clock('{name}: {elapsed}s')\n",
    "def snooze(seconds):\n",
    "    time.sleep(seconds)\n",
    "\n",
    "for i in range(3):\n",
    "    snooze(.123)"
   ]
  },
  {
   "cell_type": "code",
   "execution_count": 37,
   "id": "ff64495d",
   "metadata": {},
   "outputs": [
    {
     "name": "stdout",
     "output_type": "stream",
     "text": [
      "snooze(0.123) dt=0.126s\n",
      "snooze(0.123) dt=0.124s\n",
      "snooze(0.123) dt=0.124s\n"
     ]
    }
   ],
   "source": [
    "@clock('{name}({args}) dt={elapsed:0.3f}s')\n",
    "def snooze(seconds):\n",
    "    time.sleep(seconds)\n",
    "\n",
    "for i in range(3):\n",
    "    snooze(.123)"
   ]
  },
  {
   "cell_type": "markdown",
   "id": "32d092a0",
   "metadata": {},
   "source": [
    "### 9.7.2 基于类的clock装饰器"
   ]
  },
  {
   "cell_type": "code",
   "execution_count": 38,
   "id": "47874cb8",
   "metadata": {},
   "outputs": [],
   "source": [
    "import time\n",
    "\n",
    "DEFAULT_FMT = '[{elapsed:0.8f}s] {name}({args}) -> {result}'\n",
    "\n",
    "class clock:\n",
    "\n",
    "    def __init__(self, fmt=DEFAULT_FMT):  \n",
    "        self.fmt = fmt\n",
    "\n",
    "    def __call__(self, func):\n",
    "        def clocked(*_args):\n",
    "            t0 = time.perf_counter()\n",
    "            _result = func(*_args)\n",
    "            elapsed = time.perf_counter() - t0\n",
    "            name = func.__name__\n",
    "            args = ', '.join(repr(arg) for arg in _args)\n",
    "            result = repr(_result)\n",
    "            print(self.fmt.format(**locals()))\n",
    "            return _result\n",
    "        return clocked"
   ]
  },
  {
   "cell_type": "markdown",
   "id": "410f28c9",
   "metadata": {},
   "source": [
    "## 9.8 杂谈"
   ]
  },
  {
   "cell_type": "markdown",
   "id": "d52a764f",
   "metadata": {},
   "source": [
    "- 动态作用域与词法作用域：\n",
    "    - 动态作用域：根据调用函数的环境求解自由变量。\n",
    "    - 如果函数使用自由变量，程序员必须知道函数的内部细节，才能建立正确运行所需的环境。\n",
    "    - 词法作用域：根据定义函数的环境求解自由变量。\n",
    "    - 在JavaScript中，特殊变量this既可以使用词法作用域，也可以使用动态作用域。"
   ]
  },
  {
   "cell_type": "markdown",
   "id": "8318c80d",
   "metadata": {},
   "source": [
    "- Python装饰器和装饰器设计模式：\n",
    "    - Python函数装饰器符合对装饰器模式的一般描述：动态地给一个对象添加一些额外的职责，就扩展功能而言，装饰器模式比子类化更灵活。\n",
    "    - 在实现层面，Python装饰器与装饰器设计模式不同，装饰器函数相当于Decorator的具体子类，而装饰器返回的内部函数相当于装饰器实例。"
   ]
  }
 ],
 "metadata": {
  "kernelspec": {
   "display_name": "Python 3 (ipykernel)",
   "language": "python",
   "name": "python3"
  },
  "language_info": {
   "codemirror_mode": {
    "name": "ipython",
    "version": 3
   },
   "file_extension": ".py",
   "mimetype": "text/x-python",
   "name": "python",
   "nbconvert_exporter": "python",
   "pygments_lexer": "ipython3",
   "version": "3.10.5"
  }
 },
 "nbformat": 4,
 "nbformat_minor": 5
}
