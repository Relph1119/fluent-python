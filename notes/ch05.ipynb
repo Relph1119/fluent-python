{
 "cells": [
  {
   "cell_type": "markdown",
   "id": "2242bbc3",
   "metadata": {},
   "source": [
    "# 第5章 数据类构建器"
   ]
  },
  {
   "cell_type": "markdown",
   "id": "eb840c65",
   "metadata": {},
   "source": [
    "## 5.1 数据类构建器概述"
   ]
  },
  {
   "cell_type": "markdown",
   "id": "e59231ca",
   "metadata": {},
   "source": [
    "1. 直接通过类构建"
   ]
  },
  {
   "cell_type": "code",
   "execution_count": 1,
   "id": "2b8d0075",
   "metadata": {},
   "outputs": [],
   "source": [
    "# 表示地理位置的经纬度\n",
    "class Coordinate:\n",
    "    def __init__(self, lat, lon):\n",
    "        self.lat = lat\n",
    "        self.lon = lon"
   ]
  },
  {
   "cell_type": "code",
   "execution_count": 3,
   "id": "91cfd348",
   "metadata": {},
   "outputs": [
    {
     "data": {
      "text/plain": [
       "False"
      ]
     },
     "execution_count": 3,
     "metadata": {},
     "output_type": "execute_result"
    }
   ],
   "source": [
    "moscow = Coordinate(55.76, 37.62)\n",
    "location = Coordinate(55.76, 37.62)\n",
    "location == moscow"
   ]
  },
  {
   "cell_type": "code",
   "execution_count": 4,
   "id": "4c5d06cd",
   "metadata": {},
   "outputs": [
    {
     "data": {
      "text/plain": [
       "True"
      ]
     },
     "execution_count": 4,
     "metadata": {},
     "output_type": "execute_result"
    }
   ],
   "source": [
    "(location.lat, location.lon) == (moscow.lat, moscow.lon)"
   ]
  },
  {
   "cell_type": "markdown",
   "id": "acf84a32",
   "metadata": {},
   "source": [
    "2. 使用namedtuple构建Coordinate类"
   ]
  },
  {
   "cell_type": "code",
   "execution_count": 7,
   "id": "14d9a5b8",
   "metadata": {},
   "outputs": [
    {
     "data": {
      "text/plain": [
       "True"
      ]
     },
     "execution_count": 7,
     "metadata": {},
     "output_type": "execute_result"
    }
   ],
   "source": [
    "from collections import namedtuple\n",
    "\n",
    "Coordinate = namedtuple('Coordinate', 'lat lon')\n",
    "issubclass(Coordinate, tuple)"
   ]
  },
  {
   "cell_type": "code",
   "execution_count": 6,
   "id": "00638b48",
   "metadata": {},
   "outputs": [
    {
     "data": {
      "text/plain": [
       "True"
      ]
     },
     "execution_count": 6,
     "metadata": {},
     "output_type": "execute_result"
    }
   ],
   "source": [
    "moscow = Coordinate(55.76, 37.62)\n",
    "moscow == Coordinate(lat=55.76, lon=37.62)"
   ]
  },
  {
   "cell_type": "markdown",
   "id": "db63ab1e",
   "metadata": {},
   "source": [
    "3. 使用typing.NamedTuple构建"
   ]
  },
  {
   "cell_type": "code",
   "execution_count": 8,
   "id": "f1c2a72c",
   "metadata": {},
   "outputs": [],
   "source": [
    "from typing import NamedTuple\n",
    "\n",
    "class Coordinate(NamedTuple):\n",
    "    lat: float\n",
    "    lon: float\n",
    "\n",
    "    def __str__(self):\n",
    "        ns = 'N' if self.lat >= 0 else 'S'\n",
    "        we = 'E' if self.lon >= 0 else 'W'\n",
    "        return f'{abs(self.lat):.1f}°{ns}, {abs(self.lon):.1f}°{we}'"
   ]
  },
  {
   "cell_type": "markdown",
   "id": "cc119a5e",
   "metadata": {},
   "source": [
    "4. 使用dataclass装饰器声明实例属性"
   ]
  },
  {
   "cell_type": "code",
   "execution_count": 9,
   "id": "1e94b04c",
   "metadata": {},
   "outputs": [],
   "source": [
    "from dataclasses import dataclass\n",
    "\n",
    "@dataclass(frozen=True)\n",
    "class Coordinate:\n",
    "    lat: float\n",
    "    lon: float\n",
    "\n",
    "    def __str__(self):\n",
    "        ns = 'N' if self.lat >= 0 else 'S'\n",
    "        we = 'E' if self.lon >= 0 else 'W'\n",
    "        return f'{abs(self.lat):.1f}°{ns}, {abs(self.lon):.1f}°{we}'"
   ]
  },
  {
   "cell_type": "markdown",
   "id": "8fbad1b9",
   "metadata": {},
   "source": [
    "## 5.2 典型的具名元组"
   ]
  },
  {
   "cell_type": "markdown",
   "id": "6d035703",
   "metadata": {},
   "source": [
    "1. 定义并使用一个具名元组类型"
   ]
  },
  {
   "cell_type": "code",
   "execution_count": 15,
   "id": "4a7e7bb7",
   "metadata": {},
   "outputs": [
    {
     "data": {
      "text/plain": [
       "City(name='Tokyo', country='JP', population=36.933, coordinates=(35.689722, 139.691667))"
      ]
     },
     "execution_count": 15,
     "metadata": {},
     "output_type": "execute_result"
    }
   ],
   "source": [
    "from collections import namedtuple\n",
    "\n",
    "City = namedtuple('City', 'name country population coordinates')\n",
    "tokyo = City('Tokyo', 'JP', 36.933, (35.689722, 139.691667))\n",
    "tokyo"
   ]
  },
  {
   "cell_type": "code",
   "execution_count": 11,
   "id": "d6cbee1d",
   "metadata": {},
   "outputs": [
    {
     "data": {
      "text/plain": [
       "(36.933, (35.689722, 139.691667), 'JP')"
      ]
     },
     "execution_count": 11,
     "metadata": {},
     "output_type": "execute_result"
    }
   ],
   "source": [
    "tokyo.population, tokyo.coordinates, tokyo[1]"
   ]
  },
  {
   "cell_type": "markdown",
   "id": "f09c7045",
   "metadata": {},
   "source": [
    "2. 具名元组的属性和方法"
   ]
  },
  {
   "cell_type": "code",
   "execution_count": 16,
   "id": "28781ede",
   "metadata": {},
   "outputs": [
    {
     "data": {
      "text/plain": [
       "('name', 'country', 'population', 'coordinates')"
      ]
     },
     "execution_count": 16,
     "metadata": {},
     "output_type": "execute_result"
    }
   ],
   "source": [
    "City._fields"
   ]
  },
  {
   "cell_type": "code",
   "execution_count": 17,
   "id": "ca51c1ee",
   "metadata": {},
   "outputs": [
    {
     "data": {
      "text/plain": [
       "{'name': 'Delhi NCR',\n",
       " 'country': 'IN',\n",
       " 'population': 21.935,\n",
       " 'coordinates': Coordinate(lat=28.613889, lon=77.208889)}"
      ]
     },
     "execution_count": 17,
     "metadata": {},
     "output_type": "execute_result"
    }
   ],
   "source": [
    "Coordinate = namedtuple('Coordinate', 'lat lon')\n",
    "delhi_data = ('Delhi NCR', 'IN', 21.935, Coordinate(28.613889, 77.208889))\n",
    "delhi = City._make(delhi_data)\n",
    "delhi._asdict()"
   ]
  },
  {
   "cell_type": "code",
   "execution_count": 18,
   "id": "dbda92ba",
   "metadata": {},
   "outputs": [
    {
     "data": {
      "text/plain": [
       "'{\"name\": \"Delhi NCR\", \"country\": \"IN\", \"population\": 21.935, \"coordinates\": [28.613889, 77.208889]}'"
      ]
     },
     "execution_count": 18,
     "metadata": {},
     "output_type": "execute_result"
    }
   ],
   "source": [
    "import json\n",
    "\n",
    "json.dumps(delhi._asdict())"
   ]
  },
  {
   "cell_type": "markdown",
   "id": "2a0f2a69",
   "metadata": {},
   "source": [
    "3. 构建一个具名元组，为字段指定默认值"
   ]
  },
  {
   "cell_type": "code",
   "execution_count": 20,
   "id": "67581cec",
   "metadata": {},
   "outputs": [
    {
     "data": {
      "text/plain": [
       "Coordinate(lat=0, lon=0, reference='WSG84')"
      ]
     },
     "execution_count": 20,
     "metadata": {},
     "output_type": "execute_result"
    }
   ],
   "source": [
    "Coordinate = namedtuple('Coordinate', 'lat lon reference', defaults=['WSG84']) \n",
    "Coordinate(0, 0)"
   ]
  },
  {
   "cell_type": "code",
   "execution_count": 21,
   "id": "35eff48f",
   "metadata": {},
   "outputs": [
    {
     "data": {
      "text/plain": [
       "{'reference': 'WSG84'}"
      ]
     },
     "execution_count": 21,
     "metadata": {},
     "output_type": "execute_result"
    }
   ],
   "source": [
    "Coordinate._field_defaults"
   ]
  },
  {
   "cell_type": "markdown",
   "id": "7e52b1e1",
   "metadata": {},
   "source": [
    "## 5.3 @dataclass详解"
   ]
  },
  {
   "cell_type": "markdown",
   "id": "b13e03d9",
   "metadata": {},
   "source": [
    "1. @dataclass定义"
   ]
  },
  {
   "cell_type": "markdown",
   "id": "340188ea",
   "metadata": {},
   "source": [
    "@dataclass(*, init=True, repr=True, eq=True, order=False, unsafe_hash=False, frozen=False)\n",
    "\n",
    "- init：默认值是True，生成\\_\\_init\\_\\_，如果用户自己实现了\\_\\_init\\_\\_，则忽略该参数。\n",
    "- repr：默认值是True，生成\\_\\_repr\\_\\_，如果用户自己实现了\\_\\_repr\\_\\_，则忽略该参数。\n",
    "- eq：默认值是True，生成\\_\\_eq\\_\\_，如果用户自己实现了\\_\\_eq\\_\\_，则忽略该参数。\n",
    "- order：默认值是False，生成\\_\\_lt\\_\\_、\\_\\_le\\_\\_、\\_\\_gt\\_\\_、\\_\\_ge\\_\\_、如果eq=False，或者执行定义或继承其他用于比较的方法，则抛出异常。\n",
    "- unsafe_hase：默认值是False，生成\\_\\_hash\\_\\_。\n",
    "- frozen：默认值是False，让实例不可变。"
   ]
  },
  {
   "cell_type": "code",
   "execution_count": 22,
   "id": "046440c7",
   "metadata": {},
   "outputs": [],
   "source": [
    "# 定义ClubMember\n",
    "from dataclasses import dataclass, field\n",
    "\n",
    "@dataclass\n",
    "class ClubMember:\n",
    "    name: str\n",
    "    guests: list = field(default_factory=list)    "
   ]
  },
  {
   "cell_type": "markdown",
   "id": "aba4a70c",
   "metadata": {},
   "source": [
    "2. 都柏林核心模式\n",
    "\n",
    "都柏林核心模式是一小组术语，可用于描述数字资源（视频、图像、网页等），也可用于描述物理资源，例如图书、CD和艺术品等对象。"
   ]
  },
  {
   "cell_type": "code",
   "execution_count": 29,
   "id": "f5080f30",
   "metadata": {},
   "outputs": [],
   "source": [
    "from dataclasses import dataclass, field, fields\n",
    "from typing import Optional\n",
    "from enum import Enum, auto\n",
    "from datetime import date\n",
    "\n",
    "\n",
    "class ResourceType(Enum):  # <1>\n",
    "    BOOK = auto()\n",
    "    EBOOK = auto()\n",
    "    VIDEO = auto()\n",
    "\n",
    "\n",
    "@dataclass\n",
    "class Resource:\n",
    "    \"\"\"描述媒体资源\"\"\"\n",
    "    identifier: str                                   \n",
    "    title: str = '<untitled>'                          \n",
    "    creators: list[str] = field(default_factory=list)\n",
    "    date: Optional[date] = None                        \n",
    "    type: ResourceType = ResourceType.BOOK             \n",
    "    description: str = ''\n",
    "    language: str = ''\n",
    "    subjects: list[str] = field(default_factory=list)\n",
    "        \n",
    "    def __repr__(self):\n",
    "        cls = self.__class__\n",
    "        cls_name = cls.__name__\n",
    "        indent = ' ' * 4\n",
    "        res = [f'{cls_name}(']                            \n",
    "        for f in fields(cls):                             \n",
    "            value = getattr(self, f.name)                 \n",
    "            res.append(f'{indent}{f.name} = {value!r},')  \n",
    "\n",
    "        res.append(')')                                   \n",
    "        return '\\n'.join(res)                             "
   ]
  },
  {
   "cell_type": "code",
   "execution_count": 30,
   "id": "abeebb79",
   "metadata": {},
   "outputs": [],
   "source": [
    "description = 'Improving the design of existing code'\n",
    "book = Resource('978-0-13-475759-9', 'Refactoring, 2nd Edition', \n",
    "                ['Martin Fowler', 'Kent Beck'], date(2018, 11, 19),\n",
    "                ResourceType.BOOK, description, 'EN',\n",
    "                ['computer programming', 'OOP'])"
   ]
  },
  {
   "cell_type": "code",
   "execution_count": 31,
   "id": "821058fe",
   "metadata": {},
   "outputs": [
    {
     "data": {
      "text/plain": [
       "Resource(\n",
       "    identifier = '978-0-13-475759-9',\n",
       "    title = 'Refactoring, 2nd Edition',\n",
       "    creators = ['Martin Fowler', 'Kent Beck'],\n",
       "    date = datetime.date(2018, 11, 19),\n",
       "    type = <ResourceType.BOOK: 1>,\n",
       "    description = 'Improving the design of existing code',\n",
       "    language = 'EN',\n",
       "    subjects = ['computer programming', 'OOP'],\n",
       ")"
      ]
     },
     "execution_count": 31,
     "metadata": {},
     "output_type": "execute_result"
    }
   ],
   "source": [
    "book"
   ]
  }
 ],
 "metadata": {
  "kernelspec": {
   "display_name": "Python 3 (ipykernel)",
   "language": "python",
   "name": "python3"
  },
  "language_info": {
   "codemirror_mode": {
    "name": "ipython",
    "version": 3
   },
   "file_extension": ".py",
   "mimetype": "text/x-python",
   "name": "python",
   "nbconvert_exporter": "python",
   "pygments_lexer": "ipython3",
   "version": "3.10.5"
  }
 },
 "nbformat": 4,
 "nbformat_minor": 5
}
