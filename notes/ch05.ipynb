{
 "cells": [
  {
   "cell_type": "markdown",
   "id": "8ba680b2",
   "metadata": {},
   "source": [
    "# 第5章 数据类构建器"
   ]
  },
  {
   "cell_type": "markdown",
   "id": "f9e44781",
   "metadata": {},
   "source": [
    "## 5.1 数据类构建器概述"
   ]
  },
  {
   "cell_type": "markdown",
   "id": "383cf364",
   "metadata": {},
   "source": [
    "1. 直接通过类构建"
   ]
  },
  {
   "cell_type": "code",
   "execution_count": 1,
   "id": "4715f815",
   "metadata": {},
   "outputs": [],
   "source": [
    "# 表示地理位置的经纬度\n",
    "class Coordinate:\n",
    "    def __init__(self, lat, lon):\n",
    "        self.lat = lat\n",
    "        self.lon = lon"
   ]
  },
  {
   "cell_type": "code",
   "execution_count": 3,
   "id": "56981cb1",
   "metadata": {},
   "outputs": [
    {
     "data": {
      "text/plain": [
       "False"
      ]
     },
     "execution_count": 3,
     "metadata": {},
     "output_type": "execute_result"
    }
   ],
   "source": [
    "moscow = Coordinate(55.76, 37.62)\n",
    "location = Coordinate(55.76, 37.62)\n",
    "location == moscow"
   ]
  },
  {
   "cell_type": "code",
   "execution_count": 4,
   "id": "0924f006",
   "metadata": {},
   "outputs": [
    {
     "data": {
      "text/plain": [
       "True"
      ]
     },
     "execution_count": 4,
     "metadata": {},
     "output_type": "execute_result"
    }
   ],
   "source": [
    "(location.lat, location.lon) == (moscow.lat, moscow.lon)"
   ]
  },
  {
   "cell_type": "markdown",
   "id": "1e6bb651",
   "metadata": {},
   "source": [
    "2. 使用namedtuple构建Coordinate类"
   ]
  },
  {
   "cell_type": "code",
   "execution_count": 7,
   "id": "27e5d822",
   "metadata": {},
   "outputs": [
    {
     "data": {
      "text/plain": [
       "True"
      ]
     },
     "execution_count": 7,
     "metadata": {},
     "output_type": "execute_result"
    }
   ],
   "source": [
    "from collections import namedtuple\n",
    "\n",
    "Coordinate = namedtuple('Coordinate', 'lat lon')\n",
    "issubclass(Coordinate, tuple)"
   ]
  },
  {
   "cell_type": "code",
   "execution_count": 6,
   "id": "0b06dfd3",
   "metadata": {},
   "outputs": [
    {
     "data": {
      "text/plain": [
       "True"
      ]
     },
     "execution_count": 6,
     "metadata": {},
     "output_type": "execute_result"
    }
   ],
   "source": [
    "moscow = Coordinate(55.76, 37.62)\n",
    "moscow == Coordinate(lat=55.76, lon=37.62)"
   ]
  },
  {
   "cell_type": "markdown",
   "id": "caba44c3",
   "metadata": {},
   "source": [
    "3. 使用typing.NamedTuple构建"
   ]
  },
  {
   "cell_type": "code",
   "execution_count": 8,
   "id": "e9d219f7",
   "metadata": {},
   "outputs": [],
   "source": [
    "from typing import NamedTuple\n",
    "\n",
    "class Coordinate(NamedTuple):\n",
    "    lat: float\n",
    "    lon: float\n",
    "\n",
    "    def __str__(self):\n",
    "        ns = 'N' if self.lat >= 0 else 'S'\n",
    "        we = 'E' if self.lon >= 0 else 'W'\n",
    "        return f'{abs(self.lat):.1f}°{ns}, {abs(self.lon):.1f}°{we}'"
   ]
  },
  {
   "cell_type": "markdown",
   "id": "9087e0fc",
   "metadata": {},
   "source": [
    "4. 使用dataclass装饰器声明实例属性"
   ]
  },
  {
   "cell_type": "code",
   "execution_count": 9,
   "id": "b1acc942",
   "metadata": {},
   "outputs": [],
   "source": [
    "from dataclasses import dataclass\n",
    "\n",
    "@dataclass(frozen=True)\n",
    "class Coordinate:\n",
    "    lat: float\n",
    "    lon: float\n",
    "\n",
    "    def __str__(self):\n",
    "        ns = 'N' if self.lat >= 0 else 'S'\n",
    "        we = 'E' if self.lon >= 0 else 'W'\n",
    "        return f'{abs(self.lat):.1f}°{ns}, {abs(self.lon):.1f}°{we}'"
   ]
  },
  {
   "cell_type": "markdown",
   "id": "6546d399",
   "metadata": {},
   "source": [
    "## 5.2 典型的具名元组"
   ]
  },
  {
   "cell_type": "markdown",
   "id": "afd49028",
   "metadata": {},
   "source": [
    "1. 定义并使用一个具名元组类型"
   ]
  },
  {
   "cell_type": "code",
   "execution_count": 15,
   "id": "312def6e",
   "metadata": {},
   "outputs": [
    {
     "data": {
      "text/plain": [
       "City(name='Tokyo', country='JP', population=36.933, coordinates=(35.689722, 139.691667))"
      ]
     },
     "execution_count": 15,
     "metadata": {},
     "output_type": "execute_result"
    }
   ],
   "source": [
    "from collections import namedtuple\n",
    "\n",
    "City = namedtuple('City', 'name country population coordinates')\n",
    "tokyo = City('Tokyo', 'JP', 36.933, (35.689722, 139.691667))\n",
    "tokyo"
   ]
  },
  {
   "cell_type": "code",
   "execution_count": 11,
   "id": "b443a694",
   "metadata": {},
   "outputs": [
    {
     "data": {
      "text/plain": [
       "(36.933, (35.689722, 139.691667), 'JP')"
      ]
     },
     "execution_count": 11,
     "metadata": {},
     "output_type": "execute_result"
    }
   ],
   "source": [
    "tokyo.population, tokyo.coordinates, tokyo[1]"
   ]
  },
  {
   "cell_type": "markdown",
   "id": "a7c5f604",
   "metadata": {},
   "source": [
    "2. 具名元组的属性和方法"
   ]
  },
  {
   "cell_type": "code",
   "execution_count": 16,
   "id": "968a82b7",
   "metadata": {},
   "outputs": [
    {
     "data": {
      "text/plain": [
       "('name', 'country', 'population', 'coordinates')"
      ]
     },
     "execution_count": 16,
     "metadata": {},
     "output_type": "execute_result"
    }
   ],
   "source": [
    "City._fields"
   ]
  },
  {
   "cell_type": "code",
   "execution_count": 17,
   "id": "627093aa",
   "metadata": {},
   "outputs": [
    {
     "data": {
      "text/plain": [
       "{'name': 'Delhi NCR',\n",
       " 'country': 'IN',\n",
       " 'population': 21.935,\n",
       " 'coordinates': Coordinate(lat=28.613889, lon=77.208889)}"
      ]
     },
     "execution_count": 17,
     "metadata": {},
     "output_type": "execute_result"
    }
   ],
   "source": [
    "Coordinate = namedtuple('Coordinate', 'lat lon')\n",
    "delhi_data = ('Delhi NCR', 'IN', 21.935, Coordinate(28.613889, 77.208889))\n",
    "delhi = City._make(delhi_data)\n",
    "delhi._asdict()"
   ]
  },
  {
   "cell_type": "code",
   "execution_count": 18,
   "id": "385aae07",
   "metadata": {},
   "outputs": [
    {
     "data": {
      "text/plain": [
       "'{\"name\": \"Delhi NCR\", \"country\": \"IN\", \"population\": 21.935, \"coordinates\": [28.613889, 77.208889]}'"
      ]
     },
     "execution_count": 18,
     "metadata": {},
     "output_type": "execute_result"
    }
   ],
   "source": [
    "import json\n",
    "\n",
    "json.dumps(delhi._asdict())"
   ]
  },
  {
   "cell_type": "markdown",
   "id": "f1ae119b",
   "metadata": {},
   "source": [
    "3. 构建一个具名元组，为字段指定默认值"
   ]
  },
  {
   "cell_type": "code",
   "execution_count": 20,
   "id": "1eb9662d",
   "metadata": {},
   "outputs": [
    {
     "data": {
      "text/plain": [
       "Coordinate(lat=0, lon=0, reference='WSG84')"
      ]
     },
     "execution_count": 20,
     "metadata": {},
     "output_type": "execute_result"
    }
   ],
   "source": [
    "Coordinate = namedtuple('Coordinate', 'lat lon reference', defaults=['WSG84']) \n",
    "Coordinate(0, 0)"
   ]
  },
  {
   "cell_type": "code",
   "execution_count": 21,
   "id": "ff8c80b1",
   "metadata": {},
   "outputs": [
    {
     "data": {
      "text/plain": [
       "{'reference': 'WSG84'}"
      ]
     },
     "execution_count": 21,
     "metadata": {},
     "output_type": "execute_result"
    }
   ],
   "source": [
    "Coordinate._field_defaults"
   ]
  },
  {
   "cell_type": "markdown",
   "id": "f0519f9e",
   "metadata": {},
   "source": [
    "## 5.3 @dataclass详解"
   ]
  },
  {
   "cell_type": "markdown",
   "id": "7ebd94a3",
   "metadata": {},
   "source": [
    "1. @dataclass定义"
   ]
  },
  {
   "cell_type": "markdown",
   "id": "72c1189c",
   "metadata": {},
   "source": [
    "@dataclass(*, init=True, repr=True, eq=True, order=False, unsafe_hash=False, frozen=False)\n",
    "\n",
    "- init：默认值是True，生成\\_\\_init\\_\\_，如果用户自己实现了\\_\\_init\\_\\_，则忽略该参数。\n",
    "- repr：默认值是True，生成\\_\\_repr\\_\\_，如果用户自己实现了\\_\\_repr\\_\\_，则忽略该参数。\n",
    "- eq：默认值是True，生成\\_\\_eq\\_\\_，如果用户自己实现了\\_\\_eq\\_\\_，则忽略该参数。\n",
    "- order：默认值是False，生成\\_\\_lt\\_\\_、\\_\\_le\\_\\_、\\_\\_gt\\_\\_、\\_\\_ge\\_\\_、如果eq=False，或者执行定义或继承其他用于比较的方法，则抛出异常。\n",
    "- unsafe_hase：默认值是False，生成\\_\\_hash\\_\\_。\n",
    "- frozen：默认值是False，让实例不可变。"
   ]
  },
  {
   "cell_type": "code",
   "execution_count": 22,
   "id": "0f60af4c",
   "metadata": {},
   "outputs": [],
   "source": [
    "# 定义ClubMember\n",
    "from dataclasses import dataclass, field\n",
    "\n",
    "@dataclass\n",
    "class ClubMember:\n",
    "    name: str\n",
    "    guests: list = field(default_factory=list)    "
   ]
  },
  {
   "cell_type": "markdown",
   "id": "9bab87d1",
   "metadata": {},
   "source": [
    "2. 都柏林核心模式\n",
    "\n",
    "都柏林核心模式是一小组术语，可用于描述数字资源（视频、图像、网页等），也可用于描述物理资源，例如图书、CD和艺术品等对象。"
   ]
  },
  {
   "cell_type": "code",
   "execution_count": 29,
   "id": "dd2da399",
   "metadata": {},
   "outputs": [],
   "source": [
    "from dataclasses import dataclass, field, fields\n",
    "from typing import Optional\n",
    "from enum import Enum, auto\n",
    "from datetime import date\n",
    "\n",
    "\n",
    "class ResourceType(Enum):  # <1>\n",
    "    BOOK = auto()\n",
    "    EBOOK = auto()\n",
    "    VIDEO = auto()\n",
    "\n",
    "\n",
    "@dataclass\n",
    "class Resource:\n",
    "    \"\"\"描述媒体资源\"\"\"\n",
    "    identifier: str                                   \n",
    "    title: str = '<untitled>'                          \n",
    "    creators: list[str] = field(default_factory=list)\n",
    "    date: Optional[date] = None                        \n",
    "    type: ResourceType = ResourceType.BOOK             \n",
    "    description: str = ''\n",
    "    language: str = ''\n",
    "    subjects: list[str] = field(default_factory=list)\n",
    "        \n",
    "    def __repr__(self):\n",
    "        cls = self.__class__\n",
    "        cls_name = cls.__name__\n",
    "        indent = ' ' * 4\n",
    "        res = [f'{cls_name}(']                            \n",
    "        for f in fields(cls):                             \n",
    "            value = getattr(self, f.name)                 \n",
    "            res.append(f'{indent}{f.name} = {value!r},')  \n",
    "\n",
    "        res.append(')')                                   \n",
    "        return '\\n'.join(res)                             "
   ]
  },
  {
   "cell_type": "code",
   "execution_count": 30,
   "id": "cc3f92ab",
   "metadata": {},
   "outputs": [],
   "source": [
    "description = 'Improving the design of existing code'\n",
    "book = Resource('978-0-13-475759-9', 'Refactoring, 2nd Edition', \n",
    "                ['Martin Fowler', 'Kent Beck'], date(2018, 11, 19),\n",
    "                ResourceType.BOOK, description, 'EN',\n",
    "                ['computer programming', 'OOP'])"
   ]
  },
  {
   "cell_type": "code",
   "execution_count": 31,
   "id": "c44ba00d",
   "metadata": {},
   "outputs": [
    {
     "data": {
      "text/plain": [
       "Resource(\n",
       "    identifier = '978-0-13-475759-9',\n",
       "    title = 'Refactoring, 2nd Edition',\n",
       "    creators = ['Martin Fowler', 'Kent Beck'],\n",
       "    date = datetime.date(2018, 11, 19),\n",
       "    type = <ResourceType.BOOK: 1>,\n",
       "    description = 'Improving the design of existing code',\n",
       "    language = 'EN',\n",
       "    subjects = ['computer programming', 'OOP'],\n",
       ")"
      ]
     },
     "execution_count": 31,
     "metadata": {},
     "output_type": "execute_result"
    }
   ],
   "source": [
    "book"
   ]
  },
  {
   "cell_type": "markdown",
   "id": "1b3768da",
   "metadata": {},
   "source": [
    "## 5.4 杂谈"
   ]
  },
  {
   "cell_type": "markdown",
   "id": "0c3c387e",
   "metadata": {},
   "source": [
    "- Python一直都有声明类属性的简便方式，实例属性更常用，直接在`__init__`方法中创建实例属性。\n",
    "- @dataclass解决了上述问题，类型提示始终是可选的。"
   ]
  }
 ],
 "metadata": {
  "kernelspec": {
   "display_name": "Python 3 (ipykernel)",
   "language": "python",
   "name": "python3"
  },
  "language_info": {
   "codemirror_mode": {
    "name": "ipython",
    "version": 3
   },
   "file_extension": ".py",
   "mimetype": "text/x-python",
   "name": "python",
   "nbconvert_exporter": "python",
   "pygments_lexer": "ipython3",
   "version": "3.10.5"
  }
 },
 "nbformat": 4,
 "nbformat_minor": 5
}
