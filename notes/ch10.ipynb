{
 "cells": [
  {
   "cell_type": "markdown",
   "id": "3239b4b6",
   "metadata": {},
   "source": [
    "# 第10章 使用一等函数实现设计模式"
   ]
  },
  {
   "cell_type": "markdown",
   "id": "f8e9a493",
   "metadata": {},
   "source": [
    "## 10.1 案例分析：重构策略模式"
   ]
  },
  {
   "cell_type": "markdown",
   "id": "ddc42d76",
   "metadata": {},
   "source": [
    "**典型示例：**\n",
    "\n",
    "根据客户的属性或订单中的商品计算折扣，假如某个网店制定了以下折扣规则：\n",
    "1. 有1000或以上积分的顾客，每个订单享5%折扣。\n",
    "2. 同一个订单中，单个商品的数量达到20个或以上，享10%折扣。\n",
    "3. 订单中不同商品的数量达到10个或以上，享7%折扣。"
   ]
  },
  {
   "cell_type": "markdown",
   "id": "13156394",
   "metadata": {},
   "source": [
    "### 10.1.1 典型策略模式"
   ]
  },
  {
   "cell_type": "code",
   "execution_count": 1,
   "id": "49607a4a",
   "metadata": {},
   "outputs": [],
   "source": [
    "from abc import ABC, abstractmethod\n",
    "from collections.abc import Sequence\n",
    "from decimal import Decimal\n",
    "from typing import NamedTuple, Optional\n",
    "\n",
    "\n",
    "class Customer(NamedTuple):\n",
    "    name: str\n",
    "    fidelity: int\n",
    "\n",
    "\n",
    "class LineItem(NamedTuple):\n",
    "    product: str\n",
    "    quantity: int\n",
    "    price: Decimal\n",
    "\n",
    "    def total(self) -> Decimal:\n",
    "        return self.price * self.quantity\n",
    "\n",
    "\n",
    "class Order(NamedTuple):\n",
    "    customer: Customer\n",
    "    cart: Sequence[LineItem]\n",
    "    promotion: Optional['Promotion'] = None\n",
    "\n",
    "    def total(self) -> Decimal:\n",
    "        totals = (item.total() for item in self.cart)\n",
    "        return sum(totals, start=Decimal(0))\n",
    "\n",
    "    def due(self) -> Decimal:\n",
    "        if self.promotion is None:\n",
    "            discount = Decimal(0)\n",
    "        else:\n",
    "            discount = self.promotion.discount(self)\n",
    "        return self.total() - discount\n",
    "\n",
    "    def __repr__(self):\n",
    "        return f'<Order total: {self.total():.2f} due: {self.due():.2f}>'\n",
    "\n",
    "\n",
    "class Promotion(ABC):\n",
    "    \"\"\"策略：抽象基类\"\"\"\n",
    "    @abstractmethod\n",
    "    def discount(self, order: Order) -> Decimal:\n",
    "        \"\"\"Return discount as a positive dollar amount\"\"\"\n",
    "\n",
    "\n",
    "class FidelityPromo(Promotion):\n",
    "    \"\"\"第一个具体策略：为积分是1000或以上的顾客提供5%折扣。\"\"\"\n",
    "\n",
    "    def discount(self, order: Order) -> Decimal:\n",
    "        rate = Decimal('0.05')\n",
    "        if order.customer.fidelity >= 1000:\n",
    "            return order.total() * rate\n",
    "        return Decimal(0)\n",
    "\n",
    "\n",
    "class BulkItemPromo(Promotion):\n",
    "    \"\"\"第二个具体策略：单个商品的数量为20个或以上时，提供10%折扣。\"\"\"\n",
    "\n",
    "    def discount(self, order: Order) -> Decimal:\n",
    "        discount = Decimal(0)\n",
    "        for item in order.cart:\n",
    "            if item.quantity >= 20:\n",
    "                discount += item.total() * Decimal('0.1')\n",
    "        return discount\n",
    "\n",
    "\n",
    "class LargeOrderPromo(Promotion):\n",
    "    \"\"\"第三个具体策略：订单中不同商品的数量达到10个或以上时，提供7%折扣。\"\"\"\n",
    "\n",
    "    def discount(self, order: Order) -> Decimal:\n",
    "        distinct_items = {item.product for item in order.cart}\n",
    "        if len(distinct_items) >= 10:\n",
    "            return order.total() * Decimal('0.07')\n",
    "        return Decimal(0)"
   ]
  },
  {
   "cell_type": "code",
   "execution_count": 13,
   "id": "08600d33",
   "metadata": {},
   "outputs": [],
   "source": [
    "# Joe的积分为0\n",
    "joe = Customer('John Doe', 0)\n",
    "# Ann的积分为1100\n",
    "ann = Customer('Ann Smith', 1100)\n",
    "# 购物车中有3个商品\n",
    "cart = (LineItem('banana', 4, Decimal('.5')), \n",
    "        LineItem('apple', 10, Decimal('1.5')),\n",
    "        LineItem('watermelon', 5, Decimal(5)))"
   ]
  },
  {
   "cell_type": "code",
   "execution_count": 14,
   "id": "be265711",
   "metadata": {},
   "outputs": [
    {
     "data": {
      "text/plain": [
       "<Order total: 42.00 due: 42.00>"
      ]
     },
     "execution_count": 14,
     "metadata": {},
     "output_type": "execute_result"
    }
   ],
   "source": [
    "# joe没有折扣\n",
    "Order(joe, cart, FidelityPromo())"
   ]
  },
  {
   "cell_type": "code",
   "execution_count": 6,
   "id": "07a657cc",
   "metadata": {},
   "outputs": [
    {
     "data": {
      "text/plain": [
       "<Order total: 42.00 due: 39.90>"
      ]
     },
     "execution_count": 6,
     "metadata": {},
     "output_type": "execute_result"
    }
   ],
   "source": [
    "# Ann得到了5%折扣\n",
    "Order(ann, cart, FidelityPromo())"
   ]
  },
  {
   "cell_type": "code",
   "execution_count": 15,
   "id": "de187ead",
   "metadata": {},
   "outputs": [
    {
     "data": {
      "text/plain": [
       "<Order total: 30.00 due: 28.50>"
      ]
     },
     "execution_count": 15,
     "metadata": {},
     "output_type": "execute_result"
    }
   ],
   "source": [
    "# 有30个香蕉和10个苹果\n",
    "banana_cart = (LineItem('banana', 30, Decimal('.5')),\n",
    "               LineItem('apple', 10, Decimal('1.5')))\n",
    "# joe购买时优惠了1.5美元\n",
    "Order(joe, banana_cart, BulkItemPromo())"
   ]
  },
  {
   "cell_type": "code",
   "execution_count": 16,
   "id": "29cd62d4",
   "metadata": {},
   "outputs": [],
   "source": [
    "# 有10个不同的商品\n",
    "long_cart = tuple(LineItem(str(sku), 1, Decimal(1)) \n",
    "                  for sku in range(10))"
   ]
  },
  {
   "cell_type": "code",
   "execution_count": 17,
   "id": "d0be3699",
   "metadata": {},
   "outputs": [
    {
     "data": {
      "text/plain": [
       "<Order total: 10.00 due: 9.30>"
      ]
     },
     "execution_count": 17,
     "metadata": {},
     "output_type": "execute_result"
    }
   ],
   "source": [
    "# 为joe提供了7%折扣\n",
    "Order(joe, long_cart, LargeOrderPromo()) "
   ]
  },
  {
   "cell_type": "markdown",
   "id": "7afd9f46",
   "metadata": {},
   "source": [
    "### 10.1.2 使用函数实现策略模式"
   ]
  },
  {
   "cell_type": "markdown",
   "id": "4816212b",
   "metadata": {},
   "source": [
    "把具体策略换成简单的函数，去掉抽象基类`Promotion`，Order类也修改了。"
   ]
  },
  {
   "cell_type": "code",
   "execution_count": 22,
   "id": "deaeb0f4",
   "metadata": {},
   "outputs": [],
   "source": [
    "from dataclasses import dataclass\n",
    "from typing import Callable\n",
    "\n",
    "@dataclass(frozen=True)\n",
    "class Order:\n",
    "    customer: Customer\n",
    "    cart: Sequence[LineItem]\n",
    "    # 可以接收一个Order参数，并返回一个Decimal值的可调用对象\n",
    "    promotion: Optional[Callable[['Order'], Decimal]] = None\n",
    "\n",
    "    def total(self) -> Decimal:\n",
    "        totals = (item.total() for item in self.cart)\n",
    "        return sum(totals, start=Decimal(0))\n",
    "\n",
    "    def due(self) -> Decimal:\n",
    "        if self.promotion is None:\n",
    "            discount = Decimal(0)\n",
    "        else:\n",
    "            discount = self.promotion(self)\n",
    "        return self.total() - discount\n",
    "\n",
    "    def __repr__(self):\n",
    "        return f'<Order total: {self.total():.2f} due: {self.due():.2f}>'\n",
    "\n",
    "def fidelity_promo(order: Order) -> Decimal:\n",
    "    \"\"\"第一个具体策略：为积分是1000或以上的顾客提供5%折扣。\"\"\"\n",
    "    if order.customer.fidelity >= 1000:\n",
    "        return order.total() * Decimal('0.05')\n",
    "    return Decimal(0)\n",
    "\n",
    "\n",
    "def bulk_item_promo(order: Order) -> Decimal:\n",
    "    \"\"\"第二个具体策略：单个商品的数量为20个或以上时，提供10%折扣。\"\"\"\n",
    "    discount = Decimal(0)\n",
    "    for item in order.cart:\n",
    "        if item.quantity >= 20:\n",
    "            discount += item.total() * Decimal('0.1')\n",
    "    return discount\n",
    "\n",
    "\n",
    "def large_order_promo(order: Order) -> Decimal:\n",
    "    \"\"\"第三个具体策略：订单中不同商品的数量达到10个或以上时，提供7%折扣。\"\"\"\n",
    "    distinct_items = {item.product for item in order.cart}\n",
    "    if len(distinct_items) >= 10:\n",
    "        return order.total() * Decimal('0.07')\n",
    "    return Decimal(0)"
   ]
  },
  {
   "cell_type": "markdown",
   "id": "02f10fce",
   "metadata": {},
   "source": [
    "### 10.1.3 选择最佳策略的简单方式"
   ]
  },
  {
   "cell_type": "markdown",
   "id": "5f6bab9b",
   "metadata": {},
   "source": [
    "方法：直接计算所有策略，选取折扣幅度最大的那一个"
   ]
  },
  {
   "cell_type": "code",
   "execution_count": 23,
   "id": "84826c1b",
   "metadata": {},
   "outputs": [],
   "source": [
    "promos = [fidelity_promo, bulk_item_promo, large_order_promo]\n",
    "\n",
    "\n",
    "def best_promo(order: Order) -> Decimal:\n",
    "    \"\"\"选择可用的最佳折扣\"\"\"\n",
    "    return max(promo(order) for promo in promos)"
   ]
  },
  {
   "cell_type": "code",
   "execution_count": 24,
   "id": "e9c55799",
   "metadata": {},
   "outputs": [
    {
     "data": {
      "text/plain": [
       "<Order total: 10.00 due: 9.30>"
      ]
     },
     "execution_count": 24,
     "metadata": {},
     "output_type": "execute_result"
    }
   ],
   "source": [
    "Order(joe, long_cart, best_promo)"
   ]
  },
  {
   "cell_type": "code",
   "execution_count": 25,
   "id": "027dc3a2",
   "metadata": {},
   "outputs": [
    {
     "data": {
      "text/plain": [
       "<Order total: 30.00 due: 28.50>"
      ]
     },
     "execution_count": 25,
     "metadata": {},
     "output_type": "execute_result"
    }
   ],
   "source": [
    "Order(joe, banana_cart, best_promo)"
   ]
  },
  {
   "cell_type": "code",
   "execution_count": 26,
   "id": "ba845476",
   "metadata": {},
   "outputs": [
    {
     "data": {
      "text/plain": [
       "<Order total: 42.00 due: 39.90>"
      ]
     },
     "execution_count": 26,
     "metadata": {},
     "output_type": "execute_result"
    }
   ],
   "source": [
    "Order(ann, cart, best_promo)"
   ]
  },
  {
   "cell_type": "markdown",
   "id": "eec13095",
   "metadata": {},
   "source": [
    "### 10.1.4 找出一个模块中的全部策略"
   ]
  },
  {
   "cell_type": "markdown",
   "id": "44e09bfc",
   "metadata": {},
   "source": [
    "方法1：使用`globals`函数，帮助`best_promo`自动找到其他可用的`*_promo`函数。"
   ]
  },
  {
   "cell_type": "code",
   "execution_count": 27,
   "id": "e820328f",
   "metadata": {},
   "outputs": [],
   "source": [
    "promos = [promo for name, promo in globals().items()  \n",
    "                if name.endswith('_promo') and        \n",
    "                   name != 'best_promo'               \n",
    "]\n",
    "\n",
    "\n",
    "def best_promo(order: Order) -> Decimal:              \n",
    "    \"\"\"选择可用的最佳折扣\"\"\"\n",
    "    return max(promo(order) for promo in promos)"
   ]
  },
  {
   "cell_type": "markdown",
   "id": "ecfc51ee",
   "metadata": {},
   "source": [
    "方法2：使用`inspect.getmembers`函数获取对象的属性。"
   ]
  },
  {
   "cell_type": "code",
   "execution_count": null,
   "id": "c0bd57f4",
   "metadata": {},
   "outputs": [],
   "source": [
    "import inspect\n",
    "# 该模块包含所有的策略函数\n",
    "import promotions\n",
    "\n",
    "# 得到promotins模块下所有的函数对象\n",
    "promos = [func for _, func in inspect.getmembers(promotions, inspect.isfunction)]\n",
    "\n",
    "\n",
    "def best_promo(order: Order) -> Decimal:\n",
    "    \"\"\"选择可用的最佳折扣\"\"\"\n",
    "    return max(promo(order) for promo in promos)"
   ]
  },
  {
   "cell_type": "markdown",
   "id": "d0db920f",
   "metadata": {},
   "source": [
    "## 10.2 使用装饰器改进策略模式"
   ]
  },
  {
   "cell_type": "code",
   "execution_count": 32,
   "id": "539d191c",
   "metadata": {},
   "outputs": [],
   "source": [
    "Promotion = Callable[[Order], Decimal]\n",
    "\n",
    "promos: list[Promotion] = []\n",
    "\n",
    "# 注册装饰器\n",
    "def promotion(promo: Promotion) -> Promotion:\n",
    "    promos.append(promo)\n",
    "    return promo\n",
    "\n",
    "\n",
    "def best_promo(order: Order) -> Decimal:\n",
    "    \"\"\"选择可用的最佳折扣\"\"\"\n",
    "    return max(promo(order) for promo in promos)  # <3>\n",
    "\n",
    "\n",
    "@promotion\n",
    "def fidelity(order: Order) -> Decimal:\n",
    "    \"\"\"第一个具体策略：为积分是1000或以上的顾客提供5%折扣。\"\"\"\n",
    "    if order.customer.fidelity >= 1000:\n",
    "        return order.total() * Decimal('0.05')\n",
    "    return Decimal(0)\n",
    "\n",
    "\n",
    "@promotion\n",
    "def bulk_item(order: Order) -> Decimal:\n",
    "    \"\"\"第二个具体策略：单个商品的数量为20个或以上时，提供10%折扣。\"\"\"\n",
    "    discount = Decimal(0)\n",
    "    for item in order.cart:\n",
    "        if item.quantity >= 20:\n",
    "            discount += item.total() * Decimal('0.1')\n",
    "    return discount\n",
    "\n",
    "\n",
    "@promotion\n",
    "def large_order(order: Order) -> Decimal:\n",
    "    \"\"\"第三个具体策略：订单中不同商品的数量达到10个或以上时，提供7%折扣。\"\"\"\n",
    "    distinct_items = {item.product for item in order.cart}\n",
    "    if len(distinct_items) >= 10:\n",
    "        return order.total() * Decimal('0.07')\n",
    "    return Decimal(0)"
   ]
  },
  {
   "cell_type": "markdown",
   "id": "a42dfee0",
   "metadata": {},
   "source": [
    "优点：\n",
    "1. 促销策略函数无须使用特殊的名称（不用以`_promo`结尾）。\n",
    "2. `@promotion`装饰器突出了被装饰的函数作用，还便于临时禁用某个促销策略。\n",
    "3. 促销折扣策略可以在其他模块中定义。"
   ]
  }
 ],
 "metadata": {
  "kernelspec": {
   "display_name": "Python 3 (ipykernel)",
   "language": "python",
   "name": "python3"
  },
  "language_info": {
   "codemirror_mode": {
    "name": "ipython",
    "version": 3
   },
   "file_extension": ".py",
   "mimetype": "text/x-python",
   "name": "python",
   "nbconvert_exporter": "python",
   "pygments_lexer": "ipython3",
   "version": "3.10.5"
  }
 },
 "nbformat": 4,
 "nbformat_minor": 5
}
