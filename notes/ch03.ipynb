{
 "cells": [
  {
   "cell_type": "markdown",
   "id": "5949f571",
   "metadata": {},
   "source": [
    "# 第3章 字典和集合"
   ]
  },
  {
   "cell_type": "markdown",
   "id": "833cfbd8",
   "metadata": {},
   "source": [
    "## 3.1 字典的现代句法"
   ]
  },
  {
   "cell_type": "markdown",
   "id": "929775bd",
   "metadata": {},
   "source": [
    "1. 字典推导式"
   ]
  },
  {
   "cell_type": "code",
   "execution_count": 3,
   "id": "be7be52d",
   "metadata": {},
   "outputs": [
    {
     "data": {
      "text/plain": [
       "{'Bangladesh': 880,\n",
       " 'Brazil': 55,\n",
       " 'China': 86,\n",
       " 'India': 91,\n",
       " 'Indonesia': 62,\n",
       " 'Japan': 81,\n",
       " 'Nigeria': 234,\n",
       " 'Pakistan': 92,\n",
       " 'Russia': 7,\n",
       " 'United States': 1}"
      ]
     },
     "execution_count": 3,
     "metadata": {},
     "output_type": "execute_result"
    }
   ],
   "source": [
    "dial_codes = [\n",
    "    (880, 'Bangladesh'),\n",
    "    (55, 'Brazil'),\n",
    "    (86, 'China'),\n",
    "    (91, 'India'),\n",
    "    (62, 'Indonesia'),\n",
    "    (81, 'Japan'),\n",
    "    (234, 'Nigeria'),\n",
    "    (92, 'Pakistan'),\n",
    "    (7, 'Russia'),\n",
    "    (1, 'United States'),\n",
    "]\n",
    "# 对调键和值\n",
    "country_dial = {country: code for code, country in dial_codes}\n",
    "country_dial"
   ]
  },
  {
   "cell_type": "code",
   "execution_count": 4,
   "id": "d7cdd556",
   "metadata": {},
   "outputs": [
    {
     "data": {
      "text/plain": [
       "{55: 'BRAZIL', 62: 'INDONESIA', 7: 'RUSSIA', 1: 'UNITED STATES'}"
      ]
     },
     "execution_count": 4,
     "metadata": {},
     "output_type": "execute_result"
    }
   ],
   "source": [
    "# 按国家名称排序，再次对调键和值，把值转成大写，筛选code<70的项\n",
    "{code: country.upper()\n",
    "    for country, code in sorted(country_dial.items())\n",
    "    if code < 70}"
   ]
  },
  {
   "cell_type": "markdown",
   "id": "8c6534b2",
   "metadata": {},
   "source": [
    "2. 映射拆包"
   ]
  },
  {
   "cell_type": "code",
   "execution_count": 5,
   "id": "3ed5b187",
   "metadata": {},
   "outputs": [
    {
     "data": {
      "text/plain": [
       "{'x': 1, 'y': 2, 'z': 3}"
      ]
     },
     "execution_count": 5,
     "metadata": {},
     "output_type": "execute_result"
    }
   ],
   "source": [
    "def dump(**kwargs):\n",
    "    return kwargs\n",
    "\n",
    "dump(**{'x' :1}, y=2, **{'z': 3})"
   ]
  },
  {
   "cell_type": "code",
   "execution_count": 6,
   "id": "d030b04e",
   "metadata": {},
   "outputs": [
    {
     "data": {
      "text/plain": [
       "{'a': 0, 'x': 4, 'y': 2, 'z': 3}"
      ]
     },
     "execution_count": 6,
     "metadata": {},
     "output_type": "execute_result"
    }
   ],
   "source": [
    "{'a': 0, **{'x': 1}, 'y': 2, **{'z': 3, 'x': 4}}"
   ]
  },
  {
   "cell_type": "markdown",
   "id": "94b0f624",
   "metadata": {},
   "source": [
    "3. 使用`|`合并映射"
   ]
  },
  {
   "cell_type": "code",
   "execution_count": 7,
   "id": "a4beb297",
   "metadata": {},
   "outputs": [
    {
     "data": {
      "text/plain": [
       "{'a': 2, 'b': 4, 'c': 6}"
      ]
     },
     "execution_count": 7,
     "metadata": {},
     "output_type": "execute_result"
    }
   ],
   "source": [
    "d1 = {'a': 1, 'b': 3}\n",
    "d2 = {'a': 2, 'b': 4, 'c': 6}\n",
    "d1 | d2"
   ]
  },
  {
   "cell_type": "markdown",
   "id": "b7f1de3d",
   "metadata": {},
   "source": [
    "## 3.2 使用模式匹配处理映射"
   ]
  },
  {
   "cell_type": "code",
   "execution_count": 1,
   "id": "9895a4cd",
   "metadata": {},
   "outputs": [],
   "source": [
    "# 从出版物记录中提取创作者的名字\n",
    "def get_creators(record: dict) -> list:\n",
    "    match record:\n",
    "        case {'type': 'book', 'api': 2, 'authors': [*names]}:\n",
    "            return names\n",
    "        case {'type': 'book', 'api': 1, 'author': name}:\n",
    "            return [name]\n",
    "        case {'type': 'book'}:\n",
    "            return ValueError(f\"Invalid 'book' record: {record!r}\")\n",
    "        case {'type': 'movie', 'director': name}:\n",
    "            return [name]\n",
    "        case _:\n",
    "            return ValueError(f'Invalid record: {record!r}')"
   ]
  },
  {
   "cell_type": "code",
   "execution_count": 2,
   "id": "c70df8d0",
   "metadata": {},
   "outputs": [
    {
     "data": {
      "text/plain": [
       "['Douglas Hofstadter']"
      ]
     },
     "execution_count": 2,
     "metadata": {},
     "output_type": "execute_result"
    }
   ],
   "source": [
    "b1 = dict(api=1, author='Douglas Hofstadter', type='book', title='Godel, Escher, Bach')\n",
    "get_creators(b1)"
   ]
  },
  {
   "cell_type": "code",
   "execution_count": 3,
   "id": "f3a45683",
   "metadata": {},
   "outputs": [
    {
     "data": {
      "text/plain": [
       "['Martelli', 'Ravenscroft', 'Holden']"
      ]
     },
     "execution_count": 3,
     "metadata": {},
     "output_type": "execute_result"
    }
   ],
   "source": [
    "from collections import OrderedDict\n",
    "\n",
    "b2 = OrderedDict(api=2, type='book', title='Python in a Nutshell', authors='Martelli Ravenscroft Holden'.split())\n",
    "get_creators(b2)"
   ]
  },
  {
   "cell_type": "code",
   "execution_count": 4,
   "id": "9ca23b4e",
   "metadata": {},
   "outputs": [
    {
     "data": {
      "text/plain": [
       "ValueError(\"Invalid 'book' record: {'type': 'book', 'pages': 770}\")"
      ]
     },
     "execution_count": 4,
     "metadata": {},
     "output_type": "execute_result"
    }
   ],
   "source": [
    "get_creators({'type': 'book', 'pages': 770})"
   ]
  },
  {
   "cell_type": "code",
   "execution_count": 5,
   "id": "74c895d6",
   "metadata": {},
   "outputs": [
    {
     "data": {
      "text/plain": [
       "ValueError(\"Invalid record: 'Spam, spam, spam'\")"
      ]
     },
     "execution_count": 5,
     "metadata": {},
     "output_type": "execute_result"
    }
   ],
   "source": [
    "get_creators('Spam, spam, spam')"
   ]
  },
  {
   "cell_type": "markdown",
   "id": "a7c74dc8",
   "metadata": {},
   "source": [
    "## 3.3 自动处理丢失的键"
   ]
  },
  {
   "cell_type": "code",
   "execution_count": 19,
   "id": "2cae3fb6",
   "metadata": {},
   "outputs": [],
   "source": [
    "# 在查找键时把非字符串键转换成字符串\n",
    "class StrKeyDict0(dict):\n",
    "    def __missing__(self, key):\n",
    "        if isinstance(key, str):\n",
    "            raise KeyError(key)\n",
    "        return self[str(key)]\n",
    "    \n",
    "    def get(self, key, default=None):\n",
    "        try:\n",
    "            return self[key]\n",
    "        except KeyError:\n",
    "            return default\n",
    "        \n",
    "    def __contains__(self, key):\n",
    "        return key in self.keys() or str(key) in self.keys()"
   ]
  },
  {
   "cell_type": "code",
   "execution_count": 20,
   "id": "4f94a329",
   "metadata": {},
   "outputs": [
    {
     "data": {
      "text/plain": [
       "'two'"
      ]
     },
     "execution_count": 20,
     "metadata": {},
     "output_type": "execute_result"
    }
   ],
   "source": [
    "d = StrKeyDict0([('2', 'two'), ('4', 'four')])\n",
    "d['2']"
   ]
  },
  {
   "cell_type": "code",
   "execution_count": 21,
   "id": "f991e29d",
   "metadata": {},
   "outputs": [
    {
     "data": {
      "text/plain": [
       "'four'"
      ]
     },
     "execution_count": 21,
     "metadata": {},
     "output_type": "execute_result"
    }
   ],
   "source": [
    "d[4]"
   ]
  },
  {
   "cell_type": "code",
   "execution_count": 23,
   "id": "213c8871",
   "metadata": {},
   "outputs": [
    {
     "data": {
      "text/plain": [
       "'two'"
      ]
     },
     "execution_count": 23,
     "metadata": {},
     "output_type": "execute_result"
    }
   ],
   "source": [
    "d.get('2')"
   ]
  },
  {
   "cell_type": "code",
   "execution_count": 24,
   "id": "912d8bfc",
   "metadata": {},
   "outputs": [
    {
     "data": {
      "text/plain": [
       "'four'"
      ]
     },
     "execution_count": 24,
     "metadata": {},
     "output_type": "execute_result"
    }
   ],
   "source": [
    "d.get(4)"
   ]
  },
  {
   "cell_type": "code",
   "execution_count": 25,
   "id": "5ed2772f",
   "metadata": {},
   "outputs": [
    {
     "data": {
      "text/plain": [
       "'N/A'"
      ]
     },
     "execution_count": 25,
     "metadata": {},
     "output_type": "execute_result"
    }
   ],
   "source": [
    "d.get(1, 'N/A')"
   ]
  },
  {
   "cell_type": "markdown",
   "id": "5844a064",
   "metadata": {},
   "source": [
    "## 3.4 dict的变体"
   ]
  },
  {
   "cell_type": "markdown",
   "id": "7fc114ec",
   "metadata": {},
   "source": [
    "1.collections.OrderedDict\n",
    "\n",
    "- 等值检查考虑顺序\n",
    "- 方便执行重新排序操作，空间利用率、迭代速度和更新操作的性能是次要的。\n",
    "- 从算法上看，OrderedDict处理频繁重新排序操作的效果比dict好，适合用于跟踪近期存取情况。"
   ]
  },
  {
   "cell_type": "markdown",
   "id": "aba7130d",
   "metadata": {},
   "source": [
    "2.collections.ChainMap\n",
    "\n",
    "- 存放一组映射，可作为一个整体来搜索。\n",
    "- 查找操作按照输入映射在构造函数调用中出现的顺序执行，一旦找到指定的键，立即结束。\n",
    "- 不复制输入映射，存放映射的引用。\n",
    "- 更新或插入操作只影响第一个输入映射。"
   ]
  },
  {
   "cell_type": "markdown",
   "id": "eff5e385",
   "metadata": {},
   "source": [
    "3.collections.Counter\n",
    "\n",
    "- 一种对键计数的映射，更新现有的键，计数随之增加。\n",
    "- 可用于统计可哈希对象的实例数量。"
   ]
  },
  {
   "cell_type": "markdown",
   "id": "2112bbe2",
   "metadata": {},
   "source": [
    "4.shelve.Shelf\n",
    "\n",
    "- 持久存储字符串键与Python对象之间的映射。"
   ]
  },
  {
   "cell_type": "code",
   "execution_count": 26,
   "id": "8969a30b",
   "metadata": {},
   "outputs": [],
   "source": [
    "# StrKeyDict在插入、更新和查找时，始终把非字符串键转换为str类型\n",
    "import collections\n",
    "\n",
    "class StrKeyDict(collections.UserDict):\n",
    "    def __missing__(self, key):\n",
    "        if isinstance(key, str):\n",
    "            raise KeyError(key)\n",
    "        return self[str(key)]\n",
    "    \n",
    "    def __contains__(self, key):\n",
    "        return str(key) in self.data\n",
    "    \n",
    "    def __setitem__(self, key, item):\n",
    "        self.data[str(key)] = item"
   ]
  },
  {
   "cell_type": "markdown",
   "id": "88ae07c2",
   "metadata": {},
   "source": [
    "## 3.5 不可变映射"
   ]
  },
  {
   "cell_type": "code",
   "execution_count": 27,
   "id": "73f9c09e",
   "metadata": {},
   "outputs": [
    {
     "data": {
      "text/plain": [
       "mappingproxy({1: 'A'})"
      ]
     },
     "execution_count": 27,
     "metadata": {},
     "output_type": "execute_result"
    }
   ],
   "source": [
    "#从MappingProxyType根据dict对象构建只读的mappingproxy实例\n",
    "from types import MappingProxyType\n",
    "\n",
    "d = {1: 'A'}\n",
    "d_proxy = MappingProxyType(d)\n",
    "d_proxy"
   ]
  },
  {
   "cell_type": "code",
   "execution_count": 28,
   "id": "404f2d2a",
   "metadata": {},
   "outputs": [
    {
     "data": {
      "text/plain": [
       "'A'"
      ]
     },
     "execution_count": 28,
     "metadata": {},
     "output_type": "execute_result"
    }
   ],
   "source": [
    "d_proxy[1]"
   ]
  },
  {
   "cell_type": "code",
   "execution_count": 32,
   "id": "3e86b65d",
   "metadata": {},
   "outputs": [
    {
     "data": {
      "text/plain": [
       "mappingproxy({1: 'A', 2: 'B'})"
      ]
     },
     "execution_count": 32,
     "metadata": {},
     "output_type": "execute_result"
    }
   ],
   "source": [
    "d[2] = 'B'\n",
    "d_proxy"
   ]
  },
  {
   "cell_type": "code",
   "execution_count": 33,
   "id": "09524cf8",
   "metadata": {},
   "outputs": [
    {
     "data": {
      "text/plain": [
       "'B'"
      ]
     },
     "execution_count": 33,
     "metadata": {},
     "output_type": "execute_result"
    }
   ],
   "source": [
    "d_proxy[2]"
   ]
  },
  {
   "cell_type": "markdown",
   "id": "f4f446ce",
   "metadata": {},
   "source": [
    "## 3.6 集合论"
   ]
  },
  {
   "cell_type": "markdown",
   "id": "c66a2010",
   "metadata": {},
   "source": [
    "集合的基本作用是去除重复项。"
   ]
  },
  {
   "cell_type": "code",
   "execution_count": 34,
   "id": "6be3f973",
   "metadata": {},
   "outputs": [
    {
     "data": {
      "text/plain": [
       "{'bacon', 'eggs', 'spam'}"
      ]
     },
     "execution_count": 34,
     "metadata": {},
     "output_type": "execute_result"
    }
   ],
   "source": [
    "l = ['spam', 'spam', 'eggs', 'spam', 'bacon', 'eggs']\n",
    "set(l)"
   ]
  },
  {
   "cell_type": "code",
   "execution_count": 35,
   "id": "08a53fc9",
   "metadata": {},
   "outputs": [
    {
     "data": {
      "text/plain": [
       "['bacon', 'eggs', 'spam']"
      ]
     },
     "execution_count": 35,
     "metadata": {},
     "output_type": "execute_result"
    }
   ],
   "source": [
    "list(set(l))"
   ]
  },
  {
   "cell_type": "code",
   "execution_count": 36,
   "id": "4272f78f",
   "metadata": {},
   "outputs": [
    {
     "data": {
      "text/plain": [
       "['spam', 'eggs', 'bacon']"
      ]
     },
     "execution_count": 36,
     "metadata": {},
     "output_type": "execute_result"
    }
   ],
   "source": [
    "# 如果想要去除重复项，同时保留每一项首次出现位置的顺序\n",
    "list(dict.fromkeys(l).keys())"
   ]
  },
  {
   "cell_type": "code",
   "execution_count": 38,
   "id": "662358cb",
   "metadata": {},
   "outputs": [
    {
     "name": "stdout",
     "output_type": "stream",
     "text": [
      "{'×', '%', '>', '¥', '§', '¬', '=', '°', '¶', '©', '¢', 'µ', '±', '#', '¤', '£', '$', '÷', '®', '<', '+'}\n"
     ]
    }
   ],
   "source": [
    "# 集合推导式\n",
    "from unicodedata import name\n",
    "\n",
    "print({chr(i) for i in range(32, 256) if 'SIGN' in name(chr(i), '')})"
   ]
  },
  {
   "cell_type": "markdown",
   "id": "4876a114",
   "metadata": {},
   "source": [
    "## 3.7 杂谈"
   ]
  },
  {
   "cell_type": "markdown",
   "id": "ecb070ee",
   "metadata": {},
   "source": [
    "- 语法糖：\n",
    "    - Alan Perlis（首届图灵奖的获得者）：语法糖诱发分号癌。\n",
    "    - Python简单又正确，JSON与Python几乎完全兼容。"
   ]
  }
 ],
 "metadata": {
  "kernelspec": {
   "display_name": "Python 3 (ipykernel)",
   "language": "python",
   "name": "python3"
  },
  "language_info": {
   "codemirror_mode": {
    "name": "ipython",
    "version": 3
   },
   "file_extension": ".py",
   "mimetype": "text/x-python",
   "name": "python",
   "nbconvert_exporter": "python",
   "pygments_lexer": "ipython3",
   "version": "3.10.5"
  }
 },
 "nbformat": 4,
 "nbformat_minor": 5
}
