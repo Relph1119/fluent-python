{
 "cells": [
  {
   "cell_type": "markdown",
   "id": "7cdbf823",
   "metadata": {},
   "source": [
    "# 第21章 异步编程"
   ]
  },
  {
   "cell_type": "markdown",
   "id": "ce27b2b8",
   "metadata": {},
   "source": [
    "## 21.1 核心概念"
   ]
  },
  {
   "cell_type": "markdown",
   "id": "3efd3a5e",
   "metadata": {},
   "source": [
    "- 原生协程：使用`async def`定义的协程函数。在原生协程内可以使用`await`关键字委托另一个原生协程。`await`关键字不能再原生协程外部使用。\n",
    "- 经典协程：一种生成器函数，在表达式中使用`yield`读取`my_coro.send(data)`调用发送的数据，可以使用`yield from`委托其他经典协程。\n",
    "- 基于生成器的协程：使用`@type.coroutine`装饰的生成器函数。\n",
    "- 异步生成器：使用`async def`定义，而且在主体中使用`yield`的生成器函数，返回一个提供`__anext__`方法的异步生成器对象。"
   ]
  },
  {
   "cell_type": "markdown",
   "id": "ee6229e9",
   "metadata": {},
   "source": [
    "## 21.2 一个asyncio示例：探测域名"
   ]
  },
  {
   "cell_type": "code",
   "execution_count": 1,
   "id": "ceaec854",
   "metadata": {},
   "outputs": [],
   "source": [
    "import asyncio\n",
    "import socket\n",
    "from keyword import kwlist\n",
    "\n",
    "MAX_KEYWORD_LEN = 4\n",
    "\n",
    "\n",
    "async def probe(domain: str) -> tuple[str, bool]:\n",
    "    # 返回一个元组，包含域名和一个布尔值，True表示域名可解析\n",
    "    loop = asyncio.get_running_loop()\n",
    "    try:\n",
    "        # 获取asyncio事件循环的引用\n",
    "        await loop.getaddrinfo(domain, None)\n",
    "    except socket.gaierror:\n",
    "        return (domain, False)\n",
    "    return (domain, True)\n",
    "\n",
    "async def main() -> None:\n",
    "    names = (kw for kw in kwlist if len(kw) <= MAX_KEYWORD_LEN)\n",
    "    domains = (f'{name}.dev'.lower() for name in names)\n",
    "    coros = [probe(domain) for domain in domains]\n",
    "    for coro in asyncio.as_completed(coros):\n",
    "        domain, found = await coro\n",
    "        mark = '+' if found else ' '\n",
    "        print(f'{mark} {domain}')"
   ]
  },
  {
   "cell_type": "code",
   "execution_count": 2,
   "id": "3d014537",
   "metadata": {},
   "outputs": [
    {
     "name": "stdout",
     "output_type": "stream",
     "text": [
      "+ del.dev\n",
      "+ try.dev\n",
      "+ and.dev\n",
      "+ as.dev\n",
      "+ in.dev\n",
      "+ def.dev\n",
      "+ not.dev\n",
      "  none.dev\n",
      "+ from.dev\n",
      "  true.dev\n",
      "  else.dev\n",
      "  if.dev\n",
      "  is.dev\n",
      "  with.dev\n",
      "  pass.dev\n",
      "  elif.dev\n",
      "  or.dev\n",
      "  for.dev\n"
     ]
    }
   ],
   "source": [
    "await main()"
   ]
  },
  {
   "cell_type": "markdown",
   "id": "93b34ea2",
   "metadata": {},
   "source": [
    "## 21.3 使用asyncio和HTTPX下载"
   ]
  },
  {
   "cell_type": "code",
   "execution_count": 3,
   "id": "7e7ef4d0",
   "metadata": {},
   "outputs": [],
   "source": [
    "import time\n",
    "from pathlib import Path\n",
    "from typing import Callable\n",
    "\n",
    "import httpx\n",
    "\n",
    "POP20_CC = ('CN IN US ID BR PK NG BD RU JP '\n",
    "            'MX PH VN ET EG DE IR TR CD FR').split()\n",
    "\n",
    "# 存放国旗图像的网络资源\n",
    "BASE_URL = 'https://www.fluentpython.com/data/flags'\n",
    "# 保存图像的本地目录\n",
    "DEST_DIR = Path('downloaded')                         \n",
    "\n",
    "def save_flag(img: bytes, filename: str) -> None: \n",
    "    (DEST_DIR / filename).write_bytes(img)\n",
    "\n",
    "def main(downloader: Callable[[list[str]], int]) -> None:\n",
    "    # 创建目录\n",
    "    DEST_DIR.mkdir(exist_ok=True)                          \n",
    "    # 记录并报告downloader运行时间\n",
    "    t0 = time.perf_counter()                               \n",
    "    count = downloader(POP20_CC)\n",
    "    elapsed = time.perf_counter() - t0\n",
    "    print(f'\\n{count} downloads in {elapsed:.2f}s')"
   ]
  },
  {
   "cell_type": "code",
   "execution_count": 9,
   "id": "c6254839",
   "metadata": {},
   "outputs": [],
   "source": [
    "import asyncio\n",
    "\n",
    "from httpx import AsyncClient\n",
    "\n",
    "def download_many(cc_list: list[str]) -> int:\n",
    "    return asyncio.run(supervisor(cc_list))    \n",
    "\n",
    "async def supervisor(cc_list: list[str]) -> int:\n",
    "    # AsyncClient提供了异步设置和清理方法的上下文管理器\n",
    "    async with AsyncClient() as client:          \n",
    "        to_do = [download_one(client, cc)\n",
    "                 for cc in sorted(cc_list)]      \n",
    "        # 等待全部执行完毕，以可异步调用对象的提交顺序返回结果列表\n",
    "        res = await asyncio.gather(*to_do)       \n",
    "\n",
    "    return len(res)                              "
   ]
  },
  {
   "cell_type": "code",
   "execution_count": 10,
   "id": "a973489e",
   "metadata": {},
   "outputs": [],
   "source": [
    "async def download_one(client: AsyncClient, cc: str):\n",
    "    image = await get_flag(client, cc)\n",
    "    save_flag(image, f'{cc}.gif')\n",
    "    print(cc, end=' ', flush=True)\n",
    "    return cc\n",
    "\n",
    "async def get_flag(client: AsyncClient, cc: str) -> bytes:\n",
    "    url = f'{BASE_URL}/{cc}/{cc}.gif'.lower()\n",
    "    # httpx.AsyncClient实例的get方法返回一个ClientResponse对象\n",
    "    resp = await client.get(url, timeout=6.1, follow_redirects=True)  \n",
    "    return resp.read()"
   ]
  },
  {
   "cell_type": "markdown",
   "id": "260e9349",
   "metadata": {},
   "source": [
    "## 21.4 增强asyncio版下载脚本的功能"
   ]
  },
  {
   "cell_type": "markdown",
   "id": "c9ffcbcd",
   "metadata": {},
   "source": [
    "功能：把几个协程传给`asyncio.gather`，按照协程的提交顺序返回协程的结果构成的列表。"
   ]
  },
  {
   "cell_type": "markdown",
   "id": "d4982cde",
   "metadata": {},
   "source": [
    "代码：`assets/20-executors/getflags/flags2_asyncio.py`"
   ]
  },
  {
   "cell_type": "markdown",
   "id": "dc0d3218",
   "metadata": {},
   "source": [
    "Python中的信号量：\n",
    "- `asyncio.Semaphore`有一个内部计数器，每次使用`await`处理协程方法`.acquire()`，计数器递减；每次调用`.release()`方法，计数器递增。\n",
    "- 若计数器大于零，则使用`await`处理`.acquire()`方法没有延迟；若计数器为零，则`.acquire()`中止待处理的协程，直到其他协程在同一个`Semaphore`实例上调用`.release()`，递增计数器。"
   ]
  },
  {
   "cell_type": "markdown",
   "id": "84d01120",
   "metadata": {},
   "source": [
    "## 21.5 使用asyncio编写服务器"
   ]
  },
  {
   "cell_type": "markdown",
   "id": "5c84ea95",
   "metadata": {},
   "source": [
    "功能：用户通过unicodedata模块中Unicode字符标准名称所包含的单词，在服务器中查询Unicode字符，游览器显示搜索结果。"
   ]
  },
  {
   "cell_type": "markdown",
   "id": "9439f5fc",
   "metadata": {},
   "source": [
    "项目启动：`nvicorn web_mojifinder:app --reload`\n",
    "- `web_mojifinder:app`：包名、一个冒号和包内定义的ASGI应用程序的名称。\n",
    "- `--reload`：让uvicorn监控应用程序源文件的变化，自动重新加载。只在开发过程中有用。"
   ]
  },
  {
   "cell_type": "markdown",
   "id": "6a60bd5b",
   "metadata": {},
   "source": [
    "## 21.6 异步迭代和异步可迭代对象"
   ]
  },
  {
   "cell_type": "markdown",
   "id": "51b9c955",
   "metadata": {},
   "source": [
    "- `async for`处理异步可迭代对象，实现了`__aiter__`对象，然而`__aiter__`必须是常规方法（不是协程方法），而且必须返回一个异步迭代器。\n",
    "- 异步迭代器提供`__anext__`协程方法，返回一个可异步调用对象，也实现`__aiter__`，返回`self`。"
   ]
  },
  {
   "cell_type": "markdown",
   "id": "d5a1d6d5",
   "metadata": {},
   "source": [
    "### 21.6.1 异步生成器函数"
   ]
  },
  {
   "cell_type": "markdown",
   "id": "ea1014f2",
   "metadata": {},
   "source": [
    "1. Python异步控制台，使用命令行选项`-m asyncio`运行解释器，可以得到一个异步REPL。"
   ]
  },
  {
   "cell_type": "markdown",
   "id": "f72e0a74",
   "metadata": {},
   "source": [
    "2. 实现一个异步生成器：使用`async for`实现。"
   ]
  },
  {
   "cell_type": "code",
   "execution_count": 17,
   "id": "7a6e0385",
   "metadata": {},
   "outputs": [],
   "source": [
    "import asyncio\n",
    "import socket\n",
    "from collections.abc import Iterable, AsyncIterator\n",
    "from typing import NamedTuple, Optional\n",
    "\n",
    "\n",
    "class Result(NamedTuple): \n",
    "    domain: str\n",
    "    found: bool\n",
    "\n",
    "\n",
    "# 设置别名 \n",
    "OptionalLoop = Optional[asyncio.AbstractEventLoop]\n",
    "\n",
    "\n",
    "async def probe(domain: str, loop: OptionalLoop = None) -> Result:\n",
    "    if loop is None:\n",
    "        loop = asyncio.get_running_loop()\n",
    "    try:\n",
    "        await loop.getaddrinfo(domain, None)\n",
    "    except socket.gaierror:\n",
    "        return Result(domain, False)\n",
    "    return Result(domain, True)\n",
    "\n",
    "# 异步生成器函数产生一个异步生成器对象\n",
    "async def multi_probe(domains: Iterable[str]) -> AsyncIterator[Result]:  \n",
    "    loop = asyncio.get_running_loop()\n",
    "    # 构建一个probe协程对象列表，对应各个域名\n",
    "    coros = [probe(domain, loop) for domain in domains]\n",
    "    for coro in asyncio.as_completed(coros):\n",
    "        # 等待协程对象，获取结果\n",
    "        result = await coro \n",
    "        yield result  "
   ]
  },
  {
   "cell_type": "code",
   "execution_count": 18,
   "id": "56082530",
   "metadata": {},
   "outputs": [],
   "source": [
    "async def main(tld: str) -> None:\n",
    "    tld = tld.strip('.')\n",
    "    # 生成长度不超过4的关键字\n",
    "    names = (kw for kw in kwlist if len(kw) <= 4)\n",
    "    # 使用指定的顶级域名生成一组域名\n",
    "    domains = (f'{name}.{tld}'.lower() for name in names)\n",
    "    print('FOUND\\t\\tNOT FOUND')  \n",
    "    print('=====\\t\\t=========')\n",
    "    async for domain, found in multi_probe(domains):  \n",
    "        indent = '' if found else '\\t\\t'\n",
    "        print(f'{indent}{domain}')"
   ]
  },
  {
   "cell_type": "code",
   "execution_count": 16,
   "id": "f5e92010",
   "metadata": {},
   "outputs": [
    {
     "name": "stdout",
     "output_type": "stream",
     "text": [
      "FOUND\t\tNOT FOUND\n",
      "=====\t\t=========\n",
      "pass.org\n",
      "def.org\n",
      "in.org\n",
      "for.org\n",
      "not.org\n",
      "true.org\n",
      "del.org\n",
      "none.org\n",
      "from.org\n",
      "or.org\n",
      "and.org\n",
      "elif.org\n",
      "try.org\n",
      "else.org\n",
      "with.org\n",
      "\t\tis.org\n",
      "\t\tas.org\n",
      "\t\tif.org\n"
     ]
    }
   ],
   "source": [
    "await main('org')"
   ]
  },
  {
   "cell_type": "markdown",
   "id": "9d3a53ab",
   "metadata": {},
   "source": [
    "3. 异步生成器用作上下文管理器。"
   ]
  },
  {
   "cell_type": "code",
   "execution_count": 22,
   "id": "68dce013",
   "metadata": {},
   "outputs": [
    {
     "name": "stdout",
     "output_type": "stream",
     "text": [
      "Download webpage google.com\n",
      "Process None\n",
      "Update stats google.com\n"
     ]
    }
   ],
   "source": [
    "from contextlib import asynccontextmanager\n",
    "\n",
    "def download_webpage(url):\n",
    "    print('Download webpage', url)\n",
    "\n",
    "def update_stats(url):\n",
    "    print('Update stats', url)\n",
    "    \n",
    "def process(data):\n",
    "    print('Process', data)\n",
    "    \n",
    "\n",
    "@asynccontextmanager\n",
    "async def web_page(url):\n",
    "    loop = asyncio.get_running_loop()\n",
    "    data = await loop.run_in_executor(None, download_webpage, url)\n",
    "    yield data\n",
    "    await loop.run_in_executor(None, update_stats, url)\n",
    "    \n",
    "async with web_page('google.com') as data:\n",
    "    process(data)"
   ]
  },
  {
   "cell_type": "markdown",
   "id": "375120fb",
   "metadata": {},
   "source": [
    "4. 异步生成器和原生协程之间的主要异同点\n",
    "   - 都使用`async def`声明。\n",
    "   - 异步生成器的主体中肯定有一个`yield`表达式，原生协程中不会有。\n",
    "   - 原生协程可能返回`None`之外的值，异步生成器只能使用空`return`语句。\n",
    "   - 原生协程是可异步调用对象，可由`await`表达式驱动，也可以传给`asyncio`库中众多接受可异步调用对象的函数。异步生成器不是可异步调用对象，而是异步可迭代对象，由`async for`或异步推导式驱动。"
   ]
  },
  {
   "cell_type": "markdown",
   "id": "aa37746f",
   "metadata": {},
   "source": [
    "### 21.6.2 异步生成器表达式和异步推导式"
   ]
  },
  {
   "cell_type": "markdown",
   "id": "912d9f04",
   "metadata": {},
   "source": [
    "- 异步生成器表达式可在程序的任何位置定义，但是只能在原生协程或异步生成器函数内使用。\n",
    "- 异步推导式只能出现在`async def`主体内，或者是异步控制台中。"
   ]
  },
  {
   "cell_type": "markdown",
   "id": "930516a9",
   "metadata": {},
   "source": [
    "## 21.7 asyncio之外的异步世界：Curio"
   ]
  },
  {
   "cell_type": "markdown",
   "id": "737221d6",
   "metadata": {},
   "source": [
    "使用Curio重写blogdom.py脚本"
   ]
  },
  {
   "cell_type": "code",
   "execution_count": 23,
   "id": "ff4a0e27",
   "metadata": {},
   "outputs": [],
   "source": [
    "from curio import run, TaskGroup\n",
    "import curio.socket as socket\n",
    "from keyword import kwlist\n",
    "\n",
    "MAX_KEYWORD_LEN = 4\n",
    "\n",
    "\n",
    "async def probe(domain: str) -> tuple[str, bool]: \n",
    "    try:\n",
    "        await socket.getaddrinfo(domain, None)\n",
    "    except socket.gaierror:\n",
    "        return (domain, False)\n",
    "    return (domain, True)\n",
    "\n",
    "async def main() -> None:\n",
    "    names = (kw for kw in kwlist if len(kw) <= MAX_KEYWORD_LEN)\n",
    "    domains = (f'{name}.dev'.lower() for name in names)\n",
    "    # TaskGroup用于监控和控制多个协程，确保协程全部执行并得到清理\n",
    "    async with TaskGroup() as group:\n",
    "        for domain in domains:\n",
    "            # 启动协程，由TaskGroup实例管理\n",
    "            await group.spawn(probe, domain)\n",
    "        # 迭代TaskGroup，完成任务之后产出Task实例    \n",
    "        async for task in group:\n",
    "            domain, found = task.result\n",
    "            mark = '+' if found else ' '\n",
    "            print(f'{mark} {domain}')"
   ]
  },
  {
   "cell_type": "code",
   "execution_count": 24,
   "id": "05df7053",
   "metadata": {},
   "outputs": [
    {
     "name": "stdout",
     "output_type": "stream",
     "text": [
      "+ as.dev\n",
      "+ and.dev\n",
      "+ def.dev\n",
      "+ in.dev\n",
      "+ del.dev\n",
      "+ not.dev\n",
      "+ from.dev\n",
      "+ try.dev\n",
      "  true.dev\n",
      "  elif.dev\n",
      "  else.dev\n",
      "  if.dev\n",
      "  is.dev\n",
      "  none.dev\n",
      "  with.dev\n",
      "  pass.dev\n",
      "  or.dev\n",
      "  for.dev\n"
     ]
    }
   ],
   "source": [
    "run(main())"
   ]
  },
  {
   "cell_type": "markdown",
   "id": "d6219972",
   "metadata": {},
   "source": [
    "Curio的特色：\n",
    "- Curio中的`TaskGroup`是异步上下文管理器，取代了`asyncio`的多个特有API和编程模式。任务组支持结构化并发。\n",
    "- 对在同一份基准代码中使用协程和线程编程提供了更好的支持。\n",
    "- 提供了一个`UniversalQueue`，可用于协调线程、Curio协程和`asyncio`协程之间的工作。"
   ]
  },
  {
   "cell_type": "markdown",
   "id": "0173c46a",
   "metadata": {},
   "source": [
    "## 21.8 异步原理与陷阱"
   ]
  },
  {
   "cell_type": "markdown",
   "id": "3d158172",
   "metadata": {},
   "source": [
    "陷阱：\n",
    "- 规范的异步编程方法可以提升服务器的性能。\n",
    "- 没有所谓的“I/O密集型系统”，可能遇到的是I/O密集型函数。"
   ]
  },
  {
   "cell_type": "markdown",
   "id": "f4e04e01",
   "metadata": {},
   "source": [
    "发现CPU占用出现瓶颈后，可以采取以下措施：\n",
    "- 把任务委托给Python进程池。\n",
    "- 把任务委托给外部任务队列。\n",
    "- 使用Cython、C、Rust，或者可编译成机器码、能与Python/C API交互的其他语言重写相关代码。\n",
    "- 如果判断自己可以承受性能损失，可以什么都不做，把决定记录下来，方便以后重新审视。"
   ]
  },
  {
   "cell_type": "markdown",
   "id": "d565cde7",
   "metadata": {},
   "source": [
    "## 21.9 杂谈"
   ]
  },
  {
   "cell_type": "markdown",
   "id": "19be4a27",
   "metadata": {},
   "source": [
    "uvloop的基准测试：\n",
    "- 2016年，Yury Selivanov发布了uvloop，需要配置Go语言使用单个线程，使用httptools。\n",
    "- 使用aiohttp对uvloop进行了基准测试之后，编写httptools。理由是HTTP解析器的速度太慢了。\n",
    "- HTTP性能测试用到了一个简单的回显服务器，HTTP首部解析是CPU密集型操作，使用Python编写的函数解析首部，导致事件循环受到阻塞。因此优化httptools库。"
   ]
  },
  {
   "cell_type": "markdown",
   "id": "15eb1b21",
   "metadata": {},
   "source": [
    "系统性能诊断：\n",
    "- 背景：系统使用Python2.7编写，使用Twisted框架，属于asyncio的前身。\n",
    "- 问题：每增加一个功能，有更多CPU密集型代码拖慢Twisted的事件循环。\n",
    "- 解决思路：重新思考系统架构，重写大量代码，也行需要任务队列，可能还要使用微服务，或者以更适合并发处理CPU密集型操作的语言编写库。\n",
    "- 结论：项目方不准备继续投资了，项目被取消了。"
   ]
  }
 ],
 "metadata": {
  "kernelspec": {
   "display_name": "Python 3 (ipykernel)",
   "language": "python",
   "name": "python3"
  },
  "language_info": {
   "codemirror_mode": {
    "name": "ipython",
    "version": 3
   },
   "file_extension": ".py",
   "mimetype": "text/x-python",
   "name": "python",
   "nbconvert_exporter": "python",
   "pygments_lexer": "ipython3",
   "version": "3.10.5"
  }
 },
 "nbformat": 4,
 "nbformat_minor": 5
}
