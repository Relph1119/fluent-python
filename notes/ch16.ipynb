{
 "cells": [
  {
   "cell_type": "markdown",
   "id": "ab82c066",
   "metadata": {},
   "source": [
    "# 第16章 运算符重载"
   ]
  },
  {
   "cell_type": "markdown",
   "id": "b7f417e1",
   "metadata": {},
   "source": [
    "对运算符重载的限制：\n",
    "- 不能改变内置类型的运算符表达的意思。\n",
    "- 不能新建运算符，只能重载现有运算符。\n",
    "- 有些运算符不能重载：`is`、`and`、`or`和`not`。"
   ]
  },
  {
   "cell_type": "markdown",
   "id": "192fb401",
   "metadata": {},
   "source": [
    "## 16.1 一元运算符"
   ]
  },
  {
   "cell_type": "markdown",
   "id": "5bf4c4ab",
   "metadata": {},
   "source": [
    "- 一元取反算术运算符（`-`）：由`__neg__`实现。\n",
    "- 一元取正算术运算符（`+`）：由`__pos__`实现。\n",
    "- 按位否定（取反）整数（`~`）：由`__invert__`实现。"
   ]
  },
  {
   "cell_type": "code",
   "execution_count": 16,
   "id": "900eba0b",
   "metadata": {},
   "outputs": [],
   "source": [
    "from array import array\n",
    "import reprlib\n",
    "import math\n",
    "import functools\n",
    "import operator\n",
    "import itertools\n",
    "\n",
    "\n",
    "class VectorV6:\n",
    "    typecode = 'd'\n",
    "\n",
    "    def __init__(self, components):\n",
    "        self._components = array(self.typecode, components)\n",
    "\n",
    "    def __iter__(self):\n",
    "        return iter(self._components)\n",
    "\n",
    "    def __repr__(self):\n",
    "        components = reprlib.repr(self._components)\n",
    "        components = components[components.find('['):-1]\n",
    "        return f'Vector({components})'\n",
    "\n",
    "    def __str__(self):\n",
    "        return str(tuple(self))\n",
    "\n",
    "    def __bytes__(self):\n",
    "        return (bytes([ord(self.typecode)]) +\n",
    "                bytes(self._components))\n",
    "\n",
    "    def __eq__(self, other):\n",
    "        return (len(self) == len(other) and\n",
    "                all(a == b for a, b in zip(self, other)))\n",
    "\n",
    "    def __hash__(self):\n",
    "        hashes = (hash(x) for x in self)\n",
    "        return functools.reduce(operator.xor, hashes, 0)\n",
    "\n",
    "    def __abs__(self):\n",
    "        return math.hypot(*self)\n",
    "\n",
    "    def __neg__(self):\n",
    "        # 每个分量取反\n",
    "        return self.__class__(-x for x in self)\n",
    "\n",
    "    def __pos__(self):\n",
    "        # 每个分量保持不变\n",
    "        return self.__class__(self)\n",
    "\n",
    "    def __bool__(self):\n",
    "        return bool(abs(self))\n",
    "\n",
    "    def __len__(self):\n",
    "        return len(self._components)\n",
    "\n",
    "    def __getitem__(self, key):\n",
    "        if isinstance(key, slice):\n",
    "            cls = type(self)\n",
    "            return cls(self._components[key])\n",
    "        index = operator.index(key)\n",
    "        return self._components[index]\n",
    "\n",
    "    __match_args__ = ('x', 'y', 'z', 't')\n",
    "\n",
    "    def __getattr__(self, name):\n",
    "        cls = type(self)\n",
    "        try:\n",
    "            pos = cls.__match_args__.index(name)\n",
    "        except ValueError:\n",
    "            pos = -1\n",
    "        if 0 <= pos < len(self._components):\n",
    "            return self._components[pos]\n",
    "        msg = f'{cls.__name__!r} object has no attribute {name!r}'\n",
    "        raise AttributeError(msg)\n",
    "\n",
    "    def angle(self, n):\n",
    "        r = math.hypot(*self[n:])\n",
    "        a = math.atan2(r, self[n-1])\n",
    "        if (n == len(self) - 1) and (self[-1] < 0):\n",
    "            return math.pi * 2 - a\n",
    "        else:\n",
    "            return a\n",
    "\n",
    "    def angles(self):\n",
    "        return (self.angle(n) for n in range(1, len(self)))\n",
    "\n",
    "    def __format__(self, fmt_spec=''):\n",
    "        if fmt_spec.endswith('h'):  # hyperspherical coordinates\n",
    "            fmt_spec = fmt_spec[:-1]\n",
    "            coords = itertools.chain([abs(self)],\n",
    "                                     self.angles())\n",
    "            outer_fmt = '<{}>'\n",
    "        else:\n",
    "            coords = self\n",
    "            outer_fmt = '({})'\n",
    "        components = (format(c, fmt_spec) for c in coords)\n",
    "        return outer_fmt.format(', '.join(components))\n",
    "\n",
    "    @classmethod\n",
    "    def frombytes(cls, octets):\n",
    "        typecode = chr(octets[0])\n",
    "        memv = memoryview(octets[1:]).cast(typecode)\n",
    "        return cls(memv)\n",
    "\n",
    "    def __add__(self, other):\n",
    "        # 重载加法运算符\n",
    "        try:\n",
    "            # 生成(a,b)形式的元组\n",
    "            pairs = itertools.zip_longest(self, other, fillvalue=0.0)\n",
    "            return self.__class__(a + b for a, b in pairs)\n",
    "        except TypeError:\n",
    "            return NotImplemented\n",
    "\n",
    "    def __radd__(self, other):\n",
    "        return self + other"
   ]
  },
  {
   "cell_type": "code",
   "execution_count": 17,
   "id": "f9de8da4",
   "metadata": {},
   "outputs": [
    {
     "data": {
      "text/plain": [
       "Vector([13.0, 24.0, 35.0])"
      ]
     },
     "execution_count": 17,
     "metadata": {},
     "output_type": "execute_result"
    }
   ],
   "source": [
    "v1 = VectorV6([3, 4, 5])\n",
    "v1 + (10, 20, 30)"
   ]
  },
  {
   "cell_type": "markdown",
   "id": "1db5625c",
   "metadata": {},
   "source": [
    "如果中缀运算符方法抛出异常，那么它将终止运算符分派机制。"
   ]
  },
  {
   "cell_type": "markdown",
   "id": "4140c98e",
   "metadata": {},
   "source": [
    "## 16.2 重载标量乘法运算符（`*`）和点乘运算符（`@`）"
   ]
  },
  {
   "cell_type": "code",
   "execution_count": 26,
   "id": "29286f09",
   "metadata": {},
   "outputs": [],
   "source": [
    "from collections import abc\n",
    "\n",
    "class VectorV7(VectorV6):\n",
    "    def __mul__(self, scalar):\n",
    "        try:\n",
    "            factor = float(scalar)\n",
    "        except TypeError:\n",
    "            return NotImplemented\n",
    "        return self.__class__(n * factor for n in self)\n",
    "\n",
    "    def __rmul__(self, scalar):\n",
    "        return self * scalar\n",
    "\n",
    "    def __matmul__(self, other):\n",
    "        if (isinstance(other, abc.Sized) and\n",
    "            isinstance(other, abc.Iterable)):\n",
    "            if len(self) == len(other):\n",
    "                return sum(a * b for a, b in zip(self, other))\n",
    "            else:\n",
    "                raise ValueError('@ requires vectors of equal length.')\n",
    "        else:\n",
    "            return NotImplemented\n",
    "\n",
    "    def __rmatmul__(self, other):\n",
    "        return self @ other"
   ]
  },
  {
   "cell_type": "code",
   "execution_count": 27,
   "id": "7897ce9d",
   "metadata": {},
   "outputs": [
    {
     "data": {
      "text/plain": [
       "Vector([10.0, 20.0, 30.0])"
      ]
     },
     "execution_count": 27,
     "metadata": {},
     "output_type": "execute_result"
    }
   ],
   "source": [
    "v1 = VectorV7([1, 2, 3])\n",
    "v1 * 10"
   ]
  },
  {
   "cell_type": "code",
   "execution_count": 28,
   "id": "061ea3ef",
   "metadata": {},
   "outputs": [
    {
     "data": {
      "text/plain": [
       "Vector([11.0, 22.0, 33.0])"
      ]
     },
     "execution_count": 28,
     "metadata": {},
     "output_type": "execute_result"
    }
   ],
   "source": [
    "11 * v1"
   ]
  },
  {
   "cell_type": "code",
   "execution_count": 29,
   "id": "98a4cd3a",
   "metadata": {},
   "outputs": [
    {
     "data": {
      "text/plain": [
       "38.0"
      ]
     },
     "execution_count": 29,
     "metadata": {},
     "output_type": "execute_result"
    }
   ],
   "source": [
    "va = VectorV7([1, 2, 3])\n",
    "vz = VectorV7([5, 6, 7])\n",
    "va @ vz"
   ]
  },
  {
   "cell_type": "code",
   "execution_count": 30,
   "id": "d885e384",
   "metadata": {},
   "outputs": [
    {
     "data": {
      "text/plain": [
       "380.0"
      ]
     },
     "execution_count": 30,
     "metadata": {},
     "output_type": "execute_result"
    }
   ],
   "source": [
    "[10, 20, 30] @ vz"
   ]
  },
  {
   "cell_type": "markdown",
   "id": "577cd26f",
   "metadata": {},
   "source": [
    "## 16.3 算术运算符总结"
   ]
  },
  {
   "cell_type": "markdown",
   "id": "9a456a4a",
   "metadata": {},
   "source": [
    "| 运算符 | 正向方法 | 反向方法 | 就地方法 | 说明 |\n",
    "| :---: | :---: | :---: | :---: | :---|\n",
    "| + | \\_\\_add\\_\\_ | \\_\\_radd\\_\\_ | \\_\\_iadd\\_\\_ | 加法或拼接 |\n",
    "| - | \\_\\_sub\\_\\_ | \\_\\_rsub\\_\\_ | \\_\\_isub\\_\\_ | 减法 |\n",
    "| * | \\_\\_mul\\_\\_ | \\_\\_rmul\\_\\_ | \\_\\_imul\\_\\_ | 乘法或重复复制 |\n",
    "| / | \\_\\_truediv\\_\\_ | \\_\\_rtruediv\\_\\_ | \\_\\_itruediv\\_\\_ | 除法 |\n",
    "| // | \\_\\_floordiv\\_\\_ | \\_\\_rfloordiv\\_\\_ | \\_\\_ifloordiv\\_\\_ | 整除 |\n",
    "| % | \\_\\_mod\\_\\_ | \\_\\_rmod\\_\\_ | \\_\\_imod\\_\\_ | 求模 |\n",
    "| divmod() | \\_\\_divmod\\_\\_ | \\_\\_rdivmod\\_\\_ | \\_\\_idivmod\\_\\_ | 返回由整除的商和模数组成的元组 |\n",
    "| \\*\\*、pow() | \\_\\_pow\\_\\_ | \\_\\_rpow\\_\\_ | \\_\\_ipow\\_\\_ | 求幂 |\n",
    "| @ | \\_\\_matmul\\_\\_ | \\_\\_rmatmul\\_\\_ | \\_\\_imatmul\\_\\_ | 矩阵乘法 |\n",
    "| & | \\_\\_and\\_\\_ | \\_\\_rand\\_\\_ | \\_\\_iand\\_\\_ | 位与 |\n",
    "| | | \\_\\_or\\_\\_ | \\_\\_ror\\_\\_ | \\_\\_ior\\_\\_ | 位或 |\n",
    "| ^ | \\_\\_xor\\_\\_ | \\_\\_rxor\\_\\_ | \\_\\_ixor\\_\\_ | 位异或 |\n",
    "| << | \\_\\_lshift\\_\\_ | \\_\\_rlshift\\_\\_ | \\_\\_ilshift\\_\\_ | 按位左移 |\n",
    "| >> | \\_\\_rshift\\_\\_ | \\_\\_rrshift\\_\\_ | \\_\\_irshift\\_\\_ | 按位右移 |"
   ]
  },
  {
   "cell_type": "markdown",
   "id": "ed71389e",
   "metadata": {},
   "source": [
    "## 16.4 众多比较运算符"
   ]
  },
  {
   "cell_type": "code",
   "execution_count": 31,
   "id": "67582441",
   "metadata": {},
   "outputs": [],
   "source": [
    "class VectorV8(VectorV7):\n",
    "    def __eq__(self, other):\n",
    "        if isinstance(other, self.__class__):\n",
    "            return (len(self) == len(other) and\n",
    "                    all(a == b for a, b in zip(self, other)))\n",
    "        else:\n",
    "            return NotImplemented"
   ]
  },
  {
   "cell_type": "code",
   "execution_count": 32,
   "id": "2cdb2941",
   "metadata": {},
   "outputs": [
    {
     "data": {
      "text/plain": [
       "True"
      ]
     },
     "execution_count": 32,
     "metadata": {},
     "output_type": "execute_result"
    }
   ],
   "source": [
    "va = VectorV8([1.0, 2.0, 3.0])\n",
    "vb = VectorV8(range(1, 4))\n",
    "va == vb"
   ]
  },
  {
   "cell_type": "code",
   "execution_count": 33,
   "id": "83e5e05c",
   "metadata": {},
   "outputs": [
    {
     "data": {
      "text/plain": [
       "False"
      ]
     },
     "execution_count": 33,
     "metadata": {},
     "output_type": "execute_result"
    }
   ],
   "source": [
    "t3 = (1, 2, 3)\n",
    "va == t3"
   ]
  },
  {
   "cell_type": "markdown",
   "id": "d475bd54",
   "metadata": {},
   "source": [
    "## 16.5 杂谈"
   ]
  },
  {
   "cell_type": "markdown",
   "id": "a2a7b7f7",
   "metadata": {},
   "source": [
    "- 运算符重载的优缺点讨论：\n",
    "     - James Gosling（Java之父）：世界上有成千上万个运算符，只有少数几个适合重载。决定不让Java支持运算符重载。\n",
    "     - Guido van Rossum（Python之父）：不放任用户随意创建像`<=>`或`:)`这样新的运算符，这样禁止了用户对运算符的异想天开，而且能让Python解析器保持简单。社区中约有10%的人能正确地使用和真正关心运算符重载。\n",
    "     - 作者：重载的运算符，如果使用得当，的确能让代码更易于阅读和编写。"
   ]
  }
 ],
 "metadata": {
  "kernelspec": {
   "display_name": "Python 3 (ipykernel)",
   "language": "python",
   "name": "python3"
  },
  "language_info": {
   "codemirror_mode": {
    "name": "ipython",
    "version": 3
   },
   "file_extension": ".py",
   "mimetype": "text/x-python",
   "name": "python",
   "nbconvert_exporter": "python",
   "pygments_lexer": "ipython3",
   "version": "3.10.5"
  }
 },
 "nbformat": 4,
 "nbformat_minor": 5
}
