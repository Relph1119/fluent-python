{
 "cells": [
  {
   "cell_type": "markdown",
   "id": "90465718",
   "metadata": {},
   "source": [
    "# 第7章 函数是一等对象"
   ]
  },
  {
   "cell_type": "markdown",
   "id": "49c3677e",
   "metadata": {},
   "source": [
    "## 7.1 把函数视为对象"
   ]
  },
  {
   "cell_type": "code",
   "execution_count": 1,
   "id": "504cd011",
   "metadata": {},
   "outputs": [],
   "source": [
    "# 创建并测试一个函数\n",
    "def factorial(n):\n",
    "    \"\"\"return n!\"\"\"\n",
    "    return 1 if n < 2 else n * factorial(n - 1)"
   ]
  },
  {
   "cell_type": "code",
   "execution_count": 2,
   "id": "ba5d26b5",
   "metadata": {},
   "outputs": [],
   "source": [
    "fact = factorial"
   ]
  },
  {
   "cell_type": "code",
   "execution_count": 3,
   "id": "fab05804",
   "metadata": {},
   "outputs": [
    {
     "data": {
      "text/plain": [
       "120"
      ]
     },
     "execution_count": 3,
     "metadata": {},
     "output_type": "execute_result"
    }
   ],
   "source": [
    "fact(5)"
   ]
  },
  {
   "cell_type": "code",
   "execution_count": 4,
   "id": "045f3507",
   "metadata": {},
   "outputs": [
    {
     "data": {
      "text/plain": [
       "[1, 1, 2, 6, 24, 120, 720, 5040, 40320, 362880, 3628800]"
      ]
     },
     "execution_count": 4,
     "metadata": {},
     "output_type": "execute_result"
    }
   ],
   "source": [
    "list(map(factorial, range(11)))"
   ]
  },
  {
   "cell_type": "markdown",
   "id": "036f95d2",
   "metadata": {},
   "source": [
    "- 将函数赋值给变量，通过变量名调用。\n",
    "- 把函数作为参数传给`map`函数，返回一个可迭代对象。"
   ]
  },
  {
   "cell_type": "markdown",
   "id": "2ad338db",
   "metadata": {},
   "source": [
    "## 7.2 高阶函数"
   ]
  },
  {
   "cell_type": "markdown",
   "id": "f9685696",
   "metadata": {},
   "source": [
    "- map的替代：使用列表推导式。\n",
    "- filter的替代：在列表推导式中使用`if`过滤。\n",
    "- reduce的替代：使用内置函数，比如`sum`、`all`、`any`等。"
   ]
  },
  {
   "cell_type": "markdown",
   "id": "5ba77e34",
   "metadata": {},
   "source": [
    "## 7.3 9种可调用对象"
   ]
  },
  {
   "cell_type": "markdown",
   "id": "d6c10cf1",
   "metadata": {},
   "source": [
    "- 用户定义的函数：使用`def`语句或`lambda`表达式创建的函数。\n",
    "- 内置函数：例如`len`或`time.strftime`。\n",
    "- 内置方法：例如`dict.get`。\n",
    "- 方法：在类主体中定义的函数。\n",
    "- 类：调用类时运行类的`__new__`方法创建一个实例，然后运行`__init__`方法，初始化实例，最后把实例返回给调用方。\n",
    "- 类的实例：如果定义了`__call__`方法，实例可以作为函数调用。\n",
    "- 生成器函数：主体中有`yield`关键字的函数或方法，返回一个生成器对象。\n",
    "- 原生协程函数：使用`async def`定义的函数或方法，返回一个协程对象。\n",
    "- 异步生成器函数：使用`async def`定义，而且主体中有`yield`关键字的函数或方法，返回一个异步生成器，供`async for`使用。"
   ]
  },
  {
   "cell_type": "markdown",
   "id": "5ba40681",
   "metadata": {},
   "source": [
    "## 7.4 仅限关键字参数"
   ]
  },
  {
   "cell_type": "code",
   "execution_count": 6,
   "id": "758d4b88",
   "metadata": {},
   "outputs": [],
   "source": [
    "def tag(name, *content, class_=None, **attrs):\n",
    "    \"\"\"生成一个或多个HTML标签\"\"\"\n",
    "    if class_ is not None:\n",
    "        attrs['class'] = class_\n",
    "    attr_pairs = (f' {attr}=\"{value}\"' for attr, value\n",
    "                    in sorted(attrs.items()))\n",
    "    attr_str = ''.join(attr_pairs)\n",
    "    if content:\n",
    "        elements = (f'<{name}{attr_str}>{c}</{name}>'\n",
    "                    for c in content)\n",
    "        return '\\n'.join(elements)\n",
    "    else:\n",
    "        return f'<{name}{attr_str} />'"
   ]
  },
  {
   "cell_type": "code",
   "execution_count": 8,
   "id": "db964475",
   "metadata": {},
   "outputs": [
    {
     "data": {
      "text/plain": [
       "'<br />'"
      ]
     },
     "execution_count": 8,
     "metadata": {},
     "output_type": "execute_result"
    }
   ],
   "source": [
    "# 传入单个位置参数\n",
    "tag('br')"
   ]
  },
  {
   "cell_type": "code",
   "execution_count": 9,
   "id": "7d47ced3",
   "metadata": {},
   "outputs": [
    {
     "data": {
      "text/plain": [
       "'<p>hello</p>'"
      ]
     },
     "execution_count": 9,
     "metadata": {},
     "output_type": "execute_result"
    }
   ],
   "source": [
    "# 第一个参数后面的任意数量的参数被*content捕获，存入一个元组\n",
    "tag('p', 'hello')"
   ]
  },
  {
   "cell_type": "code",
   "execution_count": 10,
   "id": "a5dda10e",
   "metadata": {},
   "outputs": [
    {
     "data": {
      "text/plain": [
       "'<p id=\"3\">hello</p>'"
      ]
     },
     "execution_count": 10,
     "metadata": {},
     "output_type": "execute_result"
    }
   ],
   "source": [
    "# tag函数签名中没有明确指定名称的关键字参数被**attrs捕获，存入一个字典\n",
    "tag('p', 'hello', id=3)"
   ]
  },
  {
   "cell_type": "code",
   "execution_count": 12,
   "id": "25048dc4",
   "metadata": {},
   "outputs": [
    {
     "name": "stdout",
     "output_type": "stream",
     "text": [
      "<p class=\"sidebar\">hello</p>\n",
      "<p class=\"sidebar\">world</p>\n"
     ]
    }
   ],
   "source": [
    "# class_参数智能作为关键字参数传入\n",
    "print(tag('p', 'hello', 'world', class_='sidebar'))"
   ]
  },
  {
   "cell_type": "code",
   "execution_count": 13,
   "id": "9aa78137",
   "metadata": {},
   "outputs": [
    {
     "data": {
      "text/plain": [
       "'<img content=\"testing\" />'"
      ]
     },
     "execution_count": 13,
     "metadata": {},
     "output_type": "execute_result"
    }
   ],
   "source": [
    "# 第一个位置参数也能作为关键字参数传入\n",
    "tag(content='testing', name='img')"
   ]
  },
  {
   "cell_type": "code",
   "execution_count": 14,
   "id": "eac230cf",
   "metadata": {},
   "outputs": [
    {
     "data": {
      "text/plain": [
       "'<img class=\"framed\" src=\"sunset.jpg\" title=\"Sunset Boulevard\" />'"
      ]
     },
     "execution_count": 14,
     "metadata": {},
     "output_type": "execute_result"
    }
   ],
   "source": [
    "# 加上**之后，字典中的所有项作为参数依次传入\n",
    "my_tag = {'name': 'img', 'title': 'Sunset Boulevard',\n",
    "           'src': 'sunset.jpg', 'class': 'framed'}\n",
    "tag(**my_tag)"
   ]
  },
  {
   "cell_type": "markdown",
   "id": "56d06a34",
   "metadata": {},
   "source": [
    "## 7.5 支持函数式编程的包"
   ]
  },
  {
   "cell_type": "markdown",
   "id": "4b317449",
   "metadata": {},
   "source": [
    "### 7.5.1 operator模块"
   ]
  },
  {
   "cell_type": "code",
   "execution_count": 15,
   "id": "4272dd20",
   "metadata": {},
   "outputs": [],
   "source": [
    "# 使用reduce函数和operator.mul函数计算阶乘\n",
    "from functools import reduce\n",
    "from operator import mul\n",
    "\n",
    "def factorial(n):\n",
    "    return reduce(mul, range(1, n + 1))"
   ]
  },
  {
   "cell_type": "code",
   "execution_count": 16,
   "id": "796a299a",
   "metadata": {},
   "outputs": [
    {
     "name": "stdout",
     "output_type": "stream",
     "text": [
      "('São Paulo', 'BR', 19.649, (-23.547778, -46.635833))\n",
      "('Delhi NCR', 'IN', 21.935, (28.613889, 77.208889))\n",
      "('Tokyo', 'JP', 36.933, (35.689722, 139.691667))\n",
      "('Mexico City', 'MX', 20.142, (19.433333, -99.133333))\n",
      "('New York-Newark', 'US', 20.104, (40.808611, -74.020386))\n"
     ]
    }
   ],
   "source": [
    "# 使用itemgetter排序一个元组列表\n",
    "metro_data = [\n",
    "    ('Tokyo', 'JP', 36.933, (35.689722, 139.691667)),  \n",
    "    ('Delhi NCR', 'IN', 21.935, (28.613889, 77.208889)),\n",
    "    ('Mexico City', 'MX', 20.142, (19.433333, -99.133333)),\n",
    "    ('New York-Newark', 'US', 20.104, (40.808611, -74.020386)),\n",
    "    ('São Paulo', 'BR', 19.649, (-23.547778, -46.635833)),\n",
    "]\n",
    "\n",
    "from operator import itemgetter\n",
    "\n",
    "for city in sorted(metro_data, key=itemgetter(1)):\n",
    "    print(city)"
   ]
  },
  {
   "cell_type": "code",
   "execution_count": 17,
   "id": "e1d4800d",
   "metadata": {},
   "outputs": [
    {
     "name": "stdout",
     "output_type": "stream",
     "text": [
      "('JP', 'Tokyo')\n",
      "('IN', 'Delhi NCR')\n",
      "('MX', 'Mexico City')\n",
      "('US', 'New York-Newark')\n",
      "('BR', 'São Paulo')\n"
     ]
    }
   ],
   "source": [
    "cc_name = itemgetter(1, 0)\n",
    "for city in metro_data:\n",
    "    print(cc_name(city))"
   ]
  },
  {
   "cell_type": "code",
   "execution_count": 19,
   "id": "5838a571",
   "metadata": {},
   "outputs": [],
   "source": [
    "# 使用attrgetter处理定义的具名元组metro_data\n",
    "from collections import namedtuple\n",
    "\n",
    "LatLon = namedtuple('LatLon', 'lat lon')\n",
    "Metropolis = namedtuple('Metropolis', 'name cc pop coord')\n",
    "metro_areas = [Metropolis(name, cc, pop, LatLon(lat, lon)) \n",
    "               for name, cc, pop, (lat, lon) in metro_data]"
   ]
  },
  {
   "cell_type": "code",
   "execution_count": 20,
   "id": "d9e27731",
   "metadata": {},
   "outputs": [
    {
     "data": {
      "text/plain": [
       "Metropolis(name='Tokyo', cc='JP', pop=36.933, coord=LatLon(lat=35.689722, lon=139.691667))"
      ]
     },
     "execution_count": 20,
     "metadata": {},
     "output_type": "execute_result"
    }
   ],
   "source": [
    "metro_areas[0]"
   ]
  },
  {
   "cell_type": "code",
   "execution_count": 21,
   "id": "d2f58914",
   "metadata": {},
   "outputs": [
    {
     "data": {
      "text/plain": [
       "35.689722"
      ]
     },
     "execution_count": 21,
     "metadata": {},
     "output_type": "execute_result"
    }
   ],
   "source": [
    "metro_areas[0].coord.lat"
   ]
  },
  {
   "cell_type": "code",
   "execution_count": 23,
   "id": "90b97d06",
   "metadata": {},
   "outputs": [
    {
     "name": "stdout",
     "output_type": "stream",
     "text": [
      "('São Paulo', -23.547778)\n",
      "('Mexico City', 19.433333)\n",
      "('Delhi NCR', 28.613889)\n",
      "('Tokyo', 35.689722)\n",
      "('New York-Newark', 40.808611)\n"
     ]
    }
   ],
   "source": [
    "from operator import attrgetter\n",
    "\n",
    "name_lat = attrgetter('name', 'coord.lat')\n",
    "\n",
    "for city in sorted(metro_areas, key=attrgetter('coord.lat')):\n",
    "    print(name_lat(city))"
   ]
  },
  {
   "cell_type": "code",
   "execution_count": 24,
   "id": "e42e294e",
   "metadata": {},
   "outputs": [
    {
     "data": {
      "text/plain": [
       "'THE TIME HAS COME'"
      ]
     },
     "execution_count": 24,
     "metadata": {},
     "output_type": "execute_result"
    }
   ],
   "source": [
    "# 使用methodcaller\n",
    "from operator import methodcaller\n",
    "\n",
    "s = 'The time has come'\n",
    "upcase = methodcaller('upper')\n",
    "upcase(s)"
   ]
  },
  {
   "cell_type": "code",
   "execution_count": 25,
   "id": "75030dc1",
   "metadata": {},
   "outputs": [
    {
     "data": {
      "text/plain": [
       "'The-time-has-come'"
      ]
     },
     "execution_count": 25,
     "metadata": {},
     "output_type": "execute_result"
    }
   ],
   "source": [
    "hyphenate = methodcaller('replace', ' ', '-')\n",
    "hyphenate(s)"
   ]
  },
  {
   "cell_type": "markdown",
   "id": "1ad16a59",
   "metadata": {},
   "source": [
    "### 7.5.2 使用functools.partial冻结参数"
   ]
  },
  {
   "cell_type": "code",
   "execution_count": 26,
   "id": "cbb9da31",
   "metadata": {},
   "outputs": [
    {
     "data": {
      "text/plain": [
       "21"
      ]
     },
     "execution_count": 26,
     "metadata": {},
     "output_type": "execute_result"
    }
   ],
   "source": [
    "# 使用partial把一个双参数函数改造成只需要一个参数的可调用对象\n",
    "from operator import mul\n",
    "from functools import partial\n",
    "\n",
    "triple = partial(mul, 3)\n",
    "triple(7)"
   ]
  },
  {
   "cell_type": "code",
   "execution_count": 27,
   "id": "a54fbd18",
   "metadata": {},
   "outputs": [
    {
     "data": {
      "text/plain": [
       "[3, 6, 9, 12, 15, 18, 21, 24, 27]"
      ]
     },
     "execution_count": 27,
     "metadata": {},
     "output_type": "execute_result"
    }
   ],
   "source": [
    "list(map(triple, range(1, 10)))"
   ]
  },
  {
   "cell_type": "markdown",
   "id": "10bdeeaa",
   "metadata": {},
   "source": [
    "## 7.6 杂谈"
   ]
  },
  {
   "cell_type": "markdown",
   "id": "a811deb7",
   "metadata": {},
   "source": [
    "- Python是一门函数式语言吗？\n",
    "    - Guido var Rossum（Python之父）：Python中一切好的功能都是从其他语言中借鉴来的。\n",
    "    - Python提供一等函数，打开了函数式编程的大门。\n",
    "    - `map`、`filter`和`reduce`最初目的是为Python增加lambda表达式。\n",
    "    - 影响Python函数式编程惯用法的原因是缺少尾调用消除（通过末尾递归调用，提高计算函数的内存使用效率）。\n",
    "    - 从设计上，不管函数式语言的定义如何，Python都不是一门函数式语言，只是从函数式语言中借鉴了一些好的想法。"
   ]
  },
  {
   "cell_type": "markdown",
   "id": "693039dc",
   "metadata": {},
   "source": [
    "- 匿名函数的问题：匿名函数嵌套的层级太深，不利于调试和处理错误。"
   ]
  }
 ],
 "metadata": {
  "kernelspec": {
   "display_name": "Python 3 (ipykernel)",
   "language": "python",
   "name": "python3"
  },
  "language_info": {
   "codemirror_mode": {
    "name": "ipython",
    "version": 3
   },
   "file_extension": ".py",
   "mimetype": "text/x-python",
   "name": "python",
   "nbconvert_exporter": "python",
   "pygments_lexer": "ipython3",
   "version": "3.10.5"
  }
 },
 "nbformat": 4,
 "nbformat_minor": 5
}
