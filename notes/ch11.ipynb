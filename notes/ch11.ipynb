{
 "cells": [
  {
   "cell_type": "markdown",
   "id": "b3ef7def",
   "metadata": {},
   "source": [
    "# 第11章 符合Python风格的对象"
   ]
  },
  {
   "cell_type": "markdown",
   "id": "e7277c12",
   "metadata": {},
   "source": [
    "## 11.1 对象字符串表示形式"
   ]
  },
  {
   "cell_type": "markdown",
   "id": "8be19b74",
   "metadata": {},
   "source": [
    "- repr()：便于开发者理解的方式返回对象的字符串表示形式。支持方法是`__repr__`。\n",
    "- str()：便于用户理解的方式返回对象的字符串表示形式，支持方法是`__str__`。\n",
    "- bytes()：获取对象的字节序列表示形式，支持方法是`__bytes__`。\n",
    "- format()和str.format()：以特殊的格式化代码显示对象的字符串表示形式，支持方法是`obj.__format__(format_spec)`。"
   ]
  },
  {
   "cell_type": "markdown",
   "id": "c09e5d0c",
   "metadata": {},
   "source": [
    "## 11.2 向量类实现"
   ]
  },
  {
   "cell_type": "markdown",
   "id": "1994258a",
   "metadata": {},
   "source": [
    "**需求：**\n",
    "1. Vector2d实例的分量可以直接通过属性访问（无需调用读值方法）。\n",
    "2. Vector2d实例可以拆包成变量元组。\n",
    "3. Vector2d实例的表示形式模拟源码构建的实例的形式。\n",
    "4. 可以支持`==`比较。\n",
    "5. 支持`bytes`函数，输出实例的二进制表示形式。\n",
    "6. 支持`abs`函数，返回Vector2d实例的模。\n",
    "7. 支持`bool`函数，如果Vector2d实例的模为零，就返回False，否则返回True。"
   ]
  },
  {
   "cell_type": "code",
   "execution_count": 22,
   "id": "3fcb4f7e",
   "metadata": {},
   "outputs": [],
   "source": [
    "from array import array\n",
    "import math\n",
    "\n",
    "\n",
    "class Vector2d_v1:\n",
    "    # 在Vector2d实例和字节序列之间转换时使用\n",
    "    typecode = 'd'\n",
    "\n",
    "    def __init__(self, x, y):\n",
    "        self.x = float(x)   \n",
    "        self.y = float(y)\n",
    "\n",
    "    def __iter__(self):\n",
    "        # 将实例变成可迭代对象\n",
    "        return (i for i in (self.x, self.y))\n",
    "\n",
    "    def __repr__(self):\n",
    "        class_name = type(self).__name__\n",
    "        # 使用!r获取各个分量的表示形式\n",
    "        return '{}({!r}, {!r})'.format(class_name, *self) \n",
    "\n",
    "    def __str__(self):\n",
    "        # 得到一个元组，显示为有序对\n",
    "        return str(tuple(self))\n",
    "\n",
    "    def __bytes__(self):\n",
    "        return (bytes([ord(self.typecode)]) +  \n",
    "                bytes(array(self.typecode, self)))  \n",
    "\n",
    "    def __eq__(self, other):\n",
    "        return tuple(self) == tuple(other)  \n",
    "\n",
    "    def __abs__(self):\n",
    "        # 计算x分量和y分量构成的直角三角形的斜边长\n",
    "        return math.hypot(self.x, self.y)  \n",
    "\n",
    "    def __bool__(self):\n",
    "        return bool(abs(self)) \n",
    "    \n",
    "    def angle(self):\n",
    "        return math.atan2(self.y, self.x)\n",
    "    \n",
    "    def __format__(self, fmt_spec=''):\n",
    "        if fmt_spec.endswith('p'):\n",
    "            # 如果以p结尾，使用极坐标\n",
    "            fmt_spec = fmt_spec[:-1]\n",
    "            # 构建元组表示极坐标\n",
    "            coords = (abs(self), self.angle())\n",
    "            outer_fmt = '<{}, {}>' \n",
    "        else:\n",
    "            # 如果不以p结尾，使用x分量和y分量构建直角坐标\n",
    "            coords = self \n",
    "            outer_fmt = '({}, {})'  \n",
    "        components = (format(c, fmt_spec) for c in coords) \n",
    "        return outer_fmt.format(*components)\n",
    "    \n",
    "    @classmethod \n",
    "    def frombytes(cls, octets):\n",
    "        # 从第一个字节中读取tpyecode\n",
    "        typecode = chr(octets[0]) \n",
    "        # 创建一个memoryview，使用typecode进行转换\n",
    "        memv = memoryview(octets[1:]).cast(typecode)\n",
    "        # 得到构造函数所需的一对参数\n",
    "        return cls(*memv)\n",
    "    \n",
    "        "
   ]
  },
  {
   "cell_type": "code",
   "execution_count": 23,
   "id": "c3505191",
   "metadata": {},
   "outputs": [
    {
     "name": "stdout",
     "output_type": "stream",
     "text": [
      "3.0 4.0\n"
     ]
    }
   ],
   "source": [
    "v1 = Vector2d_v1(3, 4)\n",
    "print(v1.x, v1.y)"
   ]
  },
  {
   "cell_type": "code",
   "execution_count": 24,
   "id": "431944ad",
   "metadata": {},
   "outputs": [
    {
     "data": {
      "text/plain": [
       "(3.0, 4.0)"
      ]
     },
     "execution_count": 24,
     "metadata": {},
     "output_type": "execute_result"
    }
   ],
   "source": [
    "x, y = v1\n",
    "x, y"
   ]
  },
  {
   "cell_type": "code",
   "execution_count": 25,
   "id": "e35242c2",
   "metadata": {},
   "outputs": [
    {
     "data": {
      "text/plain": [
       "Vector2d_v1(3.0, 4.0)"
      ]
     },
     "execution_count": 25,
     "metadata": {},
     "output_type": "execute_result"
    }
   ],
   "source": [
    "v1"
   ]
  },
  {
   "cell_type": "code",
   "execution_count": 26,
   "id": "01b528ee",
   "metadata": {},
   "outputs": [
    {
     "data": {
      "text/plain": [
       "True"
      ]
     },
     "execution_count": 26,
     "metadata": {},
     "output_type": "execute_result"
    }
   ],
   "source": [
    "v1_clone = eval(repr(v1))\n",
    "v1 == v1_clone"
   ]
  },
  {
   "cell_type": "code",
   "execution_count": 27,
   "id": "ba45b640",
   "metadata": {},
   "outputs": [
    {
     "data": {
      "text/plain": [
       "b'd\\x00\\x00\\x00\\x00\\x00\\x00\\x08@\\x00\\x00\\x00\\x00\\x00\\x00\\x10@'"
      ]
     },
     "execution_count": 27,
     "metadata": {},
     "output_type": "execute_result"
    }
   ],
   "source": [
    "octets = bytes(v1)\n",
    "octets"
   ]
  },
  {
   "cell_type": "code",
   "execution_count": 28,
   "id": "831b8c71",
   "metadata": {},
   "outputs": [
    {
     "data": {
      "text/plain": [
       "5.0"
      ]
     },
     "execution_count": 28,
     "metadata": {},
     "output_type": "execute_result"
    }
   ],
   "source": [
    "abs(v1)"
   ]
  },
  {
   "cell_type": "code",
   "execution_count": 29,
   "id": "92a236df",
   "metadata": {},
   "outputs": [
    {
     "data": {
      "text/plain": [
       "(True, False)"
      ]
     },
     "execution_count": 29,
     "metadata": {},
     "output_type": "execute_result"
    }
   ],
   "source": [
    "bool(v1), bool(Vector2d_v1(0, 0))"
   ]
  },
  {
   "cell_type": "markdown",
   "id": "a0a93646",
   "metadata": {},
   "source": [
    "## 11.3 classmethod与staticmethod"
   ]
  },
  {
   "cell_type": "markdown",
   "id": "88dd0cd8",
   "metadata": {},
   "source": [
    "- classmethod：定义操作类而不是操作实例的方法，常见用途是定义备选构造函数。\n",
    "- staticmethod：静态方法，不是特别有用。"
   ]
  },
  {
   "cell_type": "markdown",
   "id": "a48966df",
   "metadata": {},
   "source": [
    "## 11.4 格式化显示"
   ]
  },
  {
   "cell_type": "markdown",
   "id": "d4cb123e",
   "metadata": {},
   "source": [
    "格式规范微语言为一些内置类型提供了专用的表示代码，`b`和`x`分别表示二进制和十六进制的`int`类型，`f`表示小数形式的`float`类型，`%`表示百分数形式。"
   ]
  },
  {
   "cell_type": "code",
   "execution_count": 30,
   "id": "5c1f56b0",
   "metadata": {},
   "outputs": [
    {
     "data": {
      "text/plain": [
       "'<1.4142135623730951, 0.7853981633974483>'"
      ]
     },
     "execution_count": 30,
     "metadata": {},
     "output_type": "execute_result"
    }
   ],
   "source": [
    "format(Vector2d_v1(1, 1), 'p')"
   ]
  },
  {
   "cell_type": "code",
   "execution_count": 31,
   "id": "c28efe1d",
   "metadata": {},
   "outputs": [
    {
     "data": {
      "text/plain": [
       "'<1.414e+00, 7.854e-01>'"
      ]
     },
     "execution_count": 31,
     "metadata": {},
     "output_type": "execute_result"
    }
   ],
   "source": [
    "format(Vector2d_v1(1, 1), '.3ep')"
   ]
  },
  {
   "cell_type": "code",
   "execution_count": 32,
   "id": "a40730ce",
   "metadata": {},
   "outputs": [
    {
     "data": {
      "text/plain": [
       "'<1.41421, 0.78540>'"
      ]
     },
     "execution_count": 32,
     "metadata": {},
     "output_type": "execute_result"
    }
   ],
   "source": [
    "format(Vector2d_v1(1, 1), '0.5fp')"
   ]
  },
  {
   "cell_type": "markdown",
   "id": "08518dd7",
   "metadata": {},
   "source": [
    "## 11.5 可哈希的Vector2d和支持位置模式匹配"
   ]
  },
  {
   "cell_type": "code",
   "execution_count": 33,
   "id": "b327124f",
   "metadata": {},
   "outputs": [],
   "source": [
    "from array import array\n",
    "import math\n",
    "\n",
    "class Vector2d_v2:\n",
    "    __match_args__ = ('x', 'y')\n",
    "\n",
    "    typecode = 'd'\n",
    "\n",
    "    def __init__(self, x, y):\n",
    "        self.__x = float(x)\n",
    "        self.__y = float(y)\n",
    "\n",
    "    @property\n",
    "    def x(self):\n",
    "        return self.__x\n",
    "\n",
    "    @property\n",
    "    def y(self):\n",
    "        return self.__y\n",
    "\n",
    "    def __iter__(self):\n",
    "        return (i for i in (self.x, self.y))\n",
    "\n",
    "    def __repr__(self):\n",
    "        class_name = type(self).__name__\n",
    "        return '{}({!r}, {!r})'.format(class_name, *self)\n",
    "\n",
    "    def __str__(self):\n",
    "        return str(tuple(self))\n",
    "\n",
    "    def __bytes__(self):\n",
    "        return (bytes([ord(self.typecode)]) +\n",
    "                bytes(array(self.typecode, self)))\n",
    "\n",
    "    def __eq__(self, other):\n",
    "        return tuple(self) == tuple(other)\n",
    "\n",
    "    def __hash__(self):\n",
    "        return hash((self.x, self.y))\n",
    "\n",
    "    def __abs__(self):\n",
    "        return math.hypot(self.x, self.y)\n",
    "\n",
    "    def __bool__(self):\n",
    "        return bool(abs(self))\n",
    "\n",
    "    def angle(self):\n",
    "        return math.atan2(self.y, self.x)\n",
    "\n",
    "    def __format__(self, fmt_spec=''):\n",
    "        if fmt_spec.endswith('p'):\n",
    "            fmt_spec = fmt_spec[:-1]\n",
    "            coords = (abs(self), self.angle())\n",
    "            outer_fmt = '<{}, {}>'\n",
    "        else:\n",
    "            coords = self\n",
    "            outer_fmt = '({}, {})'\n",
    "        components = (format(c, fmt_spec) for c in coords)\n",
    "        return outer_fmt.format(*components)\n",
    "\n",
    "    @classmethod\n",
    "    def frombytes(cls, octets):\n",
    "        typecode = chr(octets[0])\n",
    "        memv = memoryview(octets[1:]).cast(typecode)\n",
    "        return cls(*memv)"
   ]
  },
  {
   "cell_type": "code",
   "execution_count": 34,
   "id": "917a6c29",
   "metadata": {},
   "outputs": [
    {
     "data": {
      "text/plain": [
       "(1079245023883434373, 1994163070182233067)"
      ]
     },
     "execution_count": 34,
     "metadata": {},
     "output_type": "execute_result"
    }
   ],
   "source": [
    "# 支持可哈希\n",
    "v1 = Vector2d_v2(3, 4)\n",
    "v2 = Vector2d_v2(3.1, 4.2)\n",
    "hash(v1), hash(v2)"
   ]
  },
  {
   "cell_type": "code",
   "execution_count": 35,
   "id": "b1863d70",
   "metadata": {},
   "outputs": [
    {
     "data": {
      "text/plain": [
       "{Vector2d_v2(3.0, 4.0), Vector2d_v2(3.1, 4.2)}"
      ]
     },
     "execution_count": 35,
     "metadata": {},
     "output_type": "execute_result"
    }
   ],
   "source": [
    "{v1, v2}"
   ]
  },
  {
   "cell_type": "markdown",
   "id": "5aebb6e8",
   "metadata": {},
   "source": [
    "## 11.6 Python私有属性和“受保护”的属性"
   ]
  },
  {
   "cell_type": "markdown",
   "id": "7e193e31",
   "metadata": {},
   "source": [
    "- Python没有私有属性的保护机制，在前面加上两个前导下划线，尾部没有或最多有一个下划线，则会进行**名称改写**。\n",
    "- 约定使用一个下划线前缀编写“受保护”的属性，Python解释器不会对使用单个下划线的属性名做特殊处理。"
   ]
  },
  {
   "cell_type": "markdown",
   "id": "8000e367",
   "metadata": {},
   "source": [
    "## 11.7 使用`__slots__`节省空间"
   ]
  },
  {
   "cell_type": "code",
   "execution_count": 39,
   "id": "7cfb061c",
   "metadata": {},
   "outputs": [],
   "source": [
    "class Vector2d_v3(Vector2d_v2):\n",
    "    # 位置模式匹配可用的公开属性名称\n",
    "    __match_args__ = ('x', 'y')\n",
    "    # 列出实例属性名称\n",
    "    __slots__ = ('__x', '__y')\n",
    "\n",
    "    typecode = 'd'\n",
    "\n",
    "    def __init__(self, x, y):\n",
    "        self.__x = float(x)\n",
    "        self.__y = float(y)\n",
    "\n",
    "    @property\n",
    "    def x(self):\n",
    "        return self.__x\n",
    "\n",
    "    @property\n",
    "    def y(self):\n",
    "        return self.__y\n",
    "\n",
    "    def __iter__(self):\n",
    "        return (i for i in (self.x, self.y))\n",
    "\n",
    "    def __repr__(self):\n",
    "        class_name = type(self).__name__\n",
    "        return '{}({!r}, {!r})'.format(class_name, *self)\n",
    "\n",
    "    def __str__(self):\n",
    "        return str(tuple(self))\n",
    "\n",
    "    def __bytes__(self):\n",
    "        return (bytes([ord(self.typecode)]) +\n",
    "                bytes(array(self.typecode, self)))\n",
    "\n",
    "    def __eq__(self, other):\n",
    "        return tuple(self) == tuple(other)\n",
    "\n",
    "    def __hash__(self):\n",
    "        return hash((self.x, self.y))\n",
    "\n",
    "    def __abs__(self):\n",
    "        return math.hypot(self.x, self.y)\n",
    "\n",
    "    def __bool__(self):\n",
    "        return bool(abs(self))\n",
    "\n",
    "    def angle(self):\n",
    "        return math.atan2(self.y, self.x)\n",
    "\n",
    "    def __format__(self, fmt_spec=''):\n",
    "        if fmt_spec.endswith('p'):\n",
    "            fmt_spec = fmt_spec[:-1]\n",
    "            coords = (abs(self), self.angle())\n",
    "            outer_fmt = '<{}, {}>'\n",
    "        else:\n",
    "            coords = self\n",
    "            outer_fmt = '({}, {})'\n",
    "        components = (format(c, fmt_spec) for c in coords)\n",
    "        return outer_fmt.format(*components)\n",
    "\n",
    "    @classmethod\n",
    "    def frombytes(cls, octets):\n",
    "        typecode = chr(octets[0])\n",
    "        memv = memoryview(octets[1:]).cast(typecode)\n",
    "        return cls(*memv)"
   ]
  },
  {
   "cell_type": "code",
   "execution_count": 40,
   "id": "617a4332",
   "metadata": {},
   "outputs": [
    {
     "data": {
      "text/plain": [
       "b'd\\x9a\\x99\\x99\\x99\\x99\\x99\\xf1?\\x9a\\x99\\x99\\x99\\x99\\x99\\x01@'"
      ]
     },
     "execution_count": 40,
     "metadata": {},
     "output_type": "execute_result"
    }
   ],
   "source": [
    "v1 = Vector2d_v3(1.1, 2.2)\n",
    "dumpd = bytes(v1)\n",
    "dumpd"
   ]
  },
  {
   "cell_type": "code",
   "execution_count": 41,
   "id": "b3b1a033",
   "metadata": {},
   "outputs": [
    {
     "data": {
      "text/plain": [
       "17"
      ]
     },
     "execution_count": 41,
     "metadata": {},
     "output_type": "execute_result"
    }
   ],
   "source": [
    "len(dumpd)"
   ]
  },
  {
   "cell_type": "code",
   "execution_count": 42,
   "id": "b1873b02",
   "metadata": {},
   "outputs": [
    {
     "data": {
      "text/plain": [
       "b'f\\xcd\\xcc\\x8c?\\xcd\\xcc\\x0c@'"
      ]
     },
     "execution_count": 42,
     "metadata": {},
     "output_type": "execute_result"
    }
   ],
   "source": [
    "v1.typecode = 'f'\n",
    "dumpf = bytes(v1)\n",
    "dumpf"
   ]
  },
  {
   "cell_type": "code",
   "execution_count": 43,
   "id": "21500ca5",
   "metadata": {
    "scrolled": true
   },
   "outputs": [
    {
     "data": {
      "text/plain": [
       "9"
      ]
     },
     "execution_count": 43,
     "metadata": {},
     "output_type": "execute_result"
    }
   ],
   "source": [
    "len(dumpf)"
   ]
  },
  {
   "cell_type": "markdown",
   "id": "8984af3b",
   "metadata": {},
   "source": [
    "## 11.8 杂谈"
   ]
  },
  {
   "cell_type": "markdown",
   "id": "211bfccb",
   "metadata": {},
   "source": [
    "特性有助于减少前期投入：\n",
    "\n",
    "- 先用公开属性的方式定义类，如果以后需要对读值方法和设值方法增加控制，可以通过特性实现，对一开始通过公开属性的名称与对象交互的代码没有影响。\n",
    "- Java语言不能这样做，需要前期就编写读值方法和设值方法。"
   ]
  }
 ],
 "metadata": {
  "kernelspec": {
   "display_name": "Python 3 (ipykernel)",
   "language": "python",
   "name": "python3"
  },
  "language_info": {
   "codemirror_mode": {
    "name": "ipython",
    "version": 3
   },
   "file_extension": ".py",
   "mimetype": "text/x-python",
   "name": "python",
   "nbconvert_exporter": "python",
   "pygments_lexer": "ipython3",
   "version": "3.10.5"
  }
 },
 "nbformat": 4,
 "nbformat_minor": 5
}
