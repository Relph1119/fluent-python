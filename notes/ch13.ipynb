{
 "cells": [
  {
   "cell_type": "markdown",
   "id": "98f8f45e",
   "metadata": {},
   "source": [
    "# 第13章 接口、协议和抽象基类"
   ]
  },
  {
   "cell_type": "markdown",
   "id": "23b7cde8",
   "metadata": {},
   "source": [
    "- 鸭子类型：无需使用`isinstance`检查。\n",
    "- 大鹅类型：Python>=2.6，使用`isinstance`检查是否符合抽象基类的要求。\n",
    "- 静态类型：Python>=3.5，依靠PEP484实现的类型提示和外部类型检查工具。\n",
    "- 静态鸭子类型：Python>=3.8，依靠PEP544实现的`typing.Protocol`类型提示和外部类型检查工具。"
   ]
  },
  {
   "cell_type": "markdown",
   "id": "3d4e57cb",
   "metadata": {},
   "source": [
    "## 13.1 动态协议和静态协议"
   ]
  },
  {
   "cell_type": "markdown",
   "id": "b56e3c1b",
   "metadata": {},
   "source": [
    "**定义：**\n",
    "\n",
    "- 动态协议：Python大多数重要的动态协议由解释器支持。\n",
    "- 静态协议：使用`typing.Protocol`子类显式定义。"
   ]
  },
  {
   "cell_type": "markdown",
   "id": "12e2c9d4",
   "metadata": {},
   "source": [
    "**区别：**\n",
    "\n",
    "- 对象可以只实现动态协议的一部分，如果想满足静态协议，则对象必须提供协议类中声明的每一个方法，即使程序用不到。\n",
    "- 静态协议可以使用静态类型检查工具确认，动态协议则不能。"
   ]
  },
  {
   "cell_type": "markdown",
   "id": "cf81e5ac",
   "metadata": {},
   "source": [
    "## 13.2 利用鸭子类型编程"
   ]
  },
  {
   "cell_type": "markdown",
   "id": "66bcd886",
   "metadata": {},
   "source": [
    "### 13.2.1 猴子补丁"
   ]
  },
  {
   "cell_type": "code",
   "execution_count": 1,
   "id": "386bded6",
   "metadata": {},
   "outputs": [],
   "source": [
    "import collections\n",
    "\n",
    "Card = collections.namedtuple('Card', ['rank', 'suit'])\n",
    "\n",
    "class FrenchDeck:\n",
    "    ranks = [str(n) for n in range(2, 11)] + list('JQKA')\n",
    "    suits = 'spades diamonds clubs hearts'.split()\n",
    "\n",
    "    def __init__(self):\n",
    "        self._cards = [Card(rank, suit) for suit in self.suits\n",
    "                                        for rank in self.ranks]\n",
    "\n",
    "    def __len__(self):\n",
    "        return len(self._cards)\n",
    "\n",
    "    def __getitem__(self, position):\n",
    "        return self._cards[position]"
   ]
  },
  {
   "cell_type": "markdown",
   "id": "bfff4f2c",
   "metadata": {},
   "source": [
    "猴子补丁：在运行时动态修改模块、类或函数，以增加功能或修正bug。"
   ]
  },
  {
   "cell_type": "code",
   "execution_count": 4,
   "id": "ac6b6c2d",
   "metadata": {},
   "outputs": [],
   "source": [
    "def set_card(deck, position, card):\n",
    "    deck._cards[position] = card\n",
    "\n",
    "# 打猴子补丁，把它变成可变序列\n",
    "FrenchDeck.__setitem__ = set_card"
   ]
  },
  {
   "cell_type": "code",
   "execution_count": 5,
   "id": "fdd34195",
   "metadata": {},
   "outputs": [
    {
     "data": {
      "text/plain": [
       "[Card(rank='5', suit='clubs'),\n",
       " Card(rank='A', suit='diamonds'),\n",
       " Card(rank='3', suit='spades'),\n",
       " Card(rank='4', suit='clubs'),\n",
       " Card(rank='Q', suit='spades')]"
      ]
     },
     "execution_count": 5,
     "metadata": {},
     "output_type": "execute_result"
    }
   ],
   "source": [
    "from random import shuffle\n",
    "\n",
    "deck = FrenchDeck()\n",
    "\n",
    "shuffle(deck)\n",
    "deck[:5]"
   ]
  },
  {
   "cell_type": "markdown",
   "id": "b53a4d6a",
   "metadata": {},
   "source": [
    "以上代码，强调了猴子补丁，在运行时修改类或模块，而不改动源码，打补丁的代码与被打补丁的程序耦合十分紧密，而且往往要处理文档没有明确说明的私有属性。"
   ]
  },
  {
   "cell_type": "markdown",
   "id": "d085ce8e",
   "metadata": {},
   "source": [
    "### 13.2.2 防御性编程和“快速失败”"
   ]
  },
  {
   "cell_type": "markdown",
   "id": "be988493",
   "metadata": {},
   "source": [
    "- 如果一个函数接收一系列项，在内部按照列表处理，可以立即利用参数构造一个列表。"
   ]
  },
  {
   "cell_type": "code",
   "execution_count": 6,
   "id": "f5c89947",
   "metadata": {},
   "outputs": [],
   "source": [
    "def __init__(self, iterable):\n",
    "    self._balls = list(iterable)"
   ]
  },
  {
   "cell_type": "markdown",
   "id": "1f6333ee",
   "metadata": {},
   "source": [
    "- 如果数据太多，需要就地修改数据，则应该使用`isinstance(x, abc.MutableSequence)`。"
   ]
  },
  {
   "cell_type": "markdown",
   "id": "4bba351d",
   "metadata": {},
   "source": [
    "- 如果担心传入的是无穷生成器，则可以先使用`len()`获取参数的长度，遇到无效参数会立即抛出错误。"
   ]
  },
  {
   "cell_type": "markdown",
   "id": "c8ea115d",
   "metadata": {},
   "source": [
    "## 13.3 大鹅类型"
   ]
  },
  {
   "cell_type": "markdown",
   "id": "ae2ef70d",
   "metadata": {},
   "source": [
    "大鹅类型的要求：\n",
    "- 定义抽象基类的子类，明确表明在实现既有的接口。\n",
    "- 运行时检查类型时，`isinstance`和`issubclass`的第二个参数要使用抽象基类，而不是具体类。"
   ]
  },
  {
   "cell_type": "markdown",
   "id": "f9dd62b3",
   "metadata": {},
   "source": [
    "### 13.3.1 子类化一个抽象基类"
   ]
  },
  {
   "cell_type": "code",
   "execution_count": 7,
   "id": "d4926769",
   "metadata": {},
   "outputs": [],
   "source": [
    "from collections import namedtuple, abc\n",
    "\n",
    "Card = namedtuple('Card', ['rank', 'suit'])\n",
    "\n",
    "class FrenchDeck2(abc.MutableSequence):\n",
    "    ranks = [str(n) for n in range(2, 11)] + list('JQKA')\n",
    "    suits = 'spades diamonds clubs hearts'.split()\n",
    "\n",
    "    def __init__(self):\n",
    "        self._cards = [Card(rank, suit) for suit in self.suits\n",
    "                                        for rank in self.ranks]\n",
    "\n",
    "    def __len__(self):\n",
    "        return len(self._cards)\n",
    "\n",
    "    def __getitem__(self, position):\n",
    "        return self._cards[position]\n",
    "\n",
    "    def __setitem__(self, position, value):\n",
    "        self._cards[position] = value\n",
    "\n",
    "    def __delitem__(self, position):\n",
    "        del self._cards[position]\n",
    "\n",
    "    def insert(self, position, value):\n",
    "        self._cards.insert(position, value)"
   ]
  },
  {
   "cell_type": "markdown",
   "id": "614f9488",
   "metadata": {},
   "source": [
    "**改进方案：**\n",
    "1. 新增`__setitem__`方法，支持洗牌操作。\n",
    "2. 继承了`MutableSequence`类，还需新增`__delitem__`方法和`insert`方法。"
   ]
  },
  {
   "cell_type": "markdown",
   "id": "2e09b593",
   "metadata": {},
   "source": [
    "### 13.3.2 定义并使用一个抽象基类"
   ]
  },
  {
   "cell_type": "code",
   "execution_count": 10,
   "id": "725c5dd8",
   "metadata": {},
   "outputs": [],
   "source": [
    "import abc\n",
    "\n",
    "class Tombola(abc.ABC):\n",
    "\n",
    "    @abc.abstractmethod\n",
    "    def load(self, iterable):         \n",
    "        \"\"\"从可迭代对象中添加元素\"\"\"\n",
    "\n",
    "    @abc.abstractmethod\n",
    "    def pick(self):  # <3>\n",
    "        \"\"\"随机删除元素，再返回被删除的元素。\n",
    "        \n",
    "        如果实例为空，那么这个方法应该抛出LookupError\n",
    "        \"\"\"\n",
    "\n",
    "    def loaded(self):\n",
    "        \"\"\"如果至少有一个元素，就返回True，否则返回False\"\"\"\n",
    "        return bool(self.inspect())\n",
    "\n",
    "    def inspect(self):\n",
    "        \"\"\"返回由容器中的当前元素构成的有序元组\"\"\"\n",
    "        items = []\n",
    "        while True:\n",
    "            try:\n",
    "                items.append(self.pick())\n",
    "            except LookupError:\n",
    "                break\n",
    "        self.load(items)  \n",
    "        return tuple(items)"
   ]
  },
  {
   "cell_type": "markdown",
   "id": "06149c0d",
   "metadata": {},
   "source": [
    "### 13.3.3 子类化抽象基类Tombola"
   ]
  },
  {
   "cell_type": "code",
   "execution_count": 11,
   "id": "b0584bd5",
   "metadata": {},
   "outputs": [],
   "source": [
    "import random\n",
    "\n",
    "class BingoCage(Tombola):\n",
    "\n",
    "    def __init__(self, items):\n",
    "        # 使用随机发生器\n",
    "        self._randomizer = random.SystemRandom()\n",
    "        self._items = []\n",
    "        # 实现初始加载\n",
    "        self.load(items)\n",
    "\n",
    "    def load(self, items):\n",
    "        self._items.extend(items)\n",
    "        # 使用随机发生器打乱序列\n",
    "        self._randomizer.shuffle(self._items)\n",
    "\n",
    "    def pick(self):\n",
    "        try:\n",
    "            return self._items.pop()\n",
    "        except IndexError:\n",
    "            raise LookupError('pick from empty BingoCage')\n",
    "\n",
    "    def __call__(self):\n",
    "        self.pick()"
   ]
  },
  {
   "cell_type": "markdown",
   "id": "bebe5fcd",
   "metadata": {},
   "source": [
    "上述代码的`load`方法很耗时和`inspect`方法很笨拙，都可以覆盖调，以下代码进行了优化。"
   ]
  },
  {
   "cell_type": "code",
   "execution_count": 12,
   "id": "7ac87097",
   "metadata": {},
   "outputs": [],
   "source": [
    "class LottoBlower(Tombola):\n",
    "\n",
    "    def __init__(self, iterable):\n",
    "        self._balls = list(iterable)\n",
    "\n",
    "    def load(self, iterable):\n",
    "        self._balls.extend(iterable)\n",
    "\n",
    "    def pick(self):\n",
    "        try:\n",
    "            position = random.randrange(len(self._balls))\n",
    "        except ValueError:\n",
    "            raise LookupError('pick from empty LottoBlower')\n",
    "        # 取出一个随机位置上的球\n",
    "        return self._balls.pop(position)\n",
    "\n",
    "    def loaded(self):\n",
    "        return bool(self._balls)\n",
    "\n",
    "    def inspect(self):\n",
    "        return tuple(self._balls)"
   ]
  },
  {
   "cell_type": "markdown",
   "id": "65d118bd",
   "metadata": {},
   "source": [
    "### 13.3.4 抽象基类的虚拟子类"
   ]
  },
  {
   "cell_type": "markdown",
   "id": "2f9ca014",
   "metadata": {},
   "source": [
    "大鹅类型的重要特性：\n",
    "- 使用`register`的装饰器，将一个类注册为抽象基类的虚拟子类。\n",
    "- 注册的类变成抽象基类的虚拟子类，而且`issubclass`函数能够识别这种关系，但是注册的类不会从抽象基类中集成任何方法或属性。"
   ]
  },
  {
   "cell_type": "code",
   "execution_count": 13,
   "id": "8e8fa30b",
   "metadata": {},
   "outputs": [],
   "source": [
    "from random import randrange\n",
    "\n",
    "@Tombola.register\n",
    "class TomboList(list):  \n",
    "\n",
    "    def pick(self):\n",
    "        if self:  \n",
    "            # 获得随机的元素索引\n",
    "            position = randrange(len(self))\n",
    "            return self.pop(position)  \n",
    "        else:\n",
    "            raise LookupError('pop from empty TomboList')\n",
    "\n",
    "    load = list.extend  \n",
    "\n",
    "    def loaded(self):\n",
    "        return bool(self)  \n",
    "\n",
    "    def inspect(self):\n",
    "        return tuple(self)"
   ]
  },
  {
   "cell_type": "code",
   "execution_count": 14,
   "id": "a10fabf3",
   "metadata": {},
   "outputs": [
    {
     "data": {
      "text/plain": [
       "__main__.TomboList"
      ]
     },
     "execution_count": 14,
     "metadata": {},
     "output_type": "execute_result"
    }
   ],
   "source": [
    "Tombola.register(TomboList)"
   ]
  },
  {
   "cell_type": "code",
   "execution_count": 15,
   "id": "280eda55",
   "metadata": {},
   "outputs": [
    {
     "data": {
      "text/plain": [
       "True"
      ]
     },
     "execution_count": 15,
     "metadata": {},
     "output_type": "execute_result"
    }
   ],
   "source": [
    "issubclass(TomboList, Tombola)"
   ]
  },
  {
   "cell_type": "code",
   "execution_count": 16,
   "id": "2dc315f7",
   "metadata": {},
   "outputs": [
    {
     "data": {
      "text/plain": [
       "True"
      ]
     },
     "execution_count": 16,
     "metadata": {},
     "output_type": "execute_result"
    }
   ],
   "source": [
    "t = TomboList(range(100))\n",
    "isinstance(t, Tombola)"
   ]
  },
  {
   "cell_type": "code",
   "execution_count": 17,
   "id": "b43375e4",
   "metadata": {},
   "outputs": [
    {
     "data": {
      "text/plain": [
       "(__main__.TomboList, list, object)"
      ]
     },
     "execution_count": 17,
     "metadata": {},
     "output_type": "execute_result"
    }
   ],
   "source": [
    "# 类的继承关系\n",
    "TomboList.__mro__"
   ]
  },
  {
   "cell_type": "markdown",
   "id": "be21ad61",
   "metadata": {},
   "source": [
    "## 13.4 静态协议"
   ]
  },
  {
   "cell_type": "markdown",
   "id": "44b004d9",
   "metadata": {},
   "source": [
    "### 13.4.1 为double函数添加类型提示"
   ]
  },
  {
   "cell_type": "code",
   "execution_count": 18,
   "id": "43c52c6f",
   "metadata": {},
   "outputs": [],
   "source": [
    "from typing import TypeVar, Protocol\n",
    "\n",
    "# 定义泛型\n",
    "T = TypeVar('T')\n",
    "\n",
    "class Repeatable(Protocol):\n",
    "    def __mul__(self: T, repeat_count: int) -> T: ...  \n",
    "\n",
    "RT = TypeVar('RT', bound=Repeatable)\n",
    "\n",
    "def double(x: RT) -> RT:\n",
    "    return x * 2"
   ]
  },
  {
   "cell_type": "markdown",
   "id": "9d15f97c",
   "metadata": {},
   "source": [
    "### 13.4.2 设计一个静态协议"
   ]
  },
  {
   "cell_type": "markdown",
   "id": "f43cb676",
   "metadata": {},
   "source": [
    "**运行时协议检查的局限性：**`isinstance`或`issubclass`只检查有没有特定的方法，不检查方法的签名，更不会检查方法的类型注解。"
   ]
  },
  {
   "cell_type": "code",
   "execution_count": 19,
   "id": "1f56922a",
   "metadata": {},
   "outputs": [],
   "source": [
    "from typing import runtime_checkable, Any\n",
    "\n",
    "@runtime_checkable\n",
    "class RandomPicker(Protocol):\n",
    "    def pick(self) -> Any: ..."
   ]
  },
  {
   "cell_type": "code",
   "execution_count": 21,
   "id": "b7d978f0",
   "metadata": {},
   "outputs": [],
   "source": [
    "from typing import Iterable\n",
    "\n",
    "class SimplePicker:\n",
    "    def __init__(self, items: Iterable) -> None:\n",
    "        self._items = list(items)\n",
    "        random.shuffle(self._items)\n",
    "\n",
    "    def pick(self) -> Any:\n",
    "        return self._items.pop()"
   ]
  },
  {
   "cell_type": "code",
   "execution_count": 23,
   "id": "bd18880f",
   "metadata": {},
   "outputs": [],
   "source": [
    "# 类型是相容的\n",
    "popper: RandomPicker = SimplePicker([1])\n",
    "assert isinstance(popper, RandomPicker)"
   ]
  },
  {
   "cell_type": "markdown",
   "id": "b6fc2d32",
   "metadata": {},
   "source": [
    "### 13.4.3 协议设计约定"
   ]
  },
  {
   "cell_type": "markdown",
   "id": "4facb433",
   "metadata": {},
   "source": [
    "- 使用朴素的名称命名协议，清楚表明概念。\n",
    "- 使用SupportsX形式命名提供可调用方法的协议。\n",
    "- 使用HasX形式命名有可读属性和可写属性，或者有读值方法和设值方法的协议。"
   ]
  }
 ],
 "metadata": {
  "kernelspec": {
   "display_name": "Python 3 (ipykernel)",
   "language": "python",
   "name": "python3"
  },
  "language_info": {
   "codemirror_mode": {
    "name": "ipython",
    "version": 3
   },
   "file_extension": ".py",
   "mimetype": "text/x-python",
   "name": "python",
   "nbconvert_exporter": "python",
   "pygments_lexer": "ipython3",
   "version": "3.10.5"
  }
 },
 "nbformat": 4,
 "nbformat_minor": 5
}
