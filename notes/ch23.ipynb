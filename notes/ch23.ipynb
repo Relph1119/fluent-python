{
 "cells": [
  {
   "cell_type": "markdown",
   "id": "5bc24090",
   "metadata": {},
   "source": [
    "# 第23章 属性描述符"
   ]
  },
  {
   "cell_type": "markdown",
   "id": "320f4f8d",
   "metadata": {},
   "source": [
    "## 23.1 描述符示例：属性验证"
   ]
  },
  {
   "cell_type": "markdown",
   "id": "909cc9bd",
   "metadata": {},
   "source": [
    "### 23.1.1 描述符相关术语"
   ]
  },
  {
   "cell_type": "markdown",
   "id": "3bca24e3",
   "metadata": {},
   "source": [
    "- 描述符类：实现描述符协议的类。\n",
    "- 托管类：把描述符实例声明为类属性的类。\n",
    "- 描述符实例：描述符类的各个实例，声明为托管类的类属性。\n",
    "- 托管实例：托管类的实例。\n",
    "- 储存属性：托管实例中存储托管属性的属性。\n",
    "- 托管属性：托管类中由描述符实例处理的公开属性，值存储在储存属性中。"
   ]
  },
  {
   "cell_type": "markdown",
   "id": "af726e0f",
   "metadata": {},
   "source": [
    "### 23.1.2 LineItem类第3版：一个简单的描述符"
   ]
  },
  {
   "cell_type": "code",
   "execution_count": 1,
   "id": "214e9f5a",
   "metadata": {},
   "outputs": [],
   "source": [
    "class Quantity:  # <1>\n",
    "\n",
    "    def __init__(self, storage_name):\n",
    "        # 托管实例中用于存储值的储存属性的名称\n",
    "        self.storage_name = storage_name\n",
    "\n",
    "    def __set__(self, instance, value):\n",
    "        # 为托管属性赋值\n",
    "        if value > 0:\n",
    "            instance.__dict__[self.storage_name] = value\n",
    "        else:\n",
    "            msg = f'{self.storage_name} must be > 0'\n",
    "            raise ValueError(msg)\n",
    "\n",
    "    def __get__(self, instance, owner):\n",
    "        return instance.__dict__[self.storage_name]"
   ]
  },
  {
   "cell_type": "code",
   "execution_count": 2,
   "id": "1120e29d",
   "metadata": {},
   "outputs": [],
   "source": [
    "class LineItem:\n",
    "    # 描述符实例管理weight属性\n",
    "    weight = Quantity('weight')\n",
    "    # 描述符实例管理price属性\n",
    "    price = Quantity('price')\n",
    "\n",
    "    def __init__(self, description, weight, price):\n",
    "        self.description = description\n",
    "        self.weight = weight\n",
    "        self.price = price\n",
    "\n",
    "    def subtotal(self):\n",
    "        return self.weight * self.price"
   ]
  },
  {
   "cell_type": "code",
   "execution_count": 5,
   "id": "d3243722",
   "metadata": {},
   "outputs": [
    {
     "name": "stdout",
     "output_type": "stream",
     "text": [
      "price must be > 0\n"
     ]
    }
   ],
   "source": [
    "try:\n",
    "    truffle = LineItem('White truffle', 100, 0)\n",
    "except ValueError as e:\n",
    "    print(e)"
   ]
  },
  {
   "cell_type": "markdown",
   "id": "8900e1ee",
   "metadata": {},
   "source": [
    "### 23.1.3 LineItem类第4版：为储存属性自动命名"
   ]
  },
  {
   "cell_type": "markdown",
   "id": "0e7883b1",
   "metadata": {},
   "source": [
    "目标：避免在描述符实例中重复输入属性名。"
   ]
  },
  {
   "cell_type": "code",
   "execution_count": 6,
   "id": "1e1339d2",
   "metadata": {},
   "outputs": [],
   "source": [
    "class Quantity:\n",
    "    # owner是托管类，name是在owner的类主体中描述符实例赋给的那个属性名\n",
    "    def __set_name__(self, owner, name):\n",
    "        self.storage_name = name          \n",
    "\n",
    "    def __set__(self, instance, value): \n",
    "        if value > 0:\n",
    "            instance.__dict__[self.storage_name] = value\n",
    "        else:\n",
    "            msg = f'{self.storage_name} must be > 0'\n",
    "            raise ValueError(msg)"
   ]
  },
  {
   "cell_type": "code",
   "execution_count": 7,
   "id": "86803943",
   "metadata": {},
   "outputs": [],
   "source": [
    "class LineItem:\n",
    "    weight = Quantity()\n",
    "    price = Quantity()\n",
    "\n",
    "    def __init__(self, description, weight, price):\n",
    "        self.description = description\n",
    "        self.weight = weight\n",
    "        self.price = price\n",
    "\n",
    "    def subtotal(self):\n",
    "        return self.weight * self.price"
   ]
  },
  {
   "cell_type": "markdown",
   "id": "07624fbf",
   "metadata": {},
   "source": [
    "### 23.1.4 LineItem类第5版：一种新型描述符"
   ]
  },
  {
   "cell_type": "markdown",
   "id": "b59a8c7a",
   "metadata": {},
   "source": [
    "需求：虚构的有机食物网店遇到了一个问题，有个商品的描述信息为空，导致无法下单。"
   ]
  },
  {
   "cell_type": "code",
   "execution_count": 11,
   "id": "2248049e",
   "metadata": {},
   "outputs": [],
   "source": [
    "import abc\n",
    "\n",
    "class Validated(abc.ABC):\n",
    "\n",
    "    def __set_name__(self, owner, name):\n",
    "        self.storage_name = name\n",
    "\n",
    "    def __set__(self, instance, value):\n",
    "        value = self.validate(self.storage_name, value)  \n",
    "        instance.__dict__[self.storage_name] = value\n",
    "\n",
    "    @abc.abstractmethod\n",
    "    def validate(self, name, value):\n",
    "        \"\"\"return validated value or raise ValueError\"\"\""
   ]
  },
  {
   "cell_type": "code",
   "execution_count": 12,
   "id": "20ce38da",
   "metadata": {},
   "outputs": [],
   "source": [
    "class Quantity(Validated):\n",
    "    \"\"\"数值大于0\"\"\"\n",
    "\n",
    "    def validate(self, name, value):  # <1>\n",
    "        if value <= 0:\n",
    "            raise ValueError(f'{name} must be > 0')\n",
    "        return value"
   ]
  },
  {
   "cell_type": "code",
   "execution_count": 13,
   "id": "e2c3b708",
   "metadata": {},
   "outputs": [],
   "source": [
    "class NonBlank(Validated):\n",
    "    \"\"\"字符串至少要包含一个非空字符\"\"\"\n",
    "\n",
    "    def validate(self, name, value):\n",
    "        value = value.strip()\n",
    "        if not value:  # <2>\n",
    "            raise ValueError(f'{name} cannot be blank')\n",
    "        return value  # <3>"
   ]
  },
  {
   "cell_type": "code",
   "execution_count": 14,
   "id": "ba7f5f2f",
   "metadata": {},
   "outputs": [],
   "source": [
    "class LineItem:\n",
    "    # 描述不能为空\n",
    "    description = NonBlank()\n",
    "    weight = Quantity()\n",
    "    price = Quantity()\n",
    "\n",
    "    def __init__(self, description, weight, price):\n",
    "        self.description = description\n",
    "        self.weight = weight\n",
    "        self.price = price\n",
    "\n",
    "    def subtotal(self):\n",
    "        return self.weight * self.price"
   ]
  },
  {
   "cell_type": "markdown",
   "id": "a0728f2a",
   "metadata": {},
   "source": [
    "## 23.2 覆盖型描述符与非覆盖型描述符对比"
   ]
  },
  {
   "cell_type": "markdown",
   "id": "2a42386f",
   "metadata": {},
   "source": [
    "- 覆盖型描述符：实现`__set__`方法的描述符都属于覆盖型描述符。\n",
    "- 没有`__get__`方法的覆盖型描述符：当读取时，只要有同名的实例属性，描述符就会被覆盖。\n",
    "- 非覆盖型描述符：没有实现`__set__`方法的描述符都属于非覆盖型描述符。"
   ]
  },
  {
   "cell_type": "markdown",
   "id": "2ba62bb1",
   "metadata": {},
   "source": [
    "## 23.3 方法是描述符"
   ]
  },
  {
   "cell_type": "code",
   "execution_count": 15,
   "id": "97321fd6",
   "metadata": {},
   "outputs": [],
   "source": [
    "import collections\n",
    "\n",
    "\n",
    "class Text(collections.UserString):\n",
    "\n",
    "    def __repr__(self):\n",
    "        return 'Text({!r})'.format(self.data)\n",
    "\n",
    "    def reverse(self):\n",
    "        return self[::-1]"
   ]
  },
  {
   "cell_type": "code",
   "execution_count": 16,
   "id": "7cf00de1",
   "metadata": {},
   "outputs": [
    {
     "data": {
      "text/plain": [
       "Text('forward')"
      ]
     },
     "execution_count": 16,
     "metadata": {},
     "output_type": "execute_result"
    }
   ],
   "source": [
    "word = Text('forward')\n",
    "word"
   ]
  },
  {
   "cell_type": "code",
   "execution_count": 17,
   "id": "f3d5b8c2",
   "metadata": {},
   "outputs": [
    {
     "data": {
      "text/plain": [
       "Text('drawrof')"
      ]
     },
     "execution_count": 17,
     "metadata": {},
     "output_type": "execute_result"
    }
   ],
   "source": [
    "# 反向拼写单词\n",
    "word.reverse()"
   ]
  },
  {
   "cell_type": "code",
   "execution_count": 18,
   "id": "b6a1eac0",
   "metadata": {},
   "outputs": [
    {
     "data": {
      "text/plain": [
       "Text('drawkcab')"
      ]
     },
     "execution_count": 18,
     "metadata": {},
     "output_type": "execute_result"
    }
   ],
   "source": [
    "# 在类上调用方法相当于调用函数\n",
    "Text.reverse(Text('backward'))"
   ]
  },
  {
   "cell_type": "code",
   "execution_count": 20,
   "id": "5fe88444",
   "metadata": {},
   "outputs": [
    {
     "data": {
      "text/plain": [
       "<bound method Text.reverse of Text('forward')>"
      ]
     },
     "execution_count": 20,
     "metadata": {},
     "output_type": "execute_result"
    }
   ],
   "source": [
    "# 函数都是非覆盖型描述符\n",
    "Text.reverse.__get__(word)"
   ]
  },
  {
   "cell_type": "markdown",
   "id": "eb355ae0",
   "metadata": {},
   "source": [
    "## 23.4 描述符用法建议"
   ]
  },
  {
   "cell_type": "markdown",
   "id": "ab6afb91",
   "metadata": {},
   "source": [
    "- 使用property保持简单：内置property类创建的是实现了`__set__`和`__get__`方法的覆盖型描述符。\n",
    "- 只读描述符必须有`__set__`方法。\n",
    "- 用于验证的描述符可以只有`__set__`方法。\n",
    "- 仅有`__get__`方法的描述符可以实现高效缓存：`@functools.cached_property`装饰器创建的就是非覆盖型描述符。\n",
    "- 非特殊的方法可以被实例属性覆盖：函数和方法只实现了`__get__`方法，属于非覆盖型描述符。"
   ]
  },
  {
   "cell_type": "markdown",
   "id": "3e513d1e",
   "metadata": {},
   "source": [
    "## 23.5 杂谈"
   ]
  },
  {
   "cell_type": "markdown",
   "id": "68ce648e",
   "metadata": {},
   "source": [
    "`self`的设计：\n",
    "- 设计方法必须简单，对实现和接口来说都是如此。简单的实现比简单的接口更重要。简单是设计过程中最重要的考虑因素。\n",
    "- 这种做法最初是由Modula-3语言提供。\n",
    "- 除了要明确把self作为参数，限制必须通过self方法实例属性也备受批评。\n",
    "- 如果讨厌Python要求显式使用self，想想JavaScript中隐式this那变幻莫测的语义，这样就感觉好多了。"
   ]
  }
 ],
 "metadata": {
  "kernelspec": {
   "display_name": "Python 3 (ipykernel)",
   "language": "python",
   "name": "python3"
  },
  "language_info": {
   "codemirror_mode": {
    "name": "ipython",
    "version": 3
   },
   "file_extension": ".py",
   "mimetype": "text/x-python",
   "name": "python",
   "nbconvert_exporter": "python",
   "pygments_lexer": "ipython3",
   "version": "3.10.5"
  }
 },
 "nbformat": 4,
 "nbformat_minor": 5
}
