{
 "cells": [
  {
   "cell_type": "markdown",
   "id": "5e547940",
   "metadata": {},
   "source": [
    "# 第2章 丰富的序列"
   ]
  },
  {
   "cell_type": "markdown",
   "id": "7a43c44a",
   "metadata": {},
   "source": [
    "## 2.1 列表推导式和生成器表达式"
   ]
  },
  {
   "cell_type": "markdown",
   "id": "82d2945c",
   "metadata": {},
   "source": [
    "1. 列表推导式对可读性的影响"
   ]
  },
  {
   "cell_type": "code",
   "execution_count": 3,
   "id": "8ae1b1cc",
   "metadata": {},
   "outputs": [
    {
     "data": {
      "text/plain": [
       "[36, 37, 94, 38, 42]"
      ]
     },
     "execution_count": 3,
     "metadata": {},
     "output_type": "execute_result"
    }
   ],
   "source": [
    "# 基于字符串构建一个Unicode码点列表\n",
    "symbols = '$%^&*'\n",
    "codes = []\n",
    "for symbol in symbols:\n",
    "    codes.append(ord(symbol))\n",
    "\n",
    "codes    "
   ]
  },
  {
   "cell_type": "code",
   "execution_count": 4,
   "id": "1f828082",
   "metadata": {},
   "outputs": [
    {
     "data": {
      "text/plain": [
       "[36, 37, 94, 38, 42]"
      ]
     },
     "execution_count": 4,
     "metadata": {},
     "output_type": "execute_result"
    }
   ],
   "source": [
    "# 使用列表推导式基于一个字符串构建一个Unicode码点列表\n",
    "symbols = '$%^&*'\n",
    "codes = [ord(symbol) for symbol in symbols]\n",
    "codes"
   ]
  },
  {
   "cell_type": "markdown",
   "id": "b8c94272",
   "metadata": {},
   "source": [
    "上述示例中，列表推导式更容易理解，如果超过两行，最好把语句拆开，或者使用传统的for循环重写。"
   ]
  },
  {
   "cell_type": "markdown",
   "id": "c5771415",
   "metadata": {},
   "source": [
    "2. 列表推导式与map和filter比较"
   ]
  },
  {
   "cell_type": "code",
   "execution_count": 6,
   "id": "988e23d1",
   "metadata": {},
   "outputs": [
    {
     "data": {
      "text/plain": [
       "[37, 94, 38, 42]"
      ]
     },
     "execution_count": 6,
     "metadata": {},
     "output_type": "execute_result"
    }
   ],
   "source": [
    "# 使用列表推导式和map/filter组合构建同一个列表\n",
    "symbols = '$%^&*'\n",
    "beyond_ascii = [ord(s) for s in symbols if ord(s) > 36]\n",
    "beyond_ascii"
   ]
  },
  {
   "cell_type": "code",
   "execution_count": 14,
   "id": "d7212bdc",
   "metadata": {},
   "outputs": [
    {
     "data": {
      "text/plain": [
       "[37, 94, 38, 42]"
      ]
     },
     "execution_count": 14,
     "metadata": {},
     "output_type": "execute_result"
    }
   ],
   "source": [
    "beyond_ascii = list(filter(lambda c: c > 36, map(ord, symbols)))\n",
    "beyond_ascii"
   ]
  },
  {
   "cell_type": "markdown",
   "id": "c4654237",
   "metadata": {},
   "source": [
    "3. 笛卡尔积"
   ]
  },
  {
   "cell_type": "code",
   "execution_count": 8,
   "id": "618d59ee",
   "metadata": {},
   "outputs": [
    {
     "data": {
      "text/plain": [
       "[('black', 'S'),\n",
       " ('black', 'M'),\n",
       " ('black', 'L'),\n",
       " ('white', 'S'),\n",
       " ('white', 'M'),\n",
       " ('white', 'L')]"
      ]
     },
     "execution_count": 8,
     "metadata": {},
     "output_type": "execute_result"
    }
   ],
   "source": [
    "# 使用列表推导式计算笛卡尔积\n",
    "colors = ['black', 'white']\n",
    "sizes = ['S', 'M', 'L']\n",
    "tshirts = [(color, size) for color in colors for size in sizes]\n",
    "tshirts"
   ]
  },
  {
   "cell_type": "code",
   "execution_count": 9,
   "id": "14e8c118",
   "metadata": {},
   "outputs": [
    {
     "name": "stdout",
     "output_type": "stream",
     "text": [
      "('black', 'S')\n",
      "('black', 'M')\n",
      "('black', 'L')\n",
      "('white', 'S')\n",
      "('white', 'M')\n",
      "('white', 'L')\n"
     ]
    }
   ],
   "source": [
    "for color in colors:\n",
    "    for size in sizes:\n",
    "        print((color, size))"
   ]
  },
  {
   "cell_type": "code",
   "execution_count": 11,
   "id": "31645448",
   "metadata": {},
   "outputs": [
    {
     "data": {
      "text/plain": [
       "[('black', 'S'),\n",
       " ('white', 'S'),\n",
       " ('black', 'M'),\n",
       " ('white', 'M'),\n",
       " ('black', 'L'),\n",
       " ('white', 'L')]"
      ]
     },
     "execution_count": 11,
     "metadata": {},
     "output_type": "execute_result"
    }
   ],
   "source": [
    "tshirts = [(color, size) for size in sizes\n",
    "                         for color in colors]\n",
    "tshirts"
   ]
  },
  {
   "cell_type": "markdown",
   "id": "c6d14485",
   "metadata": {},
   "source": [
    "4. 生成器表达式"
   ]
  },
  {
   "cell_type": "code",
   "execution_count": 12,
   "id": "1ea127fc",
   "metadata": {},
   "outputs": [
    {
     "data": {
      "text/plain": [
       "(36, 37, 94, 38, 42)"
      ]
     },
     "execution_count": 12,
     "metadata": {},
     "output_type": "execute_result"
    }
   ],
   "source": [
    "# 使用生成器表达式构建一个元组和数组\n",
    "symbols = '$%^&*'\n",
    "tuple(ord(symbol) for symbol in symbols)"
   ]
  },
  {
   "cell_type": "code",
   "execution_count": 13,
   "id": "279ae2a4",
   "metadata": {},
   "outputs": [
    {
     "data": {
      "text/plain": [
       "array('I', [36, 37, 94, 38, 42])"
      ]
     },
     "execution_count": 13,
     "metadata": {},
     "output_type": "execute_result"
    }
   ],
   "source": [
    "import array\n",
    "\n",
    "array.array('I', (ord(symbol) for symbol in symbols))"
   ]
  },
  {
   "cell_type": "code",
   "execution_count": 15,
   "id": "9b70771a",
   "metadata": {},
   "outputs": [
    {
     "name": "stdout",
     "output_type": "stream",
     "text": [
      "black S\n",
      "black M\n",
      "black L\n",
      "white S\n",
      "white M\n",
      "white L\n"
     ]
    }
   ],
   "source": [
    "# 使用生成器表达式计算笛卡尔积\n",
    "colors = ['black', 'white']\n",
    "sizes = ['S', 'M', 'L']\n",
    "for tshirt in (f'{c} {s}' for c in colors for s in sizes):\n",
    "    print(tshirt)"
   ]
  },
  {
   "cell_type": "markdown",
   "id": "212a27b2",
   "metadata": {},
   "source": [
    "上述示例不会构建6种T恤衫组合的列表。"
   ]
  },
  {
   "cell_type": "markdown",
   "id": "6d853358",
   "metadata": {},
   "source": [
    "## 2.2 元组不仅仅是不可变列表"
   ]
  },
  {
   "cell_type": "markdown",
   "id": "fe43f130",
   "metadata": {},
   "source": [
    "1. 把元组当作记录使用"
   ]
  },
  {
   "cell_type": "code",
   "execution_count": 2,
   "id": "b530f84d",
   "metadata": {},
   "outputs": [
    {
     "name": "stdout",
     "output_type": "stream",
     "text": [
      "BRA/CE243567\n",
      "ESP/XDA205856\n",
      "USA/31195855\n"
     ]
    }
   ],
   "source": [
    "lax_coordinates = (33.9425, -118.408056)\n",
    "city, year, pop, chg, area = ('Tokyo', 2003, 32_450, 0.66, 8014)\n",
    "traveler_ids = [('USA', '31195855'), ('BRA', 'CE243567'), ('ESP', 'XDA205856')]\n",
    "\n",
    "for passport in sorted(traveler_ids):\n",
    "    print('%s/%s' % passport)"
   ]
  },
  {
   "cell_type": "code",
   "execution_count": 18,
   "id": "930c2017",
   "metadata": {
    "scrolled": true
   },
   "outputs": [
    {
     "name": "stdout",
     "output_type": "stream",
     "text": [
      "USA\n",
      "BRA\n",
      "ESP\n"
     ]
    }
   ],
   "source": [
    "for country, _ in traveler_ids:\n",
    "    print(country)"
   ]
  },
  {
   "cell_type": "markdown",
   "id": "86544652",
   "metadata": {},
   "source": [
    "2. 并行赋值"
   ]
  },
  {
   "cell_type": "code",
   "execution_count": 3,
   "id": "14d305ad",
   "metadata": {},
   "outputs": [
    {
     "data": {
      "text/plain": [
       "(33.9425, -118.408056)"
      ]
     },
     "execution_count": 3,
     "metadata": {},
     "output_type": "execute_result"
    }
   ],
   "source": [
    "lax_coordinates = (33.9425, -118.408056)\n",
    "latitude, longitude = lax_coordinates\n",
    "latitude, longitude"
   ]
  },
  {
   "cell_type": "markdown",
   "id": "3bf5dfda",
   "metadata": {},
   "source": [
    "3. 使用*获取余下的项\n",
    "\n",
    "并行赋值时，*前缀只能应用到一个变量上，可以是任何位置上的变量。"
   ]
  },
  {
   "cell_type": "code",
   "execution_count": 4,
   "id": "621abfeb",
   "metadata": {},
   "outputs": [
    {
     "data": {
      "text/plain": [
       "(0, 1, [2, 3, 4])"
      ]
     },
     "execution_count": 4,
     "metadata": {},
     "output_type": "execute_result"
    }
   ],
   "source": [
    "a, b, *rest = range(5)\n",
    "a, b, rest"
   ]
  },
  {
   "cell_type": "code",
   "execution_count": 5,
   "id": "df99c31c",
   "metadata": {},
   "outputs": [
    {
     "data": {
      "text/plain": [
       "(0, [1, 2], 3, 4)"
      ]
     },
     "execution_count": 5,
     "metadata": {},
     "output_type": "execute_result"
    }
   ],
   "source": [
    "a, *body, c, d = range(5)\n",
    "a, body, c, d"
   ]
  },
  {
   "cell_type": "markdown",
   "id": "3a03708e",
   "metadata": {},
   "source": [
    "4. 嵌套拆包"
   ]
  },
  {
   "cell_type": "code",
   "execution_count": 7,
   "id": "444e640c",
   "metadata": {},
   "outputs": [
    {
     "name": "stdout",
     "output_type": "stream",
     "text": [
      "                |  latitude | longitude\n",
      "Mexico City     |   19.4333 |  -99.1333\n",
      "New York-Newark |   40.8086 |  -74.0204\n",
      "Sao Paulo       |  -23.5478 |  -46.6358\n"
     ]
    }
   ],
   "source": [
    "metro_areas = [\n",
    "    ('Tokyo', 'JP', 36.933, (35.689722, 139.691667)),\n",
    "    ('Delhi NCR', 'IN', 21.935, (28.613889, 77.208889)),\n",
    "    ('Mexico City', 'MX', 20.142, (19.433333, -99.133333)),\n",
    "    ('New York-Newark', 'US', 20.104, (40.808611, -74.020386)),\n",
    "    ('Sao Paulo', 'BR', 19.649, (-23.547778, -46.635833))\n",
    "]\n",
    "\n",
    "print(f'{\"\":15} | {\"latitude\":>9} | {\"longitude\":>9}')\n",
    "for name, _, _, (lat, lon) in metro_areas:\n",
    "    if lon <= 0:\n",
    "        print(f'{name:15} | {lat:9.4f} | {lon:9.4f}')"
   ]
  },
  {
   "cell_type": "markdown",
   "id": "7f1cc4da",
   "metadata": {},
   "source": [
    "## 2.3 序列模式匹配"
   ]
  },
  {
   "cell_type": "code",
   "execution_count": 9,
   "id": "c3317d67",
   "metadata": {},
   "outputs": [
    {
     "name": "stdout",
     "output_type": "stream",
     "text": [
      "                |  latitude | longitude\n",
      "Mexico City     |   19.4333 |  -99.1333\n",
      "New York-Newark |   40.8086 |  -74.0204\n",
      "Sao Paulo       |  -23.5478 |  -46.6358\n"
     ]
    }
   ],
   "source": [
    "metro_areas = [\n",
    "    ('Tokyo', 'JP', 36.933, (35.689722, 139.691667)),\n",
    "    ('Delhi NCR', 'IN', 21.935, (28.613889, 77.208889)),\n",
    "    ('Mexico City', 'MX', 20.142, (19.433333, -99.133333)),\n",
    "    ('New York-Newark', 'US', 20.104, (40.808611, -74.020386)),\n",
    "    ('Sao Paulo', 'BR', 19.649, (-23.547778, -46.635833))\n",
    "]\n",
    "\n",
    "print(f'{\"\":15} | {\"latitude\":>9} | {\"longitude\":>9}')\n",
    "for record in metro_areas:\n",
    "    match record:\n",
    "        case [name, _, _, (lat, lon)] if lon <= 0:\n",
    "             print(f'{name:15} | {lat:9.4f} | {lon:9.4f}')"
   ]
  },
  {
   "cell_type": "markdown",
   "id": "e1371e6a",
   "metadata": {},
   "source": [
    "匹配序列模式的条件：\n",
    "1. 匹配对象是序列。\n",
    "2. 匹配对象和模式的项数相等。\n",
    "3. 对应的项相互匹配，包括嵌套的项。"
   ]
  },
  {
   "cell_type": "markdown",
   "id": "299baa01",
   "metadata": {},
   "source": [
    "## 2.4 切片"
   ]
  },
  {
   "cell_type": "code",
   "execution_count": 13,
   "id": "8aceb4aa",
   "metadata": {},
   "outputs": [
    {
     "name": "stdout",
     "output_type": "stream",
     "text": [
      "    $17.50   Pimoroni PiBrella                 \n",
      "     $4.95   6mm Tactile Switch x20            \n",
      "    $28.00   Panavise Jr. - PV-201             \n",
      "    $34.95   PiTFT Mini Kit 320x240            \n",
      " \n"
     ]
    }
   ],
   "source": [
    "# 从纯文本形式的发票中提取商品信息\n",
    "invoice = \"\"\"\n",
    "0.....6.................................40........52...55........\n",
    "1909  Pimoroni PiBrella                     $17.50    3    $52.50\n",
    "1489  6mm Tactile Switch x20                 $4.95    2     $9.90\n",
    "1510  Panavise Jr. - PV-201                 $28.00    1    $28.00\n",
    "1601  PiTFT Mini Kit 320x240                $34.95    1    $34.95\n",
    "\"\"\"\n",
    "SKU = slice(0, 6)\n",
    "DESCRIPTION = slice(6, 40)\n",
    "UNIT_PRICE = slice(40, 52)\n",
    "QUANTITY = slice(52, 55)\n",
    "ITEM_TOTAL = slice(55, None)\n",
    "line_items = invoice.split('\\n')[2:]\n",
    "\n",
    "for item in line_items:\n",
    "    print(item[UNIT_PRICE], item[DESCRIPTION])"
   ]
  },
  {
   "cell_type": "markdown",
   "id": "33f11241",
   "metadata": {},
   "source": [
    "## 2.5 当列表不适用时"
   ]
  },
  {
   "cell_type": "markdown",
   "id": "eba56586",
   "metadata": {},
   "source": [
    "### 2.5.1 数组"
   ]
  },
  {
   "cell_type": "markdown",
   "id": "66b8e709",
   "metadata": {},
   "source": [
    "如果一个列表只包含数值，使用`array.array`会更高效。"
   ]
  },
  {
   "cell_type": "code",
   "execution_count": 24,
   "id": "bb594e53",
   "metadata": {},
   "outputs": [],
   "source": [
    "from array import array\n",
    "from random import random"
   ]
  },
  {
   "cell_type": "code",
   "execution_count": 25,
   "id": "bf645074",
   "metadata": {},
   "outputs": [
    {
     "data": {
      "text/plain": [
       "0.4197427599509004"
      ]
     },
     "execution_count": 25,
     "metadata": {},
     "output_type": "execute_result"
    }
   ],
   "source": [
    "# 创建一个双精度浮点数数组\n",
    "floats = array('d', (random() for i in range(10**7)))\n",
    "floats[-1]"
   ]
  },
  {
   "cell_type": "code",
   "execution_count": 26,
   "id": "b997a474",
   "metadata": {},
   "outputs": [],
   "source": [
    "# 把数组存入一个二进制文件中\n",
    "fp = open('./data/floats.bin', 'wb')\n",
    "floats.tofile(fp)\n",
    "fp.close()"
   ]
  },
  {
   "cell_type": "code",
   "execution_count": 27,
   "id": "6c1ed861",
   "metadata": {},
   "outputs": [],
   "source": [
    "# 从二进制文件中读取1000万个数\n",
    "floats2 = array('d')\n",
    "fp = open('./data/floats.bin', 'rb')\n",
    "floats2.fromfile(fp, 10**7)\n",
    "fp.close()"
   ]
  },
  {
   "cell_type": "code",
   "execution_count": 28,
   "id": "a3386c0e",
   "metadata": {},
   "outputs": [
    {
     "data": {
      "text/plain": [
       "0.4197427599509004"
      ]
     },
     "execution_count": 28,
     "metadata": {},
     "output_type": "execute_result"
    }
   ],
   "source": [
    "floats2[-1]"
   ]
  },
  {
   "cell_type": "code",
   "execution_count": 29,
   "id": "6bdb1702",
   "metadata": {},
   "outputs": [
    {
     "data": {
      "text/plain": [
       "True"
      ]
     },
     "execution_count": 29,
     "metadata": {},
     "output_type": "execute_result"
    }
   ],
   "source": [
    "floats2 == floats"
   ]
  },
  {
   "cell_type": "markdown",
   "id": "789a2e70",
   "metadata": {},
   "source": [
    "### 2.5.2 memoryview"
   ]
  },
  {
   "cell_type": "markdown",
   "id": "201c4115",
   "metadata": {},
   "source": [
    "内置的menoryview类是一种共享内存的序列类型，可在不复制字节的情况下处理数组的切片。"
   ]
  },
  {
   "cell_type": "markdown",
   "id": "a1924f9f",
   "metadata": {},
   "source": [
    "- 分别以1x6、2x3和3x2矩阵的视图处理6字节内存"
   ]
  },
  {
   "cell_type": "code",
   "execution_count": 37,
   "id": "3a34bcba",
   "metadata": {},
   "outputs": [],
   "source": [
    "from array import array\n",
    "\n",
    "octets = array('B', range(6))"
   ]
  },
  {
   "cell_type": "code",
   "execution_count": 31,
   "id": "415f9e24",
   "metadata": {},
   "outputs": [
    {
     "data": {
      "text/plain": [
       "[0, 1, 2, 3, 4, 5]"
      ]
     },
     "execution_count": 31,
     "metadata": {},
     "output_type": "execute_result"
    }
   ],
   "source": [
    "m1 = memoryview(octets)\n",
    "m1.tolist()"
   ]
  },
  {
   "cell_type": "code",
   "execution_count": 32,
   "id": "7e5a5404",
   "metadata": {},
   "outputs": [
    {
     "data": {
      "text/plain": [
       "[[0, 1, 2], [3, 4, 5]]"
      ]
     },
     "execution_count": 32,
     "metadata": {},
     "output_type": "execute_result"
    }
   ],
   "source": [
    "# 构建2x3的矩阵\n",
    "m2 = m1.cast('B', [2,3])\n",
    "m2.tolist()"
   ]
  },
  {
   "cell_type": "code",
   "execution_count": 33,
   "id": "f5d54490",
   "metadata": {},
   "outputs": [
    {
     "data": {
      "text/plain": [
       "[[0, 1], [2, 3], [4, 5]]"
      ]
     },
     "execution_count": 33,
     "metadata": {},
     "output_type": "execute_result"
    }
   ],
   "source": [
    "# 构建3x2的矩阵\n",
    "m3 = m1.cast('B', [3, 2])\n",
    "m3.tolist()"
   ]
  },
  {
   "cell_type": "code",
   "execution_count": 36,
   "id": "d0368041",
   "metadata": {},
   "outputs": [
    {
     "data": {
      "text/plain": [
       "array('B', [0, 1, 2, 33, 22, 5])"
      ]
     },
     "execution_count": 36,
     "metadata": {},
     "output_type": "execute_result"
    }
   ],
   "source": [
    "# octets、m1、m2、m3之间的内存是共享的\n",
    "m2[1,1] = 22\n",
    "m3[1,1] = 33\n",
    "octets"
   ]
  },
  {
   "cell_type": "markdown",
   "id": "fdfee2b1",
   "metadata": {},
   "source": [
    "- 修改一个16位整数数组中某一项的字节，改变该项的值"
   ]
  },
  {
   "cell_type": "code",
   "execution_count": 39,
   "id": "232e6c08",
   "metadata": {},
   "outputs": [
    {
     "data": {
      "text/plain": [
       "5"
      ]
     },
     "execution_count": 39,
     "metadata": {},
     "output_type": "execute_result"
    }
   ],
   "source": [
    "numbers = array('h', [-2, -1, 0, 1, 2])\n",
    "memv = memoryview(numbers)\n",
    "len(memv)"
   ]
  },
  {
   "cell_type": "code",
   "execution_count": 41,
   "id": "b8d54e9a",
   "metadata": {},
   "outputs": [
    {
     "data": {
      "text/plain": [
       "-2"
      ]
     },
     "execution_count": 41,
     "metadata": {},
     "output_type": "execute_result"
    }
   ],
   "source": [
    "memv[0]"
   ]
  },
  {
   "cell_type": "code",
   "execution_count": 42,
   "id": "e09f6032",
   "metadata": {},
   "outputs": [
    {
     "data": {
      "text/plain": [
       "[254, 255, 255, 255, 0, 0, 1, 0, 2, 0]"
      ]
     },
     "execution_count": 42,
     "metadata": {},
     "output_type": "execute_result"
    }
   ],
   "source": [
    "memv_oct = memv.cast('B')\n",
    "memv_oct.tolist()"
   ]
  },
  {
   "cell_type": "code",
   "execution_count": 43,
   "id": "da9cf79a",
   "metadata": {},
   "outputs": [
    {
     "data": {
      "text/plain": [
       "array('h', [-2, -1, 1024, 1, 2])"
      ]
     },
     "execution_count": 43,
     "metadata": {},
     "output_type": "execute_result"
    }
   ],
   "source": [
    "memv_oct[5] = 4\n",
    "numbers"
   ]
  },
  {
   "cell_type": "markdown",
   "id": "a7ff6a43",
   "metadata": {},
   "source": [
    "### 2.5.3 双端队列和其他队列"
   ]
  },
  {
   "cell_type": "markdown",
   "id": "6aef0ff0",
   "metadata": {},
   "source": [
    "- deque类实现一种线程安全的双端队列，旨在快速在两端插入和删除项。\n",
    "- queue提供几个同步（即线程安全）队列类，在队列填满后，阻塞插入新项，等待其他线程从队列中取出一项。\n",
    "- multiprocessiong单独实现了无界SimpleQueue和有界的Queue。\n",
    "- asyncio提供了Queue、LifoQueue、PriorityQueue和JoinableQueue，为管理异步编程任务而做了修改。"
   ]
  },
  {
   "cell_type": "code",
   "execution_count": 53,
   "id": "056964f3",
   "metadata": {},
   "outputs": [
    {
     "data": {
      "text/plain": [
       "deque([0, 1, 2, 3, 4, 5, 6, 7, 8, 9], maxlen=10)"
      ]
     },
     "execution_count": 53,
     "metadata": {},
     "output_type": "execute_result"
    }
   ],
   "source": [
    "# 处理一个deque对象\n",
    "from collections import deque\n",
    "\n",
    "dq = deque(range(10), maxlen=10)\n",
    "dq"
   ]
  },
  {
   "cell_type": "code",
   "execution_count": 54,
   "id": "1780b5bc",
   "metadata": {
    "scrolled": true
   },
   "outputs": [
    {
     "name": "stdout",
     "output_type": "stream",
     "text": [
      "deque([7, 8, 9, 0, 1, 2, 3, 4, 5, 6], maxlen=10)\n",
      "deque([1, 2, 3, 4, 5, 6, 7, 8, 9, 0], maxlen=10)\n"
     ]
    }
   ],
   "source": [
    "# 轮转。当n>0时，从右端取几项放到左端，当n<0时，从左端取几项放到右端。\n",
    "dq.rotate(3)\n",
    "print(dq)\n",
    "dq.rotate(-4)\n",
    "print(dq)"
   ]
  },
  {
   "cell_type": "code",
   "execution_count": 55,
   "id": "c81b3773",
   "metadata": {},
   "outputs": [
    {
     "data": {
      "text/plain": [
       "deque([-1, 1, 2, 3, 4, 5, 6, 7, 8, 9], maxlen=10)"
      ]
     },
     "execution_count": 55,
     "metadata": {},
     "output_type": "execute_result"
    }
   ],
   "source": [
    "# 在已满的队列中的一端追加，另一端要丢弃\n",
    "dq.appendleft(-1)\n",
    "dq"
   ]
  },
  {
   "cell_type": "code",
   "execution_count": 56,
   "id": "27a0ed0c",
   "metadata": {},
   "outputs": [
    {
     "data": {
      "text/plain": [
       "deque([3, 4, 5, 6, 7, 8, 9, 11, 22, 33], maxlen=10)"
      ]
     },
     "execution_count": 56,
     "metadata": {},
     "output_type": "execute_result"
    }
   ],
   "source": [
    "dq.extend([11, 22, 33])\n",
    "dq"
   ]
  },
  {
   "cell_type": "code",
   "execution_count": 57,
   "id": "8d926219",
   "metadata": {},
   "outputs": [
    {
     "data": {
      "text/plain": [
       "deque([40, 30, 20, 10, 3, 4, 5, 6, 7, 8], maxlen=10)"
      ]
     },
     "execution_count": 57,
     "metadata": {},
     "output_type": "execute_result"
    }
   ],
   "source": [
    "dq.extendleft([10, 20, 30, 40])\n",
    "dq"
   ]
  },
  {
   "cell_type": "markdown",
   "id": "cf5738c8",
   "metadata": {},
   "source": [
    "## 2.6 杂谈"
   ]
  },
  {
   "cell_type": "markdown",
   "id": "4529a476",
   "metadata": {},
   "source": [
    "- 元组的本质：ABC语言的compound类型是Python元组的前身。该类型还支持并行复制，也可用作字典的组合键。但是不是序列，不可迭代，不饿能通过索引获取字段，不能使用切片。"
   ]
  },
  {
   "cell_type": "markdown",
   "id": "d71e605a",
   "metadata": {},
   "source": [
    "- 扁平序列与容器序列：\n",
    "    - 扁平序列：是不可嵌套的序列类型，只能包含简单的原子类型，例如整数、浮点数或字符。\n",
    "    - 容器序列：可以嵌套，包含任何类型的对象，甚至是容器类型自身。"
   ]
  },
  {
   "cell_type": "markdown",
   "id": "e8533387",
   "metadata": {},
   "source": [
    "- 大杂烩列表：\n",
    "    - 如果列表中的项不可比较，就不能排序。\n",
    "    - 如果元组中的每一项都是一个字段，那么每个字段就可以具有不同的类型。"
   ]
  },
  {
   "cell_type": "markdown",
   "id": "9247d347",
   "metadata": {},
   "source": [
    "- 聪明的`key`：\n",
    "    - 只需要定义一个单参数函数，通过它获取或计算用于排序对象的标准即可。\n",
    "    - 高效：key指定的函数只在处理各项时调用一次，而双参数比较函数在每次需要通过排序算法比较两项时，都需要调用一次。"
   ]
  },
  {
   "cell_type": "markdown",
   "id": "fb3748d2",
   "metadata": {},
   "source": [
    "- 甲骨文、谷歌和Timbot阴谋论：\n",
    "    - `Oracle`和`list.sort`使用的排序算法是`Timsort`，一种自适应算法，可根据数据的排序方法在插入排序法和归并排序法之间切换。\n",
    "    - `Timsort`于2002年首次在CPython使用。\n",
    "    - `Timsort`由Tim Peters发明，称为`Timbot`。"
   ]
  }
 ],
 "metadata": {
  "kernelspec": {
   "display_name": "Python 3 (ipykernel)",
   "language": "python",
   "name": "python3"
  },
  "language_info": {
   "codemirror_mode": {
    "name": "ipython",
    "version": 3
   },
   "file_extension": ".py",
   "mimetype": "text/x-python",
   "name": "python",
   "nbconvert_exporter": "python",
   "pygments_lexer": "ipython3",
   "version": "3.10.5"
  }
 },
 "nbformat": 4,
 "nbformat_minor": 5
}
