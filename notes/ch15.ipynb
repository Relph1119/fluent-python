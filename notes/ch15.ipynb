{
 "cells": [
  {
   "cell_type": "markdown",
   "id": "19c68bf5",
   "metadata": {},
   "source": [
    "# 第15章 类型提示进阶"
   ]
  },
  {
   "cell_type": "markdown",
   "id": "17ea711d",
   "metadata": {},
   "source": [
    "## 15.1 重载的签名"
   ]
  },
  {
   "cell_type": "markdown",
   "id": "d7a5b06d",
   "metadata": {},
   "source": [
    "@typing.overload装饰器用于函数的重载。"
   ]
  },
  {
   "cell_type": "code",
   "execution_count": 1,
   "id": "8f220c25",
   "metadata": {},
   "outputs": [],
   "source": [
    "import functools\n",
    "import operator\n",
    "from collections.abc import Iterable\n",
    "from typing import overload, Union, TypeVar\n",
    "\n",
    "T = TypeVar('T')\n",
    "S = TypeVar('S')  # <1>\n",
    "\n",
    "@overload\n",
    "def sum(it: Iterable[T]) -> Union[T, int]: ...  # <2>\n",
    "@overload\n",
    "def sum(it: Iterable[T], /, start: S) -> Union[T, S]: ...  # <3>\n",
    "def sum(it, /, start=0):  # <4>\n",
    "    return functools.reduce(operator.add, it, start)"
   ]
  },
  {
   "cell_type": "markdown",
   "id": "b8fbf577",
   "metadata": {},
   "source": [
    "其中：\n",
    "- 省略号（...）没有特殊作用，只是为了满足句法的要求，类似于pass。\n",
    "- 参数`/`用于分隔不同类型的参数，比如位置参数和关键字参数。"
   ]
  },
  {
   "cell_type": "markdown",
   "id": "9108a108",
   "metadata": {},
   "source": [
    "## 15.2 TypedDict"
   ]
  },
  {
   "cell_type": "markdown",
   "id": "17ed2c3e",
   "metadata": {},
   "source": [
    "处理动态数据结构时，容易误用TypedDict来避免错误。\n",
    "\n",
    "TypedDict的作用：\n",
    "- 使用与类相似的句法注解字典，为各个“字段”的值提供类型提示。\n",
    "- 通过一个构造函数告诉类型检查工具，字典应具有指定的键和指定类型的值。"
   ]
  },
  {
   "cell_type": "code",
   "execution_count": 2,
   "id": "57f5f1d2",
   "metadata": {},
   "outputs": [],
   "source": [
    "from typing import TypedDict, List\n",
    "import json\n",
    "\n",
    "class BookDict(TypedDict):\n",
    "    isbn: str\n",
    "    title: str\n",
    "    authors: List[str]\n",
    "    pagecount: int"
   ]
  },
  {
   "cell_type": "code",
   "execution_count": 5,
   "id": "74cac44d",
   "metadata": {},
   "outputs": [],
   "source": [
    "AUTHOR_ELEMENT = '<AUTHOR>{}</AUTHOR>'\n",
    "\n",
    "def to_xml(book: BookDict) -> str:\n",
    "    elements: List[str] = []  \n",
    "    for key, value in book.items():\n",
    "        if isinstance(value, list):  \n",
    "            elements.extend(AUTHOR_ELEMENT.format(n)\n",
    "                for n in value)\n",
    "        else:\n",
    "            tag = key.upper()\n",
    "            elements.append(f'<{tag}>{value}</{tag}>')\n",
    "    xml = '\\n\\t'.join(elements)\n",
    "    return f'<BOOK>\\n\\t{xml}\\n</BOOK>'"
   ]
  },
  {
   "cell_type": "code",
   "execution_count": 6,
   "id": "a3824eea",
   "metadata": {},
   "outputs": [],
   "source": [
    "def from_json(data: str) -> BookDict:\n",
    "    whatever = json.loads(data)\n",
    "    return whatever"
   ]
  },
  {
   "cell_type": "code",
   "execution_count": 9,
   "id": "ccdf8d3c",
   "metadata": {},
   "outputs": [
    {
     "name": "stdout",
     "output_type": "stream",
     "text": [
      "<BOOK>\n",
      "\t<ISBN>0134757599</ISBN>\n",
      "\t<TITLE>Refactoring, 2e</TITLE>\n",
      "\t<AUTHOR>Martin Fowler</AUTHOR>\n",
      "\t<AUTHOR>Kent Beck</AUTHOR>\n",
      "\t<PAGECOUNT>478</PAGECOUNT>\n",
      "</BOOK>\n"
     ]
    }
   ],
   "source": [
    "print(to_xml({\n",
    "        'isbn': '0134757599',\n",
    "        'title': 'Refactoring, 2e',\n",
    "        'authors': ['Martin Fowler', 'Kent Beck'],\n",
    "        'pagecount': 478,\n",
    "    }))"
   ]
  },
  {
   "cell_type": "markdown",
   "id": "6d4ee049",
   "metadata": {},
   "source": [
    "## 15.3 类型校正"
   ]
  },
  {
   "cell_type": "markdown",
   "id": "f4fd47ef",
   "metadata": {},
   "source": [
    "typing.cast可用于处理不受控制的代码中存在的类型检查问题或不正确的类型提示。"
   ]
  },
  {
   "cell_type": "code",
   "execution_count": 10,
   "id": "5369011b",
   "metadata": {},
   "outputs": [],
   "source": [
    "from typing import cast\n",
    "\n",
    "def find_first_str(a: list[object]) -> str:\n",
    "    index = next(i for i, x in enumerate(a) if isinstance(x, str))\n",
    "    # 至少有一个字符串才能执行到这里\n",
    "    return cast(str, a[index])"
   ]
  },
  {
   "cell_type": "markdown",
   "id": "25c9e8c0",
   "metadata": {},
   "source": [
    "## 15.4 在运行时读取类型提示"
   ]
  },
  {
   "cell_type": "markdown",
   "id": "1a4910c1",
   "metadata": {},
   "source": [
    "类型提示使用量增加会引起两个问题：\n",
    "- 如果类型提示很多，导入模块使用的CPU和内存会更多。\n",
    "- 引用尚未定义的类型需要使用字符串，而不是真正的类型。"
   ]
  },
  {
   "cell_type": "markdown",
   "id": "5fb7b90c",
   "metadata": {},
   "source": [
    "问题解决方案：\n",
    "- 不要直接读取`__annotations__`属性，使用`inspect.get_annotations`或`typing.get_type_hints`。\n",
    "- 自己编写一个函数，简单包装`inspect.get_annotations`或`typing.get_type_hints`。在基准代码中调用自定义的函数，当行为有变时，只需修改一个函数即可。"
   ]
  },
  {
   "cell_type": "markdown",
   "id": "bc7213aa",
   "metadata": {},
   "source": [
    "## 15.5 实现一个泛化类"
   ]
  },
  {
   "cell_type": "code",
   "execution_count": 2,
   "id": "12b2b8cd",
   "metadata": {},
   "outputs": [],
   "source": [
    "import abc\n",
    "\n",
    "class Tombola(abc.ABC):\n",
    "\n",
    "    @abc.abstractmethod\n",
    "    def load(self, iterable):         \n",
    "        \"\"\"从可迭代对象中添加元素\"\"\"\n",
    "\n",
    "    @abc.abstractmethod\n",
    "    def pick(self):  # <3>\n",
    "        \"\"\"随机删除元素，再返回被删除的元素。\n",
    "        \n",
    "        如果实例为空，那么这个方法应该抛出LookupError\n",
    "        \"\"\"\n",
    "\n",
    "    def loaded(self):\n",
    "        \"\"\"如果至少有一个元素，就返回True，否则返回False\"\"\"\n",
    "        return bool(self.inspect())\n",
    "\n",
    "    def inspect(self):\n",
    "        \"\"\"返回由容器中的当前元素构成的有序元组\"\"\"\n",
    "        items = []\n",
    "        while True:\n",
    "            try:\n",
    "                items.append(self.pick())\n",
    "            except LookupError:\n",
    "                break\n",
    "        self.load(items)  \n",
    "        return tuple(items)"
   ]
  },
  {
   "cell_type": "code",
   "execution_count": 4,
   "id": "a36dcbd5",
   "metadata": {},
   "outputs": [],
   "source": [
    "import random\n",
    "\n",
    "from collections.abc import Iterable\n",
    "from typing import TypeVar, Generic\n",
    "\n",
    "T = TypeVar('T')\n",
    "\n",
    "class LottoBlower(Tombola, Generic[T]):\n",
    "\n",
    "    def __init__(self, items: Iterable[T]) -> None: \n",
    "        self._balls = list[T](items)\n",
    "\n",
    "    def load(self, items: Iterable[T]) -> None:  \n",
    "        self._balls.extend(items)\n",
    "\n",
    "    def pick(self) -> T:  \n",
    "        try:\n",
    "            position = random.randrange(len(self._balls))\n",
    "        except ValueError:\n",
    "            raise LookupError('pick from empty LottoBlower')\n",
    "        return self._balls.pop(position)\n",
    "\n",
    "    def loaded(self) -> bool:  \n",
    "        return bool(self._balls)\n",
    "\n",
    "    def inspect(self) -> tuple[T, ...]:  \n",
    "        return tuple(self._balls)"
   ]
  },
  {
   "cell_type": "code",
   "execution_count": 5,
   "id": "f7171103",
   "metadata": {},
   "outputs": [
    {
     "data": {
      "text/plain": [
       "(3, (1, 2, 4, 5, 6, 7, 8, 9, 10))"
      ]
     },
     "execution_count": 5,
     "metadata": {},
     "output_type": "execute_result"
    }
   ],
   "source": [
    "machine = LottoBlower[int](range(1, 11))\n",
    "first = machine.pick()\n",
    "remain = machine.inspect()\n",
    "\n",
    "first, remain"
   ]
  },
  {
   "cell_type": "markdown",
   "id": "886d6c47",
   "metadata": {},
   "source": [
    "**泛型基本术语：**\n",
    "\n",
    "- 泛型：具有一个或多个类型变量的类型。例如：`LottoBlower[T]`。\n",
    "- 形式类型参数：泛型声明中出现的类型变量。例如：`abc.Mapping[KT, VT]`中的`KT`和`VT`。\n",
    "- 参数化类型：使用具体类型参数声明的类型。例如：`LottoBlower[int]`和`abc.Mapping[str, float]`。\n",
    "- 具体类型参数：声明参数化类型时，为参数提供的具体类型。例如：`LottoBlower[int]`中的`int`。"
   ]
  },
  {
   "cell_type": "markdown",
   "id": "e7cb179e",
   "metadata": {},
   "source": [
    "## 15.6 型变"
   ]
  },
  {
   "cell_type": "markdown",
   "id": "76dc575f",
   "metadata": {},
   "source": [
    "### 15.6.1 协变"
   ]
  },
  {
   "cell_type": "code",
   "execution_count": 6,
   "id": "70ba5464",
   "metadata": {},
   "outputs": [],
   "source": [
    "from typing import TypeVar, Generic\n",
    "\n",
    "\n",
    "class Beverage:\n",
    "    \"\"\"任何饮料\"\"\"\n",
    "\n",
    "\n",
    "class Juice(Beverage):\n",
    "    \"\"\"任何果汁\"\"\"\n",
    "\n",
    "\n",
    "class OrangeJuice(Juice):\n",
    "    \"\"\"使用巴西橙子制作的美味果汁\"\"\"\n",
    "\n",
    "\n",
    "# 设置covariant=True，表示协变的类型参数\n",
    "T_co = TypeVar('T_co', covariant=True)  \n",
    "\n",
    "\n",
    "class BeverageDispenser(Generic[T_co]):  \n",
    "    def __init__(self, beverage: T_co) -> None:\n",
    "        self.beverage = beverage\n",
    "\n",
    "    def dispense(self) -> T_co:\n",
    "        return self.beverage\n",
    "\n",
    "def install(dispenser: BeverageDispenser[Juice]) -> None: \n",
    "    \"\"\"安装一个果汁自动售货机\"\"\""
   ]
  },
  {
   "cell_type": "code",
   "execution_count": 7,
   "id": "a6659617",
   "metadata": {},
   "outputs": [],
   "source": [
    "orange_juice_dispenser = BeverageDispenser(OrangeJuice())\n",
    "install(orange_juice_dispenser)"
   ]
  },
  {
   "cell_type": "markdown",
   "id": "6f475c9f",
   "metadata": {},
   "source": [
    "### 15.6.2 逆变"
   ]
  },
  {
   "cell_type": "code",
   "execution_count": 8,
   "id": "8faf14bb",
   "metadata": {},
   "outputs": [],
   "source": [
    "from typing import TypeVar, Generic\n",
    "\n",
    "class Refuse:\n",
    "    \"\"\"任何废弃物\"\"\"\n",
    "\n",
    "class Biodegradable(Refuse):\n",
    "    \"\"\"可生物降解的废弃物\"\"\"\n",
    "\n",
    "class Compostable(Biodegradable):\n",
    "    \"\"\"可制成肥料的废弃物\"\"\"\n",
    "\n",
    "T_contra = TypeVar('T_contra', contravariant=True)  # <2>\n",
    "\n",
    "class TrashCan(Generic[T_contra]):  # <3>\n",
    "    def put(self, refuse: T_contra) -> None:\n",
    "        \"\"\"在倾倒之前存放垃圾\"\"\"\n",
    "\n",
    "def deploy(trash_can: TrashCan[Biodegradable]):\n",
    "    \"\"\"放置一个垃圾桶，存放可生物降解的废弃物\"\"\""
   ]
  },
  {
   "cell_type": "code",
   "execution_count": 9,
   "id": "29e07483",
   "metadata": {},
   "outputs": [],
   "source": [
    "bio_can: TrashCan[Biodegradable] = TrashCan()\n",
    "deploy(bio_can)"
   ]
  },
  {
   "cell_type": "code",
   "execution_count": 10,
   "id": "8537582a",
   "metadata": {},
   "outputs": [],
   "source": [
    "trash_can: TrashCan[Refuse] = TrashCan()\n",
    "deploy(trash_can)"
   ]
  },
  {
   "cell_type": "markdown",
   "id": "83d7d361",
   "metadata": {},
   "source": [
    "### 15.6.3 型变总结"
   ]
  },
  {
   "cell_type": "markdown",
   "id": "a92cd157",
   "metadata": {},
   "source": [
    "- 不变类型：如果一个形式类型参数既出现在方法参数的类型提示中，又出现在方法的返回类型中，那么该参数必须是不可变的。"
   ]
  },
  {
   "cell_type": "markdown",
   "id": "6871db4e",
   "metadata": {},
   "source": [
    "给定两个类型A和B，B与A相容，而且均不是`Any`\n",
    "- `A:>B`：A是B的超类，或者A与B类型相同。\n",
    "- `A<:B`：B是A的子类，或者A与B类型相同。"
   ]
  },
  {
   "cell_type": "markdown",
   "id": "6e50fcc4",
   "metadata": {},
   "source": [
    "- 协变类型：对于`A:>B`，当满足`C[A] :> C[B]`时，泛型`C`是可协变的。\n",
    "- 逆变类型：对于`A:>B`，当满足`K[A] <: K[B]`是，泛型`K`是可逆变的。"
   ]
  },
  {
   "cell_type": "markdown",
   "id": "56da95a1",
   "metadata": {},
   "source": [
    "**型变经验法则：**\n",
    "- 如果一个形式类型参数定义的是从对象中获取的数据类型，那么该形式类型参数可能是协变的。\n",
    "- 如果一个形式类型参数定义的是对象初始化之后，向对象输入的数据类型，那么该形式类型参数可能是逆变的。\n",
    "- 如果一个形式类型参数定义的是从对象中获取的数据类型，同时也是向对象输入的数据类型，那么该形式类型参数必定是不可变的。\n",
    "- 形式参数类型最好是不变的。"
   ]
  },
  {
   "cell_type": "markdown",
   "id": "bf5da52e",
   "metadata": {},
   "source": [
    "## 15.7 实现泛化静态协议"
   ]
  },
  {
   "cell_type": "code",
   "execution_count": 11,
   "id": "f4fa5266",
   "metadata": {},
   "outputs": [],
   "source": [
    "import math\n",
    "from typing import NamedTuple, SupportsAbs\n",
    "\n",
    "class Vector2d(NamedTuple):\n",
    "    x: float\n",
    "    y: float\n",
    "\n",
    "    def __abs__(self) -> float:  # 让Vector2d与SupportsAbs相容\n",
    "        return math.hypot(self.x, self.y)\n",
    "\n",
    "def is_unit(v: SupportsAbs[float]) -> bool: \n",
    "    \"\"\"v的模接近1时为True\"\"\"\n",
    "    return math.isclose(abs(v), 1.0)"
   ]
  },
  {
   "cell_type": "code",
   "execution_count": 12,
   "id": "bf1f566a",
   "metadata": {},
   "outputs": [],
   "source": [
    "v0 = Vector2d(0, 1)\n",
    "sqrt2 = math.sqrt(2)\n",
    "v1 = Vector2d(sqrt2 / 2, sqrt2 / 2)\n",
    "v2 = Vector2d(1, 1)\n",
    "v3 = complex(.5, math.sqrt(3) / 2)\n",
    "v4 = 1\n",
    "\n",
    "assert is_unit(v0)\n",
    "assert is_unit(v1)\n",
    "assert not is_unit(v2)\n",
    "assert is_unit(v3)\n",
    "assert is_unit(v4)"
   ]
  },
  {
   "cell_type": "markdown",
   "id": "2edfda79",
   "metadata": {},
   "source": [
    "## 15.8 杂谈"
   ]
  },
  {
   "cell_type": "markdown",
   "id": "b25c7015",
   "metadata": {},
   "source": [
    "- 类型无底洞：使用类型检查工具，有时迫不得已要导入不需要知道的类，除了编写类型提示外，这些类在代码中根本用不到，也没有文档记录。\n",
    "- 其他语言的型变表示法：\n",
    "    - 协变或逆变不是类型变量的性质，而是使用类型变量定义的泛化类的性质。\n",
    "    - 在Python中的类型变量应该仿照Kotlin和C#，使用out修饰符表示T是一种输出类型，使用in修饰符表示T是一种输入类型。"
   ]
  }
 ],
 "metadata": {
  "kernelspec": {
   "display_name": "Python 3 (ipykernel)",
   "language": "python",
   "name": "python3"
  },
  "language_info": {
   "codemirror_mode": {
    "name": "ipython",
    "version": 3
   },
   "file_extension": ".py",
   "mimetype": "text/x-python",
   "name": "python",
   "nbconvert_exporter": "python",
   "pygments_lexer": "ipython3",
   "version": "3.10.5"
  }
 },
 "nbformat": 4,
 "nbformat_minor": 5
}
