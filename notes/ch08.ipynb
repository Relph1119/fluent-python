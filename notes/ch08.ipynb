{
 "cells": [
  {
   "cell_type": "markdown",
   "id": "6666ebd7",
   "metadata": {},
   "source": [
    "# 第8章 函数中的类型提示"
   ]
  },
  {
   "cell_type": "markdown",
   "id": "de5a7ce7",
   "metadata": {},
   "source": [
    "## 8.1 渐进式类型"
   ]
  },
  {
   "cell_type": "markdown",
   "id": "33ddedfb",
   "metadata": {},
   "source": [
    "- 渐进式类型系统的性质：\n",
    "    1. 是可选的：默认情况下，类型检查工具不应对没有类型提示的代码发出警告。如果无法确定对象的类型时，会假定为Any类型。\n",
    "    2. 不在运行时捕获类型错误：在运行时不能阻止把不一致的值传给函数或分配给变量。\n",
    "    3. 不能改善性能。"
   ]
  },
  {
   "cell_type": "markdown",
   "id": "7b45ce90",
   "metadata": {},
   "source": [
    "## 8.2 类型由受支持的操作定义"
   ]
  },
  {
   "cell_type": "markdown",
   "id": "6baa1454",
   "metadata": {},
   "source": [
    "- 鸭子类型：对象有类型，但变量（包括参数）没有类型。为对象声明的类型无关紧要，重要的是对象具体支持什么操作。比名义类型更灵活，但代价是运行时潜在的错误更多。\n",
    "- 名义类型：对象只存在于运行时，类型检查工具只关心使用类型提示注解变量（包括参数）的源码。比鸭子类型更严格，优点是能在构建流水线中，甚至在IDE中输入代码的过程中更早地捕获一些bug。"
   ]
  },
  {
   "cell_type": "markdown",
   "id": "d67d2423",
   "metadata": {},
   "source": [
    "## 8.3 注解中可用的类型"
   ]
  },
  {
   "cell_type": "markdown",
   "id": "13fa4877",
   "metadata": {},
   "source": [
    "- typing.Any类型：动态类型\n",
    "    1. 对T1及其子类型T2，T2与T1相容（里氏替换原则）\n",
    "    2. 任何类型都与Any相容。\n",
    "    3. Any与任何类型都相容。"
   ]
  },
  {
   "cell_type": "markdown",
   "id": "69b26961",
   "metadata": {},
   "source": [
    "- 简单的类型和类：例如int、float、str和bytes这样的简单的类型可以直接在类型提示中使用。"
   ]
  },
  {
   "cell_type": "markdown",
   "id": "caf2ebd0",
   "metadata": {},
   "source": [
    "- Optional类型和Union类型：`Union[]`至少需要两种类型，嵌套的Union类型与扁平的Union类型效果相同。"
   ]
  },
  {
   "cell_type": "markdown",
   "id": "e57913b0",
   "metadata": {},
   "source": [
    "- 泛化容器：泛型可以用类型参数来声明，以指定可以处理的项的类型。例如，`list[str]`。"
   ]
  },
  {
   "cell_type": "markdown",
   "id": "cbe871bd",
   "metadata": {},
   "source": [
    "- 元组类型：\n",
    "    1. 用作记录的元组，例如：`tuple[str, float, str]`。\n",
    "    2. 带有具名字段，用作记录的元组，使用`typing.NamedTuple`。\n",
    "    3. 用作不可变序列的元组，例如：`tuple[Any,...]`。"
   ]
  },
  {
   "cell_type": "markdown",
   "id": "6c1030f9",
   "metadata": {},
   "source": [
    "- 泛化映射：使用`MappingType[KeyType, ValueType]`形式注解。"
   ]
  },
  {
   "cell_type": "code",
   "execution_count": 1,
   "id": "cdfda48d",
   "metadata": {},
   "outputs": [],
   "source": [
    "import sys\n",
    "import re\n",
    "import unicodedata\n",
    "from collections.abc import Iterator\n",
    "\n",
    "RE_WORD = re.compile(r'\\w+')\n",
    "STOP_CODE = sys.maxunicode + 1\n",
    "\n",
    "def tokenize(text: str) -> Iterator[str]:  \n",
    "    \"\"\"返回全大写的单词构成的可迭代对象\"\"\"\n",
    "    for match in RE_WORD.finditer(text):\n",
    "        yield match.group().upper()\n",
    "\n",
    "def name_index(start: int = 32, end: int = STOP_CODE) -> dict[str, set[str]]:\n",
    "    index: dict[str, set[str]] = {}  \n",
    "    for char in (chr(i) for i in range(start, end)):\n",
    "        # 使用海象运算符，进行结果赋值\n",
    "        if name := unicodedata.name(char, ''):  \n",
    "            for word in tokenize(name):\n",
    "                index.setdefault(word, set()).add(char)\n",
    "    return index"
   ]
  },
  {
   "cell_type": "code",
   "execution_count": 2,
   "id": "c14b8e34",
   "metadata": {},
   "outputs": [
    {
     "data": {
      "text/plain": [
       "{'#', '$', '%', '+', '<', '=', '>'}"
      ]
     },
     "execution_count": 2,
     "metadata": {},
     "output_type": "execute_result"
    }
   ],
   "source": [
    "index = name_index(32, 65)\n",
    "index['SIGN']"
   ]
  },
  {
   "cell_type": "code",
   "execution_count": 3,
   "id": "1262268f",
   "metadata": {},
   "outputs": [
    {
     "data": {
      "text/plain": [
       "{'0', '1', '2', '3', '4', '5', '6', '7', '8', '9'}"
      ]
     },
     "execution_count": 3,
     "metadata": {},
     "output_type": "execute_result"
    }
   ],
   "source": [
    "index['DIGIT']"
   ]
  },
  {
   "cell_type": "code",
   "execution_count": 4,
   "id": "aedf24ac",
   "metadata": {},
   "outputs": [
    {
     "data": {
      "text/plain": [
       "{'8'}"
      ]
     },
     "execution_count": 4,
     "metadata": {},
     "output_type": "execute_result"
    }
   ],
   "source": [
    "index['DIGIT'] & index['EIGHT']"
   ]
  },
  {
   "cell_type": "markdown",
   "id": "485afb9c",
   "metadata": {},
   "source": [
    "- 抽象基类：一般来说，在参数得类型提示中最好使用`abc.Mapping`或`abc.MutableMapping`，不要使用`dict`。"
   ]
  },
  {
   "cell_type": "markdown",
   "id": "3a1ecfca",
   "metadata": {},
   "source": [
    "- Iterable：使用`collections.abc`包中的`Iterable`。"
   ]
  },
  {
   "cell_type": "code",
   "execution_count": 5,
   "id": "c6df4e3a",
   "metadata": {},
   "outputs": [],
   "source": [
    "from collections.abc import Iterable\n",
    "\n",
    "# 类型别名\n",
    "FromTo = tuple[str, str]\n",
    "\n",
    "def zip_replace(text: str, changes: Iterable[FromTo]) -> str: \n",
    "    for from_, to in changes:\n",
    "        text = text.replace(from_, to)\n",
    "    return text"
   ]
  },
  {
   "cell_type": "code",
   "execution_count": 6,
   "id": "bbbcd976",
   "metadata": {},
   "outputs": [
    {
     "data": {
      "text/plain": [
       "'m4d sk1ll3d n00b p0wn3d l33t'"
      ]
     },
     "execution_count": 6,
     "metadata": {},
     "output_type": "execute_result"
    }
   ],
   "source": [
    "l33t = [('a', '4'), ('e', '3'), ('i', '1'), ('o', '0')]\n",
    "text = 'mad skilled noob powned leet'\n",
    "zip_replace(text, l33t)"
   ]
  },
  {
   "cell_type": "markdown",
   "id": "7301a8d1",
   "metadata": {},
   "source": [
    "- 参数化泛型和TypeVar：参数化泛型`list[T]`，其中`T`是类型变量，而密匙使用时会绑定具体的类型。"
   ]
  },
  {
   "cell_type": "code",
   "execution_count": 7,
   "id": "cfe2f68b",
   "metadata": {},
   "outputs": [],
   "source": [
    "from collections.abc import Sequence\n",
    "from random import shuffle\n",
    "from typing import TypeVar\n",
    "\n",
    "# 定义泛型参数\n",
    "T = TypeVar('T')\n",
    "\n",
    "def sample(population: Sequence[T], size: int) -> list[T]:\n",
    "    if size < 1:\n",
    "        raise ValueError('size must be >= 1')\n",
    "    result = list(population)\n",
    "    shuffle(result)\n",
    "    return result[:size]"
   ]
  },
  {
   "cell_type": "markdown",
   "id": "6c84f227",
   "metadata": {},
   "source": [
    "- 静态协议（typing.Protocols）：协议通过`typing.Protocols`的子类定义，类型检查工具负责查找可用的协议类型，施行用法检查。"
   ]
  },
  {
   "cell_type": "code",
   "execution_count": 11,
   "id": "273aa7e6",
   "metadata": {},
   "outputs": [],
   "source": [
    "# 使用bound=SupportsLessThan的TypeVar定义top函数\n",
    "from collections.abc import Iterable\n",
    "from typing import TypeVar\n",
    "from typing import Protocol, Any\n",
    "\n",
    "class SupportsLessThan(Protocol):\n",
    "    def __lt__(self, other: Any) -> bool: \n",
    "        pass\n",
    "\n",
    "\n",
    "LT = TypeVar('LT', bound=SupportsLessThan)\n",
    "\n",
    "def top(series: Iterable[LT], length: int) -> list[LT]:\n",
    "    ordered = sorted(series, reverse=True)\n",
    "    return ordered[:length]"
   ]
  },
  {
   "cell_type": "code",
   "execution_count": 12,
   "id": "a6bd8efb",
   "metadata": {},
   "outputs": [
    {
     "data": {
      "text/plain": [
       "[7, 6, 5]"
      ]
     },
     "execution_count": 12,
     "metadata": {},
     "output_type": "execute_result"
    }
   ],
   "source": [
    "top([4, 1, 5, 2, 6, 7, 3], 3)"
   ]
  },
  {
   "cell_type": "code",
   "execution_count": 13,
   "id": "06504b08",
   "metadata": {},
   "outputs": [
    {
     "data": {
      "text/plain": [
       "['pear', 'mango', 'kiwi']"
      ]
     },
     "execution_count": 13,
     "metadata": {},
     "output_type": "execute_result"
    }
   ],
   "source": [
    "l = 'mango pear apple kiwi banana'.split()\n",
    "top(l, 3)"
   ]
  },
  {
   "cell_type": "markdown",
   "id": "91f65566",
   "metadata": {},
   "source": [
    "- Callable：用于注解回调参数或高阶函数返回的可调用对象。"
   ]
  },
  {
   "cell_type": "markdown",
   "id": "6a9573a9",
   "metadata": {},
   "source": [
    "- NoReturn：仅用于注解绝不返回的函数的返回值类型。这类函数通常会抛出异常。"
   ]
  },
  {
   "cell_type": "markdown",
   "id": "3cbd82db",
   "metadata": {},
   "source": [
    "## 8.4 类型检查工具的缺点"
   ]
  },
  {
   "cell_type": "markdown",
   "id": "bf2e33d6",
   "metadata": {},
   "source": [
    "- 一些便利的功能无法做静态检查，比如`config(**settings)`这种参数拆包。\n",
    "- 对特性、描述符、元类和元编程等高级功能的支持很差，或者根本无法理解。\n",
    "- 跟不上Python版本的变化，可能拒绝使用语言新特性的代码，甚至崩溃。"
   ]
  },
  {
   "cell_type": "markdown",
   "id": "3ad3da1f",
   "metadata": {},
   "source": [
    "## 8.5 杂谈"
   ]
  },
  {
   "cell_type": "markdown",
   "id": "a5dc1d8b",
   "metadata": {},
   "source": [
    "- 类型的认知效应：\n",
    "    - 强版本认为，语言决定思维，语系限制并决定认知范畴。\n",
    "    - 弱版本认为，语系和用法只影响思维和决策。\n",
    "    - 语言相对论可以解释，学习不同的编程语言，尤其是支持不同编程范式的语言，能让你成为更好的程序员。"
   ]
  }
 ],
 "metadata": {
  "kernelspec": {
   "display_name": "Python 3 (ipykernel)",
   "language": "python",
   "name": "python3"
  },
  "language_info": {
   "codemirror_mode": {
    "name": "ipython",
    "version": 3
   },
   "file_extension": ".py",
   "mimetype": "text/x-python",
   "name": "python",
   "nbconvert_exporter": "python",
   "pygments_lexer": "ipython3",
   "version": "3.10.5"
  }
 },
 "nbformat": 4,
 "nbformat_minor": 5
}
