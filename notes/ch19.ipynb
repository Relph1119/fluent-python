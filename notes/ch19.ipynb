{
 "cells": [
  {
   "cell_type": "markdown",
   "id": "a379d07e",
   "metadata": {},
   "source": [
    "# 第19章 Python并发模型"
   ]
  },
  {
   "cell_type": "markdown",
   "id": "a20cd640",
   "metadata": {},
   "source": [
    "## 19.1 核心概念"
   ]
  },
  {
   "cell_type": "markdown",
   "id": "ac34a677",
   "metadata": {},
   "source": [
    "- 并发：处理多个待定认为，一次处理一个或并行处理多个，直到所有任务最终都成功或失败。并发也叫做多任务处理。\n",
    "- 并行：同时执行多个计算任务的能力。\n",
    "- 执行单元：并发执行代码的对象的统称，每个对象的状态和调用栈是独立的，Python原生支持3种执行单元：进程、线程和协程。\n",
    "- 进程：\n",
    "   - 计算机程序运行时的一个实例，消耗内存和部分CPU时间。\n",
    "   - 进程通过管道、套接字或内存映射文件进行通信。\n",
    "   - 进程可以派生子进程，子进程之间以及与父进程之间是隔离的。\n",
    "   - 进程支持抢占式多任务处理机制：操作系统调度程序定期抢占（挂起）运行中的进程，让其他进程运行。\n",
    "- 线程：\n",
    "   - 单个进程中的执行单元。\n",
    "   - 通过调用操作系统API，进程可以创建更多线程，执行并发操作。\n",
    "   - 一个进程内的线程共享相同的内存空间。\n",
    "- 协程：\n",
    "   - 可以挂起自身并在以后恢复的函数。\n",
    "   - 经典协程由生成器函数构建，原生协程使用`async def`定义。\n",
    "   - 协程支持协作式多任务处理：一个协程必须使用`yield`或`await`关键字显式放弃控制权，另一个协程才可以并发开展工作。\n",
    "- 队列：一种数据结构，可以放入和取出项，顺序通常是先入先出（FIFO）。独立的执行单元可以通过队列交换引用数据和控制消息。\n",
    "- 锁：一种供执行单元用来同步操作和避免数据损坏的对象。\n",
    "- 争用：对有限资源的争夺。当多个执行单元尝试访问共享资源时，就会发生资源争用。"
   ]
  },
  {
   "cell_type": "markdown",
   "id": "47320aa4",
   "metadata": {},
   "source": [
    "## 19.2 并发的\"Hello World\"示例"
   ]
  },
  {
   "cell_type": "markdown",
   "id": "b8e9cf22",
   "metadata": {},
   "source": [
    "功能：启动一个函数，阻塞3秒，期间在界面上会显示一个旋转的指针动画，当计算结束后，显示结果：`Answer: 42`。"
   ]
  },
  {
   "cell_type": "markdown",
   "id": "01dafd30",
   "metadata": {},
   "source": [
    "### 19.2.1 使用线程实现旋转指针"
   ]
  },
  {
   "cell_type": "code",
   "execution_count": 1,
   "id": "2a2ddc23",
   "metadata": {},
   "outputs": [],
   "source": [
    "import itertools\n",
    "import time\n",
    "from threading import Thread, Event\n",
    "\n",
    "def spin(msg: str, done: Event) -> None:\n",
    "    # 循环展示指针字符\n",
    "    for char in itertools.cycle(r'\\|/-'):  \n",
    "        status = f'\\r{char} {msg}'\n",
    "        print(status, end='', flush=True)\n",
    "        # 线程阻塞，帧数为10fps\n",
    "        if done.wait(.1):\n",
    "            break  \n",
    "    blanks = ' ' * len(status)\n",
    "    # 将光标移动到开头，清空状态行\n",
    "    print(f'\\r{blanks}\\r', end='')  \n",
    "\n",
    "def slow() -> int:\n",
    "    # 停止3秒\n",
    "    time.sleep(3)\n",
    "    return 42"
   ]
  },
  {
   "cell_type": "code",
   "execution_count": 2,
   "id": "b612f2e6",
   "metadata": {},
   "outputs": [],
   "source": [
    "def supervisor() -> int:\n",
    "    done = Event()\n",
    "    spinner = Thread(target=spin, args=('thinking!', done))\n",
    "    print(f'spinner object: {spinner}')\n",
    "    # 启动线程\n",
    "    spinner.start()\n",
    "    # 调用slow，阻塞main线程\n",
    "    result = slow()\n",
    "    # 终止spin函数的for循环\n",
    "    done.set()\n",
    "    # 等待，直到spinner线程结束\n",
    "    spinner.join()\n",
    "    return result"
   ]
  },
  {
   "cell_type": "code",
   "execution_count": 3,
   "id": "255637da",
   "metadata": {},
   "outputs": [
    {
     "name": "stdout",
     "output_type": "stream",
     "text": [
      "spinner object: <Thread(Thread-5 (spin), initial)>\n",
      "Answer: 42  \n"
     ]
    }
   ],
   "source": [
    "result = supervisor()\n",
    "print(f'Answer: {result}')"
   ]
  },
  {
   "cell_type": "markdown",
   "id": "855c2799",
   "metadata": {},
   "source": [
    "### 19.2.2 使用进程实现旋转指针"
   ]
  },
  {
   "cell_type": "code",
   "execution_count": 4,
   "id": "234d18cf",
   "metadata": {},
   "outputs": [],
   "source": [
    "import itertools\n",
    "import time\n",
    "from multiprocessing import Process, Event\n",
    "from multiprocessing import synchronize\n",
    "\n",
    "def spin(msg: str, done: synchronize.Event) -> None:\n",
    "    # 循环展示指针字符\n",
    "    for char in itertools.cycle(r'\\|/-'):  \n",
    "        status = f'\\r{char} {msg}'\n",
    "        print(status, end='', flush=True)\n",
    "        # 线程阻塞，帧数为10fps\n",
    "        if done.wait(.1):\n",
    "            break  \n",
    "    blanks = ' ' * len(status)\n",
    "    # 将光标移动到开头，清空状态行\n",
    "    print(f'\\r{blanks}\\r', end='')  \n",
    "\n",
    "def slow() -> int:\n",
    "    # 停止3秒\n",
    "    time.sleep(3)\n",
    "    return 42"
   ]
  },
  {
   "cell_type": "code",
   "execution_count": 5,
   "id": "f838b60b",
   "metadata": {},
   "outputs": [],
   "source": [
    "def supervisor() -> int:\n",
    "    done = Event()\n",
    "    spinner = Process(target=spin, args=('thinking!', done))\n",
    "    print(f'spinner object: {spinner}')\n",
    "    # 启动线程\n",
    "    spinner.start()\n",
    "    # 调用slow，阻塞main线程\n",
    "    result = slow()\n",
    "    # 终止spin函数的for循环\n",
    "    done.set()\n",
    "    # 等待，直到spinner线程结束\n",
    "    spinner.join()\n",
    "    return result"
   ]
  },
  {
   "cell_type": "code",
   "execution_count": 6,
   "id": "e0f35784",
   "metadata": {},
   "outputs": [
    {
     "name": "stdout",
     "output_type": "stream",
     "text": [
      "spinner object: <Process name='Process-1' parent=12812 initial>\n",
      "Answer: 42\n"
     ]
    }
   ],
   "source": [
    "result = supervisor()\n",
    "print(f'Answer: {result}')"
   ]
  },
  {
   "cell_type": "markdown",
   "id": "5fbdb15d",
   "metadata": {},
   "source": [
    "### 19.2.3 使用协程实现旋转指针"
   ]
  },
  {
   "cell_type": "code",
   "execution_count": 7,
   "id": "248e1ff4",
   "metadata": {},
   "outputs": [],
   "source": [
    "import itertools\n",
    "import asyncio\n",
    "\n",
    "async def spin(msg: str) -> None:\n",
    "    # 循环展示指针字符\n",
    "    for char in itertools.cycle(r'\\|/-'):  \n",
    "        status = f'\\r{char} {msg}'\n",
    "        print(status, end='', flush=True)\n",
    "        try:\n",
    "            # 线程阻塞，帧数为10fps\n",
    "            await asyncio.sleep(.1)\n",
    "        except asyncio.CancelledError:\n",
    "            break\n",
    "    blanks = ' ' * len(status)\n",
    "    # 将光标移动到开头，清空状态行\n",
    "    print(f'\\r{blanks}\\r', end='')  \n",
    "\n",
    "async def slow() -> int:\n",
    "    # 停止3秒\n",
    "    await asyncio.sleep(3)\n",
    "    return 42"
   ]
  },
  {
   "cell_type": "code",
   "execution_count": 8,
   "id": "44414874",
   "metadata": {},
   "outputs": [],
   "source": [
    "async def supervisor() -> int:\n",
    "    # 调度spin最终执行\n",
    "    spinner = asyncio.create_task(spin('thinking!'))\n",
    "    print(f'spinner object: {spinner}')  \n",
    "    # 调用slow，阻塞supervisor，直到slow返回\n",
    "    result = await slow()\n",
    "    # 抛出CancelledError异常\n",
    "    spinner.cancel()\n",
    "    return result"
   ]
  },
  {
   "cell_type": "code",
   "execution_count": 9,
   "id": "e71b219d",
   "metadata": {},
   "outputs": [
    {
     "name": "stdout",
     "output_type": "stream",
     "text": [
      "spinner object: <Task pending name='Task-6' coro=<spin() running at C:\\Users\\hurui\\AppData\\Local\\Temp\\ipykernel_12812\\3509005970.py:4>>\n",
      "- thinking!Answer: 42\n",
      "            \r"
     ]
    }
   ],
   "source": [
    "result = await supervisor()\n",
    "print(f'Answer: {result}')"
   ]
  },
  {
   "cell_type": "markdown",
   "id": "72889948",
   "metadata": {},
   "source": [
    "- asyncio.run(coro())：在常规函数中调用，驱动一个协程对象，通常作为程序中所有异步代码的入口。\n",
    "- asyncio.create_task(coro())：在协程中调用，调度另一个协程最终执行。\n",
    "- await coro()：在协程中调用，把控制权转给coro()返回的协程对象，中止当前协程，直到coro的主体返回。"
   ]
  },
  {
   "cell_type": "markdown",
   "id": "2490443f",
   "metadata": {},
   "source": [
    "## 19.3 自建进程池"
   ]
  },
  {
   "cell_type": "markdown",
   "id": "6970a3a3",
   "metadata": {},
   "source": [
    "### 19.3.1 第1版：素数检测"
   ]
  },
  {
   "cell_type": "code",
   "execution_count": 10,
   "id": "6946343b",
   "metadata": {},
   "outputs": [],
   "source": [
    "import math\n",
    "\n",
    "PRIME_FIXTURE = [\n",
    "    (2, True),\n",
    "    (142702110479723, True),\n",
    "    (299593572317531, True),\n",
    "    (3333333333333301, True),\n",
    "    (3333333333333333, False),\n",
    "    (3333335652092209, False),\n",
    "    (4444444444444423, True),\n",
    "    (4444444444444444, False),\n",
    "    (4444444488888889, False),\n",
    "    (5555553133149889, False),\n",
    "    (5555555555555503, True),\n",
    "    (5555555555555555, False),\n",
    "    (6666666666666666, False),\n",
    "    (6666666666666719, True),\n",
    "    (6666667141414921, False),\n",
    "    (7777777536340681, False),\n",
    "    (7777777777777753, True),\n",
    "    (7777777777777777, False),\n",
    "    (9999999999999917, True),\n",
    "    (9999999999999999, False),\n",
    "]\n",
    "\n",
    "NUMBERS = [n for n, _ in PRIME_FIXTURE]\n",
    "\n",
    "def is_prime(n: int) -> bool:\n",
    "    if n < 2:\n",
    "        return False\n",
    "    if n == 2:\n",
    "        return True\n",
    "    if n % 2 == 0:\n",
    "        return False\n",
    "\n",
    "    root = math.isqrt(n)\n",
    "    for i in range(3, root + 1, 2):\n",
    "        if n % i == 0:\n",
    "            return False\n",
    "    return True"
   ]
  },
  {
   "cell_type": "code",
   "execution_count": 11,
   "id": "28848e72",
   "metadata": {},
   "outputs": [],
   "source": [
    "from time import perf_counter\n",
    "from typing import NamedTuple\n",
    "\n",
    "class Result(NamedTuple):  # <1>\n",
    "    prime: bool\n",
    "    elapsed: float\n",
    "\n",
    "def check(n: int) -> Result:\n",
    "    # 检查是否为素数\n",
    "    t0 = perf_counter()\n",
    "    prime = is_prime(n)\n",
    "    return Result(prime, perf_counter() - t0)\n",
    "\n",
    "def main() -> None:\n",
    "    print(f'Checking {len(NUMBERS)} numbers sequentially:')\n",
    "    t0 = perf_counter()\n",
    "    for n in NUMBERS:\n",
    "        prime, elapsed = check(n)\n",
    "        label = 'P' if prime else ' '\n",
    "        print(f'{n:16}  {label} {elapsed:9.6f}s')\n",
    "\n",
    "    elapsed = perf_counter() - t0  # <4>\n",
    "    print(f'Total time: {elapsed:.2f}s')"
   ]
  },
  {
   "cell_type": "code",
   "execution_count": 12,
   "id": "12a8f973",
   "metadata": {},
   "outputs": [
    {
     "name": "stdout",
     "output_type": "stream",
     "text": [
      "Checking 20 numbers sequentially:\n",
      "               2  P  0.000001s\n",
      " 142702110479723  P  0.278544s\n",
      " 299593572317531  P  0.391379s\n",
      "3333333333333301  P  1.342821s\n",
      "3333333333333333     0.000012s\n",
      "3333335652092209     1.319537s\n",
      "4444444444444423  P  1.545259s\n",
      "4444444444444444     0.000002s\n",
      "4444444488888889     1.485832s\n",
      "5555553133149889     1.711040s\n",
      "5555555555555503  P  1.662344s\n",
      "5555555555555555     0.000006s\n",
      "6666666666666666     0.000000s\n",
      "6666666666666719  P  1.868928s\n",
      "6666667141414921     1.840363s\n",
      "7777777536340681     2.034407s\n",
      "7777777777777753  P  1.990972s\n",
      "7777777777777777     0.000004s\n",
      "9999999999999917  P  2.309609s\n",
      "9999999999999999     0.000004s\n",
      "Total time: 19.79s\n"
     ]
    }
   ],
   "source": [
    "main()"
   ]
  },
  {
   "cell_type": "markdown",
   "id": "7889e7b6",
   "metadata": {},
   "source": [
    "### 19.3.2 第2版：基于进程的方案"
   ]
  },
  {
   "cell_type": "markdown",
   "id": "361bbd75",
   "metadata": {},
   "source": [
    "**改进方案：** 使用多个进程把素数检测分配给多个CPU核。"
   ]
  },
  {
   "cell_type": "code",
   "execution_count": 13,
   "id": "6d3802c5",
   "metadata": {},
   "outputs": [],
   "source": [
    "import sys\n",
    "from time import perf_counter\n",
    "from typing import NamedTuple\n",
    "from multiprocessing import Process, SimpleQueue, cpu_count  \n",
    "from multiprocessing import queues\n",
    "\n",
    "class PrimeResult(NamedTuple):\n",
    "    n: int\n",
    "    prime: bool\n",
    "    elapsed: float\n",
    "\n",
    "# 建立任务队列        \n",
    "JobQueue = queues.SimpleQueue[int]\n",
    "ResultQueue = queues.SimpleQueue[PrimeResult]\n",
    "\n",
    "def check(n: int) -> PrimeResult:\n",
    "    t0 = perf_counter()\n",
    "    res = is_prime(n)\n",
    "    return PrimeResult(n, res, perf_counter() - t0)\n",
    "\n",
    "def worker(jobs: JobQueue, results: ResultQueue) -> None:\n",
    "    # 取出要检查的数\n",
    "    while n := jobs.get():\n",
    "        # 存放结果\n",
    "        results.put(check(n))      \n",
    "    results.put(PrimeResult(0, False, 0.0))\n",
    "\n",
    "def start_jobs(procs: int, jobs: JobQueue, results: ResultQueue) -> None:\n",
    "    # 初始化任务队列\n",
    "    for n in NUMBERS:\n",
    "        jobs.put(n)\n",
    "    # 创建多个进程    \n",
    "    for _ in range(procs):\n",
    "        proc = Process(target=worker, args=(jobs, results))  \n",
    "        proc.start()  \n",
    "        jobs.put(0)\n",
    "\n",
    "def main(count=-1) -> None:\n",
    "    if cpu_count != -1:\n",
    "        procs = count\n",
    "    else:\n",
    "        procs = cpu_count()\n",
    "    \n",
    "    print(f'Checking {len(NUMBERS)} numbers with {procs} processes:')\n",
    "    t0 = perf_counter()\n",
    "    jobs: JobQueue = SimpleQueue()  \n",
    "    results: ResultQueue = SimpleQueue()\n",
    "    # 启动任务    \n",
    "    start_jobs(procs, jobs, results)  \n",
    "    checked = report(procs, results)\n",
    "    elapsed = perf_counter() - t0\n",
    "    print(f'{checked} checks in {elapsed:.2f}s')  \n",
    "\n",
    "def report(procs: int, results: ResultQueue) -> int: \n",
    "    checked = 0\n",
    "    procs_done = 0\n",
    "    # 在所有进程都结束之前一直循环\n",
    "    while procs_done < procs:\n",
    "        n, prime, elapsed = results.get()\n",
    "        if n == 0:  # <9>\n",
    "            procs_done += 1\n",
    "        else:\n",
    "            checked += 1\n",
    "            label = 'P' if prime else ' '\n",
    "            print(f'{n:16}  {label} {elapsed:9.6f}s')\n",
    "    return checked"
   ]
  },
  {
   "cell_type": "markdown",
   "id": "4d3cb5fb",
   "metadata": {},
   "source": [
    "## 19.4 Python的多核应用"
   ]
  },
  {
   "cell_type": "markdown",
   "id": "8fbf8387",
   "metadata": {},
   "source": [
    "- 系统管理：Pyhton广泛用于管理大型服务器集群、路由器、负载均衡程序和网络接入存储。使用Python脚本发送命令，由远程设备执行，实现配置任务自动化。\n",
    "- 数据科学：\n",
    "    - Jupyter项目：提供两个基于游览器的界面（Jupyter Notebook和JupyterLab），供用户运行和记录可在远程计算机上通过网络运行的分析代码。\n",
    "    - TensorFlow和PyTorch：深度学习框架。\n",
    "    - Dask：并行计算库，可以把工作委托给本地进程或设备集群。可以在JupyterLab或Jupyter Notebook中使用，利用Boken不仅可以实现数据可视化，还可以实现交互式仪表板，以接近实时的方式显示数据流和跨进程、跨设备的计算。\n",
    "- 服务器端Web和移动开发：Python广泛用于Web应用程序开发和为移动应用程序提供支持的后端API开发。\n",
    "    - 一个应用程序服务器，在Python应用程序的多个实例之间分配负载。\n",
    "    - 一个任务队列，提供易于使用的高级API，为设备中运行的进程分配任务。\n",
    "- WSGI应用程序服务器：WSGI是Python框架或应用程序接收HTTP服务器请求并向其发送响应的标准API。\n",
    "    "
   ]
  },
  {
   "cell_type": "markdown",
   "id": "24ed5168",
   "metadata": {},
   "source": [
    "## 19.5 任务队列"
   ]
  },
  {
   "cell_type": "markdown",
   "id": "74ea2f50",
   "metadata": {},
   "source": [
    "任务队列的用途：\n",
    "- 运行后台作业。\n",
    "- 在Web请求完成后执行某些操作。\n",
    "- 异步执行某些操作，失败后重试，确保操作一定完成。\n",
    "- 安排定期工作。"
   ]
  },
  {
   "cell_type": "markdown",
   "id": "3a8c08c2",
   "metadata": {},
   "source": [
    "任务队列的特点：支持横向伸缩。"
   ]
  },
  {
   "cell_type": "markdown",
   "id": "7ba76e8f",
   "metadata": {},
   "source": [
    "## 19.6 杂谈"
   ]
  },
  {
   "cell_type": "markdown",
   "id": "d4bee582",
   "metadata": {},
   "source": [
    "线程和锁模式的不受约束性：\n",
    "- 线程可以共享访问任意可变的数据结构。\n",
    "- 调度程序几乎可以在任何时刻中断线程。\n",
    "- 锁往往是建议性的，在更新共享的数据结构之前，必须显式持有锁。"
   ]
  },
  {
   "cell_type": "markdown",
   "id": "7ec4afdd",
   "metadata": {},
   "source": [
    "参与者模式的约束性：\n",
    "- 参与者可以有内部状态，但是不能与其它参与者分享状态。\n",
    "- 参与者之间通过收发消息进行通信。\n",
    "- 消息中只能存有数据的副本，不能引用可变的数据。\n",
    "- 一个参与者一次只处理一个消息。对于单个参与者，没有并发执行的概念。"
   ]
  }
 ],
 "metadata": {
  "kernelspec": {
   "display_name": "Python 3 (ipykernel)",
   "language": "python",
   "name": "python3"
  },
  "language_info": {
   "codemirror_mode": {
    "name": "ipython",
    "version": 3
   },
   "file_extension": ".py",
   "mimetype": "text/x-python",
   "name": "python",
   "nbconvert_exporter": "python",
   "pygments_lexer": "ipython3",
   "version": "3.10.5"
  }
 },
 "nbformat": 4,
 "nbformat_minor": 5
}
