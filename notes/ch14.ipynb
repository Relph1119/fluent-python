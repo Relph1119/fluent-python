{
 "cells": [
  {
   "cell_type": "markdown",
   "id": "b995bc4e",
   "metadata": {},
   "source": [
    "# 第14章 继承：瑕瑜互见"
   ]
  },
  {
   "cell_type": "markdown",
   "id": "1673eafb",
   "metadata": {},
   "source": [
    "## 14.1 super()函数"
   ]
  },
  {
   "cell_type": "markdown",
   "id": "0ba956a9",
   "metadata": {},
   "source": [
    "- 坚持使用内置函数`super()`是确保面向对象的Python程序可维护性的基本要求。\n",
    "- super提供两个参数：\n",
    "    - type：从哪里开始搜索实现所需方法的超类。默认为`super()`调用所在的方法所属的类。\n",
    "    - object_or_type：接收方法调用的对象（调用实例方法时）或类（调用类方法时）。在实例方法中调用`super()`时，默认为`self`。"
   ]
  },
  {
   "cell_type": "markdown",
   "id": "1e207058",
   "metadata": {},
   "source": [
    "## 14.2 子类化内置类型"
   ]
  },
  {
   "cell_type": "markdown",
   "id": "fd242abb",
   "metadata": {},
   "source": [
    "内置类型（使用C语言编写）通常不调用用户定义的类覆盖的方法。"
   ]
  },
  {
   "cell_type": "code",
   "execution_count": 1,
   "id": "8ea4e5e6",
   "metadata": {},
   "outputs": [],
   "source": [
    "class DoppleDict(dict):\n",
    "    def __setitem__(self, key, value):\n",
    "        super().__setitem__(key, [value] * 2)"
   ]
  },
  {
   "cell_type": "code",
   "execution_count": 3,
   "id": "a428861d",
   "metadata": {},
   "outputs": [
    {
     "data": {
      "text/plain": [
       "{'one': 1}"
      ]
     },
     "execution_count": 3,
     "metadata": {},
     "output_type": "execute_result"
    }
   ],
   "source": [
    "# dict的__init__方法忽略了覆盖的__setitem__方法\n",
    "dd = DoppleDict(one=1)\n",
    "dd"
   ]
  },
  {
   "cell_type": "code",
   "execution_count": 4,
   "id": "7ca28781",
   "metadata": {},
   "outputs": [
    {
     "data": {
      "text/plain": [
       "{'one': 1, 'two': [2, 2]}"
      ]
     },
     "execution_count": 4,
     "metadata": {},
     "output_type": "execute_result"
    }
   ],
   "source": [
    "dd['two'] = 2\n",
    "dd"
   ]
  },
  {
   "cell_type": "code",
   "execution_count": 5,
   "id": "02e3efe0",
   "metadata": {},
   "outputs": [
    {
     "data": {
      "text/plain": [
       "{'one': 1, 'two': [2, 2], 'three': 3}"
      ]
     },
     "execution_count": 5,
     "metadata": {},
     "output_type": "execute_result"
    }
   ],
   "source": [
    "# update方法忽略了覆盖的__setitem__方法\n",
    "dd.update(three=3)\n",
    "dd"
   ]
  },
  {
   "cell_type": "markdown",
   "id": "19dca6f5",
   "metadata": {},
   "source": [
    "## 14.3 多重继承和方法解析顺序"
   ]
  },
  {
   "cell_type": "code",
   "execution_count": 6,
   "id": "02545734",
   "metadata": {},
   "outputs": [],
   "source": [
    "class Root:\n",
    "    def ping(self):\n",
    "        print(f'{self}.ping() in Root')\n",
    "\n",
    "    def pong(self):\n",
    "        print(f'{self}.pong() in Root')\n",
    "\n",
    "    def __repr__(self):\n",
    "        cls_name = type(self).__name__\n",
    "        return f'<instance of {cls_name}>'\n",
    "\n",
    "\n",
    "class A(Root):  \n",
    "    def ping(self):\n",
    "        print(f'{self}.ping() in A')\n",
    "        super().ping()\n",
    "\n",
    "    def pong(self):\n",
    "        print(f'{self}.pong() in A')\n",
    "        super().pong()\n",
    "\n",
    "\n",
    "class B(Root):  \n",
    "    def ping(self):\n",
    "        print(f'{self}.ping() in B')\n",
    "        super().ping()\n",
    "\n",
    "    def pong(self):\n",
    "        print(f'{self}.pong() in B')\n",
    "\n",
    "\n",
    "class Leaf(A, B):  \n",
    "    def ping(self):\n",
    "        print(f'{self}.ping() in Leaf')\n",
    "        super().ping()"
   ]
  },
  {
   "cell_type": "code",
   "execution_count": 7,
   "id": "7cf30b63",
   "metadata": {},
   "outputs": [
    {
     "name": "stdout",
     "output_type": "stream",
     "text": [
      "<instance of Leaf>.ping() in Leaf\n",
      "<instance of Leaf>.ping() in A\n",
      "<instance of Leaf>.ping() in B\n",
      "<instance of Leaf>.ping() in Root\n"
     ]
    }
   ],
   "source": [
    "leaf1 = Leaf()\n",
    "leaf1.ping()"
   ]
  },
  {
   "cell_type": "code",
   "execution_count": 8,
   "id": "30e892d3",
   "metadata": {},
   "outputs": [
    {
     "name": "stdout",
     "output_type": "stream",
     "text": [
      "<instance of Leaf>.pong() in A\n",
      "<instance of Leaf>.pong() in B\n"
     ]
    }
   ],
   "source": [
    "leaf1.pong()"
   ]
  },
  {
   "cell_type": "markdown",
   "id": "6588108e",
   "metadata": {},
   "source": [
    "唤醒过程由以下两个因素决定：\n",
    "- Leaf类的方法解析顺序。\n",
    "- 各方法中使用的`super()`。"
   ]
  },
  {
   "cell_type": "markdown",
   "id": "61b0cc1e",
   "metadata": {},
   "source": [
    "## 14.4 多重继承的实际运用"
   ]
  },
  {
   "cell_type": "markdown",
   "id": "88c35ee6",
   "metadata": {},
   "source": [
    "1. ThreadingMixIn和ForkingMixIn\n",
    "\n",
    "`ThreadingHTTPServer`多重继承了`socketserver.ThreadingMixIn`类和`HTTPServer`类，其中：\n",
    "- `process_request_thread`方法没有调用`super()`。\n",
    "- `process_request`方法：属于覆盖方法，启动一个线程，并把具体工作委托给运行在该线程中的`process_request_thread`，没有调用`super()`。\n",
    "- `server_close`调用了`super().server_close()`以停止接收请求，然后等待`process_request`启动的线程完成工作。"
   ]
  },
  {
   "cell_type": "markdown",
   "id": "9c8f1b27",
   "metadata": {},
   "source": [
    "2. Django泛化视图混入类\n",
    "\n",
    "- `View`是所有视图的基类，提供了核心功能，例如`dispatch`方法。\n",
    "- `TemplateView`类仅用于显示内容。\n",
    "- `TemplateResponseMixin`类只适用于需要使用模板的视图，为`TemplateView`和其他渲染模板的视图提供行为。\n",
    "- `ListView`是一个聚合类，实例化后，模板通过迭代`object_list`属性显示页面内容。"
   ]
  },
  {
   "cell_type": "markdown",
   "id": "dbf7bfb3",
   "metadata": {},
   "source": [
    "3. Tkinter中的多重继承\n",
    "\n",
    "- Toplevel：表示`Tkinter`应用程序中顶层窗口的类。所有图形类中唯一没有继承`Widget`。\n",
    "- Widget：窗口中所有可见对象的超类。直接继承自`BaseWidget`，并继承了`Pack`、`Place`和`Grid`（几何管理器，负责在窗口或窗体中排布小组件）。\n",
    "- Button：普通的按钮小组件。只是`Widget`的子代，也间接继承`Misc`。\n",
    "- Entry：单行可编辑文本字段。是`Widget`和`XView`（支持横向滚动）的子类。\n",
    "- Text：多行可编辑文本字段。是`Widget`、`XView`和`YView`（支持纵向滚动）的子类。"
   ]
  },
  {
   "cell_type": "markdown",
   "id": "cb62c8bb",
   "metadata": {},
   "source": [
    "## 14.5 应对多重继承"
   ]
  },
  {
   "cell_type": "markdown",
   "id": "678da008",
   "metadata": {},
   "source": [
    "- 优先使用对象组合，而不是类继承。"
   ]
  },
  {
   "cell_type": "markdown",
   "id": "1ab47d70",
   "metadata": {},
   "source": [
    "- 理解不同情况下使用继承的原因：\n",
    "    - 继承接口，创建子类型，实现“是什么”关系。\n",
    "    - 继承实现，通过重用避免代码重复。\n",
    "    "
   ]
  },
  {
   "cell_type": "markdown",
   "id": "060bf9b6",
   "metadata": {},
   "source": [
    "- 使用抽象基类显式表示接口。\n",
    "    - 如果类的作用式定义接口，则显示地定义为抽象基类或者`typing.Protocol`的子类。\n",
    "    - 抽象基类只能子类化`abc.ABC`或其他抽象基类。\n",
    "    "
   ]
  },
  {
   "cell_type": "markdown",
   "id": "502f7348",
   "metadata": {},
   "source": [
    "- 通过混入明确重用代码。如果一个类的作用是提供方法，以供多个不相关的子类重用，但不体现“是什么”关系，那么就应该把那个类明确地定义为混入类。"
   ]
  },
  {
   "cell_type": "markdown",
   "id": "b9ade33d",
   "metadata": {},
   "source": [
    "- 为用户提供聚合类。"
   ]
  },
  {
   "cell_type": "markdown",
   "id": "ec74b1d5",
   "metadata": {},
   "source": [
    "- 仅子类化为子类化设计的类。*子类化复杂的类并覆盖类方法容易出错，因为超类中的方法可能在不知不觉中忽略子类覆盖的行为*。"
   ]
  },
  {
   "cell_type": "markdown",
   "id": "42bbc920",
   "metadata": {},
   "source": [
    "- 避免子类化具体类。具体类的实例通常有内部状态，覆盖依赖内部状态的方法时，很容易破坏状态。"
   ]
  },
  {
   "cell_type": "markdown",
   "id": "f9e3e63e",
   "metadata": {},
   "source": [
    "## 14.6 杂谈"
   ]
  },
  {
   "cell_type": "markdown",
   "id": "d9801c61",
   "metadata": {},
   "source": [
    "- 如果发现自己在构建多层类的层次结构，可能发生了以下事件：\n",
    "    - 在重新发明轮子。去寻找框架或库，看看它们提供的组件是否可以在应用程序中复用。\n",
    "    - 使用的框架设计不良，去寻找替代品。\n",
    "    - 过度设计，需要遵守KISS原则。\n",
    "    - 创造一个新框架。"
   ]
  },
  {
   "cell_type": "markdown",
   "id": "f32bd3c2",
   "metadata": {},
   "source": [
    "- 内置类型dict、list和str是Python的底层基础，Cpython为了执行速度，不调用被子类覆盖的方法。"
   ]
  },
  {
   "cell_type": "markdown",
   "id": "2b644df5",
   "metadata": {},
   "source": [
    "- 通过UserDict、UserList和UserString，可以加强扩展。"
   ]
  },
  {
   "cell_type": "markdown",
   "id": "4acd5093",
   "metadata": {},
   "source": [
    "- 术语“面向对象”是Alan Kay发明的，而Smalltalk只支持单一继承。"
   ]
  },
  {
   "cell_type": "markdown",
   "id": "1d71c854",
   "metadata": {},
   "source": [
    "- C++是第一门实现多重继承的流行语言。"
   ]
  }
 ],
 "metadata": {
  "kernelspec": {
   "display_name": "Python 3 (ipykernel)",
   "language": "python",
   "name": "python3"
  },
  "language_info": {
   "codemirror_mode": {
    "name": "ipython",
    "version": 3
   },
   "file_extension": ".py",
   "mimetype": "text/x-python",
   "name": "python",
   "nbconvert_exporter": "python",
   "pygments_lexer": "ipython3",
   "version": "3.10.5"
  }
 },
 "nbformat": 4,
 "nbformat_minor": 5
}
