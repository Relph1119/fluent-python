{
 "cells": [
  {
   "cell_type": "markdown",
   "id": "65065ec2",
   "metadata": {},
   "source": [
    "# 第6章 对象引用、可变性和垃圾回收"
   ]
  },
  {
   "cell_type": "markdown",
   "id": "5b56a0e0",
   "metadata": {},
   "source": [
    "## 6.1 浅拷贝"
   ]
  },
  {
   "cell_type": "markdown",
   "id": "5bd3b687",
   "metadata": {},
   "source": [
    "浅拷贝的方式：\n",
    "\n",
    "- 复制列表使用内置的类型构造函数。\n",
    "- 使用`[:]`进行浅拷贝。\n",
    "- 使用`copy.copy`函数进行浅拷贝。"
   ]
  },
  {
   "cell_type": "code",
   "execution_count": 1,
   "id": "28724977",
   "metadata": {},
   "outputs": [
    {
     "name": "stdout",
     "output_type": "stream",
     "text": [
      "l1: [3, [66, 44], (7, 8, 9), 100]\n",
      "l2: [3, [66, 44], (7, 8, 9)]\n",
      "l1: [3, [66, 44, 33, 22], (7, 8, 9), 100]\n",
      "l2: [3, [66, 44, 33, 22], (7, 8, 9, 10, 11)]\n"
     ]
    }
   ],
   "source": [
    "l1 = [3, [66, 55, 44], (7, 8, 9)]\n",
    "l2 = list(l1)\n",
    "l1.append(100)\n",
    "l1[1].remove(55)\n",
    "print('l1:', l1)\n",
    "print('l2:', l2)\n",
    "l2[1] += [33, 22]\n",
    "l2[2] += (10, 11)\n",
    "print('l1:', l1)\n",
    "print('l2:', l2)"
   ]
  },
  {
   "cell_type": "markdown",
   "id": "ebfc3e0f",
   "metadata": {},
   "source": [
    "![浅拷贝可视化](./images/06-01-python-vis.png)"
   ]
  },
  {
   "cell_type": "markdown",
   "id": "3aa648d4",
   "metadata": {},
   "source": [
    "深拷贝方式：使用`copy.deepcopy`函数"
   ]
  },
  {
   "cell_type": "code",
   "execution_count": 2,
   "id": "ab619f2d",
   "metadata": {},
   "outputs": [],
   "source": [
    "# 校车乘客在途中有上有下\n",
    "class Bus:\n",
    "    def __init__(self, passengers=None):\n",
    "        if passengers is None:\n",
    "            self.passengers = []\n",
    "        else:\n",
    "            self.passengers = list(passengers)\n",
    "\n",
    "    def pick(self, name):\n",
    "        self.passengers.append(name)\n",
    "\n",
    "    def drop(self, name):\n",
    "        self.passengers.remove(name)"
   ]
  },
  {
   "cell_type": "code",
   "execution_count": 6,
   "id": "64c4950f",
   "metadata": {},
   "outputs": [
    {
     "data": {
      "text/plain": [
       "['Alice', 'Claire', 'David']"
      ]
     },
     "execution_count": 6,
     "metadata": {},
     "output_type": "execute_result"
    }
   ],
   "source": [
    "import copy\n",
    "bus1 = Bus(['Alice', 'Bill', 'Claire', 'David'])\n",
    "# 使用浅拷贝\n",
    "bus2 = copy.copy(bus1)\n",
    "# 使用深拷贝\n",
    "bus3 = copy.deepcopy(bus1)\n",
    "bus1.drop('Bill')\n",
    "bus2.passengers"
   ]
  },
  {
   "cell_type": "code",
   "execution_count": 7,
   "id": "3a0d3fdb",
   "metadata": {},
   "outputs": [
    {
     "data": {
      "text/plain": [
       "['Alice', 'Bill', 'Claire', 'David']"
      ]
     },
     "execution_count": 7,
     "metadata": {},
     "output_type": "execute_result"
    }
   ],
   "source": [
    "bus3.passengers"
   ]
  },
  {
   "cell_type": "markdown",
   "id": "6a67e690",
   "metadata": {},
   "source": [
    "## 6.2 防御可变参数"
   ]
  },
  {
   "cell_type": "code",
   "execution_count": 8,
   "id": "aa4c09bf",
   "metadata": {},
   "outputs": [],
   "source": [
    "class TwilightBus:\n",
    "    \"\"\"让乘客销声匿迹的校车\"\"\"\n",
    "\n",
    "    def __init__(self, passengers=None):\n",
    "        if passengers is None:\n",
    "            self.passengers = []  \n",
    "        else:\n",
    "            # WARN：不能直接引用变量，应使用浅拷贝\n",
    "            self.passengers = passengers\n",
    "\n",
    "    def pick(self, name):\n",
    "        self.passengers.append(name)\n",
    "\n",
    "    def drop(self, name):\n",
    "        self.passengers.remove(name)"
   ]
  },
  {
   "cell_type": "code",
   "execution_count": 10,
   "id": "2d3fad06",
   "metadata": {},
   "outputs": [
    {
     "data": {
      "text/plain": [
       "['Sue', 'Maya', 'Diana']"
      ]
     },
     "execution_count": 10,
     "metadata": {},
     "output_type": "execute_result"
    }
   ],
   "source": [
    "basketball_team = ['Sue', 'Tina', 'Maya', 'Diana', 'Pat']\n",
    "bus = TwilightBus(basketball_team)\n",
    "bus.drop('Tina')\n",
    "bus.drop('Pat')\n",
    "# 下车的学生从篮球队中消失了！\n",
    "basketball_team"
   ]
  },
  {
   "cell_type": "code",
   "execution_count": 11,
   "id": "ee88a198",
   "metadata": {},
   "outputs": [],
   "source": [
    "# 修改后的代码\n",
    "class TwilightBus:\n",
    "    \"\"\"让乘客销声匿迹的校车\"\"\"\n",
    "\n",
    "    def __init__(self, passengers=None):\n",
    "        if passengers is None:\n",
    "            self.passengers = []  \n",
    "        else:\n",
    "            # 使用构造器的浅拷贝方式\n",
    "            self.passengers = list(passengers)\n",
    "\n",
    "    def pick(self, name):\n",
    "        self.passengers.append(name)\n",
    "\n",
    "    def drop(self, name):\n",
    "        self.passengers.remove(name)"
   ]
  },
  {
   "cell_type": "markdown",
   "id": "f92a2772",
   "metadata": {},
   "source": [
    "## 6.3 本章小结"
   ]
  },
  {
   "cell_type": "markdown",
   "id": "ab233bbe",
   "metadata": {},
   "source": [
    "- 简单的赋值不创建副本，而是建立引用。\n",
    "- 对`+=`或`*=`增量赋值，如果左边的变量绑定的是不可变对象，则创建新对象，如果是可变对象，就地修改。\n",
    "- 为现有的变量赋予新值，不修改之前绑定的变量。如果变量是之前那个对象的最后一个引用，重新绑定了其他对象，则对象被当作垃圾回收。\n",
    "- 函数的形参以别名的形式传递，这意味着函数可能会修改通过实参传入的可变对象。\n",
    "- 使用可变类型作为函数参数的默认值，是危险的。如果修改了参数，默认值也会发生变化。"
   ]
  }
 ],
 "metadata": {
  "kernelspec": {
   "display_name": "Python 3 (ipykernel)",
   "language": "python",
   "name": "python3"
  },
  "language_info": {
   "codemirror_mode": {
    "name": "ipython",
    "version": 3
   },
   "file_extension": ".py",
   "mimetype": "text/x-python",
   "name": "python",
   "nbconvert_exporter": "python",
   "pygments_lexer": "ipython3",
   "version": "3.10.5"
  }
 },
 "nbformat": 4,
 "nbformat_minor": 5
}
