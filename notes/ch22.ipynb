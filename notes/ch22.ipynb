{
 "cells": [
  {
   "cell_type": "markdown",
   "id": "32d83cba",
   "metadata": {},
   "source": [
    "# 第22章 动态属性和特性"
   ]
  },
  {
   "cell_type": "markdown",
   "id": "2ce0130a",
   "metadata": {},
   "source": [
    "- 数据属性和方法统称为属性。方法是可调用的属性。\n",
    "- 动态属性的接口和数据属性一样，按需计算。\n",
    "- 用户定义的类通过`__getattr__`方法可以实现动态属性。"
   ]
  },
  {
   "cell_type": "markdown",
   "id": "dbd904bc",
   "metadata": {},
   "source": [
    "## 22.1 使用动态属性转换数据"
   ]
  },
  {
   "cell_type": "markdown",
   "id": "34eb51f2",
   "metadata": {},
   "source": [
    "### 22.1.1 FrozenJson第1版"
   ]
  },
  {
   "cell_type": "code",
   "execution_count": 1,
   "id": "6f35ade5",
   "metadata": {},
   "outputs": [],
   "source": [
    "from collections import abc\n",
    "\n",
    "\n",
    "class FrozenJSON_V1:\n",
    "    \"\"\"一个只读接口，该接口使用属性表示法访问JSON类对象\"\"\"\n",
    "\n",
    "    def __init__(self, mapping):\n",
    "        # 私有属性，构建字典\n",
    "        self.__data = dict(mapping)\n",
    "\n",
    "    def __getattr__(self, name):\n",
    "        \"\"\"当未指定名称的属性，调用该方法\"\"\"\n",
    "        try:\n",
    "            # 如果能匹配到字典的某个值，就返回对应的属性\n",
    "            return getattr(self.__data, name)  \n",
    "        except AttributeError:\n",
    "            # 否则，从字典中获取name对应的项，返回调用build方法得到的结果\n",
    "            return self.__class__.build(self.__data[name])  # <4>\n",
    "\n",
    "    def __dir__(self):\n",
    "        # 支持在Python控制台进行自动补全\n",
    "        return self.__data.keys()\n",
    "\n",
    "    @classmethod\n",
    "    def build(cls, obj):\n",
    "        if isinstance(obj, abc.Mapping):\n",
    "            # 如果是一个map，则构建一个FrozenJSON对象，大鹅类型\n",
    "            return cls(obj)\n",
    "        elif isinstance(obj, abc.MutableSequence):\n",
    "            # 如果是列表，将obj的每一项进行递归构建列表\n",
    "            return [cls.build(item) for item in obj]\n",
    "        else:\n",
    "            return obj"
   ]
  },
  {
   "cell_type": "code",
   "execution_count": 2,
   "id": "57b02de6",
   "metadata": {},
   "outputs": [],
   "source": [
    "import json\n",
    "raw_feed = json.load(open('./data/osconfeed.json'))\n",
    "feed = FrozenJSON_V1(raw_feed)"
   ]
  },
  {
   "cell_type": "code",
   "execution_count": 3,
   "id": "f6448a40",
   "metadata": {},
   "outputs": [
    {
     "data": {
      "text/plain": [
       "357"
      ]
     },
     "execution_count": 3,
     "metadata": {},
     "output_type": "execute_result"
    }
   ],
   "source": [
    "len(feed.Schedule.speakers)"
   ]
  },
  {
   "cell_type": "code",
   "execution_count": 4,
   "id": "492f6bc4",
   "metadata": {},
   "outputs": [
    {
     "data": {
      "text/plain": [
       "dict_keys(['Schedule'])"
      ]
     },
     "execution_count": 4,
     "metadata": {},
     "output_type": "execute_result"
    }
   ],
   "source": [
    "feed.keys()"
   ]
  },
  {
   "cell_type": "code",
   "execution_count": 5,
   "id": "bbb75520",
   "metadata": {},
   "outputs": [
    {
     "data": {
      "text/plain": [
       "['conferences', 'events', 'speakers', 'venues']"
      ]
     },
     "execution_count": 5,
     "metadata": {},
     "output_type": "execute_result"
    }
   ],
   "source": [
    "sorted(feed.Schedule.keys())"
   ]
  },
  {
   "cell_type": "code",
   "execution_count": 6,
   "id": "9af7a9bf",
   "metadata": {},
   "outputs": [
    {
     "name": "stdout",
     "output_type": "stream",
     "text": [
      "  1 conferences\n",
      "484 events\n",
      "357 speakers\n",
      " 53 venues\n"
     ]
    }
   ],
   "source": [
    "for key, value in sorted(feed.Schedule.items()):\n",
    "    print(f'{len(value):3} {key}')"
   ]
  },
  {
   "cell_type": "markdown",
   "id": "147aa8c7",
   "metadata": {},
   "source": [
    "### 22.1.2 FrozenJSON第2版"
   ]
  },
  {
   "cell_type": "markdown",
   "id": "bf6ea704",
   "metadata": {},
   "source": [
    "修改`__init__`方法，解决与Python关键字同名的属性名问题。"
   ]
  },
  {
   "cell_type": "code",
   "execution_count": 7,
   "id": "7213a689",
   "metadata": {},
   "outputs": [],
   "source": [
    "from collections import abc\n",
    "import keyword\n",
    "\n",
    "class FrozenJSON_V2:\n",
    "    \"\"\"一个只读接口，该接口使用属性表示法访问JSON类对象\"\"\"\n",
    "\n",
    "    def __init__(self, mapping):\n",
    "        self.__data = {}\n",
    "        for key, value in mapping.items():\n",
    "            if keyword.iskeyword(key):\n",
    "                key += '_'\n",
    "            self.__data[key] = value\n",
    "\n",
    "    def __getattr__(self, name):\n",
    "        \"\"\"当未指定名称的属性，调用该方法\"\"\"\n",
    "        try:\n",
    "            # 如果能匹配到字典的某个值，就返回对应的属性\n",
    "            return getattr(self.__data, name)  \n",
    "        except AttributeError:\n",
    "            # 否则，从字典中获取name对应的项，返回调用build方法得到的结果\n",
    "            return self.__class__.build(self.__data[name])  # <4>\n",
    "\n",
    "    def __dir__(self):\n",
    "        # 支持在Python控制台进行自动补全\n",
    "        return self.__data.keys()\n",
    "\n",
    "    @classmethod\n",
    "    def build(cls, obj):\n",
    "        if isinstance(obj, abc.Mapping):\n",
    "            # 如果是一个map，则构建一个FrozenJSON对象，大鹅类型\n",
    "            return cls(obj)\n",
    "        elif isinstance(obj, abc.MutableSequence):\n",
    "            # 如果是列表，将obj的每一项进行递归构建列表\n",
    "            return [cls.build(item) for item in obj]\n",
    "        else:\n",
    "            return obj"
   ]
  },
  {
   "cell_type": "code",
   "execution_count": 8,
   "id": "1fe44191",
   "metadata": {},
   "outputs": [],
   "source": [
    "student = FrozenJSON_V2({'name': 'Jim Bo', 'class': 1982})"
   ]
  },
  {
   "cell_type": "markdown",
   "id": "5b694ec3",
   "metadata": {},
   "source": [
    "### 22.1.3 FrozenJSON第3版"
   ]
  },
  {
   "cell_type": "markdown",
   "id": "d09301b3",
   "metadata": {},
   "source": [
    "使用`__new__`代替`build`方法。"
   ]
  },
  {
   "cell_type": "code",
   "execution_count": 9,
   "id": "fcc83e50",
   "metadata": {},
   "outputs": [],
   "source": [
    "from collections import abc\n",
    "import keyword\n",
    "\n",
    "class FrozenJSON_V3:\n",
    "    \"\"\"一个只读接口，该接口使用属性表示法访问JSON类对象\"\"\"\n",
    "    def __new__(cls, arg):\n",
    "        if isinstance(arg, abc.Mapping):\n",
    "            # 如果是一个map，则构建一个FrozenJSON对象，大鹅类型\n",
    "            return super().__new__(cls)\n",
    "        elif isinstance(arg, abc.MutableSequence):\n",
    "            # 如果是列表，将obj的每一项进行递归构建列表\n",
    "            return [arg(item) for item in arg]\n",
    "        else:\n",
    "            return arg \n",
    "    \n",
    "    \n",
    "    def __init__(self, mapping):\n",
    "        self.__data = {}\n",
    "        for key, value in mapping.items():\n",
    "            if keyword.iskeyword(key):\n",
    "                key += '_'\n",
    "            self.__data[key] = value\n",
    "\n",
    "    def __getattr__(self, name):\n",
    "        \"\"\"当未指定名称的属性，调用该方法\"\"\"\n",
    "        try:\n",
    "            # 如果能匹配到字典的某个值，就返回对应的属性\n",
    "            return getattr(self.__data, name)  \n",
    "        except AttributeError:\n",
    "            # 否则，从字典中获取name对应的项，返回调用build方法得到的结果\n",
    "            return self.__class__(self.__data[name])  # <4>\n",
    "\n",
    "    def __dir__(self):\n",
    "        # 支持在Python控制台进行自动补全\n",
    "        return self.__data.keys()"
   ]
  },
  {
   "cell_type": "markdown",
   "id": "4db9826f",
   "metadata": {},
   "source": [
    "## 22.2 计算特性"
   ]
  },
  {
   "cell_type": "markdown",
   "id": "1bbe782d",
   "metadata": {},
   "source": [
    "### 22.2.1 第1步：数据驱动属性创建"
   ]
  },
  {
   "cell_type": "markdown",
   "id": "6c31ed4b",
   "metadata": {},
   "source": [
    "目标：通过speakers的编号获取对应的数据。"
   ]
  },
  {
   "cell_type": "code",
   "execution_count": 10,
   "id": "8b5e8478",
   "metadata": {},
   "outputs": [],
   "source": [
    "import json\n",
    "\n",
    "JSON_PATH = './data/osconfeed.json'\n",
    "\n",
    "class Record:\n",
    "    def __init__(self, **kwargs):\n",
    "        # 根据关键字参数构建带属性的实例\n",
    "        self.__dict__.update(kwargs)  \n",
    "\n",
    "    def __repr__(self):\n",
    "        return f'<{self.__class__.__name__} serial={self.serial!r}>'  # <2>\n",
    "\n",
    "def load(path=JSON_PATH):\n",
    "    records = {}  \n",
    "    # 解析JSON字符串\n",
    "    with open(path) as fp:\n",
    "        raw_data = json.load(fp)  \n",
    "    # 迭代4个顶级列表    \n",
    "    for collection, raw_records in raw_data['Schedule'].items():\n",
    "        record_type = collection[:-1]  \n",
    "        for raw_record in raw_records:\n",
    "            key = f'{record_type}.{raw_record[\"serial\"]}' \n",
    "            records[key] = Record(**raw_record)  \n",
    "    return records"
   ]
  },
  {
   "cell_type": "code",
   "execution_count": 11,
   "id": "3f3b7026",
   "metadata": {},
   "outputs": [],
   "source": [
    "records = load(JSON_PATH)"
   ]
  },
  {
   "cell_type": "code",
   "execution_count": 12,
   "id": "26220ec0",
   "metadata": {},
   "outputs": [
    {
     "data": {
      "text/plain": [
       "<Record serial=3471>"
      ]
     },
     "execution_count": 12,
     "metadata": {},
     "output_type": "execute_result"
    }
   ],
   "source": [
    "speaker = records['speaker.3471']\n",
    "speaker"
   ]
  },
  {
   "cell_type": "code",
   "execution_count": 13,
   "id": "985b482b",
   "metadata": {},
   "outputs": [
    {
     "data": {
      "text/plain": [
       "('Anna Martelli Ravenscroft', 'annaraven')"
      ]
     },
     "execution_count": 13,
     "metadata": {},
     "output_type": "execute_result"
    }
   ],
   "source": [
    "speaker.name, speaker.twitter"
   ]
  },
  {
   "cell_type": "markdown",
   "id": "cedb29b0",
   "metadata": {},
   "source": [
    "### 22.2.2 第2步：通过特性获取链接的记录"
   ]
  },
  {
   "cell_type": "markdown",
   "id": "e6953aa6",
   "metadata": {},
   "source": [
    "目标：给定一个`event`记录，读取`venue`特性得到一个`Record`对象。"
   ]
  },
  {
   "cell_type": "code",
   "execution_count": 15,
   "id": "3c013185",
   "metadata": {},
   "outputs": [],
   "source": [
    "import inspect  # <1>\n",
    "import json\n",
    "\n",
    "JSON_PATH = './data/osconfeed.json'\n",
    "\n",
    "class Record:\n",
    "    # 存放对load函数返回的字典的引用\n",
    "    __index = None\n",
    "\n",
    "    def __init__(self, **kwargs):\n",
    "        self.__dict__.update(kwargs)\n",
    "\n",
    "    def __repr__(self):\n",
    "        return f'<{self.__class__.__name__} serial={self.serial!r}>'\n",
    "\n",
    "    @staticmethod \n",
    "    def fetch(key):\n",
    "        if Record.__index is None:\n",
    "            # 如果没有键，则从解析加载\n",
    "            Record.__index = load()\n",
    "        return Record.__index[key]"
   ]
  },
  {
   "cell_type": "code",
   "execution_count": 16,
   "id": "3a7d9a33",
   "metadata": {},
   "outputs": [],
   "source": [
    "class Event(Record):\n",
    "\n",
    "    def __repr__(self):\n",
    "        try:\n",
    "            # 如果实例有name属性，则设置字符串表示形式\n",
    "            return f'<{self.__class__.__name__} {self.name!r}>'  # <2>\n",
    "        except AttributeError:\n",
    "            return super().__repr__()\n",
    "\n",
    "    @property\n",
    "    def venue(self):\n",
    "        # 根据venue_serial属性构建一个Key，传给fetch方法\n",
    "        key = f'venue.{self.venue_serial}'\n",
    "        return self.__class__.fetch(key)"
   ]
  },
  {
   "cell_type": "code",
   "execution_count": 17,
   "id": "4c786174",
   "metadata": {},
   "outputs": [],
   "source": [
    "def load(path=JSON_PATH):\n",
    "    records = {}\n",
    "    with open(path) as fp:\n",
    "        raw_data = json.load(fp)\n",
    "    for collection, raw_records in raw_data['Schedule'].items():\n",
    "        # 删除尾部s\n",
    "        record_type = collection[:-1]\n",
    "        # 首字母大写，用于适配类名\n",
    "        cls_name = record_type.capitalize()  \n",
    "        cls = globals().get(cls_name, Record)  \n",
    "        if inspect.isclass(cls) and issubclass(cls, Record):\n",
    "            factory = cls\n",
    "        else:\n",
    "            factory = Record\n",
    "        for raw_record in raw_records:\n",
    "            key = f'{record_type}.{raw_record[\"serial\"]}'\n",
    "            records[key] = factory(**raw_record)\n",
    "    return records"
   ]
  },
  {
   "cell_type": "code",
   "execution_count": 18,
   "id": "2fb3eac1",
   "metadata": {},
   "outputs": [
    {
     "data": {
      "text/plain": [
       "<Event 'There *Will* Be Bugs'>"
      ]
     },
     "execution_count": 18,
     "metadata": {},
     "output_type": "execute_result"
    }
   ],
   "source": [
    "event = Record.fetch('event.33950')\n",
    "event"
   ]
  },
  {
   "cell_type": "code",
   "execution_count": 19,
   "id": "a65ae273",
   "metadata": {},
   "outputs": [
    {
     "data": {
      "text/plain": [
       "<Record serial=1449>"
      ]
     },
     "execution_count": 19,
     "metadata": {},
     "output_type": "execute_result"
    }
   ],
   "source": [
    "event.venue"
   ]
  },
  {
   "cell_type": "code",
   "execution_count": 20,
   "id": "81bb79dd",
   "metadata": {},
   "outputs": [
    {
     "data": {
      "text/plain": [
       "'Portland 251'"
      ]
     },
     "execution_count": 20,
     "metadata": {},
     "output_type": "execute_result"
    }
   ],
   "source": [
    "event.venue.name"
   ]
  },
  {
   "cell_type": "code",
   "execution_count": 21,
   "id": "b7174b38",
   "metadata": {},
   "outputs": [
    {
     "data": {
      "text/plain": [
       "1449"
      ]
     },
     "execution_count": 21,
     "metadata": {},
     "output_type": "execute_result"
    }
   ],
   "source": [
    "event.venue_serial"
   ]
  },
  {
   "cell_type": "markdown",
   "id": "c8c46bf7",
   "metadata": {},
   "source": [
    "### 22.2.3 第3步：用特性覆盖现有属性"
   ]
  },
  {
   "cell_type": "code",
   "execution_count": 22,
   "id": "d4ff8aa5",
   "metadata": {},
   "outputs": [],
   "source": [
    "class Event(Record):\n",
    "\n",
    "    def __repr__(self):\n",
    "        try:\n",
    "            return f'<{self.__class__.__name__} {self.name!r}>'\n",
    "        except AttributeError:\n",
    "            return super().__repr__()\n",
    "\n",
    "    @property\n",
    "    def venue(self):\n",
    "        key = f'venue.{self.venue_serial}'\n",
    "        return self.__class__.fetch(key)\n",
    "\n",
    "    @property\n",
    "    def speakers(self):\n",
    "        spkr_serials = self.__dict__['speakers']\n",
    "        fetch = self.__class__.fetch\n",
    "        # 获取键与spkr_serials中的数值匹配的所有记录，构成一个列表\n",
    "        return [fetch(f'speaker.{key}')\n",
    "                for key in spkr_serials]"
   ]
  },
  {
   "cell_type": "markdown",
   "id": "81bb3f3b",
   "metadata": {},
   "source": [
    "- 直接通过对象的`__dict__`属性读写数据，是Python元编程常见的技巧。"
   ]
  },
  {
   "cell_type": "markdown",
   "id": "cf063f80",
   "metadata": {},
   "source": [
    "### 22.2.4 第4步：自己实现特性缓存"
   ]
  },
  {
   "cell_type": "code",
   "execution_count": 23,
   "id": "b298ce60",
   "metadata": {},
   "outputs": [],
   "source": [
    "class Event(Record):\n",
    "\n",
    "    def __init__(self, **kwargs):\n",
    "        # 禁用键共享优化\n",
    "        self.__speaker_objs = None\n",
    "        super().__init__(**kwargs)\n",
    "\n",
    "    def __repr__(self):\n",
    "        try:\n",
    "            return f'<{self.__class__.__name__} {self.name!r}>'\n",
    "        except AttributeError:\n",
    "            return super().__repr__()\n",
    "\n",
    "    @property\n",
    "    def venue(self):\n",
    "        key = f'venue.{self.venue_serial}'\n",
    "        return self.__class__.fetch(key)\n",
    "\n",
    "    @property\n",
    "    def speakers(self):\n",
    "        # 实现缓存\n",
    "        if self.__speaker_objs is None:\n",
    "            spkr_serials = self.__dict__['speakers']\n",
    "            fetch = self.__class__.fetch\n",
    "            self.__speaker_objs = [fetch(f'speaker.{key}')\n",
    "                    for key in spkr_serials]\n",
    "        return self.__speaker_objs"
   ]
  },
  {
   "cell_type": "markdown",
   "id": "9dd281f2",
   "metadata": {},
   "source": [
    "### 22.2.5 第5步：使用functools缓存特性"
   ]
  },
  {
   "cell_type": "markdown",
   "id": "8c968bd0",
   "metadata": {},
   "source": [
    "- `functools.cached_property`装饰器把方法的结果缓存在同名实例属性中。\n",
    "- `@cached_property`装饰器不创建完整的特性，而是创建一个非覆盖型描述符。\n",
    "- `cached_property()`允许属性写入。\n",
    "- `@cached_property`装饰器仅在执行查找且不村子啊同名属性时允许，一旦允许，就会写入同名属性。\n",
    "- 缓存的值可以通过删除属性清空。"
   ]
  },
  {
   "cell_type": "code",
   "execution_count": 25,
   "id": "7b291d63",
   "metadata": {},
   "outputs": [],
   "source": [
    "from functools import cached_property, cache\n",
    "\n",
    "class Event(Record):\n",
    "\n",
    "    def __repr__(self):\n",
    "        try:\n",
    "            return f'<{self.__class__.__name__} {self.name!r}>'\n",
    "        except AttributeError:\n",
    "            return super().__repr__()\n",
    "\n",
    "    @cached_property\n",
    "    def venue(self):\n",
    "        key = f'venue.{self.venue_serial}'\n",
    "        return self.__class__.fetch(key)\n",
    "    \n",
    "    @property  \n",
    "    @cache\n",
    "    def speakers(self):\n",
    "        spkr_serials = self.__dict__['speakers']\n",
    "        fetch = self.__class__.fetch\n",
    "        return [fetch(f'speaker.{key}')\n",
    "                for key in spkr_serials]"
   ]
  },
  {
   "cell_type": "markdown",
   "id": "ef6ae510",
   "metadata": {},
   "source": [
    "## 22.3 使用特性验证属性"
   ]
  },
  {
   "cell_type": "markdown",
   "id": "625ad520",
   "metadata": {},
   "source": [
    "需求：假设有一个销售散装有机食物的电商应用程序，客户可以按量订购坚果、干果或杂粮。在这个系统中，每个订单中有一系列的商品。"
   ]
  },
  {
   "cell_type": "markdown",
   "id": "8350ba9a",
   "metadata": {},
   "source": [
    "### 22.3.1 LineItem类第1版：表示订单中商品的类"
   ]
  },
  {
   "cell_type": "code",
   "execution_count": 26,
   "id": "bc6e006a",
   "metadata": {},
   "outputs": [],
   "source": [
    "class LineItem:\n",
    "\n",
    "    def __init__(self, description, weight, price):\n",
    "        self.description = description\n",
    "        self.weight = weight\n",
    "        self.price = price\n",
    "\n",
    "    def subtotal(self):\n",
    "        return self.weight * self.price"
   ]
  },
  {
   "cell_type": "code",
   "execution_count": 27,
   "id": "727901d6",
   "metadata": {},
   "outputs": [
    {
     "data": {
      "text/plain": [
       "69.5"
      ]
     },
     "execution_count": 27,
     "metadata": {},
     "output_type": "execute_result"
    }
   ],
   "source": [
    "raisins = LineItem('Golden raisins', 10, 6.95)\n",
    "raisins.subtotal()"
   ]
  },
  {
   "cell_type": "code",
   "execution_count": 28,
   "id": "29b59ce1",
   "metadata": {},
   "outputs": [
    {
     "data": {
      "text/plain": [
       "-139.0"
      ]
     },
     "execution_count": 28,
     "metadata": {},
     "output_type": "execute_result"
    }
   ],
   "source": [
    "raisins.weight = -20\n",
    "raisins.subtotal()"
   ]
  },
  {
   "cell_type": "markdown",
   "id": "a9e23612",
   "metadata": {},
   "source": [
    "### 22.3.2 LineItem类第2版：能验证值的特性"
   ]
  },
  {
   "cell_type": "markdown",
   "id": "ade57278",
   "metadata": {},
   "source": [
    "问题：数据可能会被设置为负值，引发无效输出。"
   ]
  },
  {
   "cell_type": "code",
   "execution_count": 29,
   "id": "de1084bd",
   "metadata": {},
   "outputs": [],
   "source": [
    "class LineItem:\n",
    "\n",
    "    def __init__(self, description, weight, price):\n",
    "        self.description = description\n",
    "        self.weight = weight \n",
    "        self.price = price\n",
    "\n",
    "    def subtotal(self):\n",
    "        return self.weight * self.price\n",
    "\n",
    "    @property  \n",
    "    def weight(self):  \n",
    "        return self.__weight  \n",
    "\n",
    "    @weight.setter \n",
    "    def weight(self, value):\n",
    "        if value > 0:\n",
    "            self.__weight = value  \n",
    "        else:\n",
    "            raise ValueError('value must be > 0')  # <7>"
   ]
  },
  {
   "cell_type": "markdown",
   "id": "5161410e",
   "metadata": {},
   "source": [
    "## 22.4 定义一个特性工厂函数"
   ]
  },
  {
   "cell_type": "markdown",
   "id": "72a38c3e",
   "metadata": {},
   "source": [
    "目标：保护LineItem对象的weight属性和price属性，只允许设为大于0的值，但是不用手动实现两对几乎一样的读值和设值方法。"
   ]
  },
  {
   "cell_type": "code",
   "execution_count": 32,
   "id": "b0c9955b",
   "metadata": {},
   "outputs": [],
   "source": [
    "def quantity(storage_name):\n",
    "    \"\"\"特性工厂函数\n",
    "    storage_name: 确定各个特性的数据存储在哪里\n",
    "    \"\"\"\n",
    "    def qty_getter(instance):\n",
    "        return instance.__dict__[storage_name]\n",
    "\n",
    "    def qty_setter(instance, value):\n",
    "        if value > 0:\n",
    "            instance.__dict__[storage_name] = value\n",
    "        else:\n",
    "            raise ValueError('value must be > 0')\n",
    "    # 构建一个自定义的特性对象\n",
    "    return property(qty_getter, qty_setter)"
   ]
  },
  {
   "cell_type": "code",
   "execution_count": 33,
   "id": "b0eb3e50",
   "metadata": {},
   "outputs": [],
   "source": [
    "class LineItem:\n",
    "    # 定义为类属性\n",
    "    weight = quantity('weight')  \n",
    "    price = quantity('price') \n",
    "\n",
    "    def __init__(self, description, weight, price):\n",
    "        self.description = description\n",
    "        self.weight = weight  \n",
    "        self.price = price\n",
    "\n",
    "    def subtotal(self):\n",
    "        return self.weight * self.price  "
   ]
  },
  {
   "cell_type": "code",
   "execution_count": 34,
   "id": "254be420",
   "metadata": {},
   "outputs": [
    {
     "data": {
      "text/plain": [
       "(8, 13.95)"
      ]
     },
     "execution_count": 34,
     "metadata": {},
     "output_type": "execute_result"
    }
   ],
   "source": [
    "nutmeg = LineItem('Moluccan nutmeg', 8, 13.95)\n",
    "nutmeg.weight, nutmeg.price"
   ]
  },
  {
   "cell_type": "code",
   "execution_count": 35,
   "id": "497717c3",
   "metadata": {},
   "outputs": [
    {
     "data": {
      "text/plain": [
       "{'description': 'Moluccan nutmeg', 'weight': 8, 'price': 13.95}"
      ]
     },
     "execution_count": 35,
     "metadata": {},
     "output_type": "execute_result"
    }
   ],
   "source": [
    "nutmeg.__dict__"
   ]
  },
  {
   "cell_type": "markdown",
   "id": "13d36682",
   "metadata": {},
   "source": [
    "## 22.5 处理属性的重要属性和函数"
   ]
  },
  {
   "cell_type": "markdown",
   "id": "50c3fa3d",
   "metadata": {},
   "source": [
    "### 22.5.1 影响属性处理方式的特殊属性"
   ]
  },
  {
   "cell_type": "markdown",
   "id": "93ee577d",
   "metadata": {},
   "source": [
    "- `__class__`：对象所属类的引用。Python的某些特殊方法，只在对象的类中而不在实例中寻找。\n",
    "- `__dict__`：存储对象或类的可写属性的映射。在任何时候都能随意设置新属性。\n",
    "- `__slots__`：类可以定义这个属性，节省内存。"
   ]
  },
  {
   "cell_type": "markdown",
   "id": "6ef9e4f8",
   "metadata": {},
   "source": [
    "### 22.5.2 处理属性的内置函数"
   ]
  },
  {
   "cell_type": "markdown",
   "id": "18d45cda",
   "metadata": {},
   "source": [
    "- `dir([object])`：列出对象的大多数属性。`dir`函数不列出`__dict__`属性本书，但会列出其中的键。\n",
    "- `getattr(object, name[, default])`：从`object`对象中获取`name`字符串对应的属性。主要用于获取事先不知道名称的属性。属性可能来自对象所属的类或超类。\n",
    "- `hasattr(object, name)`：如果`object`对象中存在指定的属性，或者能以某种方式（例如继承）通过`object`对象获取指定的属性，则返回`True`。\n",
    "- `setattr(object, name, value)`：把`object`对象指定属性的值设为`value`。\n",
    "- `vars([object])`：返回`object`对象的`__dict__`属性。"
   ]
  },
  {
   "cell_type": "markdown",
   "id": "3e51ae07",
   "metadata": {},
   "source": [
    "### 22.5.3 处理属性的特殊方法"
   ]
  },
  {
   "cell_type": "markdown",
   "id": "e6fe71f0",
   "metadata": {},
   "source": [
    "- `__delattr__(self, name)`：只要使用`del`语句删除属性，就会调用这个方法。\n",
    "- `__dir__(self)`：在对象上调用`dir`函数时，会调用这个方法。\n",
    "- `__getattr__(self, name)`：仅当获取指定的属性失败，搜索过`obj`、`Class`及其超类之后，会调用这个方法。\n",
    "- `__getattribute__(self, name)`：尝试直接获取指定名称的属性时，始终调用这个方法。\n",
    "- `__setattr__(self, name, value)`：尝试设置指定名称的属性时，会调用这个方法。"
   ]
  },
  {
   "cell_type": "markdown",
   "id": "45b91c42",
   "metadata": {},
   "source": [
    "## 22.6 杂谈"
   ]
  },
  {
   "cell_type": "markdown",
   "id": "fe15f940",
   "metadata": {},
   "source": [
    "讨论统一访问原则：\n",
    "- 在面向对象编程语言中，是否遵守统一访问原则通常体现在句法上：究竟时读取公开的数据属性，还是调用读值和设值方法。\n",
    "- Smalltalk和Ruby语言，根本不支持公开的数据属性。所有实例属性都是私有的，必须通过方法来存取。\n",
    "- Java让程序员在4种访问级别修饰符中选择。"
   ]
  },
  {
   "cell_type": "markdown",
   "id": "6c71bc19",
   "metadata": {},
   "source": [
    "类与函数：\n",
    "- Python还有一处体现了统一访问原则，函数调用和对象实例化使用相同的句法。\n",
    "- 构造方法替换成工厂函数的理由：\n",
    "    1. 通过返回之前构建的实例，限制实例的数量。\n",
    "    2. 缓存构建过程开销大的对象。\n",
    "- 构造工厂方法，API的设计者必须提前决定。"
   ]
  }
 ],
 "metadata": {
  "kernelspec": {
   "display_name": "Python 3 (ipykernel)",
   "language": "python",
   "name": "python3"
  },
  "language_info": {
   "codemirror_mode": {
    "name": "ipython",
    "version": 3
   },
   "file_extension": ".py",
   "mimetype": "text/x-python",
   "name": "python",
   "nbconvert_exporter": "python",
   "pygments_lexer": "ipython3",
   "version": "3.10.5"
  }
 },
 "nbformat": 4,
 "nbformat_minor": 5
}
