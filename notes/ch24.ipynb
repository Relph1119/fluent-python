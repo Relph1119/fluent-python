{
 "cells": [
  {
   "cell_type": "markdown",
   "id": "6007b624",
   "metadata": {},
   "source": [
    "# 第24章 类元编程"
   ]
  },
  {
   "cell_type": "markdown",
   "id": "bc12c58d",
   "metadata": {},
   "source": [
    "## 24.1 类的标准属性"
   ]
  },
  {
   "cell_type": "markdown",
   "id": "0e201ebb",
   "metadata": {},
   "source": [
    "- `cls.__bases__`：由类的基类构成的元组。\n",
    "- `cls.__qualname__`：类或函数的限定名称，即从模块的全局作用域到类的点分路径。\n",
    "- `cls.__subclasses__()`：这个方法返回包含类的直接子类的列表，防止在超类和子类之间出现循环引用。返回的列表中是内存里现存的子类，不含尚未导入的模块中的子类。\n",
    "- `cls.mro()`：构建类时，如果需要获取储存在类属性`__mro__`中的超类元组，会调用这个方法。"
   ]
  },
  {
   "cell_type": "markdown",
   "id": "1c924c38",
   "metadata": {},
   "source": [
    "## 24.2 type：内置的类工厂函数"
   ]
  },
  {
   "cell_type": "code",
   "execution_count": 2,
   "id": "201303dd",
   "metadata": {},
   "outputs": [],
   "source": [
    "class MySuperClass:\n",
    "    ...\n",
    "    \n",
    "class MyMixin:\n",
    "    ...\n",
    "\n",
    "\n",
    "MyClass = type('MyClass',\n",
    "              (MySuperClass, MyMixin),\n",
    "              {'x': 42, 'x2': lambda self: self.x * 2})"
   ]
  },
  {
   "cell_type": "markdown",
   "id": "c66bb836",
   "metadata": {},
   "source": [
    "type传入的参数：\n",
    "- name：class关键字后的标识符。\n",
    "- bases：类标识符后面圆括号内提供的超类元组，如果class语句没有提供超类，则为`(object, )`。\n",
    "- dict：属性名称到值的映射。"
   ]
  },
  {
   "cell_type": "markdown",
   "id": "658979c5",
   "metadata": {},
   "source": [
    "## 24.3 类工厂函数"
   ]
  },
  {
   "cell_type": "markdown",
   "id": "2fdff93e",
   "metadata": {},
   "source": [
    "需求：构建一个简单的工厂函数，用于创建可变对象的类。在一个宠物店应用程序中，以简单的记录存储狗的数据。"
   ]
  },
  {
   "cell_type": "code",
   "execution_count": 9,
   "id": "b02da984",
   "metadata": {},
   "outputs": [],
   "source": [
    "from typing import Union, Any\n",
    "from collections.abc import Iterable, Iterator\n",
    "\n",
    "# 别名\n",
    "FieldNames = Union[str, Iterable[str]]\n",
    "\n",
    "def record_factory(cls_name: str, field_names: FieldNames) -> type[tuple]:\n",
    "    \n",
    "    # 使用属性名构建一个元组\n",
    "    slots = parse_identifiers(field_names)\n",
    "\n",
    "    def __init__(self, *args, **kwargs) -> None:\n",
    "        # 接受位置参数和关键字参数\n",
    "        attrs = dict(zip(self.__slots__, args))\n",
    "        attrs.update(kwargs)\n",
    "        for name, value in attrs.items():\n",
    "            setattr(self, name, value)\n",
    "\n",
    "    def __iter__(self) -> Iterator[Any]:\n",
    "        # 按照__slots__设定的顺序产出字段值\n",
    "        for name in self.__slots__:\n",
    "            yield getattr(self, name)\n",
    "\n",
    "    def __repr__(self): \n",
    "        values = ', '.join(f'{name}={value!r}'\n",
    "            for name, value in zip(self.__slots__, self))\n",
    "        cls_name = self.__class__.__name__\n",
    "        return f'{cls_name}({values})'\n",
    "    \n",
    "    # 组建类属性字典\n",
    "    cls_attrs = dict(\n",
    "        __slots__=slots,\n",
    "        __init__=__init__,\n",
    "        __iter__=__iter__,\n",
    "        __repr__=__repr__,\n",
    "    )\n",
    "    \n",
    "    # 调用type构造函数，构建新类\n",
    "    return type(cls_name, (object,), cls_attrs)"
   ]
  },
  {
   "cell_type": "code",
   "execution_count": 10,
   "id": "9d21f0a0",
   "metadata": {},
   "outputs": [],
   "source": [
    "def parse_identifiers(names: FieldNames) -> tuple[str, ...]:\n",
    "    if isinstance(names, str):\n",
    "        # 把以空格或逗号分隔的names转成字符串列表\n",
    "        names = names.replace(',', ' ').split()\n",
    "    if not all(s.isidentifier() for s in names):\n",
    "        raise ValueError('names must all be valid identifiers')\n",
    "    return tuple(names)"
   ]
  },
  {
   "cell_type": "code",
   "execution_count": 11,
   "id": "b24b114e",
   "metadata": {},
   "outputs": [],
   "source": [
    "Dog = record_factory('Dog', 'name weight owner')"
   ]
  },
  {
   "cell_type": "code",
   "execution_count": 12,
   "id": "0d7a3ce3",
   "metadata": {},
   "outputs": [
    {
     "data": {
      "text/plain": [
       "Dog(name='Rex', weight=30, owner='Bob')"
      ]
     },
     "execution_count": 12,
     "metadata": {},
     "output_type": "execute_result"
    }
   ],
   "source": [
    "rex = Dog('Rex', 30, 'Bob')\n",
    "rex"
   ]
  },
  {
   "cell_type": "code",
   "execution_count": 13,
   "id": "e1191867",
   "metadata": {},
   "outputs": [
    {
     "data": {
      "text/plain": [
       "\"Bob's dog weighs 30kg\""
      ]
     },
     "execution_count": 13,
     "metadata": {},
     "output_type": "execute_result"
    }
   ],
   "source": [
    "\"{2}'s dog weighs {1}kg\".format(*rex)"
   ]
  },
  {
   "cell_type": "markdown",
   "id": "eeab735b",
   "metadata": {},
   "source": [
    "## 24.4 Checked类第1版：构建`__init_subclass__`方法"
   ]
  },
  {
   "cell_type": "code",
   "execution_count": 14,
   "id": "9651829f",
   "metadata": {},
   "outputs": [],
   "source": [
    "from collections.abc import Callable\n",
    "from typing import Any, NoReturn, get_type_hints\n",
    "\n",
    "\n",
    "class Field:\n",
    "    def __init__(self, name: str, constructor: Callable) -> None:\n",
    "        # 提示构造函数异常\n",
    "        if not callable(constructor) or constructor is type(None):\n",
    "            raise TypeError(f'{name!r} type hint must be callable')\n",
    "        self.name = name\n",
    "        self.constructor = constructor\n",
    "\n",
    "    def __set__(self, instance: Any, value: Any) -> None:\n",
    "        if value is ...:  \n",
    "            # 调用无参构造函数\n",
    "            value = self.constructor()\n",
    "        else:\n",
    "            try:\n",
    "                value = self.constructor(value)  \n",
    "            except (TypeError, ValueError) as e:  \n",
    "                type_name = self.constructor.__name__\n",
    "                msg = f'{value!r} is not compatible with {self.name}:{type_name}'\n",
    "                raise TypeError(msg) from e\n",
    "        # 存入__dict__中       \n",
    "        instance.__dict__[self.name] = value"
   ]
  },
  {
   "cell_type": "code",
   "execution_count": 15,
   "id": "55934eb1",
   "metadata": {},
   "outputs": [],
   "source": [
    "class Checked:\n",
    "    @classmethod\n",
    "    def _fields(cls) -> dict[str, type]: \n",
    "        return get_type_hints(cls)\n",
    "\n",
    "    def __init_subclass__(subclass) -> None:\n",
    "        # 定义当前类的子类时调用\n",
    "        super().__init_subclass__()          \n",
    "        # 构造子类的属性\n",
    "        for name, constructor in subclass._fields().items():   \n",
    "            setattr(subclass, name, Field(name, constructor))  \n",
    "\n",
    "    def __init__(self, **kwargs: Any) -> None:\n",
    "        # 遍历类的各个name\n",
    "        for name in self._fields():             \n",
    "            value = kwargs.pop(name, ...)       \n",
    "            setattr(self, name, value)          \n",
    "        if kwargs:\n",
    "            # 与声明不匹配的名称，提示错误\n",
    "            self.__flag_unknown_attrs(*kwargs)  \n",
    "\n",
    "    def __setattr__(self, name: str, value: Any) -> None:\n",
    "        # 截获一切设置实例属性的操作\n",
    "        if name in self._fields():              \n",
    "            cls = self.__class__\n",
    "            # 如果属性名称是已知的，获取对应的描述符\n",
    "            descriptor = getattr(cls, name)\n",
    "            descriptor.__set__(self, value)     \n",
    "        else:                                   \n",
    "            self.__flag_unknown_attrs(name)\n",
    "\n",
    "    def __flag_unknown_attrs(self, *names: str) -> NoReturn:  \n",
    "        plural = 's' if len(names) > 1 else ''\n",
    "        extra = ', '.join(f'{name!r}' for name in names)\n",
    "        cls_name = repr(self.__class__.__name__)\n",
    "        raise AttributeError(f'{cls_name} object has no attribute{plural} {extra}')\n",
    "\n",
    "    def _asdict(self) -> dict[str, Any]:\n",
    "        # 根据子类对象的属性创建字典\n",
    "        return {\n",
    "            name: getattr(self, name)\n",
    "            for name, attr in self.__class__.__dict__.items()\n",
    "            if isinstance(attr, Field)\n",
    "        }\n",
    "\n",
    "    def __repr__(self) -> str:\n",
    "        kwargs = ', '.join(\n",
    "            f'{key}={value!r}' for key, value in self._asdict().items()\n",
    "        )\n",
    "        return f'{self.__class__.__name__}({kwargs})'"
   ]
  },
  {
   "cell_type": "code",
   "execution_count": 16,
   "id": "02aaebad",
   "metadata": {},
   "outputs": [],
   "source": [
    "class Movie(Checked):  \n",
    "    title: str  \n",
    "    year: int\n",
    "    box_office: float"
   ]
  },
  {
   "cell_type": "code",
   "execution_count": 17,
   "id": "691b29bc",
   "metadata": {},
   "outputs": [],
   "source": [
    "movie = Movie(title='The Godfather', year=1972, box_office=137)"
   ]
  },
  {
   "cell_type": "code",
   "execution_count": 18,
   "id": "31e8af04",
   "metadata": {},
   "outputs": [
    {
     "data": {
      "text/plain": [
       "Movie(title='The Godfather', year=1972, box_office=137.0)"
      ]
     },
     "execution_count": 18,
     "metadata": {},
     "output_type": "execute_result"
    }
   ],
   "source": [
    "movie"
   ]
  },
  {
   "cell_type": "markdown",
   "id": "ad71f394",
   "metadata": {},
   "source": [
    "## 24.5 Checked类第2版：使用类装饰器增强类的功能"
   ]
  },
  {
   "cell_type": "markdown",
   "id": "b39ed925",
   "metadata": {},
   "source": [
    "改进方案：\n",
    "- 目标：将Checked类改成类装饰器方式。\n",
    "- 内容：将Checked类中的方法都从类中移出，将Checked用type组装成类装饰器checked。"
   ]
  },
  {
   "cell_type": "code",
   "execution_count": 19,
   "id": "46e9a2e1",
   "metadata": {},
   "outputs": [],
   "source": [
    "def _fields(cls: type) -> dict[str, type]:\n",
    "    return get_type_hints(cls)\n",
    "\n",
    "def __init__(self: Any, **kwargs: Any) -> None:\n",
    "    for name in self._fields():\n",
    "        value = kwargs.pop(name, ...)\n",
    "        setattr(self, name, value)\n",
    "    if kwargs:\n",
    "        self.__flag_unknown_attrs(*kwargs)\n",
    "\n",
    "def __setattr__(self: Any, name: str, value: Any) -> None:\n",
    "    if name in self._fields():\n",
    "        cls = self.__class__\n",
    "        descriptor = getattr(cls, name)\n",
    "        descriptor.__set__(self, value)\n",
    "    else:\n",
    "        self.__flag_unknown_attrs(name)\n",
    "\n",
    "def __flag_unknown_attrs(self: Any, *names: str) -> NoReturn:\n",
    "    plural = 's' if len(names) > 1 else ''\n",
    "    extra = ', '.join(f'{name!r}' for name in names)\n",
    "    cls_name = repr(self.__class__.__name__)\n",
    "    raise AttributeError(f'{cls_name} has no attribute{plural} {extra}')\n",
    "\n",
    "def _asdict(self: Any) -> dict[str, Any]:\n",
    "    return {\n",
    "        name: getattr(self, name)\n",
    "        for name, attr in self.__class__.__dict__.items()\n",
    "        if isinstance(attr, Field)\n",
    "    }\n",
    "\n",
    "def __repr__(self: Any) -> str:\n",
    "    kwargs = ', '.join(f'{key}={value!r}' for key, value in self._asdict().items())\n",
    "    return f'{self.__class__.__name__}({kwargs})'"
   ]
  },
  {
   "cell_type": "code",
   "execution_count": 21,
   "id": "cfc8ed46",
   "metadata": {},
   "outputs": [],
   "source": [
    "def checked(cls: type) -> type:\n",
    "    # 遍历所有属性，构造子类的属性\n",
    "    for name, constructor in _fields(cls).items():    \n",
    "        setattr(cls, name, Field(name, constructor))  \n",
    "\n",
    "    cls._fields = classmethod(_fields)  # type: ignore  \n",
    "    \n",
    "    # 被装饰的类的实例方法的模块级函数\n",
    "    instance_methods = (\n",
    "        __init__,\n",
    "        __repr__,\n",
    "        __setattr__,\n",
    "        _asdict,\n",
    "        __flag_unknown_attrs,\n",
    "    )\n",
    "    # 将各个函数添加到cls中\n",
    "    for method in instance_methods:  \n",
    "        setattr(cls, method.__name__, method)\n",
    "\n",
    "    return cls "
   ]
  },
  {
   "cell_type": "code",
   "execution_count": 22,
   "id": "f5e9003d",
   "metadata": {},
   "outputs": [],
   "source": [
    "@checked\n",
    "class Movie:\n",
    "    title: str  \n",
    "    year: int\n",
    "    box_office: float"
   ]
  },
  {
   "cell_type": "code",
   "execution_count": 23,
   "id": "1a68b1d8",
   "metadata": {},
   "outputs": [
    {
     "data": {
      "text/plain": [
       "Movie(title='The Godfather', year=1972, box_office=137.0)"
      ]
     },
     "execution_count": 23,
     "metadata": {},
     "output_type": "execute_result"
    }
   ],
   "source": [
    "movie = Movie(title='The Godfather', year=1972, box_office=137)\n",
    "movie"
   ]
  },
  {
   "cell_type": "markdown",
   "id": "ed237097",
   "metadata": {},
   "source": [
    "## 24.6 导入时和运行时比较"
   ]
  },
  {
   "cell_type": "markdown",
   "id": "ae4a2ccf",
   "metadata": {},
   "source": [
    "在导入时，解释器的执行操作：\n",
    "1. 从上到下一次性解析完`.py`模块的源码，此时可能抛出SyntaxError。\n",
    "2. 编译生成用于执行的字节码。\n",
    "3. 执行编译后的模块中的顶层代码。"
   ]
  },
  {
   "cell_type": "markdown",
   "id": "52a3cb0e",
   "metadata": {},
   "source": [
    "## 24.7 元类"
   ]
  },
  {
   "cell_type": "markdown",
   "id": "69d1e721",
   "metadata": {},
   "source": [
    "### 24.7.1 元类概念"
   ]
  },
  {
   "cell_type": "markdown",
   "id": "9c352a78",
   "metadata": {},
   "source": [
    "元类是制造类的工厂。type是大多数内置的类和用户定义的类的元类。"
   ]
  },
  {
   "cell_type": "code",
   "execution_count": 27,
   "id": "a1ece270",
   "metadata": {},
   "outputs": [],
   "source": [
    "class SuperKlass:\n",
    "    ...\n",
    "    \n",
    "class MetaKlass(type):\n",
    "    ...\n",
    "    \n",
    "class Klass(SuperKlass, metaclass=MetaKlass):\n",
    "    x = 42\n",
    "    def __init__(self, y):\n",
    "        self.y = y"
   ]
  },
  {
   "cell_type": "markdown",
   "id": "670cd183",
   "metadata": {},
   "source": [
    "类初始化的执行步骤：\n",
    "1. 实现`MetaKlass.__new__`，可以对参数进行审查和修改，然后传给`super().__new__`。最终调用`type.__new__`创建新的类对象。\n",
    "2. `super().__new__`返回之后，进一步处理新创建的类。\n",
    "3. 调用`SuperKlass.__init_subclass__`，传入新创建的类，如果有类装饰器，会应用类装饰器。\n",
    "4. Python把类对象绑定给所在命名空间中的名称（class语句是顶层语句时，所在命名空间通常是模块全局命名空间）。"
   ]
  },
  {
   "cell_type": "markdown",
   "id": "a2281687",
   "metadata": {},
   "source": [
    "### 24.7.2 Bunch元类示例"
   ]
  },
  {
   "cell_type": "code",
   "execution_count": 28,
   "id": "c7a10ca5",
   "metadata": {},
   "outputs": [],
   "source": [
    "class MetaBunch(type): \n",
    "    # 被当作类方法使用\n",
    "    def __new__(meta_cls, cls_name, bases, cls_dict):\n",
    "        # 存放属性名称到默认值的映射\n",
    "        defaults = {}\n",
    "\n",
    "        def __init__(self, **kwargs):\n",
    "            # 把响应的示例属性设为从kwargs中取出的值或默认值\n",
    "            for name, default in defaults.items():\n",
    "                setattr(self, name, kwargs.pop(name, default))\n",
    "            if kwargs:\n",
    "                extra = ', '.join(kwargs)\n",
    "                raise AttributeError(f'No slots left for: {extra!r}')\n",
    "\n",
    "        def __repr__(self):\n",
    "            rep = ', '.join(f'{name}={value!r}'\n",
    "                            for name, default in defaults.items()\n",
    "                            if (value := getattr(self, name)) != default)\n",
    "            return f'{cls_name}({rep})'\n",
    "        \n",
    "        # 初始化新类的命名空间\n",
    "        new_dict = dict(__slots__=[], __init__=__init__, __repr__=__repr__)\n",
    "        \n",
    "        # 迭代用户定义的类的命名空间\n",
    "        for name, value in cls_dict.items():\n",
    "            # 如果带双下划线的名称，把对应的项复制到新类的命名空间中\n",
    "            if name.startswith('__') and name.endswith('__'):  \n",
    "                if name in new_dict:\n",
    "                    raise AttributeError(f\"Can't set {name!r} in {cls_name!r}\")\n",
    "                new_dict[name] = value\n",
    "            else:\n",
    "                # 如果不是，则追加到__slots__中\n",
    "                new_dict['__slots__'].append(name)\n",
    "                defaults[name] = value\n",
    "        # 构建并返回新类        \n",
    "        return super().__new__(meta_cls, cls_name, bases, new_dict)  \n",
    "\n",
    "\n",
    "class Bunch(metaclass=MetaBunch):  # <13>\n",
    "    pass"
   ]
  },
  {
   "cell_type": "code",
   "execution_count": 29,
   "id": "034f93f2",
   "metadata": {},
   "outputs": [],
   "source": [
    "class Point(Bunch):\n",
    "    x = 0.0\n",
    "    y = 0.0\n",
    "    color = 'gray'"
   ]
  },
  {
   "cell_type": "code",
   "execution_count": 30,
   "id": "b5bb564c",
   "metadata": {},
   "outputs": [
    {
     "data": {
      "text/plain": [
       "Point(x=1.2, y=3, color='green')"
      ]
     },
     "execution_count": 30,
     "metadata": {},
     "output_type": "execute_result"
    }
   ],
   "source": [
    "Point(x=1.2, y=3, color='green')"
   ]
  },
  {
   "cell_type": "code",
   "execution_count": 31,
   "id": "62ed54e5",
   "metadata": {},
   "outputs": [
    {
     "data": {
      "text/plain": [
       "(0.0, 0.0, 'gray')"
      ]
     },
     "execution_count": 31,
     "metadata": {},
     "output_type": "execute_result"
    }
   ],
   "source": [
    "p = Point()\n",
    "p.x, p.y, p.color"
   ]
  },
  {
   "cell_type": "markdown",
   "id": "aed7876f",
   "metadata": {},
   "source": [
    "## 24.8 Checked类第3版：使用元类实现"
   ]
  },
  {
   "cell_type": "markdown",
   "id": "735d1dcc",
   "metadata": {},
   "source": [
    "改进方案：\n",
    "1. 添加一个空的`__slots__`属性，并告诉`CheckMeta.__new__`，这个类不需要特殊处理。\n",
    "2. 删除`__init_subclass__`，相关工作现在交给`CheckMeta.__new__`。\n",
    "3. 删除`__setattr__`。"
   ]
  },
  {
   "cell_type": "code",
   "execution_count": 35,
   "id": "33fbedca",
   "metadata": {},
   "outputs": [],
   "source": [
    "from collections.abc import Callable\n",
    "from typing import Any, NoReturn, get_type_hints\n",
    "\n",
    "class Field:\n",
    "    def __init__(self, name: str, constructor: Callable) -> None:\n",
    "        if not callable(constructor) or constructor is type(None):\n",
    "            raise TypeError(f'{name!r} type hint must be callable')\n",
    "        self.name = name\n",
    "        # 根据name参数得到带单下划线的storage_name\n",
    "        self.storage_name = '_' + name \n",
    "        self.constructor = constructor\n",
    "\n",
    "    def __get__(self, instance, owner=None):\n",
    "        if instance is None:\n",
    "            return self\n",
    "        # 返回存储在名为storage_name的属性中的值\n",
    "        return getattr(instance, self.storage_name)\n",
    "\n",
    "    def __set__(self, instance: Any, value: Any) -> None:\n",
    "        if value is ...:\n",
    "            value = self.constructor()\n",
    "        else:\n",
    "            try:\n",
    "                value = self.constructor(value)\n",
    "            except (TypeError, ValueError) as e:\n",
    "                type_name = self.constructor.__name__\n",
    "                msg = f'{value!r} is not compatible with {self.name}:{type_name}'\n",
    "                raise TypeError(msg) from e\n",
    "        # 使用setattr设置或更新托管属性        \n",
    "        setattr(instance, self.storage_name, value)  "
   ]
  },
  {
   "cell_type": "code",
   "execution_count": 36,
   "id": "b78ea715",
   "metadata": {},
   "outputs": [],
   "source": [
    "class CheckedMeta(type):\n",
    "\n",
    "    def __new__(meta_cls, cls_name, bases, cls_dict):\n",
    "        if '__slots__' not in cls_dict:\n",
    "            # 仅当类的cls_dict不含__slots__，增强类的功能\n",
    "            slots = []\n",
    "            # 得到所有带注解的属性\n",
    "            type_hints = cls_dict.get('__annotations__', {})\n",
    "            \n",
    "            for name, constructor in type_hints.items():\n",
    "                # 为每个带注解的属性构建一个Field示例\n",
    "                field = Field(name, constructor)\n",
    "                # 覆盖cls_dict中相应的项\n",
    "                cls_dict[name] = field \n",
    "                # 把字段的storage_name追加到一个列表中\n",
    "                slots.append(field.storage_name)  \n",
    "            # 填充cls_dict中的__slots__项\n",
    "            cls_dict['__slots__'] = slots\n",
    "    \n",
    "        return super().__new__(\n",
    "                meta_cls, cls_name, bases, cls_dict)  # <9>"
   ]
  },
  {
   "cell_type": "code",
   "execution_count": 37,
   "id": "19bccb42",
   "metadata": {},
   "outputs": [],
   "source": [
    "class Checked(metaclass=CheckedMeta):\n",
    "    __slots__ = ()  # 跳过CheckedMeta.__new__的处理\n",
    "\n",
    "    @classmethod\n",
    "    def _fields(cls) -> dict[str, type]:\n",
    "        return get_type_hints(cls)\n",
    "\n",
    "    def __init__(self, **kwargs: Any) -> None:\n",
    "        for name in self._fields():\n",
    "            value = kwargs.pop(name, ...)\n",
    "            setattr(self, name, value)\n",
    "        if kwargs:\n",
    "            self.__flag_unknown_attrs(*kwargs)\n",
    "\n",
    "    def __flag_unknown_attrs(self, *names: str) -> NoReturn:\n",
    "        plural = 's' if len(names) > 1 else ''\n",
    "        extra = ', '.join(f'{name!r}' for name in names)\n",
    "        cls_name = repr(self.__class__.__name__)\n",
    "        raise AttributeError(f'{cls_name} object has no attribute{plural} {extra}')\n",
    "\n",
    "    def _asdict(self) -> dict[str, Any]:\n",
    "        return {\n",
    "            name: getattr(self, name)\n",
    "            for name, attr in self.__class__.__dict__.items()\n",
    "            if isinstance(attr, Field)\n",
    "        }\n",
    "\n",
    "    def __repr__(self) -> str:\n",
    "        kwargs = ', '.join(\n",
    "            f'{key}={value!r}' for key, value in self._asdict().items()\n",
    "        )\n",
    "        return f'{self.__class__.__name__}({kwargs})'"
   ]
  },
  {
   "cell_type": "code",
   "execution_count": 38,
   "id": "5780c349",
   "metadata": {},
   "outputs": [],
   "source": [
    "class Movie(Checked):  \n",
    "    title: str  \n",
    "    year: int\n",
    "    box_office: float      "
   ]
  },
  {
   "cell_type": "code",
   "execution_count": 39,
   "id": "f8a76a11",
   "metadata": {},
   "outputs": [
    {
     "data": {
      "text/plain": [
       "Movie(title='The Godfather', year=1972, box_office=137.0)"
      ]
     },
     "execution_count": 39,
     "metadata": {},
     "output_type": "execute_result"
    }
   ],
   "source": [
    "movie = Movie(title='The Godfather', year=1972, box_office=137)\n",
    "movie"
   ]
  },
  {
   "cell_type": "markdown",
   "id": "f6cc4026",
   "metadata": {},
   "source": [
    "## 24.9 元类的实际运用"
   ]
  },
  {
   "cell_type": "markdown",
   "id": "257bf384",
   "metadata": {},
   "source": [
    "可简化或代替元类的现代功能：\n",
    "- 类装饰器：比元类更易于理解，而且导致基类与元类产生冲突的可能性更小。\n",
    "- `__set_name__`：无须自定义元类逻辑，就能自动设置描述符的名称。\n",
    "- `__init_subclass__`：提供一种自定义类创建过程的方式，比装饰器更简单，但是复杂的类层次结构可能产生冲突。\n",
    "- 内置的`dict`保留键的插入顺序：不使用`__prepare__`。"
   ]
  },
  {
   "cell_type": "markdown",
   "id": "8169a8ff",
   "metadata": {},
   "source": [
    "元类、类装饰器和`__init_subclass__`的用途：\n",
    "- 注册子类。\n",
    "- 验证子类结构。\n",
    "- 把装饰器一次性应用到多个方法上。\n",
    "- 序列化对象。\n",
    "- 映射对象关系。\n",
    "- 持久存储对象。\n",
    "- 在类层级实现特殊方法。\n",
    "- 实现其他语言特有的功能，例如面向方面程序设计。"
   ]
  },
  {
   "cell_type": "markdown",
   "id": "c3656d45",
   "metadata": {},
   "source": [
    "## 24.10 杂谈"
   ]
  },
  {
   "cell_type": "markdown",
   "id": "f2318658",
   "metadata": {},
   "source": [
    "计算机科学的教学方法分为两个流派：\n",
    "1. 保守派：计算机程序已经变得极其大而复杂，超过了人类思维所能承载的限度。因此，计算机科学教育的任务是**训练平庸的程序员**，这样500个人合作便能开发出恰好满足需求的程序。\n",
    "2. 激进派：计算机程序已经变得极其大而复杂，超过了人类思维所能承载的限度。因此，计算机科学教育的任务是**教人如何拓展思维，打破常规，学习以更广博、更强大和更灵活的方式思考，让思维超越程序**。编程思想的各个方面在程序中必会得到充分体现。"
   ]
  },
  {
   "cell_type": "markdown",
   "id": "0d8df008",
   "metadata": {},
   "source": [
    "编程语言的激进：\n",
    "- Java一开始使用的就是存取方法，编写程序时，可以先把属性设为公开的（遵循KISS原则），公开的属性无需大幅改动，随时都能变成特性。\n",
    "- 把函数当作一等对象，描述符和高阶函数合在一起思想，使得函数和方法的统一成为可能。\n",
    "- Python中的类也是一等对象，提供类构建器、类装饰器、以及允许用户定义功能完整的元类。"
   ]
  }
 ],
 "metadata": {
  "kernelspec": {
   "display_name": "Python 3 (ipykernel)",
   "language": "python",
   "name": "python3"
  },
  "language_info": {
   "codemirror_mode": {
    "name": "ipython",
    "version": 3
   },
   "file_extension": ".py",
   "mimetype": "text/x-python",
   "name": "python",
   "nbconvert_exporter": "python",
   "pygments_lexer": "ipython3",
   "version": "3.10.5"
  }
 },
 "nbformat": 4,
 "nbformat_minor": 5
}
